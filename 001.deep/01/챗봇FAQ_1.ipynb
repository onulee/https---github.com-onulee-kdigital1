{
 "cells": [
  {
   "cell_type": "code",
   "execution_count": 19,
   "metadata": {},
   "outputs": [],
   "source": [
    "import os\n",
    "from gensim.models import doc2vec\n",
    "# TaggedDocument는 해당 corpus의 id를 함께 넘겨주는 것을 말함\n",
    "from gensim.models.doc2vec import TaggedDocument"
   ]
  },
  {
   "cell_type": "code",
   "execution_count": 20,
   "metadata": {},
   "outputs": [],
   "source": [
    "faqs = [[\"1\", \"당해년도 납입액은 수정 가능 한가요?\", \"네, 당해년도 납입액은 12464 화면 등록전까지 수정 가능합니다.\"],\n",
    "            [\"2\", \"대리인통보 대상계좌 기준은 어떻게 되나요?\", \"모계좌 기준 가장 최근에 개설된 계좌의 관리점에서 조회 됩니다.  의원폐쇄된 자계좌는 조회대상 계좌에서 제외됩니다. 계좌주 계좌가 사절원 계좌가 아닌 경우만 조회됩니다\"],\n",
    "            [\"3\", \"등록가능 단말기수는 어떻게 되나요?\", \"5대까지 등록 가능입니다.\"],\n",
    "            [\"4\", \"모바일계좌개설 가능한 시간은 어떻게 되나요?\", \"08:00 ~ 20:00(영업일만 가능\"],\n",
    "            [\"5\", \"미국인일때 미국납세자등록번호 작성 방법은 어떻게 되나요?\", \"계좌주가 미국인일 때 계좌주의 미국납세자등록번호(사회보장번호(Social Security Number), 고용주식별번호(Employer Identification Number), 개인납세자번호(Individual Taxpayer Identification Number))를 기재합니다..\"]\n",
    "    ]"
   ]
  },
  {
   "cell_type": "code",
   "execution_count": 21,
   "metadata": {},
   "outputs": [
    {
     "data": {
      "text/plain": [
       "[['1', '당해년도 납입액은 수정 가능 한가요?', '네, 당해년도 납입액은 12464 화면 등록전까지 수정 가능합니다.'],\n",
       " ['2',\n",
       "  '대리인통보 대상계좌 기준은 어떻게 되나요?',\n",
       "  '모계좌 기준 가장 최근에 개설된 계좌의 관리점에서 조회 됩니다.  의원폐쇄된 자계좌는 조회대상 계좌에서 제외됩니다. 계좌주 계좌가 사절원 계좌가 아닌 경우만 조회됩니다'],\n",
       " ['3', '등록가능 단말기수는 어떻게 되나요?', '5대까지 등록 가능입니다.'],\n",
       " ['4', '모바일계좌개설 가능한 시간은 어떻게 되나요?', '08:00 ~ 20:00(영업일만 가능'],\n",
       " ['5',\n",
       "  '미국인일때 미국납세자등록번호 작성 방법은 어떻게 되나요?',\n",
       "  '계좌주가 미국인일 때 계좌주의 미국납세자등록번호(사회보장번호(Social Security Number), 고용주식별번호(Employer Identification Number), 개인납세자번호(Individual Taxpayer Identification Number))를 기재합니다..']]"
      ]
     },
     "execution_count": 21,
     "metadata": {},
     "output_type": "execute_result"
    }
   ],
   "source": [
    "faqs"
   ]
  },
  {
   "cell_type": "code",
   "execution_count": 22,
   "metadata": {},
   "outputs": [],
   "source": [
    "#형태소 분석\n",
    "import jpype\n",
    "from konlpy.tag import Okt\n",
    "from konlpy.tag import Kkma"
   ]
  },
  {
   "cell_type": "code",
   "execution_count": 34,
   "metadata": {},
   "outputs": [],
   "source": [
    "okt = Okt()\n",
    "\n",
    "def tokenize_kkma(doc):\n",
    "    # jpype.attachThreadToJVM() #자바분석기 - 없으면 error날수 있음.\n",
    "    token_doc = okt.pos(doc, join=True)\n",
    "    # token_doc = ['/'.join(word) for word in okt.pos(doc) ]\n",
    "    return token_doc"
   ]
  },
  {
   "cell_type": "code",
   "execution_count": 35,
   "metadata": {},
   "outputs": [
    {
     "data": {
      "text/plain": [
       "['당해/Modifier',\n",
       " '년도/Noun',\n",
       " '납입액/Noun',\n",
       " '은/Josa',\n",
       " '수정/Noun',\n",
       " '가능/Noun',\n",
       " '한/Determiner',\n",
       " '가요/Noun',\n",
       " '?/Punctuation']"
      ]
     },
     "execution_count": 35,
     "metadata": {},
     "output_type": "execute_result"
    }
   ],
   "source": [
    "# [번호,질문,답] - 질문만 추출해서 형태소분석\n",
    "tokenize_kkma(faqs[0][1])"
   ]
  },
  {
   "cell_type": "code",
   "execution_count": 36,
   "metadata": {},
   "outputs": [],
   "source": [
    "# 리스트에서 각 문장부분 토큰화\n",
    "token_faqs = [(tokenize_kkma(row[1]), row[0]) for row in faqs]\n",
    "\n",
    "# Doc2Vec에서 사용하는 태그문서형으로 변경\n",
    "tagged_faqs = [TaggedDocument(d, [c]) for d, c in token_faqs]"
   ]
  },
  {
   "cell_type": "code",
   "execution_count": 37,
   "metadata": {},
   "outputs": [
    {
     "data": {
      "text/plain": [
       "[(['당해/Modifier',\n",
       "   '년도/Noun',\n",
       "   '납입액/Noun',\n",
       "   '은/Josa',\n",
       "   '수정/Noun',\n",
       "   '가능/Noun',\n",
       "   '한/Determiner',\n",
       "   '가요/Noun',\n",
       "   '?/Punctuation'],\n",
       "  '1'),\n",
       " (['대리인/Noun',\n",
       "   '통보/Noun',\n",
       "   '대상/Noun',\n",
       "   '계좌/Noun',\n",
       "   '기준/Noun',\n",
       "   '은/Josa',\n",
       "   '어떻게/Adjective',\n",
       "   '되나요/Verb',\n",
       "   '?/Punctuation'],\n",
       "  '2'),\n",
       " (['등록/Noun',\n",
       "   '가능/Noun',\n",
       "   '단말/Noun',\n",
       "   '기수/Noun',\n",
       "   '는/Josa',\n",
       "   '어떻게/Adjective',\n",
       "   '되나요/Verb',\n",
       "   '?/Punctuation'],\n",
       "  '3'),\n",
       " (['모바일/Noun',\n",
       "   '계좌/Noun',\n",
       "   '개설/Noun',\n",
       "   '가능한/Adjective',\n",
       "   '시간/Noun',\n",
       "   '은/Josa',\n",
       "   '어떻게/Adjective',\n",
       "   '되나요/Verb',\n",
       "   '?/Punctuation'],\n",
       "  '4'),\n",
       " (['미국인/Noun',\n",
       "   '일/Modifier',\n",
       "   '때/Noun',\n",
       "   '미국/Noun',\n",
       "   '납세/Noun',\n",
       "   '자/Suffix',\n",
       "   '등록/Noun',\n",
       "   '번호/Noun',\n",
       "   '작성/Noun',\n",
       "   '방법/Noun',\n",
       "   '은/Josa',\n",
       "   '어떻게/Adjective',\n",
       "   '되나요/Verb',\n",
       "   '?/Punctuation'],\n",
       "  '5')]"
      ]
     },
     "execution_count": 37,
     "metadata": {},
     "output_type": "execute_result"
    }
   ],
   "source": [
    "# 단어(형태소분석한 단어),질문번호 -> TaggedDocument에 넣으려면 튜플 형태로 구성\n",
    "token_faqs"
   ]
  },
  {
   "cell_type": "code",
   "execution_count": 26,
   "metadata": {},
   "outputs": [
    {
     "data": {
      "text/plain": [
       "[TaggedDocument(words=['당해/Modifier', '년도/Noun', '납입액/Noun', '은/Josa', '수정/Noun', '가능/Noun', '한/Determiner', '가요/Noun', '?/Punctuation'], tags=['1']),\n",
       " TaggedDocument(words=['대리인/Noun', '통보/Noun', '대상/Noun', '계좌/Noun', '기준/Noun', '은/Josa', '어떻게/Adjective', '되나요/Verb', '?/Punctuation'], tags=['2']),\n",
       " TaggedDocument(words=['등록/Noun', '가능/Noun', '단말/Noun', '기수/Noun', '는/Josa', '어떻게/Adjective', '되나요/Verb', '?/Punctuation'], tags=['3']),\n",
       " TaggedDocument(words=['모바일/Noun', '계좌/Noun', '개설/Noun', '가능한/Adjective', '시간/Noun', '은/Josa', '어떻게/Adjective', '되나요/Verb', '?/Punctuation'], tags=['4']),\n",
       " TaggedDocument(words=['미국인/Noun', '일/Modifier', '때/Noun', '미국/Noun', '납세/Noun', '자/Suffix', '등록/Noun', '번호/Noun', '작성/Noun', '방법/Noun', '은/Josa', '어떻게/Adjective', '되나요/Verb', '?/Punctuation'], tags=['5'])]"
      ]
     },
     "execution_count": 26,
     "metadata": {},
     "output_type": "execute_result"
    }
   ],
   "source": [
    "# TaggedDocument : words,tag 로 분류, 답을 tag로 찾음\n",
    "tagged_faqs"
   ]
  },
  {
   "cell_type": "code",
   "execution_count": 27,
   "metadata": {},
   "outputs": [],
   "source": [
    "# make model\n",
    "import multiprocessing\n",
    "# cpu개수\n",
    "cores = multiprocessing.cpu_count()\n",
    "d2v_faqs = doc2vec.Doc2Vec(\n",
    "                                # 문서를 얼마의 크기로 벡터화 할것인가? CNN 벡터화를 하면 벡터에 글들의 가중치를 해서 넣음\n",
    "                                vector_size=50, \n",
    "                                alpha=0.025,\n",
    "                                min_alpha=0.025,\n",
    "                                hs=1,\n",
    "                                negative=0,\n",
    "                                dm=0,\n",
    "                                dbow_words = 1,\n",
    "                                min_count = 1,\n",
    "                                # 몇 개의 core로 학습할것인가?\n",
    "                                workers = cores,\n",
    "                                seed=0\n",
    "                                )\n",
    "d2v_faqs.build_vocab(tagged_faqs)\n",
    "\n",
    "# train document vectors\n",
    "for epoch in range(10):\n",
    "    d2v_faqs.train(tagged_faqs,\n",
    "                                total_examples = d2v_faqs.corpus_count,\n",
    "                                epochs = d2v_faqs.epochs\n",
    "                                )\n",
    "    d2v_faqs.alpha -= 0.0025 # decrease the learning rate\n",
    "    d2v_faqs.min_alpha = d2v_faqs.alpha # fix the learning rate, no decay"
   ]
  },
  {
   "cell_type": "code",
   "execution_count": 28,
   "metadata": {},
   "outputs": [],
   "source": [
    "# 입력타입은 list타입\n",
    "predict_vector = d2v_faqs.infer_vector([\"당해년도 납입액은 수정 가능 한가요?\"])"
   ]
  },
  {
   "cell_type": "code",
   "execution_count": 29,
   "metadata": {},
   "outputs": [
    {
     "name": "stderr",
     "output_type": "stream",
     "text": [
      "C:\\Users\\jmpkorea00\\AppData\\Local\\Temp\\ipykernel_12508\\4131925528.py:1: DeprecationWarning: Call to deprecated `docvecs` (The `docvecs` property has been renamed `dv`.).\n",
      "  d2v_faqs.docvecs.most_similar([predict_vector], topn=2)\n"
     ]
    },
    {
     "data": {
      "text/plain": [
       "[('3', 0.25584667921066284), ('1', 0.05851903557777405)]"
      ]
     },
     "execution_count": 29,
     "metadata": {},
     "output_type": "execute_result"
    }
   ],
   "source": [
    "d2v_faqs.docvecs.most_similar([predict_vector], topn=2)"
   ]
  },
  {
   "cell_type": "code",
   "execution_count": 30,
   "metadata": {},
   "outputs": [
    {
     "data": {
      "text/plain": [
       "['대리인/Noun',\n",
       " '통보/Noun',\n",
       " '대상/Noun',\n",
       " '계좌/Noun',\n",
       " '기준/Noun',\n",
       " '은/Josa',\n",
       " '어떻게/Adjective',\n",
       " '되나요/Verb',\n",
       " '?/Punctuation']"
      ]
     },
     "execution_count": 30,
     "metadata": {},
     "output_type": "execute_result"
    }
   ],
   "source": [
    "test_string = \"대리인통보 대상계좌 기준은 어떻게 되나요?\"\n",
    "tokened_test_string = tokenize_kkma(test_string)\n",
    "tokened_test_string"
   ]
  },
  {
   "cell_type": "code",
   "execution_count": 31,
   "metadata": {},
   "outputs": [
    {
     "name": "stderr",
     "output_type": "stream",
     "text": [
      "C:\\Users\\jmpkorea00\\AppData\\Local\\Temp\\ipykernel_12508\\781439314.py:2: DeprecationWarning: Call to deprecated `docvecs` (The `docvecs` property has been renamed `dv`.).\n",
      "  d2v_faqs.docvecs.most_similar([test_vector], topn=2)\n"
     ]
    },
    {
     "data": {
      "text/plain": [
       "[('1', 0.035360440611839294), ('4', 0.01975414901971817)]"
      ]
     },
     "execution_count": 31,
     "metadata": {},
     "output_type": "execute_result"
    }
   ],
   "source": [
    "test_vector = d2v_faqs.infer_vector(tokened_test_string)\n",
    "d2v_faqs.docvecs.most_similar([test_vector], topn=2)"
   ]
  }
 ],
 "metadata": {
  "kernelspec": {
   "display_name": "Python 3.10.2 64-bit",
   "language": "python",
   "name": "python3"
  },
  "language_info": {
   "codemirror_mode": {
    "name": "ipython",
    "version": 3
   },
   "file_extension": ".py",
   "mimetype": "text/x-python",
   "name": "python",
   "nbconvert_exporter": "python",
   "pygments_lexer": "ipython3",
   "version": "3.10.2"
  },
  "orig_nbformat": 4,
  "vscode": {
   "interpreter": {
    "hash": "369f2c481f4da34e4445cda3fffd2e751bd1c4d706f27375911949ba6bb62e1c"
   }
  }
 },
 "nbformat": 4,
 "nbformat_minor": 2
}

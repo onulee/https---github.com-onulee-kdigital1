{
 "cells": [
  {
   "cell_type": "code",
   "execution_count": 1,
   "metadata": {},
   "outputs": [
    {
     "name": "stderr",
     "output_type": "stream",
     "text": [
      "c:\\Python310\\lib\\site-packages\\tqdm\\auto.py:22: TqdmWarning: IProgress not found. Please update jupyter and ipywidgets. See https://ipywidgets.readthedocs.io/en/stable/user_install.html\n",
      "  from .autonotebook import tqdm as notebook_tqdm\n"
     ]
    }
   ],
   "source": [
    "import pandas as pd\n",
    "import numpy as np\n",
    "import matplotlib.pyplot as plt\n",
    "import os\n",
    "import re\n",
    "from gensim.models import doc2vec\n",
    "# TaggedDocument는 해당 corpus의 id를 함께 넘겨주는 것을 말함\n",
    "from gensim.models.doc2vec import TaggedDocument\n",
    "import time\n",
    "import tensorflow_datasets as tfds\n",
    "import tensorflow as tf"
   ]
  },
  {
   "cell_type": "markdown",
   "metadata": {},
   "source": [
    "1. colab : !pip install konlpy 설치해야 함\n",
    "1. https://cholol.tistory.com/466\n",
    "1. https://github.com/tkdlek11112/faq_chatbot_learning/blob/master/DAY1/FAQ_CHATBOT_DAY1.ipynb\n"
   ]
  },
  {
   "cell_type": "code",
   "execution_count": 2,
   "metadata": {},
   "outputs": [
    {
     "data": {
      "text/html": [
       "<div>\n",
       "<style scoped>\n",
       "    .dataframe tbody tr th:only-of-type {\n",
       "        vertical-align: middle;\n",
       "    }\n",
       "\n",
       "    .dataframe tbody tr th {\n",
       "        vertical-align: top;\n",
       "    }\n",
       "\n",
       "    .dataframe thead th {\n",
       "        text-align: right;\n",
       "    }\n",
       "</style>\n",
       "<table border=\"1\" class=\"dataframe\">\n",
       "  <thead>\n",
       "    <tr style=\"text-align: right;\">\n",
       "      <th></th>\n",
       "      <th>Q</th>\n",
       "      <th>A</th>\n",
       "      <th>label</th>\n",
       "    </tr>\n",
       "  </thead>\n",
       "  <tbody>\n",
       "    <tr>\n",
       "      <th>0</th>\n",
       "      <td>12시 땡!</td>\n",
       "      <td>하루가 또 가네요.</td>\n",
       "      <td>0</td>\n",
       "    </tr>\n",
       "    <tr>\n",
       "      <th>1</th>\n",
       "      <td>1지망 학교 떨어졌어</td>\n",
       "      <td>위로해 드립니다.</td>\n",
       "      <td>0</td>\n",
       "    </tr>\n",
       "    <tr>\n",
       "      <th>2</th>\n",
       "      <td>3박4일 놀러가고 싶다</td>\n",
       "      <td>여행은 언제나 좋죠.</td>\n",
       "      <td>0</td>\n",
       "    </tr>\n",
       "    <tr>\n",
       "      <th>3</th>\n",
       "      <td>3박4일 정도 놀러가고 싶다</td>\n",
       "      <td>여행은 언제나 좋죠.</td>\n",
       "      <td>0</td>\n",
       "    </tr>\n",
       "    <tr>\n",
       "      <th>4</th>\n",
       "      <td>PPL 심하네</td>\n",
       "      <td>눈살이 찌푸려지죠.</td>\n",
       "      <td>0</td>\n",
       "    </tr>\n",
       "  </tbody>\n",
       "</table>\n",
       "</div>"
      ],
      "text/plain": [
       "                 Q            A  label\n",
       "0           12시 땡!   하루가 또 가네요.      0\n",
       "1      1지망 학교 떨어졌어    위로해 드립니다.      0\n",
       "2     3박4일 놀러가고 싶다  여행은 언제나 좋죠.      0\n",
       "3  3박4일 정도 놀러가고 싶다  여행은 언제나 좋죠.      0\n",
       "4          PPL 심하네   눈살이 찌푸려지죠.      0"
      ]
     },
     "execution_count": 2,
     "metadata": {},
     "output_type": "execute_result"
    }
   ],
   "source": [
    "df = pd.read_csv('ChatBotData.csv')\n",
    "df.head()"
   ]
  },
  {
   "cell_type": "code",
   "execution_count": 3,
   "metadata": {},
   "outputs": [
    {
     "data": {
      "text/html": [
       "<div>\n",
       "<style scoped>\n",
       "    .dataframe tbody tr th:only-of-type {\n",
       "        vertical-align: middle;\n",
       "    }\n",
       "\n",
       "    .dataframe tbody tr th {\n",
       "        vertical-align: top;\n",
       "    }\n",
       "\n",
       "    .dataframe thead th {\n",
       "        text-align: right;\n",
       "    }\n",
       "</style>\n",
       "<table border=\"1\" class=\"dataframe\">\n",
       "  <thead>\n",
       "    <tr style=\"text-align: right;\">\n",
       "      <th></th>\n",
       "      <th>Q</th>\n",
       "      <th>A</th>\n",
       "    </tr>\n",
       "  </thead>\n",
       "  <tbody>\n",
       "    <tr>\n",
       "      <th>0</th>\n",
       "      <td>12시 땡!</td>\n",
       "      <td>하루가 또 가네요.</td>\n",
       "    </tr>\n",
       "    <tr>\n",
       "      <th>1</th>\n",
       "      <td>1지망 학교 떨어졌어</td>\n",
       "      <td>위로해 드립니다.</td>\n",
       "    </tr>\n",
       "    <tr>\n",
       "      <th>2</th>\n",
       "      <td>3박4일 놀러가고 싶다</td>\n",
       "      <td>여행은 언제나 좋죠.</td>\n",
       "    </tr>\n",
       "    <tr>\n",
       "      <th>3</th>\n",
       "      <td>3박4일 정도 놀러가고 싶다</td>\n",
       "      <td>여행은 언제나 좋죠.</td>\n",
       "    </tr>\n",
       "    <tr>\n",
       "      <th>4</th>\n",
       "      <td>PPL 심하네</td>\n",
       "      <td>눈살이 찌푸려지죠.</td>\n",
       "    </tr>\n",
       "    <tr>\n",
       "      <th>...</th>\n",
       "      <td>...</td>\n",
       "      <td>...</td>\n",
       "    </tr>\n",
       "    <tr>\n",
       "      <th>11818</th>\n",
       "      <td>훔쳐보는 것도 눈치 보임.</td>\n",
       "      <td>티가 나니까 눈치가 보이는 거죠!</td>\n",
       "    </tr>\n",
       "    <tr>\n",
       "      <th>11819</th>\n",
       "      <td>훔쳐보는 것도 눈치 보임.</td>\n",
       "      <td>훔쳐보는 거 티나나봐요.</td>\n",
       "    </tr>\n",
       "    <tr>\n",
       "      <th>11820</th>\n",
       "      <td>흑기사 해주는 짝남.</td>\n",
       "      <td>설렜겠어요.</td>\n",
       "    </tr>\n",
       "    <tr>\n",
       "      <th>11821</th>\n",
       "      <td>힘든 연애 좋은 연애라는게 무슨 차이일까?</td>\n",
       "      <td>잘 헤어질 수 있는 사이 여부인 거 같아요.</td>\n",
       "    </tr>\n",
       "    <tr>\n",
       "      <th>11822</th>\n",
       "      <td>힘들어서 결혼할까봐</td>\n",
       "      <td>도피성 결혼은 하지 않길 바라요.</td>\n",
       "    </tr>\n",
       "  </tbody>\n",
       "</table>\n",
       "<p>11823 rows × 2 columns</p>\n",
       "</div>"
      ],
      "text/plain": [
       "                             Q                         A\n",
       "0                       12시 땡!                하루가 또 가네요.\n",
       "1                  1지망 학교 떨어졌어                 위로해 드립니다.\n",
       "2                 3박4일 놀러가고 싶다               여행은 언제나 좋죠.\n",
       "3              3박4일 정도 놀러가고 싶다               여행은 언제나 좋죠.\n",
       "4                      PPL 심하네                눈살이 찌푸려지죠.\n",
       "...                        ...                       ...\n",
       "11818           훔쳐보는 것도 눈치 보임.        티가 나니까 눈치가 보이는 거죠!\n",
       "11819           훔쳐보는 것도 눈치 보임.             훔쳐보는 거 티나나봐요.\n",
       "11820              흑기사 해주는 짝남.                    설렜겠어요.\n",
       "11821  힘든 연애 좋은 연애라는게 무슨 차이일까?  잘 헤어질 수 있는 사이 여부인 거 같아요.\n",
       "11822               힘들어서 결혼할까봐        도피성 결혼은 하지 않길 바라요.\n",
       "\n",
       "[11823 rows x 2 columns]"
      ]
     },
     "execution_count": 3,
     "metadata": {},
     "output_type": "execute_result"
    }
   ],
   "source": [
    "df[['Q','A']]"
   ]
  },
  {
   "cell_type": "code",
   "execution_count": 4,
   "metadata": {},
   "outputs": [],
   "source": [
    "#형태소 분석\n",
    "import jpype\n",
    "from konlpy.tag import Okt"
   ]
  },
  {
   "cell_type": "code",
   "execution_count": 17,
   "metadata": {},
   "outputs": [],
   "source": [
    "stopwords = ['의','가','이','은','들','는','좀','잘','걍','과','도','를','으로','자','에','와','한','하다']\n",
    "okt = Okt()\n",
    "\n",
    "def tokenizer_okt(doc):\n",
    "    jpype.attachThreadToJVM()\n",
    "    token_doc = ['/'.join(word) for word in okt.pos(doc) if not word in stopwords ]\n",
    "    return token_doc"
   ]
  },
  {
   "cell_type": "code",
   "execution_count": 18,
   "metadata": {},
   "outputs": [
    {
     "data": {
      "text/plain": [
       "['12시/Number', '땡/Noun', '!/Punctuation']"
      ]
     },
     "execution_count": 18,
     "metadata": {},
     "output_type": "execute_result"
    }
   ],
   "source": [
    "tokenizer_okt(df['Q'][0])"
   ]
  },
  {
   "cell_type": "code",
   "execution_count": 20,
   "metadata": {},
   "outputs": [
    {
     "data": {
      "text/plain": [
       "[[0, ['12시/Number', '땡/Noun', '!/Punctuation'], '하루가 또 가네요.'],\n",
       " [1, ['1/Number', '지망/Noun', '학교/Noun', '떨어졌어/Verb'], '위로해 드립니다.'],\n",
       " [2,\n",
       "  ['3/Number', '박/Noun', '4일/Number', '놀러/Verb', '가고/Verb', '싶다/Verb'],\n",
       "  '여행은 언제나 좋죠.'],\n",
       " [3,\n",
       "  ['3/Number',\n",
       "   '박/Noun',\n",
       "   '4일/Number',\n",
       "   '정도/Noun',\n",
       "   '놀러/Verb',\n",
       "   '가고/Verb',\n",
       "   '싶다/Verb'],\n",
       "  '여행은 언제나 좋죠.'],\n",
       " [4, ['PPL/Alpha', '심하네/Adjective'], '눈살이 찌푸려지죠.']]"
      ]
     },
     "execution_count": 20,
     "metadata": {},
     "output_type": "execute_result"
    }
   ],
   "source": [
    "# 구성 : [ index, 형태소분석(질문), 답 ] \n",
    "pre_df = []\n",
    "for i in range(len(df)):\n",
    "    pre_df.append( [i,tokenizer_okt(df['Q'][i]),df['A'][i] ])\n",
    "\n",
    "pre_df[:5]    "
   ]
  },
  {
   "cell_type": "code",
   "execution_count": 21,
   "metadata": {},
   "outputs": [],
   "source": [
    "# Doc2Vec에서 사용하는 태그문서형으로 변경\n",
    "tagged_faqs = [TaggedDocument(que, [idx]) for idx, que,ans in pre_df]"
   ]
  },
  {
   "cell_type": "code",
   "execution_count": 22,
   "metadata": {},
   "outputs": [
    {
     "data": {
      "text/plain": [
       "[TaggedDocument(words=['12시/Number', '땡/Noun', '!/Punctuation'], tags=[0]),\n",
       " TaggedDocument(words=['1/Number', '지망/Noun', '학교/Noun', '떨어졌어/Verb'], tags=[1]),\n",
       " TaggedDocument(words=['3/Number', '박/Noun', '4일/Number', '놀러/Verb', '가고/Verb', '싶다/Verb'], tags=[2]),\n",
       " TaggedDocument(words=['3/Number', '박/Noun', '4일/Number', '정도/Noun', '놀러/Verb', '가고/Verb', '싶다/Verb'], tags=[3]),\n",
       " TaggedDocument(words=['PPL/Alpha', '심하네/Adjective'], tags=[4])]"
      ]
     },
     "execution_count": 22,
     "metadata": {},
     "output_type": "execute_result"
    }
   ],
   "source": [
    "tagged_faqs[:5]"
   ]
  },
  {
   "cell_type": "code",
   "execution_count": 24,
   "metadata": {},
   "outputs": [],
   "source": [
    "# make model\n",
    "import multiprocessing\n",
    "cores = multiprocessing.cpu_count()\n",
    "d2v_faqs = doc2vec.Doc2Vec(\n",
    "                            vector_size=100,\n",
    "                            alpha=0.025,\n",
    "                            min_alpha=0.025,\n",
    "                            hs=1,\n",
    "                            negative=0,\n",
    "                            dm=0,\n",
    "                            window=3,\n",
    "                            dbow_words = 1,\n",
    "                            min_count = 1,\n",
    "                            workers = cores,\n",
    "                            seed=0,\n",
    "                            epochs=100\n",
    "                            )\n",
    "d2v_faqs.build_vocab(tagged_faqs)\n"
   ]
  },
  {
   "cell_type": "code",
   "execution_count": 1,
   "metadata": {},
   "outputs": [],
   "source": [
    "# d2v_faqs.vocabulary.sample"
   ]
  },
  {
   "cell_type": "code",
   "execution_count": 25,
   "metadata": {},
   "outputs": [
    {
     "data": {
      "text/plain": [
       "['1/Number', '지망/Noun', '학교/Noun', '떨어졌어/Verb']"
      ]
     },
     "execution_count": 25,
     "metadata": {},
     "output_type": "execute_result"
    }
   ],
   "source": [
    "# 검색타입 변경\n",
    "test_string = \"1지망 학교 떨어졌어\"\n",
    "# 검색할 데이터 형태소분석\n",
    "tokened_test_string = tokenizer_okt(test_string)\n",
    "tokened_test_string"
   ]
  },
  {
   "cell_type": "code",
   "execution_count": 26,
   "metadata": {},
   "outputs": [
    {
     "name": "stdout",
     "output_type": "stream",
     "text": [
      "[(8725, 0.37584811449050903), (8337, 0.33695921301841736), (8276, 0.3326198160648346), (2779, 0.33130156993865967), (7508, 0.32867804169654846)]\n",
      "1위. 0.37584811449050903, 8725 헤이진지 이제 딱 한달\n",
      "2위. 0.33695921301841736, 8337 출근 준비하다 또 울었네\n",
      "3위. 0.3326198160648346, 8276 찬 사람은 후폭풍 없나?\n",
      "4위. 0.33130156993865967, 2779 신혼여행 한달쯤 가고 싶다\n",
      "5위. 0.32867804169654846, 7508 이별은 냉정할수록 좋은 것 같아\n"
     ]
    },
    {
     "name": "stderr",
     "output_type": "stream",
     "text": [
      "C:\\Users\\jmpkorea00\\AppData\\Local\\Temp\\ipykernel_3052\\1373282670.py:5: DeprecationWarning: Call to deprecated `docvecs` (The `docvecs` property has been renamed `dv`.).\n",
      "  result = d2v_faqs.docvecs.most_similar([test_vector], topn=topn)\n"
     ]
    }
   ],
   "source": [
    "topn = 5\n",
    "# 검색할 데이터 벡터화\n",
    "test_vector = d2v_faqs.infer_vector(tokened_test_string)\n",
    "# 가장 근접한 5개 list 돌려줌.\n",
    "result = d2v_faqs.docvecs.most_similar([test_vector], topn=topn)\n",
    "print(result)\n",
    "\n",
    "for i in range(topn):\n",
    "    print(\"{}위. {}, {} {}\".format(i+1, result[i][1], result[i][0],df['Q'][result[i][0]] ))"
   ]
  },
  {
   "cell_type": "code",
   "execution_count": 27,
   "metadata": {},
   "outputs": [
    {
     "name": "stderr",
     "output_type": "stream",
     "text": [
      "C:\\Users\\jmpkorea00\\AppData\\Local\\Temp\\ipykernel_3052\\1411992680.py:8: DeprecationWarning: Call to deprecated `docvecs` (The `docvecs` property has been renamed `dv`.).\n",
      "  re = d2v_faqs.docvecs.most_similar([tvec], topn = raten)\n"
     ]
    },
    {
     "name": "stdout",
     "output_type": "stream",
     "text": [
      "정확도 = 0.0001691618032648228 % (2/11823 )  \n"
     ]
    }
   ],
   "source": [
    "# 성능 측정\n",
    "raten = 1\n",
    "found = 0\n",
    "for i in range(len(df)):\n",
    "    tstr = df['Q'][i]\n",
    "    ttok = tokenizer_okt(tstr)\n",
    "    tvec = d2v_faqs.infer_vector(ttok)\n",
    "    re = d2v_faqs.docvecs.most_similar([tvec], topn = raten)\n",
    "    for j in range(raten):\n",
    "        if i == re[j][0]: found = found + 1\n",
    "\n",
    "print(\"정확도 = {} % ({}/{} )  \".format(found/len(df),found, len(df)))"
   ]
  }
 ],
 "metadata": {
  "kernelspec": {
   "display_name": "Python 3.10.2 64-bit",
   "language": "python",
   "name": "python3"
  },
  "language_info": {
   "codemirror_mode": {
    "name": "ipython",
    "version": 3
   },
   "file_extension": ".py",
   "mimetype": "text/x-python",
   "name": "python",
   "nbconvert_exporter": "python",
   "pygments_lexer": "ipython3",
   "version": "3.10.2"
  },
  "orig_nbformat": 4,
  "vscode": {
   "interpreter": {
    "hash": "369f2c481f4da34e4445cda3fffd2e751bd1c4d706f27375911949ba6bb62e1c"
   }
  }
 },
 "nbformat": 4,
 "nbformat_minor": 2
}

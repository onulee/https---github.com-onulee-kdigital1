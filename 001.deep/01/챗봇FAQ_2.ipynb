{
 "cells": [
  {
   "cell_type": "code",
   "execution_count": 11,
   "metadata": {},
   "outputs": [],
   "source": [
    "import os\n",
    "from gensim.models import doc2vec\n",
    "# TaggedDocument는 해당 corpus의 id를 함께 넘겨주는 것을 말합\n",
    "from gensim.models.doc2vec import TaggedDocument"
   ]
  },
  {
   "cell_type": "markdown",
   "metadata": {},
   "source": [
    "1. colab : !pip install konlpy 설치해야 함\n",
    "1. https://cholol.tistory.com/466\n",
    "1. https://github.com/tkdlek11112/faq_chatbot_learning/blob/master/DAY1/FAQ_CHATBOT_DAY1.ipynb\n"
   ]
  },
  {
   "cell_type": "code",
   "execution_count": 12,
   "metadata": {},
   "outputs": [],
   "source": [
    "faqs = [[\"1\", \"당해년도 납입액은 수정 가능 한가요?\", \"네, 당해년도 납입액은 12464 화면 등록전까지 수정 가능합니다.\"],\n",
    "        [\"2\", \"대리인통보 대상계좌 기준은 어떻게 되나요?\", \"모계좌 기준 가장 최근에 개설된 계좌의 관리점에서 조회 됩니다.  의원폐쇄된 자계좌는 조회대상 계좌에서 제외됩니다. 계좌주 계좌가 사절원 계좌가 아닌 경우만 조회됩니다\"],\n",
    "        [\"3\", \"등록가능 단말기수는 어떻게 되나요?\", \"5대까지 등록 가능입니다.\"],\n",
    "        [\"4\", \"모바일계좌개설 가능한 시간은 어떻게 되나요?\", \"08:00 ~ 20:00(영업일만 가능\"],\n",
    "        [\"5\", \"미국인일때 미국납세자등록번호 작성 방법은 어떻게 되나요?\", \"계좌주가 미국인일 때 계좌주의 미국납세자등록번호(사회보장번호(Social Security Number), 고용주식별번호(Employer Identification Number), 개인납세자번호(Individual Taxpayer Identification Number))를 기재합니다..\"]\n",
    "    ]"
   ]
  },
  {
   "cell_type": "code",
   "execution_count": 13,
   "metadata": {},
   "outputs": [
    {
     "data": {
      "text/plain": [
       "[['1', '당해년도 납입액은 수정 가능 한가요?', '네, 당해년도 납입액은 12464 화면 등록전까지 수정 가능합니다.'],\n",
       " ['2',\n",
       "  '대리인통보 대상계좌 기준은 어떻게 되나요?',\n",
       "  '모계좌 기준 가장 최근에 개설된 계좌의 관리점에서 조회 됩니다.  의원폐쇄된 자계좌는 조회대상 계좌에서 제외됩니다. 계좌주 계좌가 사절원 계좌가 아닌 경우만 조회됩니다'],\n",
       " ['3', '등록가능 단말기수는 어떻게 되나요?', '5대까지 등록 가능입니다.'],\n",
       " ['4', '모바일계좌개설 가능한 시간은 어떻게 되나요?', '08:00 ~ 20:00(영업일만 가능'],\n",
       " ['5',\n",
       "  '미국인일때 미국납세자등록번호 작성 방법은 어떻게 되나요?',\n",
       "  '계좌주가 미국인일 때 계좌주의 미국납세자등록번호(사회보장번호(Social Security Number), 고용주식별번호(Employer Identification Number), 개인납세자번호(Individual Taxpayer Identification Number))를 기재합니다..']]"
      ]
     },
     "execution_count": 13,
     "metadata": {},
     "output_type": "execute_result"
    }
   ],
   "source": [
    "faqs"
   ]
  },
  {
   "cell_type": "code",
   "execution_count": 14,
   "metadata": {},
   "outputs": [],
   "source": [
    "#형태소 분석\n",
    "import jpype\n",
    "from konlpy.tag import Okt"
   ]
  },
  {
   "cell_type": "code",
   "execution_count": 17,
   "metadata": {},
   "outputs": [],
   "source": [
    "okt = Okt()\n",
    "\n",
    "def tokenize_kkma(doc):\n",
    "    jpype.attachThreadToJVM()\n",
    "    token_doc = ['/'.join(word) for word in okt.pos(doc) ]\n",
    "    return token_doc"
   ]
  },
  {
   "cell_type": "code",
   "execution_count": 18,
   "metadata": {},
   "outputs": [
    {
     "data": {
      "text/plain": [
       "['당해/Modifier',\n",
       " '년도/Noun',\n",
       " '납입액/Noun',\n",
       " '은/Josa',\n",
       " '수정/Noun',\n",
       " '가능/Noun',\n",
       " '한/Determiner',\n",
       " '가요/Noun',\n",
       " '?/Punctuation']"
      ]
     },
     "execution_count": 18,
     "metadata": {},
     "output_type": "execute_result"
    }
   ],
   "source": [
    "tokenize_kkma(faqs[0][1])"
   ]
  },
  {
   "cell_type": "code",
   "execution_count": 19,
   "metadata": {},
   "outputs": [],
   "source": [
    "# 리스트에서 각 문장부분 토큰화\n",
    "token_faqs = [(tokenize_kkma(row[1]), row[0]) for row in faqs]\n",
    "\n",
    "# Doc2Vec에서 사용하는 태그문서형으로 변경\n",
    "tagged_faqs = [TaggedDocument(d, [c]) for d, c in token_faqs]"
   ]
  },
  {
   "cell_type": "code",
   "execution_count": 20,
   "metadata": {},
   "outputs": [
    {
     "data": {
      "text/plain": [
       "[TaggedDocument(words=['당해/Modifier', '년도/Noun', '납입액/Noun', '은/Josa', '수정/Noun', '가능/Noun', '한/Determiner', '가요/Noun', '?/Punctuation'], tags=['1']),\n",
       " TaggedDocument(words=['대리인/Noun', '통보/Noun', '대상/Noun', '계좌/Noun', '기준/Noun', '은/Josa', '어떻게/Adjective', '되나요/Verb', '?/Punctuation'], tags=['2']),\n",
       " TaggedDocument(words=['등록/Noun', '가능/Noun', '단말/Noun', '기수/Noun', '는/Josa', '어떻게/Adjective', '되나요/Verb', '?/Punctuation'], tags=['3']),\n",
       " TaggedDocument(words=['모바일/Noun', '계좌/Noun', '개설/Noun', '가능한/Adjective', '시간/Noun', '은/Josa', '어떻게/Adjective', '되나요/Verb', '?/Punctuation'], tags=['4']),\n",
       " TaggedDocument(words=['미국인/Noun', '일/Modifier', '때/Noun', '미국/Noun', '납세/Noun', '자/Suffix', '등록/Noun', '번호/Noun', '작성/Noun', '방법/Noun', '은/Josa', '어떻게/Adjective', '되나요/Verb', '?/Punctuation'], tags=['5'])]"
      ]
     },
     "execution_count": 20,
     "metadata": {},
     "output_type": "execute_result"
    }
   ],
   "source": [
    "tagged_faqs"
   ]
  },
  {
   "cell_type": "code",
   "execution_count": 21,
   "metadata": {},
   "outputs": [],
   "source": [
    "# make model\n",
    "import multiprocessing\n",
    "cores = multiprocessing.cpu_count()\n",
    "d2v_faqs = doc2vec.Doc2Vec(\n",
    "                                vector_size=50, \n",
    "                                alpha=0.025,\n",
    "                                min_alpha=0.025,\n",
    "                                hs=1,\n",
    "                                negative=0,\n",
    "                                dm=0,\n",
    "                                dbow_words = 1,\n",
    "                                min_count = 1,\n",
    "                                workers = cores,\n",
    "                                seed=0\n",
    "                                )\n",
    "d2v_faqs.build_vocab(tagged_faqs)\n",
    "\n",
    "# train document vectors\n",
    "for epoch in range(10):\n",
    "    d2v_faqs.train(tagged_faqs,\n",
    "                                total_examples = d2v_faqs.corpus_count,\n",
    "                                epochs = d2v_faqs.epochs\n",
    "                                )\n",
    "    d2v_faqs.alpha -= 0.0025 # decrease the learning rate\n",
    "    d2v_faqs.min_alpha = d2v_faqs.alpha # fix the learning rate, no decay"
   ]
  },
  {
   "cell_type": "code",
   "execution_count": 22,
   "metadata": {},
   "outputs": [],
   "source": [
    "# 입력타입은 list타입\n",
    "predict_vector = d2v_faqs.infer_vector([\"당해년도 납입액은 수정 가능 한가요?\"])"
   ]
  },
  {
   "cell_type": "code",
   "execution_count": null,
   "metadata": {},
   "outputs": [],
   "source": []
  }
 ],
 "metadata": {
  "kernelspec": {
   "display_name": "Python 3.10.2 64-bit",
   "language": "python",
   "name": "python3"
  },
  "language_info": {
   "codemirror_mode": {
    "name": "ipython",
    "version": 3
   },
   "file_extension": ".py",
   "mimetype": "text/x-python",
   "name": "python",
   "nbconvert_exporter": "python",
   "pygments_lexer": "ipython3",
   "version": "3.10.2"
  },
  "orig_nbformat": 4,
  "vscode": {
   "interpreter": {
    "hash": "369f2c481f4da34e4445cda3fffd2e751bd1c4d706f27375911949ba6bb62e1c"
   }
  }
 },
 "nbformat": 4,
 "nbformat_minor": 2
}

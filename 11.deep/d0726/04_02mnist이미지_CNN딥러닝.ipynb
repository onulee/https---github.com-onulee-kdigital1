{
 "cells": [
  {
   "cell_type": "code",
   "execution_count": 61,
   "metadata": {},
   "outputs": [],
   "source": [
    "from tensorflow import keras\n",
    "import matplotlib.pyplot as plt\n",
    "import matplotlib\n",
    "matplotlib.rcParams['axes.unicode_minus']=False\n",
    "import numpy as np\n",
    "import pandas as pd\n",
    "from sklearn.model_selection import train_test_split\n",
    "\n",
    "from PIL import Image\n",
    "import os\n"
   ]
  },
  {
   "cell_type": "code",
   "execution_count": 62,
   "metadata": {},
   "outputs": [],
   "source": [
    "with open('bag1.jpg','rb') as file:\n",
    "    # Image함수호출\n",
    "    img = Image.open(file)\n",
    "    # 흑백변경 - RGB\n",
    "    img = img.convert('L')\n",
    "    # 사이즈 변경\n",
    "    img = img.resize((28,28))\n",
    "    # 숫자배열로 변경\n",
    "    source_data = np.array(img)"
   ]
  },
  {
   "cell_type": "code",
   "execution_count": 63,
   "metadata": {},
   "outputs": [
    {
     "name": "stdout",
     "output_type": "stream",
     "text": [
      "[[[0 0 0 ... 0 0 0]\n",
      "  [0 0 0 ... 0 0 0]\n",
      "  [0 0 0 ... 0 0 0]\n",
      "  ...\n",
      "  [0 0 0 ... 0 0 0]\n",
      "  [0 0 0 ... 0 0 0]\n",
      "  [0 0 0 ... 0 0 0]]\n",
      "\n",
      " [[0 0 0 ... 0 0 0]\n",
      "  [0 0 0 ... 0 0 0]\n",
      "  [0 0 0 ... 0 0 0]\n",
      "  ...\n",
      "  [0 0 0 ... 0 0 0]\n",
      "  [0 0 0 ... 0 0 0]\n",
      "  [0 0 0 ... 0 0 0]]\n",
      "\n",
      " [[0 0 0 ... 0 0 0]\n",
      "  [0 0 0 ... 0 0 0]\n",
      "  [0 0 0 ... 0 0 0]\n",
      "  ...\n",
      "  [0 0 0 ... 0 0 0]\n",
      "  [0 0 0 ... 0 0 0]\n",
      "  [0 0 0 ... 0 0 0]]\n",
      "\n",
      " [[0 0 0 ... 0 0 0]\n",
      "  [0 0 0 ... 0 0 0]\n",
      "  [0 0 0 ... 0 0 0]\n",
      "  ...\n",
      "  [0 0 0 ... 0 0 0]\n",
      "  [0 0 0 ... 0 0 0]\n",
      "  [0 0 0 ... 0 0 0]]\n",
      "\n",
      " [[0 0 0 ... 0 0 0]\n",
      "  [0 0 0 ... 0 0 0]\n",
      "  [0 0 0 ... 0 0 0]\n",
      "  ...\n",
      "  [0 0 0 ... 0 0 0]\n",
      "  [0 0 0 ... 0 0 0]\n",
      "  [0 0 0 ... 0 0 0]]]\n"
     ]
    }
   ],
   "source": [
    "# 데이터불러오기\n",
    "(train_data,train_label),(test_data,test_label) = keras.datasets.fashion_mnist.load_data()\n",
    "\n",
    "print(train_data[:5])"
   ]
  },
  {
   "cell_type": "code",
   "execution_count": 92,
   "metadata": {},
   "outputs": [
    {
     "data": {
      "text/plain": [
       "array([9, 0, 0, ..., 3, 0, 5], dtype=uint8)"
      ]
     },
     "execution_count": 92,
     "metadata": {},
     "output_type": "execute_result"
    }
   ],
   "source": [
    "train_label"
   ]
  },
  {
   "cell_type": "code",
   "execution_count": 64,
   "metadata": {},
   "outputs": [
    {
     "data": {
      "text/plain": [
       "(60000, 28, 28)"
      ]
     },
     "execution_count": 64,
     "metadata": {},
     "output_type": "execute_result"
    }
   ],
   "source": [
    "train_data.shape"
   ]
  },
  {
   "cell_type": "code",
   "execution_count": 65,
   "metadata": {},
   "outputs": [
    {
     "data": {
      "text/plain": [
       "(60000, 28, 28, 1)"
      ]
     },
     "execution_count": 65,
     "metadata": {},
     "output_type": "execute_result"
    }
   ],
   "source": [
    "# 3차원 데이터 변환\n",
    "train_scaled = train_data.reshape(-1,28,28,1)\n",
    "train_scaled.shape"
   ]
  },
  {
   "cell_type": "code",
   "execution_count": 66,
   "metadata": {},
   "outputs": [
    {
     "data": {
      "text/plain": [
       "(10000, 28, 28, 1)"
      ]
     },
     "execution_count": 66,
     "metadata": {},
     "output_type": "execute_result"
    }
   ],
   "source": [
    "test_scaled = test_data.reshape(-1,28,28,1)\n",
    "test_scaled.shape"
   ]
  },
  {
   "cell_type": "code",
   "execution_count": 67,
   "metadata": {},
   "outputs": [
    {
     "data": {
      "text/plain": [
       "(1, 28, 28, 1)"
      ]
     },
     "execution_count": 67,
     "metadata": {},
     "output_type": "execute_result"
    }
   ],
   "source": [
    "# 예측 이미지\n",
    "source_scaled = source_data.reshape(-1,28,28,1)\n",
    "source_scaled.shape"
   ]
  },
  {
   "cell_type": "code",
   "execution_count": 68,
   "metadata": {},
   "outputs": [],
   "source": [
    "train_scaled = train_scaled/255\n",
    "test_scaled = test_scaled/255\n",
    "source_scaled = source_scaled/255"
   ]
  },
  {
   "cell_type": "code",
   "execution_count": 69,
   "metadata": {},
   "outputs": [],
   "source": [
    "# classes = ['티셔츠','바지','스웨터','드레스','코트',\n",
    "#            '샌달','셔츠','스니커즈','가방','앵클 부츠']"
   ]
  },
  {
   "cell_type": "code",
   "execution_count": 70,
   "metadata": {},
   "outputs": [
    {
     "data": {
      "text/plain": [
       "(array([   23,    35,    57, ..., 59962, 59967, 59994], dtype=int64),)"
      ]
     },
     "execution_count": 70,
     "metadata": {},
     "output_type": "execute_result"
    }
   ],
   "source": [
    "np.where(train_label==8)"
   ]
  },
  {
   "cell_type": "code",
   "execution_count": 71,
   "metadata": {},
   "outputs": [
    {
     "data": {
      "image/png": "[encoded data removed]",
      "text/plain": [
       "<Figure size 432x288 with 1 Axes>"
      ]
     },
     "metadata": {
      "needs_background": "light"
     },
     "output_type": "display_data"
    }
   ],
   "source": [
    "plt.imshow(train_scaled[35].reshape(28, 28), cmap='gray_r')\n",
    "plt.show()"
   ]
  },
  {
   "cell_type": "code",
   "execution_count": 72,
   "metadata": {},
   "outputs": [
    {
     "data": {
      "image/png": "[encoded data removed]",
      "text/plain": [
       "<Figure size 432x288 with 1 Axes>"
      ]
     },
     "metadata": {
      "needs_background": "light"
     },
     "output_type": "display_data"
    }
   ],
   "source": [
    "plt.imshow(train_scaled[1].reshape(28, 28), cmap='gray_r')\n",
    "plt.show()"
   ]
  },
  {
   "cell_type": "code",
   "execution_count": 73,
   "metadata": {},
   "outputs": [
    {
     "data": {
      "image/png": "[encoded data removed]",
      "text/plain": [
       "<Figure size 432x288 with 1 Axes>"
      ]
     },
     "metadata": {
      "needs_background": "light"
     },
     "output_type": "display_data"
    }
   ],
   "source": [
    "plt.imshow(source_scaled[0].reshape(28, 28), cmap='gray_r')\n",
    "plt.show()"
   ]
  },
  {
   "cell_type": "code",
   "execution_count": 74,
   "metadata": {},
   "outputs": [
    {
     "data": {
      "text/plain": [
       "((45000, 28, 28, 1), (15000, 28, 28, 1))"
      ]
     },
     "execution_count": 74,
     "metadata": {},
     "output_type": "execute_result"
    }
   ],
   "source": [
    "sub_data,val_data,sub_label,val_label = train_test_split(train_scaled,train_label)\n",
    "sub_data.shape,val_data.shape"
   ]
  },
  {
   "cell_type": "code",
   "execution_count": 75,
   "metadata": {},
   "outputs": [],
   "source": [
    "# 합성곱 신경망 선언\n",
    "model = keras.Sequential()\n",
    "\n",
    "# CNN\n",
    "model.add(keras.layers.Conv2D(32,kernel_size=3,activation='relu',padding='same',input_shape=(28,28,1)))\n",
    "# 최대풀링\n",
    "model.add(keras.layers.MaxPooling2D(2))\n",
    "\n",
    "# CNN - 1회 반복\n",
    "model.add(keras.layers.Conv2D(64,kernel_size=3,activation='relu',padding='same'))\n",
    "# 최대풀링\n",
    "model.add(keras.layers.MaxPooling2D(2))\n",
    "\n"
   ]
  },
  {
   "cell_type": "code",
   "execution_count": 76,
   "metadata": {},
   "outputs": [
    {
     "name": "stdout",
     "output_type": "stream",
     "text": [
      "Model: \"sequential_3\"\n",
      "_________________________________________________________________\n",
      " Layer (type)                Output Shape              Param #   \n",
      "=================================================================\n",
      " conv2d_6 (Conv2D)           (None, 28, 28, 32)        320       \n",
      "                                                                 \n",
      " max_pooling2d_6 (MaxPooling  (None, 14, 14, 32)       0         \n",
      " 2D)                                                             \n",
      "                                                                 \n",
      " conv2d_7 (Conv2D)           (None, 14, 14, 64)        18496     \n",
      "                                                                 \n",
      " max_pooling2d_7 (MaxPooling  (None, 7, 7, 64)         0         \n",
      " 2D)                                                             \n",
      "                                                                 \n",
      " flatten_3 (Flatten)         (None, 3136)              0         \n",
      "                                                                 \n",
      " dense_6 (Dense)             (None, 100)               313700    \n",
      "                                                                 \n",
      " dropout_3 (Dropout)         (None, 100)               0         \n",
      "                                                                 \n",
      " dense_7 (Dense)             (None, 10)                1010      \n",
      "                                                                 \n",
      "=================================================================\n",
      "Total params: 333,526\n",
      "Trainable params: 333,526\n",
      "Non-trainable params: 0\n",
      "_________________________________________________________________\n"
     ]
    }
   ],
   "source": [
    "# 인공신경망의 선언\n",
    "model.add(keras.layers.Flatten())\n",
    "model.add(keras.layers.Dense(100,activation='relu'))\n",
    "model.add(keras.layers.Dropout(0.4))\n",
    "model.add(keras.layers.Dense(10,activation='softmax'))\n",
    "\n",
    "model.summary()\n"
   ]
  },
  {
   "cell_type": "code",
   "execution_count": 77,
   "metadata": {},
   "outputs": [],
   "source": [
    "# from tensorflow.keras.utils import plot_model\n",
    "# keras.utils.plot_model(model)"
   ]
  },
  {
   "cell_type": "code",
   "execution_count": 78,
   "metadata": {},
   "outputs": [],
   "source": [
    "# 순환 신경망 설정 adam\n",
    "rmsprop = keras.optimizers.RMSprop(learning_rate=1e-4)\n",
    "model.compile(optimizer=rmsprop,loss='sparse_categorical_crossentropy',metrics=['accuracy'])"
   ]
  },
  {
   "cell_type": "code",
   "execution_count": 79,
   "metadata": {},
   "outputs": [],
   "source": [
    "# 콜백 - 20번돌고, 가장 낮은 손실률을 저장\n",
    "check_cb = keras.callbacks.ModelCheckpoint('cnn-test.h5',save_best_only=True)\n",
    "early_cb = keras.callbacks.EarlyStopping(patience=3,restore_best_weights=True)"
   ]
  },
  {
   "cell_type": "code",
   "execution_count": 80,
   "metadata": {},
   "outputs": [
    {
     "name": "stdout",
     "output_type": "stream",
     "text": [
      "Epoch 1/15\n",
      "704/704 [==============================] - 17s 23ms/step - loss: 0.9208 - accuracy: 0.6813 - val_loss: 0.5401 - val_accuracy: 0.8057\n",
      "Epoch 2/15\n",
      "704/704 [==============================] - 16s 23ms/step - loss: 0.5631 - accuracy: 0.7996 - val_loss: 0.4698 - val_accuracy: 0.8320\n",
      "Epoch 3/15\n",
      "704/704 [==============================] - 16s 23ms/step - loss: 0.4896 - accuracy: 0.8267 - val_loss: 0.4173 - val_accuracy: 0.8523\n",
      "Epoch 4/15\n",
      "704/704 [==============================] - 16s 23ms/step - loss: 0.4468 - accuracy: 0.8421 - val_loss: 0.3866 - val_accuracy: 0.8632\n",
      "Epoch 5/15\n",
      "704/704 [==============================] - 17s 23ms/step - loss: 0.4195 - accuracy: 0.8526 - val_loss: 0.3642 - val_accuracy: 0.8677\n",
      "Epoch 6/15\n",
      "704/704 [==============================] - 16s 23ms/step - loss: 0.3964 - accuracy: 0.8616 - val_loss: 0.3640 - val_accuracy: 0.8683\n",
      "Epoch 7/15\n",
      "704/704 [==============================] - 16s 23ms/step - loss: 0.3819 - accuracy: 0.8662 - val_loss: 0.3604 - val_accuracy: 0.8657\n",
      "Epoch 8/15\n",
      "704/704 [==============================] - 17s 23ms/step - loss: 0.3654 - accuracy: 0.8706 - val_loss: 0.3323 - val_accuracy: 0.8785\n",
      "Epoch 9/15\n",
      "704/704 [==============================] - 16s 23ms/step - loss: 0.3515 - accuracy: 0.8762 - val_loss: 0.3315 - val_accuracy: 0.8808\n",
      "Epoch 10/15\n",
      "704/704 [==============================] - 16s 23ms/step - loss: 0.3439 - accuracy: 0.8788 - val_loss: 0.3154 - val_accuracy: 0.8853\n",
      "Epoch 11/15\n",
      "704/704 [==============================] - 16s 23ms/step - loss: 0.3341 - accuracy: 0.8816 - val_loss: 0.3174 - val_accuracy: 0.8841\n",
      "Epoch 12/15\n",
      "704/704 [==============================] - 16s 23ms/step - loss: 0.3243 - accuracy: 0.8857 - val_loss: 0.3045 - val_accuracy: 0.8903\n",
      "Epoch 13/15\n",
      "704/704 [==============================] - 17s 24ms/step - loss: 0.3165 - accuracy: 0.8888 - val_loss: 0.2944 - val_accuracy: 0.8923\n",
      "Epoch 14/15\n",
      "704/704 [==============================] - 17s 24ms/step - loss: 0.3077 - accuracy: 0.8902 - val_loss: 0.2936 - val_accuracy: 0.8939\n",
      "Epoch 15/15\n",
      "704/704 [==============================] - 17s 24ms/step - loss: 0.3015 - accuracy: 0.8945 - val_loss: 0.2853 - val_accuracy: 0.8949\n"
     ]
    }
   ],
   "source": [
    "history = model.fit(sub_data,sub_label,epochs=15,batch_size=64,\\\n",
    "    validation_data=(val_data,val_label),callbacks=[check_cb,early_cb])"
   ]
  },
  {
   "cell_type": "code",
   "execution_count": 81,
   "metadata": {},
   "outputs": [
    {
     "data": {
      "image/png": "[encoded data removed]",
      "text/plain": [
       "<Figure size 432x288 with 1 Axes>"
      ]
     },
     "metadata": {
      "needs_background": "light"
     },
     "output_type": "display_data"
    }
   ],
   "source": [
    "# 그래프 그리기\n",
    "plt.plot(history.history['loss'])\n",
    "plt.plot(history.history['val_loss'])\n",
    "plt.xlabel('epoch')\n",
    "plt.ylabel('loss')\n",
    "plt.legend(['train','test'])\n",
    "plt.show()"
   ]
  },
  {
   "cell_type": "code",
   "execution_count": 82,
   "metadata": {},
   "outputs": [
    {
     "name": "stdout",
     "output_type": "stream",
     "text": [
      "469/469 [==============================] - 2s 3ms/step - loss: 0.2853 - accuracy: 0.8949\n",
      "loss, accuracy :  [0.28526976704597473, 0.8948666453361511]\n"
     ]
    }
   ],
   "source": [
    "# 정확도\n",
    "score = model.evaluate(val_data,val_label)\n",
    "print(\"loss, accuracy : \",score)"
   ]
  },
  {
   "cell_type": "code",
   "execution_count": 83,
   "metadata": {},
   "outputs": [
    {
     "name": "stdout",
     "output_type": "stream",
     "text": [
      "1/1 [==============================] - 0s 73ms/step\n",
      "[[6.22662075e-04 5.02638932e-06 9.77689505e-01 1.93880885e-04\n",
      "  6.22616662e-03 4.93380730e-06 1.52310915e-02 1.31180798e-07\n",
      "  2.65692943e-05 1.09144928e-07]]\n"
     ]
    }
   ],
   "source": [
    "# test_data 예측\n",
    "results = model.predict(val_data[0:1])\n",
    "print(results)"
   ]
  },
  {
   "cell_type": "code",
   "execution_count": 84,
   "metadata": {},
   "outputs": [],
   "source": [
    "classes = ['티셔츠','바지','스웨터','드레스','코트',\n",
    "           '샌달','셔츠','스니커즈','가방','앵클 부츠']"
   ]
  },
  {
   "cell_type": "code",
   "execution_count": 85,
   "metadata": {},
   "outputs": [
    {
     "data": {
      "image/png": "[encoded data removed]",
      "text/plain": [
       "<Figure size 432x288 with 1 Axes>"
      ]
     },
     "metadata": {
      "needs_background": "light"
     },
     "output_type": "display_data"
    }
   ],
   "source": [
    "plt.imshow(val_data[0:1].reshape(28, 28), cmap='gray_r')\n",
    "plt.show()"
   ]
  },
  {
   "cell_type": "code",
   "execution_count": 86,
   "metadata": {},
   "outputs": [
    {
     "data": {
      "image/png": "[encoded data removed]",
      "text/plain": [
       "<Figure size 432x288 with 1 Axes>"
      ]
     },
     "metadata": {
      "needs_background": "light"
     },
     "output_type": "display_data"
    }
   ],
   "source": [
    "plt.bar(range(1,11),results[0])\n",
    "plt.show()"
   ]
  },
  {
   "cell_type": "code",
   "execution_count": 87,
   "metadata": {},
   "outputs": [
    {
     "data": {
      "text/plain": [
       "'스웨터'"
      ]
     },
     "execution_count": 87,
     "metadata": {},
     "output_type": "execute_result"
    }
   ],
   "source": [
    "classes[np.argmax(results)]"
   ]
  },
  {
   "cell_type": "code",
   "execution_count": 91,
   "metadata": {},
   "outputs": [
    {
     "name": "stdout",
     "output_type": "stream",
     "text": [
      "1/1 [==============================] - 0s 13ms/step\n",
      "[[2.29436363e-08 9.25740127e-12 1.15847547e-10 5.21797432e-11\n",
      "  5.14362099e-13 1.22612346e-11 8.27509172e-09 5.63506837e-12\n",
      "  1.00000000e+00 3.05634895e-09]]\n"
     ]
    }
   ],
   "source": [
    "# source 예측\n",
    "source_results = model.predict(source_scaled)\n",
    "print(source_results)"
   ]
  },
  {
   "cell_type": "code",
   "execution_count": 89,
   "metadata": {},
   "outputs": [
    {
     "data": {
      "image/png": "[encoded data removed]",
      "text/plain": [
       "<Figure size 432x288 with 1 Axes>"
      ]
     },
     "metadata": {
      "needs_background": "light"
     },
     "output_type": "display_data"
    }
   ],
   "source": [
    "plt.bar(range(1,11),source_results[0])\n",
    "plt.show()"
   ]
  },
  {
   "cell_type": "code",
   "execution_count": 90,
   "metadata": {},
   "outputs": [
    {
     "data": {
      "text/plain": [
       "'가방'"
      ]
     },
     "execution_count": 90,
     "metadata": {},
     "output_type": "execute_result"
    }
   ],
   "source": [
    "# source_data 예측 값\n",
    "classes[np.argmax(source_results[0])]"
   ]
  }
 ],
 "metadata": {
  "kernelspec": {
   "display_name": "Python 3.10.2 64-bit",
   "language": "python",
   "name": "python3"
  },
  "language_info": {
   "codemirror_mode": {
    "name": "ipython",
    "version": 3
   },
   "file_extension": ".py",
   "mimetype": "text/x-python",
   "name": "python",
   "nbconvert_exporter": "python",
   "pygments_lexer": "ipython3",
   "version": "3.10.2"
  },
  "orig_nbformat": 4,
  "vscode": {
   "interpreter": {
    "hash": "369f2c481f4da34e4445cda3fffd2e751bd1c4d706f27375911949ba6bb62e1c"
   }
  }
 },
 "nbformat": 4,
 "nbformat_minor": 2
}

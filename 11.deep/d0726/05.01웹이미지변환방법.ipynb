{
 "cells": [
  {
   "cell_type": "code",
   "execution_count": 135,
   "metadata": {},
   "outputs": [],
   "source": [
    "from tensorflow import keras\n",
    "from sklearn.model_selection import train_test_split\n",
    "from PIL import Image\n",
    "import os, glob\n",
    "import numpy as np\n",
    "import pandas as pd\n",
    "from sklearn.model_selection import train_test_split\n",
    "import matplotlib.pyplot as plt\n",
    "import matplotlib\n",
    "matplotlib.rcParams['axes.unicode_minus']=False\n",
    "\n",
    "# 이미지 데이터 다운로드\n",
    "# http://www.vision.caltech.edu/datasets/\n",
    "# https://drive.google.com/drive/folders/1cnQHqa8BkVx90-6-UojHnbMB0WhksSRc\n",
    "# caltech-101 다운로드"
   ]
  },
  {
   "cell_type": "code",
   "execution_count": 136,
   "metadata": {},
   "outputs": [
    {
     "name": "stdout",
     "output_type": "stream",
     "text": [
      "5\n"
     ]
    }
   ],
   "source": [
    "# 1. 이미지 분류\n",
    "# caltech_dir = \"11.deep/d0726/image/101_ObjectCategories\"\n",
    "caltech_dir = \"image/101_ObjectCategories\"\n",
    "categories = [\"chair\",\"camera\",\"butterfly\",\"elephant\",\"flamingo\"]\n",
    "nb_classes = len(categories)\n",
    "print(nb_classes) # 5"
   ]
  },
  {
   "cell_type": "code",
   "execution_count": 137,
   "metadata": {},
   "outputs": [],
   "source": [
    "# # 2. 이미지 크기 지정\n",
    "image_w = 64 \n",
    "image_h = 64\n",
    "# pixels = image_w * image_h * 3\n",
    "# print(pixels) # 12288"
   ]
  },
  {
   "cell_type": "code",
   "execution_count": 138,
   "metadata": {},
   "outputs": [
    {
     "data": {
      "text/plain": [
       "[0, 0, 0, 0, 0]"
      ]
     },
     "execution_count": 138,
     "metadata": {},
     "output_type": "execute_result"
    }
   ],
   "source": [
    "for j in range(5):\n",
    "    re1 = [0 for i in range(5)]\n",
    "re1    "
   ]
  },
  {
   "cell_type": "code",
   "execution_count": 139,
   "metadata": {},
   "outputs": [
    {
     "name": "stdout",
     "output_type": "stream",
     "text": [
      "0 \n",
      " [[253 255 255 ... 255 255 255]\n",
      " [253 237 227 ... 255 255 255]\n",
      " [247 150 127 ... 255 255 255]\n",
      " ...\n",
      " [255 255 255 ... 255 255 255]\n",
      " [255 255 255 ... 255 255 255]\n",
      " [255 255 255 ... 255 255 255]]\n",
      "10 \n",
      " [[193 193 193 ... 184 181 180]\n",
      " [193 193 193 ... 187 184 182]\n",
      " [191 191 191 ... 187 184 182]\n",
      " ...\n",
      " [222 221 219 ... 249 249 249]\n",
      " [226 225 223 ... 251 251 251]\n",
      " [223 222 222 ... 251 251 251]]\n",
      "20 \n",
      " [[157 161 157 ... 127 131 142]\n",
      " [148 150 153 ... 147 147 146]\n",
      " [153 153 152 ... 151 152 150]\n",
      " ...\n",
      " [151 143 124 ... 128 151 150]\n",
      " [150 149 147 ... 145 151 154]\n",
      " [159 150 157 ... 154 155 156]]\n",
      "30 \n",
      " [[255 255 255 ... 255 255 255]\n",
      " [255 255 255 ... 255 255 255]\n",
      " [255 255 255 ... 255 255 255]\n",
      " ...\n",
      " [255 255 255 ... 255 255 255]\n",
      " [255 255 255 ... 255 255 255]\n",
      " [255 255 255 ... 255 255 255]]\n",
      "40 \n",
      " [[148 149 149 ...  27  27  39]\n",
      " [151 151 149 ...  23  37  98]\n",
      " [139 132 126 ...  23  67 114]\n",
      " ...\n",
      " [ 85  80  87 ...  86  97  97]\n",
      " [ 78  81  85 ...  74  86  96]\n",
      " [ 87  87  78 ...  95  68  82]]\n",
      "50 \n",
      " [[28 28 31 ... 36 35 37]\n",
      " [32 32 36 ... 39 39 37]\n",
      " [38 38 38 ... 39 38 36]\n",
      " ...\n",
      " [ 3  3  3 ...  3  3  3]\n",
      " [ 3  3  3 ...  3  3  3]\n",
      " [ 3  3  3 ...  3  3  3]]\n",
      "60 \n",
      " [[143 144 145 ... 186 187 184]\n",
      " [147 148 151 ... 162 166 186]\n",
      " [147 152 152 ...  38  43 152]\n",
      " ...\n",
      " [189 195 195 ... 229 230 230]\n",
      " [158 153 155 ... 230 231 231]\n",
      " [212 213 214 ... 233 233 233]]\n",
      "0 \n",
      " [[255 255 255 ... 255 255 255]\n",
      " [255 255 255 ... 255 255 255]\n",
      " [255 255 255 ... 255 255 255]\n",
      " ...\n",
      " [255 255 255 ... 255 255 255]\n",
      " [255 255 255 ... 255 255 255]\n",
      " [255 255 255 ... 255 255 255]]\n",
      "10 \n",
      " [[254 254 254 ... 254 254 254]\n",
      " [254 254 254 ... 254 254 254]\n",
      " [254 254 254 ... 254 254 254]\n",
      " ...\n",
      " [254 254 254 ... 254 252 252]\n",
      " [254 254 254 ... 253 252 249]\n",
      " [253 253 253 ... 168 196 248]]\n",
      "20 \n",
      " [[  3  23   8 ...   2   1  17]\n",
      " [ 28  43  32 ...  28  27  38]\n",
      " [  1  23   8 ...   3   2  17]\n",
      " ...\n",
      " [152 156 154 ...  79  85  94]\n",
      " [151 145 149 ...  70  73  73]\n",
      " [157 144 143 ...  32  54  62]]\n",
      "30 \n",
      " [[255 255 255 ... 255 255 255]\n",
      " [255 255 255 ... 255 255 255]\n",
      " [255 255 255 ... 255 255 255]\n",
      " ...\n",
      " [ 54 115 107 ... 115 108 111]\n",
      " [ 49 119 116 ... 129 124 119]\n",
      " [ 44 120 139 ... 134 130 129]]\n",
      "40 \n",
      " [[255 255 255 ... 255 255 255]\n",
      " [255 255 255 ... 255 255 255]\n",
      " [255 255 255 ... 255 255 255]\n",
      " ...\n",
      " [255 255 255 ... 255 255 255]\n",
      " [255 255 255 ... 255 255 255]\n",
      " [255 255 255 ... 255 255 255]]\n",
      "0 \n",
      " [[255 255 255 ... 255 255 247]\n",
      " [255 255 255 ... 255 255 247]\n",
      " [254 254 255 ... 255 255 247]\n",
      " ...\n",
      " [255 255 255 ... 255 255 247]\n",
      " [255 255 255 ... 255 255 247]\n",
      " [255 255 255 ... 255 255 247]]\n",
      "10 \n",
      " [[74 74 73 ... 65 67 66]\n",
      " [73 72 73 ... 65 66 67]\n",
      " [71 71 72 ... 66 64 65]\n",
      " ...\n",
      " [87 92 91 ... 86 90 91]\n",
      " [84 92 88 ... 86 90 91]\n",
      " [86 92 86 ... 87 88 90]]\n",
      "20 \n",
      " [[0 0 0 ... 0 0 0]\n",
      " [0 0 0 ... 0 0 0]\n",
      " [0 0 0 ... 0 0 0]\n",
      " ...\n",
      " [0 0 0 ... 1 0 0]\n",
      " [0 0 0 ... 2 1 0]\n",
      " [0 0 0 ... 1 1 0]]\n",
      "30 \n",
      " [[255 255 255 ... 254 255 162]\n",
      " [255 255 255 ... 254 255 162]\n",
      " [255 255 255 ... 254 255 162]\n",
      " ...\n",
      " [136 161 244 ... 171 142 152]\n",
      " [188 199 234 ... 199 194 157]\n",
      " [123 122 121 ... 124 124 107]]\n",
      "40 \n",
      " [[205 205 204 ... 197 196 198]\n",
      " [205 205 204 ... 197 196 198]\n",
      " [204 204 205 ... 197 197 197]\n",
      " ...\n",
      " [  0   0   0 ...   0   0   0]\n",
      " [  0   0   0 ...   0   0   0]\n",
      " [  0   0   0 ...   0   0   0]]\n",
      "50 \n",
      " [[0 0 0 ... 0 0 0]\n",
      " [0 0 0 ... 0 0 0]\n",
      " [0 0 0 ... 0 0 0]\n",
      " ...\n",
      " [0 0 0 ... 0 0 0]\n",
      " [0 0 0 ... 0 0 0]\n",
      " [0 0 0 ... 0 0 0]]\n",
      "60 \n",
      " [[184 178 165 ... 210 208 210]\n",
      " [173 164 165 ... 202 199 202]\n",
      " [182 169 182 ... 199 197 197]\n",
      " ...\n",
      " [205 201 200 ... 157 154 160]\n",
      " [204 202 200 ... 153 156 159]\n",
      " [197 197 200 ... 154 160 165]]\n",
      "70 \n",
      " [[179 171 176 ... 166 160 161]\n",
      " [175 173 175 ... 161 159 162]\n",
      " [171 172 172 ... 154 161 158]\n",
      " ...\n",
      " [174 177 176 ... 158 162 164]\n",
      " [174 171 176 ... 166 166 167]\n",
      " [176 172 174 ... 168 166 166]]\n",
      "80 \n",
      " [[0 0 0 ... 0 0 0]\n",
      " [0 0 0 ... 0 0 0]\n",
      " [0 0 0 ... 0 0 0]\n",
      " ...\n",
      " [0 0 0 ... 0 0 0]\n",
      " [0 0 0 ... 0 0 0]\n",
      " [0 0 0 ... 0 0 0]]\n",
      "90 \n",
      " [[0 0 0 ... 0 0 0]\n",
      " [0 0 0 ... 0 0 0]\n",
      " [0 0 0 ... 0 0 0]\n",
      " ...\n",
      " [0 0 0 ... 0 0 0]\n",
      " [0 0 0 ... 0 0 0]\n",
      " [0 0 0 ... 0 0 0]]\n",
      "0 \n",
      " [[255 255 255 ... 244 247 255]\n",
      " [255 255 255 ... 247 250 253]\n",
      " [255 255 255 ... 212 228 246]\n",
      " ...\n",
      " [135 139 146 ... 137 154 161]\n",
      " [128 132 136 ... 154 160 152]\n",
      " [142 133 130 ... 164 162 155]]\n",
      "10 \n",
      " [[187 183 186 ... 156 161 164]\n",
      " [195 199 197 ... 157 153 159]\n",
      " [194 196 186 ... 168 166 174]\n",
      " ...\n",
      " [191 193 192 ... 171 189 184]\n",
      " [190 189 189 ... 158 188 184]\n",
      " [192 189 192 ... 144 182 183]]\n",
      "20 \n",
      " [[221 181 160 ... 105 138 125]\n",
      " [236 186 165 ... 148 148  95]\n",
      " [234 184 164 ... 137  96  49]\n",
      " ...\n",
      " [ 23  15   4 ... 140 122 123]\n",
      " [ 15  20   3 ... 137 132 130]\n",
      " [  7   7   4 ... 146 133 137]]\n",
      "30 \n",
      " [[174 153 137 ... 154 157 154]\n",
      " [171 170 154 ... 163 151 144]\n",
      " [166 172 177 ... 155 148 142]\n",
      " ...\n",
      " [145 127 132 ... 109 121 134]\n",
      " [145 139 145 ... 125 125 133]\n",
      " [146 157 164 ... 142 139 131]]\n",
      "40 \n",
      " [[150 178 209 ... 157 154 156]\n",
      " [154 176 203 ... 152 150 155]\n",
      " [175 187 202 ... 144 141 150]\n",
      " ...\n",
      " [197 198 199 ... 172 163 151]\n",
      " [194 196 200 ... 191 180 191]\n",
      " [186 199 201 ... 171 190 146]]\n",
      "50 \n",
      " [[101  56  38 ...  47  49  46]\n",
      " [106  84  48 ...  45  39  37]\n",
      " [153  75  44 ...  35  29  26]\n",
      " ...\n",
      " [118 118  90 ... 146 144 144]\n",
      " [ 57  40  46 ... 185 172 164]\n",
      " [ 42  47  71 ... 224 221 218]]\n",
      "60 \n",
      " [[212 255 255 ... 255 255 255]\n",
      " [212 255 255 ... 255 255 255]\n",
      " [212 255 255 ... 255 255 255]\n",
      " ...\n",
      " [211 253 253 ... 254 254 254]\n",
      " [251 254 254 ... 254 254 254]\n",
      " [255 255 254 ... 255 255 255]]\n",
      "0 \n",
      " [[255 255 255 ... 255 255 255]\n",
      " [255 255 255 ... 255 255 255]\n",
      " [255 255 255 ... 255 255 255]\n",
      " ...\n",
      " [255 255 255 ... 255 255 255]\n",
      " [255 255 255 ... 255 255 255]\n",
      " [255 255 255 ... 255 255 255]]\n",
      "10 \n",
      " [[198 207 212 ... 132 138 136]\n",
      " [183 187 193 ... 129 131 129]\n",
      " [172 173 181 ... 123 120 125]\n",
      " ...\n",
      " [ 87  84  99 ... 112  87 112]\n",
      " [ 95  90  92 ... 118  92 118]\n",
      " [106  96  96 ...  89 103 104]]\n",
      "20 \n",
      " [[253 253 249 ... 255 255 255]\n",
      " [250 253 248 ... 255 255 255]\n",
      " [250 253 245 ... 255 255 255]\n",
      " ...\n",
      " [255 255 255 ... 255 255 255]\n",
      " [255 255 255 ... 255 255 255]\n",
      " [255 255 255 ... 255 255 255]]\n",
      "30 \n",
      " [[232 234 237 ... 237 234 232]\n",
      " [234 220 195 ... 193 220 234]\n",
      " [237 202 168 ... 162 215 235]\n",
      " ...\n",
      " [237 205 161 ... 176 220 235]\n",
      " [233 226 231 ... 231 227 233]\n",
      " [231 233 233 ... 234 233 231]]\n",
      "40 \n",
      " [[ 53  53  53 ... 255 255 255]\n",
      " [ 54  54  42 ... 255 255 255]\n",
      " [ 62  60  58 ... 255 255 255]\n",
      " ...\n",
      " [157 149 151 ... 255 255 255]\n",
      " [157 155 158 ... 255 255 255]\n",
      " [157 159 159 ... 255 255 255]]\n",
      "50 \n",
      " [[112 111 110 ...  14  11   9]\n",
      " [115 113 110 ...  10   9   7]\n",
      " [112 114 113 ...  19  21  35]\n",
      " ...\n",
      " [134 134 138 ...  99  95  83]\n",
      " [140 140 140 ...  95  84  78]\n",
      " [133 133 133 ...  92  84  86]]\n",
      "60 \n",
      " [[ 27  24  24 ...  98  91  82]\n",
      " [ 25  20  17 ... 103  95  91]\n",
      " [ 27  18  26 ...  98  96  91]\n",
      " ...\n",
      " [127 130 133 ... 135 134 138]\n",
      " [129 126 126 ... 134 134 133]\n",
      " [127 130 133 ... 135 135 137]]\n",
      "[0 0 0 0 0 0 0 0 0 0 0 0 0 0 0 0 0 0 0 0 0 0 0 0 0 0 0 0 0 0 0 0 0 0 0 0 0\n",
      " 0 0 0 0 0 0 0 0 0 0 0 0 0 0 0 0 0 0 0 0 0 0 0 0 0 1 1 1 1 1 1 1 1 1 1 1 1\n",
      " 1 1 1 1 1 1 1 1 1 1 1 1 1 1 1 1 1 1 1 1 1 1 1 1 1 1 1 1 1 1 1 1 1 1 1 1 1\n",
      " 1 2 2 2 2 2 2 2 2 2 2 2 2 2 2 2 2 2 2 2 2 2 2 2 2 2 2 2 2 2 2 2 2 2 2 2 2\n",
      " 2 2 2 2 2 2 2 2 2 2 2 2 2 2 2 2 2 2 2 2 2 2 2 2 2 2 2 2 2 2 2 2 2 2 2 2 2\n",
      " 2 2 2 2 2 2 2 2 2 2 2 2 2 2 2 2 2 2 3 3 3 3 3 3 3 3 3 3 3 3 3 3 3 3 3 3 3\n",
      " 3 3 3 3 3 3 3 3 3 3 3 3 3 3 3 3 3 3 3 3 3 3 3 3 3 3 3 3 3 3 3 3 3 3 3 3 3\n",
      " 3 3 3 3 3 3 3 3 4 4 4 4 4 4 4 4 4 4 4 4 4 4 4 4 4 4 4 4 4 4 4 4 4 4 4 4 4\n",
      " 4 4 4 4 4 4 4 4 4 4 4 4 4 4 4 4 4 4 4 4 4 4 4 4 4 4 4 4 4 4 4 4 4 4 4 4 4\n",
      " 4]\n"
     ]
    }
   ],
   "source": [
    "# 3. 이미지 읽어오기\n",
    "X = []\n",
    "Y = []\n",
    "count=0\n",
    "for idx, cat in enumerate(categories): # 5개 \"chair\",\"camera\",\"butterfly\",\"elephant\",\"flamingo\"\n",
    "    # 레이블 지정 원핫인코딩\n",
    "    # label = [0 for i in range(nb_classes)]\n",
    "    # # [1,0,0,0,0],[0,1,0,0,0]\n",
    "    # label[idx] = 1\n",
    "    # print(label)\n",
    "    \n",
    "    # label[idx] = count\n",
    "    # 이미지 현재위치 : \"11.deep/d0726/image/101_ObjectCategories\" \n",
    "    # cat : 5개 \"chair\",\"camera\",\"butterfly\",\"elephant\",\"flamingo\"\n",
    "    image_dir = caltech_dir + \"/\" + cat\n",
    "    # glob: 모든.jpg파일이름 리턴\n",
    "    files = glob.glob(image_dir+\"/*.jpg\")\n",
    "    for i, f in enumerate(files):\n",
    "        img = Image.open(f) # --- (※6)\n",
    "        img = img.convert(\"L\")\n",
    "        # img = img.convert(\"RGB\")\n",
    "        img = img.resize((image_w, image_h)) #(64,64)\n",
    "        data = np.asarray(img)\n",
    "        # 0,1,2,3,4\n",
    "        label = count\n",
    "        X.append(data)\n",
    "        Y.append(label)\n",
    "        if i % 10 == 0:\n",
    "            print(i, \"\\n\", data)\n",
    "    count += 1        \n",
    "X = np.array(X)\n",
    "Y = np.array(Y)\n",
    "print(Y)\n"
   ]
  },
  {
   "cell_type": "code",
   "execution_count": 140,
   "metadata": {},
   "outputs": [
    {
     "name": "stdout",
     "output_type": "stream",
     "text": [
      "ok, 334\n"
     ]
    },
    {
     "name": "stderr",
     "output_type": "stream",
     "text": [
      "c:\\Python310\\lib\\site-packages\\numpy\\lib\\npyio.py:501: VisibleDeprecationWarning: Creating an ndarray from ragged nested sequences (which is a list-or-tuple of lists-or-tuples-or ndarrays with different lengths or shapes) is deprecated. If you meant to do this, you must specify 'dtype=object' when creating the ndarray.\n",
      "  arr = np.asanyarray(arr)\n"
     ]
    }
   ],
   "source": [
    "# train_data,test_data로 numpy파일로 저장\n",
    "X_train, X_test, y_train, y_test = train_test_split(X, Y)\n",
    "xy = (X_train, X_test, y_train, y_test)\n",
    "np.save(\"./image/5obj.npy\", xy)\n",
    "print(\"ok,\", len(Y))"
   ]
  },
  {
   "cell_type": "code",
   "execution_count": 141,
   "metadata": {},
   "outputs": [
    {
     "data": {
      "text/plain": [
       "(334, 64, 64)"
      ]
     },
     "execution_count": 141,
     "metadata": {},
     "output_type": "execute_result"
    }
   ],
   "source": [
    "X.shape"
   ]
  },
  {
   "cell_type": "code",
   "execution_count": 142,
   "metadata": {},
   "outputs": [
    {
     "data": {
      "text/plain": [
       "(334,)"
      ]
     },
     "execution_count": 142,
     "metadata": {},
     "output_type": "execute_result"
    }
   ],
   "source": [
    "Y.shape"
   ]
  },
  {
   "cell_type": "code",
   "execution_count": 143,
   "metadata": {},
   "outputs": [
    {
     "data": {
      "image/png": "[encoded data removed]",
      "text/plain": [
       "<Figure size 432x288 with 1 Axes>"
      ]
     },
     "metadata": {
      "needs_background": "light"
     },
     "output_type": "display_data"
    }
   ],
   "source": [
    "plt.imshow(X[1], cmap='gray_r')\n",
    "plt.show()"
   ]
  },
  {
   "cell_type": "markdown",
   "metadata": {},
   "source": [
    "이미지 변환 후 numpy저장\n",
    "\n",
    "이후 딥러닝 적용\n"
   ]
  },
  {
   "cell_type": "code",
   "execution_count": 144,
   "metadata": {},
   "outputs": [],
   "source": [
    "# # 데이터 불러오기 \n",
    "# # np.load시 allow_pickle=True해야 함.\n",
    "# X_train, X_test, y_train, y_test = np.load(\"image/5obj.npy\", allow_pickle=True)\n",
    "# X_train.shape\n"
   ]
  },
  {
   "cell_type": "code",
   "execution_count": 145,
   "metadata": {},
   "outputs": [
    {
     "name": "stdout",
     "output_type": "stream",
     "text": [
      "(250, 64, 64, 1)\n"
     ]
    },
    {
     "data": {
      "text/plain": [
       "(84, 64, 64, 1)"
      ]
     },
     "execution_count": 145,
     "metadata": {},
     "output_type": "execute_result"
    }
   ],
   "source": [
    "# 3차원 데이터 변환\n",
    "X_train = X_train.reshape(-1,64,64,1)\n",
    "X_test = X_test.reshape(-1,64,64,1)\n",
    "print(X_train.shape)\n",
    "X_test.shape"
   ]
  },
  {
   "cell_type": "code",
   "execution_count": 146,
   "metadata": {},
   "outputs": [
    {
     "data": {
      "text/plain": [
       "(84, 64, 64, 1)"
      ]
     },
     "execution_count": 146,
     "metadata": {},
     "output_type": "execute_result"
    }
   ],
   "source": [
    "# 데이터 정규화하기\n",
    "X_train = X_train.astype(\"float\") / 255\n",
    "X_test  = X_test.astype(\"float\")  / 255\n",
    "X_test.shape"
   ]
  },
  {
   "cell_type": "code",
   "execution_count": 147,
   "metadata": {},
   "outputs": [
    {
     "name": "stdout",
     "output_type": "stream",
     "text": [
      "X_train shape: (250, 64, 64, 1)\n"
     ]
    }
   ],
   "source": [
    "print('X_train shape:', X_train.shape)"
   ]
  },
  {
   "cell_type": "code",
   "execution_count": 148,
   "metadata": {},
   "outputs": [
    {
     "data": {
      "text/plain": [
       "(64, 64, 1)"
      ]
     },
     "execution_count": 148,
     "metadata": {},
     "output_type": "execute_result"
    }
   ],
   "source": [
    "X_train.shape[1:]"
   ]
  },
  {
   "cell_type": "code",
   "execution_count": 149,
   "metadata": {},
   "outputs": [],
   "source": [
    "# 합성곱 신경망 선언\n",
    "model = keras.Sequential()\n",
    "\n",
    "# CNN\n",
    "model.add(keras.layers.Conv2D(32,kernel_size=3,activation='relu',padding='same',input_shape=(64, 64, 1)))\n",
    "# 최대풀링\n",
    "model.add(keras.layers.MaxPooling2D(2))\n",
    "\n",
    "# CNN - 1회 반복\n",
    "model.add(keras.layers.Conv2D(64,kernel_size=3,activation='relu',padding='same'))\n",
    "# 최대풀링\n",
    "model.add(keras.layers.MaxPooling2D(2))\n",
    "\n"
   ]
  },
  {
   "cell_type": "code",
   "execution_count": 150,
   "metadata": {},
   "outputs": [
    {
     "name": "stdout",
     "output_type": "stream",
     "text": [
      "Model: \"sequential_9\"\n",
      "_________________________________________________________________\n",
      " Layer (type)                Output Shape              Param #   \n",
      "=================================================================\n",
      " conv2d_17 (Conv2D)          (None, 64, 64, 32)        320       \n",
      "                                                                 \n",
      " max_pooling2d_17 (MaxPoolin  (None, 32, 32, 32)       0         \n",
      " g2D)                                                            \n",
      "                                                                 \n",
      " conv2d_18 (Conv2D)          (None, 32, 32, 64)        18496     \n",
      "                                                                 \n",
      " max_pooling2d_18 (MaxPoolin  (None, 16, 16, 64)       0         \n",
      " g2D)                                                            \n",
      "                                                                 \n",
      " flatten_8 (Flatten)         (None, 16384)             0         \n",
      "                                                                 \n",
      " dense_16 (Dense)            (None, 100)               1638500   \n",
      "                                                                 \n",
      " dropout_8 (Dropout)         (None, 100)               0         \n",
      "                                                                 \n",
      " dense_17 (Dense)            (None, 10)                1010      \n",
      "                                                                 \n",
      "=================================================================\n",
      "Total params: 1,658,326\n",
      "Trainable params: 1,658,326\n",
      "Non-trainable params: 0\n",
      "_________________________________________________________________\n"
     ]
    }
   ],
   "source": [
    "# 인공신경망의 선언\n",
    "model.add(keras.layers.Flatten())\n",
    "model.add(keras.layers.Dense(100,activation='relu'))\n",
    "model.add(keras.layers.Dropout(0.4))\n",
    "model.add(keras.layers.Dense(10,activation='softmax'))\n",
    "\n",
    "model.summary()"
   ]
  },
  {
   "cell_type": "code",
   "execution_count": 151,
   "metadata": {},
   "outputs": [],
   "source": [
    "model.compile(loss='sparse_categorical_crossentropy',\n",
    "    optimizer='rmsprop',\n",
    "    metrics='accuracy')\n",
    "# model.compile(loss='binary_crossentropy',\n",
    "#     optimizer='rmsprop',\n",
    "#     metrics=['accuracy'])"
   ]
  },
  {
   "cell_type": "code",
   "execution_count": 152,
   "metadata": {},
   "outputs": [],
   "source": [
    "# 순환 신경망 설정 adam\n",
    "rmsprop = keras.optimizers.RMSprop(learning_rate=1e-4)\n",
    "model.compile(optimizer=rmsprop,loss='sparse_categorical_crossentropy',metrics=['accuracy'])"
   ]
  },
  {
   "cell_type": "code",
   "execution_count": 163,
   "metadata": {},
   "outputs": [],
   "source": [
    "# 콜백 - 20번돌고, 가장 낮은 손실률을 저장\n",
    "check_cb = keras.callbacks.ModelCheckpoint('cnn-test.h5',save_best_only=True)\n",
    "early_cb = keras.callbacks.EarlyStopping(patience=5,restore_best_weights=True)"
   ]
  },
  {
   "cell_type": "code",
   "execution_count": 165,
   "metadata": {},
   "outputs": [
    {
     "name": "stdout",
     "output_type": "stream",
     "text": [
      "Epoch 1/100\n",
      "4/4 [==============================] - 1s 136ms/step - loss: 0.8528 - accuracy: 0.7720 - val_loss: 1.0494 - val_accuracy: 0.6190\n",
      "Epoch 2/100\n",
      "4/4 [==============================] - 0s 112ms/step - loss: 0.8481 - accuracy: 0.7160 - val_loss: 1.0390 - val_accuracy: 0.6310\n",
      "Epoch 3/100\n",
      "4/4 [==============================] - 0s 124ms/step - loss: 0.8205 - accuracy: 0.7600 - val_loss: 0.9940 - val_accuracy: 0.6071\n",
      "Epoch 4/100\n",
      "4/4 [==============================] - 0s 123ms/step - loss: 0.7885 - accuracy: 0.7680 - val_loss: 0.9716 - val_accuracy: 0.7024\n",
      "Epoch 5/100\n",
      "4/4 [==============================] - 0s 121ms/step - loss: 0.8056 - accuracy: 0.7320 - val_loss: 0.9667 - val_accuracy: 0.6786\n",
      "Epoch 6/100\n",
      "4/4 [==============================] - 0s 112ms/step - loss: 0.7834 - accuracy: 0.7720 - val_loss: 0.9763 - val_accuracy: 0.6548\n",
      "Epoch 7/100\n",
      "4/4 [==============================] - 0s 122ms/step - loss: 0.8346 - accuracy: 0.7280 - val_loss: 0.9469 - val_accuracy: 0.7143\n",
      "Epoch 8/100\n",
      "4/4 [==============================] - 0s 113ms/step - loss: 0.7606 - accuracy: 0.7920 - val_loss: 0.9510 - val_accuracy: 0.6786\n",
      "Epoch 9/100\n",
      "4/4 [==============================] - 0s 112ms/step - loss: 0.6696 - accuracy: 0.8080 - val_loss: 0.9508 - val_accuracy: 0.6905\n",
      "Epoch 10/100\n",
      "4/4 [==============================] - 0s 126ms/step - loss: 0.7678 - accuracy: 0.7680 - val_loss: 0.9375 - val_accuracy: 0.6786\n",
      "Epoch 11/100\n",
      "4/4 [==============================] - 0s 116ms/step - loss: 0.7129 - accuracy: 0.7960 - val_loss: 0.9573 - val_accuracy: 0.6429\n",
      "Epoch 12/100\n",
      "4/4 [==============================] - 0s 126ms/step - loss: 0.7530 - accuracy: 0.7600 - val_loss: 0.9167 - val_accuracy: 0.6786\n",
      "Epoch 13/100\n",
      "4/4 [==============================] - 0s 116ms/step - loss: 0.7118 - accuracy: 0.7920 - val_loss: 0.9169 - val_accuracy: 0.7262\n",
      "Epoch 14/100\n",
      "4/4 [==============================] - 0s 125ms/step - loss: 0.7241 - accuracy: 0.7760 - val_loss: 0.9114 - val_accuracy: 0.7262\n",
      "Epoch 15/100\n",
      "4/4 [==============================] - 0s 116ms/step - loss: 0.7156 - accuracy: 0.8000 - val_loss: 0.9143 - val_accuracy: 0.6905\n",
      "Epoch 16/100\n",
      "4/4 [==============================] - 0s 116ms/step - loss: 0.6596 - accuracy: 0.8320 - val_loss: 0.9206 - val_accuracy: 0.6548\n",
      "Epoch 17/100\n",
      "4/4 [==============================] - 0s 126ms/step - loss: 0.6614 - accuracy: 0.7920 - val_loss: 0.9030 - val_accuracy: 0.7262\n",
      "Epoch 18/100\n",
      "4/4 [==============================] - 0s 115ms/step - loss: 0.6083 - accuracy: 0.8320 - val_loss: 0.9352 - val_accuracy: 0.6429\n",
      "Epoch 19/100\n",
      "4/4 [==============================] - 0s 124ms/step - loss: 0.6320 - accuracy: 0.8200 - val_loss: 0.8920 - val_accuracy: 0.6905\n",
      "Epoch 20/100\n",
      "4/4 [==============================] - 0s 117ms/step - loss: 0.6156 - accuracy: 0.8200 - val_loss: 0.8940 - val_accuracy: 0.6786\n",
      "Epoch 21/100\n",
      "4/4 [==============================] - 1s 145ms/step - loss: 0.6667 - accuracy: 0.7640 - val_loss: 0.8772 - val_accuracy: 0.7381\n",
      "Epoch 22/100\n",
      "4/4 [==============================] - 0s 114ms/step - loss: 0.6101 - accuracy: 0.8200 - val_loss: 0.8869 - val_accuracy: 0.7024\n",
      "Epoch 23/100\n",
      "4/4 [==============================] - 0s 120ms/step - loss: 0.6142 - accuracy: 0.8200 - val_loss: 0.8587 - val_accuracy: 0.7500\n",
      "Epoch 24/100\n",
      "4/4 [==============================] - 0s 112ms/step - loss: 0.6011 - accuracy: 0.8480 - val_loss: 0.8726 - val_accuracy: 0.7262\n",
      "Epoch 25/100\n",
      "4/4 [==============================] - 0s 112ms/step - loss: 0.5761 - accuracy: 0.8240 - val_loss: 0.9139 - val_accuracy: 0.6786\n",
      "Epoch 26/100\n",
      "4/4 [==============================] - 0s 122ms/step - loss: 0.6137 - accuracy: 0.7960 - val_loss: 0.8427 - val_accuracy: 0.7381\n",
      "Epoch 27/100\n",
      "4/4 [==============================] - 0s 110ms/step - loss: 0.5529 - accuracy: 0.8720 - val_loss: 0.8463 - val_accuracy: 0.7381\n",
      "Epoch 28/100\n",
      "4/4 [==============================] - 0s 115ms/step - loss: 0.5796 - accuracy: 0.8280 - val_loss: 0.8677 - val_accuracy: 0.7143\n",
      "Epoch 29/100\n",
      "4/4 [==============================] - 0s 111ms/step - loss: 0.5623 - accuracy: 0.8560 - val_loss: 0.8512 - val_accuracy: 0.7381\n",
      "Epoch 30/100\n",
      "4/4 [==============================] - 0s 113ms/step - loss: 0.4872 - accuracy: 0.8880 - val_loss: 0.8943 - val_accuracy: 0.6786\n",
      "Epoch 31/100\n",
      "4/4 [==============================] - 0s 116ms/step - loss: 0.5316 - accuracy: 0.8560 - val_loss: 0.8577 - val_accuracy: 0.7143\n"
     ]
    }
   ],
   "source": [
    "history = model.fit(X_train,y_train,epochs=100,batch_size=64,\\\n",
    "    validation_data=(X_test,y_test),callbacks=[check_cb,early_cb])"
   ]
  },
  {
   "cell_type": "code",
   "execution_count": 155,
   "metadata": {},
   "outputs": [
    {
     "data": {
      "image/png": "[encoded data removed]",
      "text/plain": [
       "<Figure size 432x288 with 1 Axes>"
      ]
     },
     "metadata": {
      "needs_background": "light"
     },
     "output_type": "display_data"
    }
   ],
   "source": [
    "# 그래프 그리기\n",
    "plt.plot(history.history['loss'])\n",
    "plt.plot(history.history['val_loss'])\n",
    "plt.xlabel('epoch')\n",
    "plt.ylabel('loss')\n",
    "plt.legend(['train','test'])\n",
    "plt.show()"
   ]
  },
  {
   "cell_type": "code",
   "execution_count": 161,
   "metadata": {},
   "outputs": [
    {
     "name": "stdout",
     "output_type": "stream",
     "text": [
      "3/3 [==============================] - 0s 11ms/step - loss: 1.3926 - accuracy: 0.5000\n",
      "loss, accuracy :  [1.3926373720169067, 0.5]\n"
     ]
    }
   ],
   "source": [
    "# 정확도\n",
    "score = model.evaluate(X_test,y_test)\n",
    "print(\"loss, accuracy : \",score)"
   ]
  },
  {
   "cell_type": "code",
   "execution_count": null,
   "metadata": {},
   "outputs": [],
   "source": []
  }
 ],
 "metadata": {
  "kernelspec": {
   "display_name": "Python 3.10.2 64-bit",
   "language": "python",
   "name": "python3"
  },
  "language_info": {
   "codemirror_mode": {
    "name": "ipython",
    "version": 3
   },
   "file_extension": ".py",
   "mimetype": "text/x-python",
   "name": "python",
   "nbconvert_exporter": "python",
   "pygments_lexer": "ipython3",
   "version": "3.10.2"
  },
  "orig_nbformat": 4,
  "vscode": {
   "interpreter": {
    "hash": "369f2c481f4da34e4445cda3fffd2e751bd1c4d706f27375911949ba6bb62e1c"
   }
  }
 },
 "nbformat": 4,
 "nbformat_minor": 2
}

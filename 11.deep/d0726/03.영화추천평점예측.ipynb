{
 "cells": [
  {
   "cell_type": "code",
   "execution_count": 88,
   "metadata": {},
   "outputs": [],
   "source": [
    "import time\n",
    "import pandas as pd\n",
    "import numpy as np\n",
    "import matplotlib.pyplot as plt\n",
    "# matplotlib함수에서 파생함수, 그래프출력함수\n",
    "import seaborn as sns\n",
    "import matplotlib\n",
    "# 한글설정\n",
    "matplotlib.rcParams['font.family'] = 'Malgun Gothic'\n",
    "# matplotlib.rcParams['font.family'] = 'Apple Gothic' # apple사용시\n",
    "matplotlib.rcParams['axes.unicode_minus']=False\n",
    "\n",
    "import warnings\n",
    "warnings.filterwarnings(\"ignore\")"
   ]
  },
  {
   "cell_type": "code",
   "execution_count": 89,
   "metadata": {},
   "outputs": [
    {
     "data": {
      "text/html": [
       "<div>\n",
       "<style scoped>\n",
       "    .dataframe tbody tr th:only-of-type {\n",
       "        vertical-align: middle;\n",
       "    }\n",
       "\n",
       "    .dataframe tbody tr th {\n",
       "        vertical-align: top;\n",
       "    }\n",
       "\n",
       "    .dataframe thead th {\n",
       "        text-align: right;\n",
       "    }\n",
       "</style>\n",
       "<table border=\"1\" class=\"dataframe\">\n",
       "  <thead>\n",
       "    <tr style=\"text-align: right;\">\n",
       "      <th></th>\n",
       "      <th>user_id</th>\n",
       "      <th>movie_id</th>\n",
       "      <th>rating</th>\n",
       "      <th>time</th>\n",
       "    </tr>\n",
       "  </thead>\n",
       "  <tbody>\n",
       "    <tr>\n",
       "      <th>0</th>\n",
       "      <td>1</td>\n",
       "      <td>1193</td>\n",
       "      <td>5</td>\n",
       "      <td>978300760</td>\n",
       "    </tr>\n",
       "    <tr>\n",
       "      <th>1</th>\n",
       "      <td>1</td>\n",
       "      <td>661</td>\n",
       "      <td>3</td>\n",
       "      <td>978302109</td>\n",
       "    </tr>\n",
       "    <tr>\n",
       "      <th>2</th>\n",
       "      <td>1</td>\n",
       "      <td>914</td>\n",
       "      <td>3</td>\n",
       "      <td>978301968</td>\n",
       "    </tr>\n",
       "    <tr>\n",
       "      <th>3</th>\n",
       "      <td>1</td>\n",
       "      <td>3408</td>\n",
       "      <td>4</td>\n",
       "      <td>978300275</td>\n",
       "    </tr>\n",
       "    <tr>\n",
       "      <th>4</th>\n",
       "      <td>1</td>\n",
       "      <td>2355</td>\n",
       "      <td>5</td>\n",
       "      <td>978824291</td>\n",
       "    </tr>\n",
       "  </tbody>\n",
       "</table>\n",
       "</div>"
      ],
      "text/plain": [
       "   user_id  movie_id  rating       time\n",
       "0        1      1193       5  978300760\n",
       "1        1       661       3  978302109\n",
       "2        1       914       3  978301968\n",
       "3        1      3408       4  978300275\n",
       "4        1      2355       5  978824291"
      ]
     },
     "execution_count": 89,
     "metadata": {},
     "output_type": "execute_result"
    }
   ],
   "source": [
    "rating_file_path = \"ml-1m/ratings.dat\"\n",
    "movie_file_path = \"ml-1m/movies.dat\"\n",
    "user_file_path = \"ml-1m/users.dat\"\n",
    "\n",
    "rating_data = pd.io.parsers.read_csv(rating_file_path, \n",
    "                                     names=['user_id', 'movie_id', 'rating', 'time'], delimiter='::')\n",
    "movie_data = pd.io.parsers.read_csv(movie_file_path, \n",
    "                                    names=['movie_id', 'title', 'genre'], delimiter='::')\n",
    "user_data = pd.io.parsers.read_csv(user_file_path, \n",
    "                                   names=['user_id', 'gender', 'age', 'occupation', 'zipcode'], delimiter='::')\n",
    "rating_data.head()"
   ]
  },
  {
   "cell_type": "code",
   "execution_count": 90,
   "metadata": {},
   "outputs": [
    {
     "data": {
      "text/html": [
       "<div>\n",
       "<style scoped>\n",
       "    .dataframe tbody tr th:only-of-type {\n",
       "        vertical-align: middle;\n",
       "    }\n",
       "\n",
       "    .dataframe tbody tr th {\n",
       "        vertical-align: top;\n",
       "    }\n",
       "\n",
       "    .dataframe thead th {\n",
       "        text-align: right;\n",
       "    }\n",
       "</style>\n",
       "<table border=\"1\" class=\"dataframe\">\n",
       "  <thead>\n",
       "    <tr style=\"text-align: right;\">\n",
       "      <th></th>\n",
       "      <th>movie_id</th>\n",
       "      <th>title</th>\n",
       "      <th>genre</th>\n",
       "    </tr>\n",
       "  </thead>\n",
       "  <tbody>\n",
       "    <tr>\n",
       "      <th>0</th>\n",
       "      <td>1</td>\n",
       "      <td>Toy Story (1995)</td>\n",
       "      <td>Animation|Children's|Comedy</td>\n",
       "    </tr>\n",
       "    <tr>\n",
       "      <th>1</th>\n",
       "      <td>2</td>\n",
       "      <td>Jumanji (1995)</td>\n",
       "      <td>Adventure|Children's|Fantasy</td>\n",
       "    </tr>\n",
       "    <tr>\n",
       "      <th>2</th>\n",
       "      <td>3</td>\n",
       "      <td>Grumpier Old Men (1995)</td>\n",
       "      <td>Comedy|Romance</td>\n",
       "    </tr>\n",
       "    <tr>\n",
       "      <th>3</th>\n",
       "      <td>4</td>\n",
       "      <td>Waiting to Exhale (1995)</td>\n",
       "      <td>Comedy|Drama</td>\n",
       "    </tr>\n",
       "    <tr>\n",
       "      <th>4</th>\n",
       "      <td>5</td>\n",
       "      <td>Father of the Bride Part II (1995)</td>\n",
       "      <td>Comedy</td>\n",
       "    </tr>\n",
       "  </tbody>\n",
       "</table>\n",
       "</div>"
      ],
      "text/plain": [
       "   movie_id                               title                         genre\n",
       "0         1                    Toy Story (1995)   Animation|Children's|Comedy\n",
       "1         2                      Jumanji (1995)  Adventure|Children's|Fantasy\n",
       "2         3             Grumpier Old Men (1995)                Comedy|Romance\n",
       "3         4            Waiting to Exhale (1995)                  Comedy|Drama\n",
       "4         5  Father of the Bride Part II (1995)                        Comedy"
      ]
     },
     "execution_count": 90,
     "metadata": {},
     "output_type": "execute_result"
    }
   ],
   "source": [
    "movie_data.head()"
   ]
  },
  {
   "cell_type": "code",
   "execution_count": 91,
   "metadata": {},
   "outputs": [
    {
     "data": {
      "text/html": [
       "<div>\n",
       "<style scoped>\n",
       "    .dataframe tbody tr th:only-of-type {\n",
       "        vertical-align: middle;\n",
       "    }\n",
       "\n",
       "    .dataframe tbody tr th {\n",
       "        vertical-align: top;\n",
       "    }\n",
       "\n",
       "    .dataframe thead th {\n",
       "        text-align: right;\n",
       "    }\n",
       "</style>\n",
       "<table border=\"1\" class=\"dataframe\">\n",
       "  <thead>\n",
       "    <tr style=\"text-align: right;\">\n",
       "      <th></th>\n",
       "      <th>user_id</th>\n",
       "      <th>gender</th>\n",
       "      <th>age</th>\n",
       "      <th>occupation</th>\n",
       "      <th>zipcode</th>\n",
       "    </tr>\n",
       "  </thead>\n",
       "  <tbody>\n",
       "    <tr>\n",
       "      <th>0</th>\n",
       "      <td>1</td>\n",
       "      <td>F</td>\n",
       "      <td>1</td>\n",
       "      <td>10</td>\n",
       "      <td>48067</td>\n",
       "    </tr>\n",
       "    <tr>\n",
       "      <th>1</th>\n",
       "      <td>2</td>\n",
       "      <td>M</td>\n",
       "      <td>56</td>\n",
       "      <td>16</td>\n",
       "      <td>70072</td>\n",
       "    </tr>\n",
       "    <tr>\n",
       "      <th>2</th>\n",
       "      <td>3</td>\n",
       "      <td>M</td>\n",
       "      <td>25</td>\n",
       "      <td>15</td>\n",
       "      <td>55117</td>\n",
       "    </tr>\n",
       "    <tr>\n",
       "      <th>3</th>\n",
       "      <td>4</td>\n",
       "      <td>M</td>\n",
       "      <td>45</td>\n",
       "      <td>7</td>\n",
       "      <td>02460</td>\n",
       "    </tr>\n",
       "    <tr>\n",
       "      <th>4</th>\n",
       "      <td>5</td>\n",
       "      <td>M</td>\n",
       "      <td>25</td>\n",
       "      <td>20</td>\n",
       "      <td>55455</td>\n",
       "    </tr>\n",
       "  </tbody>\n",
       "</table>\n",
       "</div>"
      ],
      "text/plain": [
       "   user_id gender  age  occupation zipcode\n",
       "0        1      F    1          10   48067\n",
       "1        2      M   56          16   70072\n",
       "2        3      M   25          15   55117\n",
       "3        4      M   45           7   02460\n",
       "4        5      M   25          20   55455"
      ]
     },
     "execution_count": 91,
     "metadata": {},
     "output_type": "execute_result"
    }
   ],
   "source": [
    "user_data.head()"
   ]
  },
  {
   "cell_type": "code",
   "execution_count": 92,
   "metadata": {},
   "outputs": [
    {
     "name": "stdout",
     "output_type": "stream",
     "text": [
      "<class 'pandas.core.frame.DataFrame'>\n",
      "RangeIndex: 1000209 entries, 0 to 1000208\n",
      "Data columns (total 4 columns):\n",
      " #   Column    Non-Null Count    Dtype\n",
      "---  ------    --------------    -----\n",
      " 0   user_id   1000209 non-null  int64\n",
      " 1   movie_id  1000209 non-null  int64\n",
      " 2   rating    1000209 non-null  int64\n",
      " 3   time      1000209 non-null  int64\n",
      "dtypes: int64(4)\n",
      "memory usage: 30.5 MB\n"
     ]
    }
   ],
   "source": [
    "rating_data.info()"
   ]
  },
  {
   "cell_type": "code",
   "execution_count": 93,
   "metadata": {},
   "outputs": [
    {
     "name": "stdout",
     "output_type": "stream",
     "text": [
      "user_id     0\n",
      "movie_id    0\n",
      "rating      0\n",
      "time        0\n",
      "dtype: int64\n",
      "movie_id    0\n",
      "title       0\n",
      "genre       0\n",
      "dtype: int64\n",
      "user_id       0\n",
      "gender        0\n",
      "age           0\n",
      "occupation    0\n",
      "zipcode       0\n",
      "dtype: int64\n"
     ]
    }
   ],
   "source": [
    "# null 데이터 확인\n",
    "print(rating_data.isnull().sum())\n",
    "print(movie_data.isnull().sum())\n",
    "print(user_data.isnull().sum())"
   ]
  },
  {
   "cell_type": "markdown",
   "metadata": {},
   "source": [
    "[분석할 영화의 정보 탐색하기]"
   ]
  },
  {
   "cell_type": "code",
   "execution_count": 94,
   "metadata": {},
   "outputs": [
    {
     "data": {
      "text/plain": [
       "'1995'"
      ]
     },
     "execution_count": 94,
     "metadata": {},
     "output_type": "execute_result"
    }
   ],
   "source": [
    "# 년도만 출력\n",
    "movie_data['title'][1][-5:-1]"
   ]
  },
  {
   "cell_type": "code",
   "execution_count": 95,
   "metadata": {},
   "outputs": [
    {
     "name": "stdout",
     "output_type": "stream",
     "text": [
      "영화 개수 : 3883\n"
     ]
    },
    {
     "data": {
      "text/plain": [
       "1996    345\n",
       "1995    342\n",
       "1998    337\n",
       "1997    315\n",
       "1999    283\n",
       "1994    257\n",
       "1993    165\n",
       "2000    156\n",
       "1986    104\n",
       "1992    102\n",
       "Name: year, dtype: int64"
      ]
     },
     "execution_count": 95,
     "metadata": {},
     "output_type": "execute_result"
    }
   ],
   "source": [
    "# 총 영화의 개수를 출력.\n",
    "print(\"영화 개수 :\", len(movie_data['movie_id'].unique()))\n",
    "\n",
    "# 연도별 영화 개수가 많은 Top 10 년도를 출력합니다.\n",
    "movie_data['year'] = movie_data['title'].apply(lambda x: x[-5:-1])\n",
    "# value_counts():년도별 개수\n",
    "movie_data['year'].value_counts().head(10)"
   ]
  },
  {
   "cell_type": "code",
   "execution_count": 96,
   "metadata": {},
   "outputs": [
    {
     "data": {
      "text/plain": [
       "0       1995\n",
       "1       1995\n",
       "2       1995\n",
       "3       1995\n",
       "4       1995\n",
       "        ... \n",
       "3878    2000\n",
       "3879    2000\n",
       "3880    2000\n",
       "3881    2000\n",
       "3882    2000\n",
       "Name: year, Length: 3883, dtype: object"
      ]
     },
     "execution_count": 96,
     "metadata": {},
     "output_type": "execute_result"
    }
   ],
   "source": [
    "movie_data['year']"
   ]
  },
  {
   "cell_type": "code",
   "execution_count": 97,
   "metadata": {},
   "outputs": [
    {
     "name": "stdout",
     "output_type": "stream",
     "text": [
      "1910       3\n",
      "1920      34\n",
      "1930      77\n",
      "1940     126\n",
      "1950     168\n",
      "1960     191\n",
      "1970     247\n",
      "1980     598\n",
      "1990    2283\n",
      "2000     156\n",
      "Name: year_term, dtype: int64\n"
     ]
    }
   ],
   "source": [
    "# 1910,1920...연대별 영화의 개수를 출력\n",
    "# 연대별로 title수정후 year_term컬럼에 저장\n",
    "movie_data['year_term'] = movie_data['title'].apply(lambda x: x[-5:-2]+\"0\")\n",
    "# 연대별 개수로 출력후, 연대별 정렬\n",
    "moview_year_term = movie_data['year_term'].value_counts().sort_index()\n",
    "# moview_year_term = movie_data['year_term'].value_counts() # 높은순 자동정렬\n",
    "print(moview_year_term)"
   ]
  },
  {
   "cell_type": "code",
   "execution_count": 98,
   "metadata": {},
   "outputs": [
    {
     "data": {
      "image/png": "[encoded data removed]",
      "text/plain": [
       "<Figure size 576x576 with 1 Axes>"
      ]
     },
     "metadata": {
      "needs_background": "light"
     },
     "output_type": "display_data"
    }
   ],
   "source": [
    "# 연대별 그래프 출력 - seaborn은 matplotlib보다 간결함,시각적으로 더 좋음\n",
    "# seaborn as sns은 matplotlib함께 import 해야 함.\n",
    "sns.barplot(moview_year_term.index, moview_year_term.values, alpha=0.8)\n",
    "plt.title('Movie data by years generation')\n",
    "plt.ylabel('Number of Movies', fontsize=12)\n",
    "plt.xlabel('년도', fontsize=12)\n",
    "plt.show()"
   ]
  },
  {
   "cell_type": "markdown",
   "metadata": {},
   "source": [
    "[장르의 속성 탐색]"
   ]
  },
  {
   "cell_type": "code",
   "execution_count": 99,
   "metadata": {},
   "outputs": [
    {
     "data": {
      "text/html": [
       "<div>\n",
       "<style scoped>\n",
       "    .dataframe tbody tr th:only-of-type {\n",
       "        vertical-align: middle;\n",
       "    }\n",
       "\n",
       "    .dataframe tbody tr th {\n",
       "        vertical-align: top;\n",
       "    }\n",
       "\n",
       "    .dataframe thead th {\n",
       "        text-align: right;\n",
       "    }\n",
       "</style>\n",
       "<table border=\"1\" class=\"dataframe\">\n",
       "  <thead>\n",
       "    <tr style=\"text-align: right;\">\n",
       "      <th></th>\n",
       "      <th>movie_id</th>\n",
       "      <th>title</th>\n",
       "      <th>genre</th>\n",
       "      <th>year</th>\n",
       "      <th>year_term</th>\n",
       "    </tr>\n",
       "  </thead>\n",
       "  <tbody>\n",
       "    <tr>\n",
       "      <th>0</th>\n",
       "      <td>1</td>\n",
       "      <td>Toy Story (1995)</td>\n",
       "      <td>Animation|Children's|Comedy</td>\n",
       "      <td>1995</td>\n",
       "      <td>1990</td>\n",
       "    </tr>\n",
       "    <tr>\n",
       "      <th>1</th>\n",
       "      <td>2</td>\n",
       "      <td>Jumanji (1995)</td>\n",
       "      <td>Adventure|Children's|Fantasy</td>\n",
       "      <td>1995</td>\n",
       "      <td>1990</td>\n",
       "    </tr>\n",
       "    <tr>\n",
       "      <th>2</th>\n",
       "      <td>3</td>\n",
       "      <td>Grumpier Old Men (1995)</td>\n",
       "      <td>Comedy|Romance</td>\n",
       "      <td>1995</td>\n",
       "      <td>1990</td>\n",
       "    </tr>\n",
       "    <tr>\n",
       "      <th>3</th>\n",
       "      <td>4</td>\n",
       "      <td>Waiting to Exhale (1995)</td>\n",
       "      <td>Comedy|Drama</td>\n",
       "      <td>1995</td>\n",
       "      <td>1990</td>\n",
       "    </tr>\n",
       "    <tr>\n",
       "      <th>4</th>\n",
       "      <td>5</td>\n",
       "      <td>Father of the Bride Part II (1995)</td>\n",
       "      <td>Comedy</td>\n",
       "      <td>1995</td>\n",
       "      <td>1990</td>\n",
       "    </tr>\n",
       "  </tbody>\n",
       "</table>\n",
       "</div>"
      ],
      "text/plain": [
       "   movie_id                               title                         genre  \\\n",
       "0         1                    Toy Story (1995)   Animation|Children's|Comedy   \n",
       "1         2                      Jumanji (1995)  Adventure|Children's|Fantasy   \n",
       "2         3             Grumpier Old Men (1995)                Comedy|Romance   \n",
       "3         4            Waiting to Exhale (1995)                  Comedy|Drama   \n",
       "4         5  Father of the Bride Part II (1995)                        Comedy   \n",
       "\n",
       "   year year_term  \n",
       "0  1995      1990  \n",
       "1  1995      1990  \n",
       "2  1995      1990  \n",
       "3  1995      1990  \n",
       "4  1995      1990  "
      ]
     },
     "execution_count": 99,
     "metadata": {},
     "output_type": "execute_result"
    }
   ],
   "source": [
    "movie_data.head()"
   ]
  },
  {
   "cell_type": "code",
   "execution_count": 100,
   "metadata": {},
   "outputs": [
    {
     "data": {
      "text/html": [
       "<div>\n",
       "<style scoped>\n",
       "    .dataframe tbody tr th:only-of-type {\n",
       "        vertical-align: middle;\n",
       "    }\n",
       "\n",
       "    .dataframe tbody tr th {\n",
       "        vertical-align: top;\n",
       "    }\n",
       "\n",
       "    .dataframe thead th {\n",
       "        text-align: right;\n",
       "    }\n",
       "</style>\n",
       "<table border=\"1\" class=\"dataframe\">\n",
       "  <thead>\n",
       "    <tr style=\"text-align: right;\">\n",
       "      <th></th>\n",
       "      <th>movie_id</th>\n",
       "      <th>title</th>\n",
       "      <th>genre</th>\n",
       "      <th>year</th>\n",
       "      <th>year_term</th>\n",
       "    </tr>\n",
       "  </thead>\n",
       "  <tbody>\n",
       "    <tr>\n",
       "      <th>5</th>\n",
       "      <td>6</td>\n",
       "      <td>Heat (1995)</td>\n",
       "      <td>Action|Crime|Thriller</td>\n",
       "      <td>1995</td>\n",
       "      <td>1990</td>\n",
       "    </tr>\n",
       "    <tr>\n",
       "      <th>8</th>\n",
       "      <td>9</td>\n",
       "      <td>Sudden Death (1995)</td>\n",
       "      <td>Action</td>\n",
       "      <td>1995</td>\n",
       "      <td>1990</td>\n",
       "    </tr>\n",
       "    <tr>\n",
       "      <th>9</th>\n",
       "      <td>10</td>\n",
       "      <td>GoldenEye (1995)</td>\n",
       "      <td>Action|Adventure|Thriller</td>\n",
       "      <td>1995</td>\n",
       "      <td>1990</td>\n",
       "    </tr>\n",
       "    <tr>\n",
       "      <th>14</th>\n",
       "      <td>15</td>\n",
       "      <td>Cutthroat Island (1995)</td>\n",
       "      <td>Action|Adventure|Romance</td>\n",
       "      <td>1995</td>\n",
       "      <td>1990</td>\n",
       "    </tr>\n",
       "    <tr>\n",
       "      <th>19</th>\n",
       "      <td>20</td>\n",
       "      <td>Money Train (1995)</td>\n",
       "      <td>Action</td>\n",
       "      <td>1995</td>\n",
       "      <td>1990</td>\n",
       "    </tr>\n",
       "    <tr>\n",
       "      <th>...</th>\n",
       "      <td>...</td>\n",
       "      <td>...</td>\n",
       "      <td>...</td>\n",
       "      <td>...</td>\n",
       "      <td>...</td>\n",
       "    </tr>\n",
       "    <tr>\n",
       "      <th>3807</th>\n",
       "      <td>3877</td>\n",
       "      <td>Supergirl (1984)</td>\n",
       "      <td>Action|Adventure|Fantasy</td>\n",
       "      <td>1984</td>\n",
       "      <td>1980</td>\n",
       "    </tr>\n",
       "    <tr>\n",
       "      <th>3809</th>\n",
       "      <td>3879</td>\n",
       "      <td>Art of War  The (2000)</td>\n",
       "      <td>Action</td>\n",
       "      <td>2000</td>\n",
       "      <td>2000</td>\n",
       "    </tr>\n",
       "    <tr>\n",
       "      <th>3819</th>\n",
       "      <td>3889</td>\n",
       "      <td>Highlander: Endgame (2000)</td>\n",
       "      <td>Action|Adventure|Fantasy</td>\n",
       "      <td>2000</td>\n",
       "      <td>2000</td>\n",
       "    </tr>\n",
       "    <tr>\n",
       "      <th>3828</th>\n",
       "      <td>3898</td>\n",
       "      <td>Bait (2000)</td>\n",
       "      <td>Action|Comedy</td>\n",
       "      <td>2000</td>\n",
       "      <td>2000</td>\n",
       "    </tr>\n",
       "    <tr>\n",
       "      <th>3876</th>\n",
       "      <td>3946</td>\n",
       "      <td>Get Carter (2000)</td>\n",
       "      <td>Action|Drama|Thriller</td>\n",
       "      <td>2000</td>\n",
       "      <td>2000</td>\n",
       "    </tr>\n",
       "  </tbody>\n",
       "</table>\n",
       "<p>503 rows × 5 columns</p>\n",
       "</div>"
      ],
      "text/plain": [
       "      movie_id                       title                      genre  year  \\\n",
       "5            6                 Heat (1995)      Action|Crime|Thriller  1995   \n",
       "8            9         Sudden Death (1995)                     Action  1995   \n",
       "9           10            GoldenEye (1995)  Action|Adventure|Thriller  1995   \n",
       "14          15     Cutthroat Island (1995)   Action|Adventure|Romance  1995   \n",
       "19          20          Money Train (1995)                     Action  1995   \n",
       "...        ...                         ...                        ...   ...   \n",
       "3807      3877            Supergirl (1984)   Action|Adventure|Fantasy  1984   \n",
       "3809      3879      Art of War  The (2000)                     Action  2000   \n",
       "3819      3889  Highlander: Endgame (2000)   Action|Adventure|Fantasy  2000   \n",
       "3828      3898                 Bait (2000)              Action|Comedy  2000   \n",
       "3876      3946           Get Carter (2000)      Action|Drama|Thriller  2000   \n",
       "\n",
       "     year_term  \n",
       "5         1990  \n",
       "8         1990  \n",
       "9         1990  \n",
       "14        1990  \n",
       "19        1990  \n",
       "...        ...  \n",
       "3807      1980  \n",
       "3809      2000  \n",
       "3819      2000  \n",
       "3828      2000  \n",
       "3876      2000  \n",
       "\n",
       "[503 rows x 5 columns]"
      ]
     },
     "execution_count": 100,
     "metadata": {},
     "output_type": "execute_result"
    }
   ],
   "source": [
    "# Action이 포함되어 있는 영화 : 503개\n",
    "movie_data[movie_data['genre'].str.contains('Action')]"
   ]
  },
  {
   "cell_type": "code",
   "execution_count": 101,
   "metadata": {},
   "outputs": [
    {
     "data": {
      "text/html": [
       "<div>\n",
       "<style scoped>\n",
       "    .dataframe tbody tr th:only-of-type {\n",
       "        vertical-align: middle;\n",
       "    }\n",
       "\n",
       "    .dataframe tbody tr th {\n",
       "        vertical-align: top;\n",
       "    }\n",
       "\n",
       "    .dataframe thead th {\n",
       "        text-align: right;\n",
       "    }\n",
       "</style>\n",
       "<table border=\"1\" class=\"dataframe\">\n",
       "  <thead>\n",
       "    <tr style=\"text-align: right;\">\n",
       "      <th></th>\n",
       "      <th>movie_id</th>\n",
       "      <th>title</th>\n",
       "      <th>genre</th>\n",
       "      <th>year</th>\n",
       "      <th>year_term</th>\n",
       "    </tr>\n",
       "  </thead>\n",
       "  <tbody>\n",
       "    <tr>\n",
       "      <th>8</th>\n",
       "      <td>9</td>\n",
       "      <td>Sudden Death (1995)</td>\n",
       "      <td>Action</td>\n",
       "      <td>1995</td>\n",
       "      <td>1990</td>\n",
       "    </tr>\n",
       "    <tr>\n",
       "      <th>19</th>\n",
       "      <td>20</td>\n",
       "      <td>Money Train (1995)</td>\n",
       "      <td>Action</td>\n",
       "      <td>1995</td>\n",
       "      <td>1990</td>\n",
       "    </tr>\n",
       "    <tr>\n",
       "      <th>70</th>\n",
       "      <td>71</td>\n",
       "      <td>Fair Game (1995)</td>\n",
       "      <td>Action</td>\n",
       "      <td>1995</td>\n",
       "      <td>1990</td>\n",
       "    </tr>\n",
       "    <tr>\n",
       "      <th>143</th>\n",
       "      <td>145</td>\n",
       "      <td>Bad Boys (1995)</td>\n",
       "      <td>Action</td>\n",
       "      <td>1995</td>\n",
       "      <td>1990</td>\n",
       "    </tr>\n",
       "    <tr>\n",
       "      <th>202</th>\n",
       "      <td>204</td>\n",
       "      <td>Under Siege 2: Dark Territory (1995)</td>\n",
       "      <td>Action</td>\n",
       "      <td>1995</td>\n",
       "      <td>1990</td>\n",
       "    </tr>\n",
       "    <tr>\n",
       "      <th>...</th>\n",
       "      <td>...</td>\n",
       "      <td>...</td>\n",
       "      <td>...</td>\n",
       "      <td>...</td>\n",
       "      <td>...</td>\n",
       "    </tr>\n",
       "    <tr>\n",
       "      <th>3564</th>\n",
       "      <td>3633</td>\n",
       "      <td>On Her Majesty's Secret Service (1969)</td>\n",
       "      <td>Action</td>\n",
       "      <td>1969</td>\n",
       "      <td>1960</td>\n",
       "    </tr>\n",
       "    <tr>\n",
       "      <th>3566</th>\n",
       "      <td>3635</td>\n",
       "      <td>Spy Who Loved Me  The (1977)</td>\n",
       "      <td>Action</td>\n",
       "      <td>1977</td>\n",
       "      <td>1970</td>\n",
       "    </tr>\n",
       "    <tr>\n",
       "      <th>3570</th>\n",
       "      <td>3639</td>\n",
       "      <td>Man with the Golden Gun  The (1974)</td>\n",
       "      <td>Action</td>\n",
       "      <td>1974</td>\n",
       "      <td>1970</td>\n",
       "    </tr>\n",
       "    <tr>\n",
       "      <th>3700</th>\n",
       "      <td>3769</td>\n",
       "      <td>Thunderbolt and Lightfoot (1974)</td>\n",
       "      <td>Action</td>\n",
       "      <td>1974</td>\n",
       "      <td>1970</td>\n",
       "    </tr>\n",
       "    <tr>\n",
       "      <th>3809</th>\n",
       "      <td>3879</td>\n",
       "      <td>Art of War  The (2000)</td>\n",
       "      <td>Action</td>\n",
       "      <td>2000</td>\n",
       "      <td>2000</td>\n",
       "    </tr>\n",
       "  </tbody>\n",
       "</table>\n",
       "<p>65 rows × 5 columns</p>\n",
       "</div>"
      ],
      "text/plain": [
       "      movie_id                                   title   genre  year year_term\n",
       "8            9                     Sudden Death (1995)  Action  1995      1990\n",
       "19          20                      Money Train (1995)  Action  1995      1990\n",
       "70          71                        Fair Game (1995)  Action  1995      1990\n",
       "143        145                         Bad Boys (1995)  Action  1995      1990\n",
       "202        204    Under Siege 2: Dark Territory (1995)  Action  1995      1990\n",
       "...        ...                                     ...     ...   ...       ...\n",
       "3564      3633  On Her Majesty's Secret Service (1969)  Action  1969      1960\n",
       "3566      3635            Spy Who Loved Me  The (1977)  Action  1977      1970\n",
       "3570      3639     Man with the Golden Gun  The (1974)  Action  1974      1970\n",
       "3700      3769        Thunderbolt and Lightfoot (1974)  Action  1974      1970\n",
       "3809      3879                  Art of War  The (2000)  Action  2000      2000\n",
       "\n",
       "[65 rows x 5 columns]"
      ]
     },
     "execution_count": 101,
     "metadata": {},
     "output_type": "execute_result"
    }
   ],
   "source": [
    "# 장르에서 Action만 있는 것 : 65개 , 포함되어 있는 것 : 503개\n",
    "data = movie_data['genre'].apply( lambda x: x=='Action' )\n",
    "movie_data[data]"
   ]
  },
  {
   "cell_type": "code",
   "execution_count": 102,
   "metadata": {},
   "outputs": [
    {
     "data": {
      "text/plain": [
       "Drama             843\n",
       "Comedy            521\n",
       "Horror            178\n",
       "Comedy|Drama      162\n",
       "Comedy|Romance    142\n",
       "Drama|Romance     134\n",
       "Documentary       116\n",
       "Thriller          101\n",
       "Action             65\n",
       "Drama|Thriller     63\n",
       "Name: genre, dtype: int64"
      ]
     },
     "execution_count": 102,
     "metadata": {},
     "output_type": "execute_result"
    }
   ],
   "source": [
    "# 가장 많이 사용된 장르의 조합을 출력. (Top 10)\n",
    "movie_data['genre'].value_counts()[:10]"
   ]
  },
  {
   "cell_type": "code",
   "execution_count": 103,
   "metadata": {},
   "outputs": [
    {
     "name": "stdout",
     "output_type": "stream",
     "text": [
      "{'Animation': 105, \"Children's\": 251, 'Comedy': 1200, 'Adventure': 283, 'Fantasy': 68, 'Romance': 471, 'Drama': 1603, 'Action': 503, 'Crime': 211, 'Thriller': 492, 'Horror': 343, 'Sci-Fi': 276, 'Documentary': 127, 'War': 143, 'Musical': 114, 'Mystery': 106, 'Film-Noir': 44, 'Western': 68}\n"
     ]
    }
   ],
   "source": [
    "# 영화장르별 개수 추출 (예시 : Drama)\n",
    "unique_genre_dict = {}\n",
    "# 1개 행씩 가져오기\n",
    "for index, row in movie_data.iterrows():\n",
    "    # genre 피처를 ‘|’ 구분자로 분리.\n",
    "    genre_combination = row['genre']\n",
    "    #list타입\n",
    "    parsed_genre = genre_combination.split(\"|\")\n",
    "    \n",
    "    # 구분자로 분리한 장르의 속성을 unique_genre_dict에 각각 계산하여 저장합니다.\n",
    "    for genre in parsed_genre:\n",
    "        if genre in unique_genre_dict:\n",
    "            unique_genre_dict[genre] += 1\n",
    "        else:\n",
    "            unique_genre_dict[genre] = 1\n",
    "            \n",
    "print(unique_genre_dict)"
   ]
  },
  {
   "cell_type": "code",
   "execution_count": 104,
   "metadata": {},
   "outputs": [
    {
     "data": {
      "image/png": "[encoded data removed]",
      "text/plain": [
       "<Figure size 1440x1152 with 1 Axes>"
      ]
     },
     "metadata": {
      "needs_background": "light"
     },
     "output_type": "display_data"
    }
   ],
   "source": [
    "# unique_genre_dict를 이용하여 장르의 속성을 그래프로 출력.\n",
    "# rcParams[\"figure.figsize\"] (가로 길이, 세로길이) 로 구성\n",
    "plt.rcParams['figure.figsize'] = [20, 16]\n",
    "sns.barplot(list(unique_genre_dict.keys()), list(unique_genre_dict.values()), alpha=0.8)\n",
    "plt.title('Popular genre in movies')\n",
    "plt.ylabel('Count of Genre', fontsize=12)\n",
    "plt.xlabel('Genre', fontsize=12)\n",
    "plt.show()"
   ]
  },
  {
   "cell_type": "markdown",
   "metadata": {},
   "source": [
    "[분석할 유저의 정보 탐색하기]"
   ]
  },
  {
   "cell_type": "code",
   "execution_count": 105,
   "metadata": {},
   "outputs": [
    {
     "name": "stdout",
     "output_type": "stream",
     "text": [
      "전체회원 수 : 6040\n"
     ]
    }
   ],
   "source": [
    "# 유저의 수를 탐색.\n",
    "print(\"전체회원 수 :\", len(user_data['user_id'].unique()))"
   ]
  },
  {
   "cell_type": "code",
   "execution_count": 106,
   "metadata": {},
   "outputs": [
    {
     "data": {
      "text/plain": [
       "3883"
      ]
     },
     "execution_count": 106,
     "metadata": {},
     "output_type": "execute_result"
    }
   ],
   "source": [
    "# 전체 영화 수 : 3883\n",
    "len(movie_data)"
   ]
  },
  {
   "cell_type": "markdown",
   "metadata": {},
   "source": [
    "[미니 퀴즈 - 3.4]\n",
    "1. 유저 데이터에 대한 탐색적 데이터 분석을 실행해 봅시다. \n",
    "\n",
    "2. 아래의 질문들에 답해보세요.\n",
    "- 유저의 성별 탐색\n",
    "- 유저의 연령대 탐색"
   ]
  },
  {
   "cell_type": "code",
   "execution_count": 107,
   "metadata": {},
   "outputs": [
    {
     "data": {
      "text/plain": [
       "M    4331\n",
       "F    1709\n",
       "Name: gender, dtype: int64"
      ]
     },
     "execution_count": 107,
     "metadata": {},
     "output_type": "execute_result"
    }
   ],
   "source": [
    "user_data['gender'].value_counts()"
   ]
  },
  {
   "cell_type": "code",
   "execution_count": 108,
   "metadata": {},
   "outputs": [
    {
     "data": {
      "image/png": "[encoded data removed]",
      "text/plain": [
       "<Figure size 288x288 with 1 Axes>"
      ]
     },
     "metadata": {
      "needs_background": "light"
     },
     "output_type": "display_data"
    }
   ],
   "source": [
    "# 유저의 성별을 탐색합니다.\n",
    "plt.rcParams['figure.figsize'] = [4, 4]\n",
    "user_gender = user_data['gender'].value_counts()\n",
    "sns.barplot(user_gender.index, user_gender.values, alpha=0.8)\n",
    "plt.title('Gender ratio of user')\n",
    "plt.ylabel('Count', fontsize=12)\n",
    "plt.xlabel('Gender', fontsize=12)\n",
    "plt.show()"
   ]
  },
  {
   "cell_type": "code",
   "execution_count": 109,
   "metadata": {},
   "outputs": [
    {
     "data": {
      "text/plain": [
       "25    2096\n",
       "35    1193\n",
       "18    1103\n",
       "45     550\n",
       "50     496\n",
       "56     380\n",
       "1      222\n",
       "Name: age, dtype: int64"
      ]
     },
     "execution_count": 109,
     "metadata": {},
     "output_type": "execute_result"
    }
   ],
   "source": [
    "# 유저의 연령으로 탐색.\n",
    "user_data['age'].value_counts()"
   ]
  },
  {
   "cell_type": "code",
   "execution_count": 110,
   "metadata": {},
   "outputs": [
    {
     "data": {
      "text/plain": [
       "20         2096\n",
       "30         1193\n",
       "10         1103\n",
       "50          876\n",
       "40          550\n",
       "outlier     222\n",
       "Name: ages, dtype: int64"
      ]
     },
     "execution_count": 110,
     "metadata": {},
     "output_type": "execute_result"
    }
   ],
   "source": [
    "# 10대,20대... 인원수\n",
    "def age_classification(age):\n",
    "    if age == 1:\n",
    "        return 'outlier'\n",
    "    else:\n",
    "        return str(age)[0] + \"0\"\n",
    "\n",
    "# 예시> 25 -> 2+\"0\" : 20\n",
    "user_data['ages'] = user_data['age'].apply(lambda x: age_classification(x))\n",
    "user_ages = user_data['ages'].value_counts()\n",
    "user_ages"
   ]
  },
  {
   "cell_type": "code",
   "execution_count": 111,
   "metadata": {},
   "outputs": [
    {
     "data": {
      "image/png": "[encoded data removed]",
      "text/plain": [
       "<Figure size 288x288 with 1 Axes>"
      ]
     },
     "metadata": {
      "needs_background": "light"
     },
     "output_type": "display_data"
    }
   ],
   "source": [
    "sns.barplot(user_ages.index, user_ages.values, alpha=0.8)\n",
    "plt.title('User ages')\n",
    "plt.ylabel('Count', fontsize=12)\n",
    "plt.xlabel('Ages', fontsize=12)\n",
    "plt.show()"
   ]
  },
  {
   "cell_type": "markdown",
   "metadata": {},
   "source": [
    "[평점 데이터의 정보 탐색하기]"
   ]
  },
  {
   "cell_type": "code",
   "execution_count": 112,
   "metadata": {},
   "outputs": [
    {
     "data": {
      "image/png": "[encoded data removed]",
      "text/plain": [
       "<Figure size 576x576 with 1 Axes>"
      ]
     },
     "metadata": {
      "needs_background": "light"
     },
     "output_type": "display_data"
    }
   ],
   "source": [
    "# 각 영화들이 평가받은 횟수 그래프 출력.\n",
    "movie_rate_count = rating_data.groupby('movie_id')['rating'].count().values\n",
    "plt.rcParams['figure.figsize'] = [8, 8]\n",
    "fig = plt.hist(movie_rate_count, bins=200)\n",
    "plt.ylabel('Count', fontsize=12)\n",
    "plt.xlabel(\"Movie's rated count\", fontsize=12)\n",
    "plt.show()"
   ]
  },
  {
   "cell_type": "code",
   "execution_count": 113,
   "metadata": {},
   "outputs": [
    {
     "name": "stdout",
     "output_type": "stream",
     "text": [
      "총 영화 개수 : 3883\n",
      "평점을 받은 개수가 100개이하 수  : 1687\n"
     ]
    }
   ],
   "source": [
    "# movie_rate_count : 영화평점 받은 개수\n",
    "print(\"총 영화 개수 :\", len(movie_data['movie_id'].unique()))\n",
    "print(\"평점을 받은 개수가 100개이하 수  :\", len(movie_rate_count[movie_rate_count < 100]))"
   ]
  },
  {
   "cell_type": "code",
   "execution_count": 114,
   "metadata": {},
   "outputs": [
    {
     "data": {
      "text/html": [
       "<div>\n",
       "<style scoped>\n",
       "    .dataframe tbody tr th:only-of-type {\n",
       "        vertical-align: middle;\n",
       "    }\n",
       "\n",
       "    .dataframe tbody tr th {\n",
       "        vertical-align: top;\n",
       "    }\n",
       "\n",
       "    .dataframe thead th {\n",
       "        text-align: right;\n",
       "    }\n",
       "</style>\n",
       "<table border=\"1\" class=\"dataframe\">\n",
       "  <thead>\n",
       "    <tr style=\"text-align: right;\">\n",
       "      <th></th>\n",
       "      <th>user_id</th>\n",
       "      <th>movie_id</th>\n",
       "      <th>rating</th>\n",
       "      <th>time</th>\n",
       "    </tr>\n",
       "  </thead>\n",
       "  <tbody>\n",
       "    <tr>\n",
       "      <th>0</th>\n",
       "      <td>1</td>\n",
       "      <td>1193</td>\n",
       "      <td>5</td>\n",
       "      <td>978300760</td>\n",
       "    </tr>\n",
       "    <tr>\n",
       "      <th>1</th>\n",
       "      <td>1</td>\n",
       "      <td>661</td>\n",
       "      <td>3</td>\n",
       "      <td>978302109</td>\n",
       "    </tr>\n",
       "    <tr>\n",
       "      <th>2</th>\n",
       "      <td>1</td>\n",
       "      <td>914</td>\n",
       "      <td>3</td>\n",
       "      <td>978301968</td>\n",
       "    </tr>\n",
       "    <tr>\n",
       "      <th>3</th>\n",
       "      <td>1</td>\n",
       "      <td>3408</td>\n",
       "      <td>4</td>\n",
       "      <td>978300275</td>\n",
       "    </tr>\n",
       "    <tr>\n",
       "      <th>4</th>\n",
       "      <td>1</td>\n",
       "      <td>2355</td>\n",
       "      <td>5</td>\n",
       "      <td>978824291</td>\n",
       "    </tr>\n",
       "  </tbody>\n",
       "</table>\n",
       "</div>"
      ],
      "text/plain": [
       "   user_id  movie_id  rating       time\n",
       "0        1      1193       5  978300760\n",
       "1        1       661       3  978302109\n",
       "2        1       914       3  978301968\n",
       "3        1      3408       4  978300275\n",
       "4        1      2355       5  978824291"
      ]
     },
     "execution_count": 114,
     "metadata": {},
     "output_type": "execute_result"
    }
   ],
   "source": [
    "rating_data.head()"
   ]
  },
  {
   "cell_type": "code",
   "execution_count": 115,
   "metadata": {},
   "outputs": [
    {
     "data": {
      "text/html": [
       "<div>\n",
       "<style scoped>\n",
       "    .dataframe tbody tr th:only-of-type {\n",
       "        vertical-align: middle;\n",
       "    }\n",
       "\n",
       "    .dataframe tbody tr th {\n",
       "        vertical-align: top;\n",
       "    }\n",
       "\n",
       "    .dataframe thead th {\n",
       "        text-align: right;\n",
       "    }\n",
       "</style>\n",
       "<table border=\"1\" class=\"dataframe\">\n",
       "  <thead>\n",
       "    <tr style=\"text-align: right;\">\n",
       "      <th></th>\n",
       "      <th>rated_count</th>\n",
       "      <th>rating_mean</th>\n",
       "    </tr>\n",
       "    <tr>\n",
       "      <th>movie_id</th>\n",
       "      <th></th>\n",
       "      <th></th>\n",
       "    </tr>\n",
       "  </thead>\n",
       "  <tbody>\n",
       "    <tr>\n",
       "      <th>1</th>\n",
       "      <td>2077</td>\n",
       "      <td>4.146846</td>\n",
       "    </tr>\n",
       "    <tr>\n",
       "      <th>2</th>\n",
       "      <td>701</td>\n",
       "      <td>3.201141</td>\n",
       "    </tr>\n",
       "    <tr>\n",
       "      <th>3</th>\n",
       "      <td>478</td>\n",
       "      <td>3.016736</td>\n",
       "    </tr>\n",
       "    <tr>\n",
       "      <th>4</th>\n",
       "      <td>170</td>\n",
       "      <td>2.729412</td>\n",
       "    </tr>\n",
       "    <tr>\n",
       "      <th>5</th>\n",
       "      <td>296</td>\n",
       "      <td>3.006757</td>\n",
       "    </tr>\n",
       "  </tbody>\n",
       "</table>\n",
       "</div>"
      ],
      "text/plain": [
       "          rated_count  rating_mean\n",
       "movie_id                          \n",
       "1                2077     4.146846\n",
       "2                 701     3.201141\n",
       "3                 478     3.016736\n",
       "4                 170     2.729412\n",
       "5                 296     3.006757"
      ]
     },
     "execution_count": 115,
     "metadata": {},
     "output_type": "execute_result"
    }
   ],
   "source": [
    "# 영화별 평점입력개수, 평균 평점. rated_count\n",
    "movie_grouped_rating_info = rating_data.groupby(\"movie_id\")['rating'].agg(['count','mean'])\n",
    "movie_grouped_rating_info.columns = ['rated_count', 'rating_mean']\n",
    "movie_grouped_rating_info.head(5)"
   ]
  },
  {
   "cell_type": "code",
   "execution_count": 116,
   "metadata": {},
   "outputs": [
    {
     "data": {
      "text/plain": [
       "<AxesSubplot:>"
      ]
     },
     "execution_count": 116,
     "metadata": {},
     "output_type": "execute_result"
    },
    {
     "data": {
      "image/png": "[encoded data removed]",
      "text/plain": [
       "<Figure size 576x576 with 1 Axes>"
      ]
     },
     "metadata": {
      "needs_background": "light"
     },
     "output_type": "display_data"
    }
   ],
   "source": [
    "# 평균평점 그래프 출력 - bins:막대그래프 수 150개\n",
    "movie_grouped_rating_info['rating_mean'].hist(bins=150, grid=False)"
   ]
  },
  {
   "cell_type": "code",
   "execution_count": 117,
   "metadata": {},
   "outputs": [
    {
     "data": {
      "text/html": [
       "<div>\n",
       "<style scoped>\n",
       "    .dataframe tbody tr th:only-of-type {\n",
       "        vertical-align: middle;\n",
       "    }\n",
       "\n",
       "    .dataframe tbody tr th {\n",
       "        vertical-align: top;\n",
       "    }\n",
       "\n",
       "    .dataframe thead th {\n",
       "        text-align: right;\n",
       "    }\n",
       "</style>\n",
       "<table border=\"1\" class=\"dataframe\">\n",
       "  <thead>\n",
       "    <tr style=\"text-align: right;\">\n",
       "      <th></th>\n",
       "      <th>rated_count</th>\n",
       "      <th>rating_mean</th>\n",
       "    </tr>\n",
       "    <tr>\n",
       "      <th>movie_id</th>\n",
       "      <th></th>\n",
       "      <th></th>\n",
       "    </tr>\n",
       "  </thead>\n",
       "  <tbody>\n",
       "    <tr>\n",
       "      <th>1</th>\n",
       "      <td>2077</td>\n",
       "      <td>4.146846</td>\n",
       "    </tr>\n",
       "    <tr>\n",
       "      <th>2</th>\n",
       "      <td>701</td>\n",
       "      <td>3.201141</td>\n",
       "    </tr>\n",
       "  </tbody>\n",
       "</table>\n",
       "</div>"
      ],
      "text/plain": [
       "          rated_count  rating_mean\n",
       "movie_id                          \n",
       "1                2077     4.146846\n",
       "2                 701     3.201141"
      ]
     },
     "execution_count": 117,
     "metadata": {},
     "output_type": "execute_result"
    }
   ],
   "source": [
    "movie_grouped_rating_info.head(2)"
   ]
  },
  {
   "cell_type": "code",
   "execution_count": 118,
   "metadata": {},
   "outputs": [
    {
     "data": {
      "text/html": [
       "<div>\n",
       "<style scoped>\n",
       "    .dataframe tbody tr th:only-of-type {\n",
       "        vertical-align: middle;\n",
       "    }\n",
       "\n",
       "    .dataframe tbody tr th {\n",
       "        vertical-align: top;\n",
       "    }\n",
       "\n",
       "    .dataframe thead th {\n",
       "        text-align: right;\n",
       "    }\n",
       "</style>\n",
       "<table border=\"1\" class=\"dataframe\">\n",
       "  <thead>\n",
       "    <tr style=\"text-align: right;\">\n",
       "      <th></th>\n",
       "      <th>rating_mean</th>\n",
       "      <th>title</th>\n",
       "    </tr>\n",
       "  </thead>\n",
       "  <tbody>\n",
       "    <tr>\n",
       "      <th>1839</th>\n",
       "      <td>4.560510</td>\n",
       "      <td>Seven Samurai (The Magnificent Seven) (Shichin...</td>\n",
       "    </tr>\n",
       "    <tr>\n",
       "      <th>309</th>\n",
       "      <td>4.554558</td>\n",
       "      <td>Shawshank Redemption  The (1994)</td>\n",
       "    </tr>\n",
       "    <tr>\n",
       "      <th>802</th>\n",
       "      <td>4.524966</td>\n",
       "      <td>Godfather  The (1972)</td>\n",
       "    </tr>\n",
       "    <tr>\n",
       "      <th>708</th>\n",
       "      <td>4.520548</td>\n",
       "      <td>Close Shave  A (1995)</td>\n",
       "    </tr>\n",
       "    <tr>\n",
       "      <th>49</th>\n",
       "      <td>4.517106</td>\n",
       "      <td>Usual Suspects  The (1995)</td>\n",
       "    </tr>\n",
       "    <tr>\n",
       "      <th>513</th>\n",
       "      <td>4.510417</td>\n",
       "      <td>Schindler's List (1993)</td>\n",
       "    </tr>\n",
       "    <tr>\n",
       "      <th>1066</th>\n",
       "      <td>4.507937</td>\n",
       "      <td>Wrong Trousers  The (1993)</td>\n",
       "    </tr>\n",
       "    <tr>\n",
       "      <th>861</th>\n",
       "      <td>4.491489</td>\n",
       "      <td>Sunset Blvd. (a.k.a. Sunset Boulevard) (1950)</td>\n",
       "    </tr>\n",
       "    <tr>\n",
       "      <th>1108</th>\n",
       "      <td>4.477725</td>\n",
       "      <td>Raiders of the Lost Ark (1981)</td>\n",
       "    </tr>\n",
       "    <tr>\n",
       "      <th>843</th>\n",
       "      <td>4.476190</td>\n",
       "      <td>Rear Window (1954)</td>\n",
       "    </tr>\n",
       "  </tbody>\n",
       "</table>\n",
       "</div>"
      ],
      "text/plain": [
       "      rating_mean                                              title\n",
       "1839     4.560510  Seven Samurai (The Magnificent Seven) (Shichin...\n",
       "309      4.554558                   Shawshank Redemption  The (1994)\n",
       "802      4.524966                              Godfather  The (1972)\n",
       "708      4.520548                              Close Shave  A (1995)\n",
       "49       4.517106                         Usual Suspects  The (1995)\n",
       "513      4.510417                            Schindler's List (1993)\n",
       "1066     4.507937                         Wrong Trousers  The (1993)\n",
       "861      4.491489      Sunset Blvd. (a.k.a. Sunset Boulevard) (1950)\n",
       "1108     4.477725                     Raiders of the Lost Ark (1981)\n",
       "843      4.476190                                 Rear Window (1954)"
      ]
     },
     "execution_count": 118,
     "metadata": {},
     "output_type": "execute_result"
    }
   ],
   "source": [
    "# 100번 이상의 평가를 받은 영화 중, 평점이 높은 10개의 영화를 출력.\n",
    "# movie_grouped_rating_info 컬럼 3개 : movie_id,rated_count,rating_mean\n",
    "# merge 병합: movie_id기준으로 movie_grouped_rating_info에 있는 것은 모두 적용\n",
    "merged_data = movie_grouped_rating_info.merge(movie_data, on=['movie_id'], how='left')\n",
    "# 평점받은 개수가 100개 이상이면서, 평균평점 상위 10개 출력\n",
    "merged_data[merged_data['rated_count'] > 100][['rating_mean', 'title']].nlargest(10, 'rating_mean')"
   ]
  },
  {
   "cell_type": "markdown",
   "metadata": {},
   "source": [
    "[미니 퀴즈 - 3.5]\n",
    "\n",
    "동일한 방식으로, 유저 그룹 단위의 평점 속성을 분석해 보세요.\n",
    "* 유저별로 평가한 영화 개수\n",
    "* 유저별로 평가한 평균 영화 점수\n",
    "* 유저별로 평가한 영화 점수의 편차"
   ]
  },
  {
   "cell_type": "code",
   "execution_count": 119,
   "metadata": {},
   "outputs": [
    {
     "data": {
      "text/plain": [
       "Index(['user_id', 'movie_id', 'rating', 'time'], dtype='object')"
      ]
     },
     "execution_count": 119,
     "metadata": {},
     "output_type": "execute_result"
    }
   ],
   "source": [
    "rating_data.columns"
   ]
  },
  {
   "cell_type": "code",
   "execution_count": 120,
   "metadata": {},
   "outputs": [
    {
     "data": {
      "text/html": [
       "<div>\n",
       "<style scoped>\n",
       "    .dataframe tbody tr th:only-of-type {\n",
       "        vertical-align: middle;\n",
       "    }\n",
       "\n",
       "    .dataframe tbody tr th {\n",
       "        vertical-align: top;\n",
       "    }\n",
       "\n",
       "    .dataframe thead th {\n",
       "        text-align: right;\n",
       "    }\n",
       "</style>\n",
       "<table border=\"1\" class=\"dataframe\">\n",
       "  <thead>\n",
       "    <tr style=\"text-align: right;\">\n",
       "      <th></th>\n",
       "      <th>rated_count</th>\n",
       "      <th>rating_mean</th>\n",
       "      <th>rating_std</th>\n",
       "    </tr>\n",
       "    <tr>\n",
       "      <th>user_id</th>\n",
       "      <th></th>\n",
       "      <th></th>\n",
       "      <th></th>\n",
       "    </tr>\n",
       "  </thead>\n",
       "  <tbody>\n",
       "    <tr>\n",
       "      <th>1</th>\n",
       "      <td>53</td>\n",
       "      <td>4.188679</td>\n",
       "      <td>0.680967</td>\n",
       "    </tr>\n",
       "    <tr>\n",
       "      <th>2</th>\n",
       "      <td>129</td>\n",
       "      <td>3.713178</td>\n",
       "      <td>1.001513</td>\n",
       "    </tr>\n",
       "    <tr>\n",
       "      <th>3</th>\n",
       "      <td>51</td>\n",
       "      <td>3.901961</td>\n",
       "      <td>0.984985</td>\n",
       "    </tr>\n",
       "    <tr>\n",
       "      <th>4</th>\n",
       "      <td>21</td>\n",
       "      <td>4.190476</td>\n",
       "      <td>1.077917</td>\n",
       "    </tr>\n",
       "    <tr>\n",
       "      <th>5</th>\n",
       "      <td>198</td>\n",
       "      <td>3.146465</td>\n",
       "      <td>1.132699</td>\n",
       "    </tr>\n",
       "  </tbody>\n",
       "</table>\n",
       "</div>"
      ],
      "text/plain": [
       "         rated_count  rating_mean  rating_std\n",
       "user_id                                      \n",
       "1                 53     4.188679    0.680967\n",
       "2                129     3.713178    1.001513\n",
       "3                 51     3.901961    0.984985\n",
       "4                 21     4.190476    1.077917\n",
       "5                198     3.146465    1.132699"
      ]
     },
     "execution_count": 120,
     "metadata": {},
     "output_type": "execute_result"
    }
   ],
   "source": [
    "# 유저별 영화 평가를 탐색합니다.\n",
    "user_grouped_rating_info = rating_data.groupby('user_id')['rating'].agg(['count','mean', 'std'])\n",
    "user_grouped_rating_info.columns = ['rated_count', 'rating_mean', 'rating_std']\n",
    "user_grouped_rating_info.head()"
   ]
  },
  {
   "cell_type": "code",
   "execution_count": 121,
   "metadata": {},
   "outputs": [
    {
     "data": {
      "text/plain": [
       "<AxesSubplot:>"
      ]
     },
     "execution_count": 121,
     "metadata": {},
     "output_type": "execute_result"
    },
    {
     "data": {
      "image/png": "[encoded data removed]",
      "text/plain": [
       "<Figure size 576x576 with 1 Axes>"
      ]
     },
     "metadata": {
      "needs_background": "light"
     },
     "output_type": "display_data"
    }
   ],
   "source": [
    "# 유저별로 평가한 영화 개수의 분포를 출력합니다.\n",
    "user_grouped_rating_info['rated_count'].hist(bins=150, grid=False)"
   ]
  },
  {
   "cell_type": "code",
   "execution_count": 122,
   "metadata": {},
   "outputs": [
    {
     "data": {
      "text/plain": [
       "<AxesSubplot:>"
      ]
     },
     "execution_count": 122,
     "metadata": {},
     "output_type": "execute_result"
    },
    {
     "data": {
      "image/png": "[encoded data removed]",
      "text/plain": [
       "<Figure size 576x576 with 1 Axes>"
      ]
     },
     "metadata": {
      "needs_background": "light"
     },
     "output_type": "display_data"
    }
   ],
   "source": [
    "# 유저별로 평가한 영화 점수 평균의 분포를 그래프로 출력합니다.\n",
    "user_grouped_rating_info['rating_mean'].hist(bins=150, grid=False)"
   ]
  },
  {
   "cell_type": "code",
   "execution_count": 123,
   "metadata": {},
   "outputs": [
    {
     "data": {
      "text/plain": [
       "<AxesSubplot:>"
      ]
     },
     "execution_count": 123,
     "metadata": {},
     "output_type": "execute_result"
    },
    {
     "data": {
      "image/png": "[encoded data removed]",
      "text/plain": [
       "<Figure size 576x576 with 1 Axes>"
      ]
     },
     "metadata": {
      "needs_background": "light"
     },
     "output_type": "display_data"
    }
   ],
   "source": [
    "# 유저별로 평가한 영화 점수 편차의 분포를 그래프로 출력합니다.\n",
    "user_grouped_rating_info['rating_std'].hist(bins=150, grid=False)"
   ]
  },
  {
   "cell_type": "markdown",
   "metadata": {},
   "source": [
    "[user-movie 형태의 테이블로 살펴보기]"
   ]
  },
  {
   "cell_type": "code",
   "execution_count": 124,
   "metadata": {},
   "outputs": [
    {
     "data": {
      "text/html": [
       "<div>\n",
       "<style scoped>\n",
       "    .dataframe tbody tr th:only-of-type {\n",
       "        vertical-align: middle;\n",
       "    }\n",
       "\n",
       "    .dataframe tbody tr th {\n",
       "        vertical-align: top;\n",
       "    }\n",
       "\n",
       "    .dataframe thead th {\n",
       "        text-align: right;\n",
       "    }\n",
       "</style>\n",
       "<table border=\"1\" class=\"dataframe\">\n",
       "  <thead>\n",
       "    <tr style=\"text-align: right;\">\n",
       "      <th></th>\n",
       "      <th>user_id</th>\n",
       "      <th>movie_id</th>\n",
       "      <th>rating</th>\n",
       "      <th>time</th>\n",
       "    </tr>\n",
       "  </thead>\n",
       "  <tbody>\n",
       "    <tr>\n",
       "      <th>0</th>\n",
       "      <td>1</td>\n",
       "      <td>1193</td>\n",
       "      <td>5</td>\n",
       "      <td>978300760</td>\n",
       "    </tr>\n",
       "    <tr>\n",
       "      <th>1</th>\n",
       "      <td>1</td>\n",
       "      <td>661</td>\n",
       "      <td>3</td>\n",
       "      <td>978302109</td>\n",
       "    </tr>\n",
       "    <tr>\n",
       "      <th>2</th>\n",
       "      <td>1</td>\n",
       "      <td>914</td>\n",
       "      <td>3</td>\n",
       "      <td>978301968</td>\n",
       "    </tr>\n",
       "    <tr>\n",
       "      <th>3</th>\n",
       "      <td>1</td>\n",
       "      <td>3408</td>\n",
       "      <td>4</td>\n",
       "      <td>978300275</td>\n",
       "    </tr>\n",
       "    <tr>\n",
       "      <th>4</th>\n",
       "      <td>1</td>\n",
       "      <td>2355</td>\n",
       "      <td>5</td>\n",
       "      <td>978824291</td>\n",
       "    </tr>\n",
       "  </tbody>\n",
       "</table>\n",
       "</div>"
      ],
      "text/plain": [
       "   user_id  movie_id  rating       time\n",
       "0        1      1193       5  978300760\n",
       "1        1       661       3  978302109\n",
       "2        1       914       3  978301968\n",
       "3        1      3408       4  978300275\n",
       "4        1      2355       5  978824291"
      ]
     },
     "execution_count": 124,
     "metadata": {},
     "output_type": "execute_result"
    }
   ],
   "source": [
    "rating_data.head()"
   ]
  },
  {
   "cell_type": "code",
   "execution_count": 125,
   "metadata": {},
   "outputs": [
    {
     "data": {
      "text/html": [
       "<div>\n",
       "<style scoped>\n",
       "    .dataframe tbody tr th:only-of-type {\n",
       "        vertical-align: middle;\n",
       "    }\n",
       "\n",
       "    .dataframe tbody tr th {\n",
       "        vertical-align: top;\n",
       "    }\n",
       "\n",
       "    .dataframe thead tr th {\n",
       "        text-align: left;\n",
       "    }\n",
       "\n",
       "    .dataframe thead tr:last-of-type th {\n",
       "        text-align: right;\n",
       "    }\n",
       "</style>\n",
       "<table border=\"1\" class=\"dataframe\">\n",
       "  <thead>\n",
       "    <tr>\n",
       "      <th></th>\n",
       "      <th colspan=\"21\" halign=\"left\">rating</th>\n",
       "    </tr>\n",
       "    <tr>\n",
       "      <th>movie_id</th>\n",
       "      <th>1</th>\n",
       "      <th>2</th>\n",
       "      <th>3</th>\n",
       "      <th>4</th>\n",
       "      <th>5</th>\n",
       "      <th>6</th>\n",
       "      <th>7</th>\n",
       "      <th>8</th>\n",
       "      <th>9</th>\n",
       "      <th>10</th>\n",
       "      <th>...</th>\n",
       "      <th>3943</th>\n",
       "      <th>3944</th>\n",
       "      <th>3945</th>\n",
       "      <th>3946</th>\n",
       "      <th>3947</th>\n",
       "      <th>3948</th>\n",
       "      <th>3949</th>\n",
       "      <th>3950</th>\n",
       "      <th>3951</th>\n",
       "      <th>3952</th>\n",
       "    </tr>\n",
       "    <tr>\n",
       "      <th>user_id</th>\n",
       "      <th></th>\n",
       "      <th></th>\n",
       "      <th></th>\n",
       "      <th></th>\n",
       "      <th></th>\n",
       "      <th></th>\n",
       "      <th></th>\n",
       "      <th></th>\n",
       "      <th></th>\n",
       "      <th></th>\n",
       "      <th></th>\n",
       "      <th></th>\n",
       "      <th></th>\n",
       "      <th></th>\n",
       "      <th></th>\n",
       "      <th></th>\n",
       "      <th></th>\n",
       "      <th></th>\n",
       "      <th></th>\n",
       "      <th></th>\n",
       "      <th></th>\n",
       "    </tr>\n",
       "  </thead>\n",
       "  <tbody>\n",
       "    <tr>\n",
       "      <th>1</th>\n",
       "      <td>5.0</td>\n",
       "      <td>NaN</td>\n",
       "      <td>NaN</td>\n",
       "      <td>NaN</td>\n",
       "      <td>NaN</td>\n",
       "      <td>NaN</td>\n",
       "      <td>NaN</td>\n",
       "      <td>NaN</td>\n",
       "      <td>NaN</td>\n",
       "      <td>NaN</td>\n",
       "      <td>...</td>\n",
       "      <td>NaN</td>\n",
       "      <td>NaN</td>\n",
       "      <td>NaN</td>\n",
       "      <td>NaN</td>\n",
       "      <td>NaN</td>\n",
       "      <td>NaN</td>\n",
       "      <td>NaN</td>\n",
       "      <td>NaN</td>\n",
       "      <td>NaN</td>\n",
       "      <td>NaN</td>\n",
       "    </tr>\n",
       "    <tr>\n",
       "      <th>2</th>\n",
       "      <td>NaN</td>\n",
       "      <td>NaN</td>\n",
       "      <td>NaN</td>\n",
       "      <td>NaN</td>\n",
       "      <td>NaN</td>\n",
       "      <td>NaN</td>\n",
       "      <td>NaN</td>\n",
       "      <td>NaN</td>\n",
       "      <td>NaN</td>\n",
       "      <td>NaN</td>\n",
       "      <td>...</td>\n",
       "      <td>NaN</td>\n",
       "      <td>NaN</td>\n",
       "      <td>NaN</td>\n",
       "      <td>NaN</td>\n",
       "      <td>NaN</td>\n",
       "      <td>NaN</td>\n",
       "      <td>NaN</td>\n",
       "      <td>NaN</td>\n",
       "      <td>NaN</td>\n",
       "      <td>NaN</td>\n",
       "    </tr>\n",
       "    <tr>\n",
       "      <th>3</th>\n",
       "      <td>NaN</td>\n",
       "      <td>NaN</td>\n",
       "      <td>NaN</td>\n",
       "      <td>NaN</td>\n",
       "      <td>NaN</td>\n",
       "      <td>NaN</td>\n",
       "      <td>NaN</td>\n",
       "      <td>NaN</td>\n",
       "      <td>NaN</td>\n",
       "      <td>NaN</td>\n",
       "      <td>...</td>\n",
       "      <td>NaN</td>\n",
       "      <td>NaN</td>\n",
       "      <td>NaN</td>\n",
       "      <td>NaN</td>\n",
       "      <td>NaN</td>\n",
       "      <td>NaN</td>\n",
       "      <td>NaN</td>\n",
       "      <td>NaN</td>\n",
       "      <td>NaN</td>\n",
       "      <td>NaN</td>\n",
       "    </tr>\n",
       "    <tr>\n",
       "      <th>4</th>\n",
       "      <td>NaN</td>\n",
       "      <td>NaN</td>\n",
       "      <td>NaN</td>\n",
       "      <td>NaN</td>\n",
       "      <td>NaN</td>\n",
       "      <td>NaN</td>\n",
       "      <td>NaN</td>\n",
       "      <td>NaN</td>\n",
       "      <td>NaN</td>\n",
       "      <td>NaN</td>\n",
       "      <td>...</td>\n",
       "      <td>NaN</td>\n",
       "      <td>NaN</td>\n",
       "      <td>NaN</td>\n",
       "      <td>NaN</td>\n",
       "      <td>NaN</td>\n",
       "      <td>NaN</td>\n",
       "      <td>NaN</td>\n",
       "      <td>NaN</td>\n",
       "      <td>NaN</td>\n",
       "      <td>NaN</td>\n",
       "    </tr>\n",
       "    <tr>\n",
       "      <th>5</th>\n",
       "      <td>NaN</td>\n",
       "      <td>NaN</td>\n",
       "      <td>NaN</td>\n",
       "      <td>NaN</td>\n",
       "      <td>NaN</td>\n",
       "      <td>2.0</td>\n",
       "      <td>NaN</td>\n",
       "      <td>NaN</td>\n",
       "      <td>NaN</td>\n",
       "      <td>NaN</td>\n",
       "      <td>...</td>\n",
       "      <td>NaN</td>\n",
       "      <td>NaN</td>\n",
       "      <td>NaN</td>\n",
       "      <td>NaN</td>\n",
       "      <td>NaN</td>\n",
       "      <td>NaN</td>\n",
       "      <td>NaN</td>\n",
       "      <td>NaN</td>\n",
       "      <td>NaN</td>\n",
       "      <td>NaN</td>\n",
       "    </tr>\n",
       "    <tr>\n",
       "      <th>6</th>\n",
       "      <td>4.0</td>\n",
       "      <td>NaN</td>\n",
       "      <td>NaN</td>\n",
       "      <td>NaN</td>\n",
       "      <td>NaN</td>\n",
       "      <td>NaN</td>\n",
       "      <td>NaN</td>\n",
       "      <td>NaN</td>\n",
       "      <td>NaN</td>\n",
       "      <td>NaN</td>\n",
       "      <td>...</td>\n",
       "      <td>NaN</td>\n",
       "      <td>NaN</td>\n",
       "      <td>NaN</td>\n",
       "      <td>NaN</td>\n",
       "      <td>NaN</td>\n",
       "      <td>NaN</td>\n",
       "      <td>NaN</td>\n",
       "      <td>NaN</td>\n",
       "      <td>NaN</td>\n",
       "      <td>NaN</td>\n",
       "    </tr>\n",
       "    <tr>\n",
       "      <th>7</th>\n",
       "      <td>NaN</td>\n",
       "      <td>NaN</td>\n",
       "      <td>NaN</td>\n",
       "      <td>NaN</td>\n",
       "      <td>NaN</td>\n",
       "      <td>4.0</td>\n",
       "      <td>NaN</td>\n",
       "      <td>NaN</td>\n",
       "      <td>NaN</td>\n",
       "      <td>NaN</td>\n",
       "      <td>...</td>\n",
       "      <td>NaN</td>\n",
       "      <td>NaN</td>\n",
       "      <td>NaN</td>\n",
       "      <td>NaN</td>\n",
       "      <td>NaN</td>\n",
       "      <td>NaN</td>\n",
       "      <td>NaN</td>\n",
       "      <td>NaN</td>\n",
       "      <td>NaN</td>\n",
       "      <td>NaN</td>\n",
       "    </tr>\n",
       "    <tr>\n",
       "      <th>8</th>\n",
       "      <td>4.0</td>\n",
       "      <td>NaN</td>\n",
       "      <td>NaN</td>\n",
       "      <td>3.0</td>\n",
       "      <td>NaN</td>\n",
       "      <td>NaN</td>\n",
       "      <td>NaN</td>\n",
       "      <td>NaN</td>\n",
       "      <td>NaN</td>\n",
       "      <td>NaN</td>\n",
       "      <td>...</td>\n",
       "      <td>NaN</td>\n",
       "      <td>NaN</td>\n",
       "      <td>NaN</td>\n",
       "      <td>NaN</td>\n",
       "      <td>NaN</td>\n",
       "      <td>NaN</td>\n",
       "      <td>NaN</td>\n",
       "      <td>NaN</td>\n",
       "      <td>NaN</td>\n",
       "      <td>NaN</td>\n",
       "    </tr>\n",
       "    <tr>\n",
       "      <th>9</th>\n",
       "      <td>5.0</td>\n",
       "      <td>NaN</td>\n",
       "      <td>NaN</td>\n",
       "      <td>NaN</td>\n",
       "      <td>NaN</td>\n",
       "      <td>NaN</td>\n",
       "      <td>NaN</td>\n",
       "      <td>NaN</td>\n",
       "      <td>NaN</td>\n",
       "      <td>NaN</td>\n",
       "      <td>...</td>\n",
       "      <td>NaN</td>\n",
       "      <td>NaN</td>\n",
       "      <td>NaN</td>\n",
       "      <td>NaN</td>\n",
       "      <td>NaN</td>\n",
       "      <td>3.0</td>\n",
       "      <td>NaN</td>\n",
       "      <td>NaN</td>\n",
       "      <td>NaN</td>\n",
       "      <td>NaN</td>\n",
       "    </tr>\n",
       "    <tr>\n",
       "      <th>10</th>\n",
       "      <td>5.0</td>\n",
       "      <td>5.0</td>\n",
       "      <td>NaN</td>\n",
       "      <td>NaN</td>\n",
       "      <td>NaN</td>\n",
       "      <td>NaN</td>\n",
       "      <td>4.0</td>\n",
       "      <td>NaN</td>\n",
       "      <td>NaN</td>\n",
       "      <td>NaN</td>\n",
       "      <td>...</td>\n",
       "      <td>NaN</td>\n",
       "      <td>NaN</td>\n",
       "      <td>NaN</td>\n",
       "      <td>NaN</td>\n",
       "      <td>NaN</td>\n",
       "      <td>4.0</td>\n",
       "      <td>NaN</td>\n",
       "      <td>NaN</td>\n",
       "      <td>NaN</td>\n",
       "      <td>NaN</td>\n",
       "    </tr>\n",
       "  </tbody>\n",
       "</table>\n",
       "<p>10 rows × 3706 columns</p>\n",
       "</div>"
      ],
      "text/plain": [
       "         rating                                               ...            \\\n",
       "movie_id   1    2    3    4    5    6    7    8    9    10    ... 3943 3944   \n",
       "user_id                                                       ...             \n",
       "1           5.0  NaN  NaN  NaN  NaN  NaN  NaN  NaN  NaN  NaN  ...  NaN  NaN   \n",
       "2           NaN  NaN  NaN  NaN  NaN  NaN  NaN  NaN  NaN  NaN  ...  NaN  NaN   \n",
       "3           NaN  NaN  NaN  NaN  NaN  NaN  NaN  NaN  NaN  NaN  ...  NaN  NaN   \n",
       "4           NaN  NaN  NaN  NaN  NaN  NaN  NaN  NaN  NaN  NaN  ...  NaN  NaN   \n",
       "5           NaN  NaN  NaN  NaN  NaN  2.0  NaN  NaN  NaN  NaN  ...  NaN  NaN   \n",
       "6           4.0  NaN  NaN  NaN  NaN  NaN  NaN  NaN  NaN  NaN  ...  NaN  NaN   \n",
       "7           NaN  NaN  NaN  NaN  NaN  4.0  NaN  NaN  NaN  NaN  ...  NaN  NaN   \n",
       "8           4.0  NaN  NaN  3.0  NaN  NaN  NaN  NaN  NaN  NaN  ...  NaN  NaN   \n",
       "9           5.0  NaN  NaN  NaN  NaN  NaN  NaN  NaN  NaN  NaN  ...  NaN  NaN   \n",
       "10          5.0  5.0  NaN  NaN  NaN  NaN  4.0  NaN  NaN  NaN  ...  NaN  NaN   \n",
       "\n",
       "                                                  \n",
       "movie_id 3945 3946 3947 3948 3949 3950 3951 3952  \n",
       "user_id                                           \n",
       "1         NaN  NaN  NaN  NaN  NaN  NaN  NaN  NaN  \n",
       "2         NaN  NaN  NaN  NaN  NaN  NaN  NaN  NaN  \n",
       "3         NaN  NaN  NaN  NaN  NaN  NaN  NaN  NaN  \n",
       "4         NaN  NaN  NaN  NaN  NaN  NaN  NaN  NaN  \n",
       "5         NaN  NaN  NaN  NaN  NaN  NaN  NaN  NaN  \n",
       "6         NaN  NaN  NaN  NaN  NaN  NaN  NaN  NaN  \n",
       "7         NaN  NaN  NaN  NaN  NaN  NaN  NaN  NaN  \n",
       "8         NaN  NaN  NaN  NaN  NaN  NaN  NaN  NaN  \n",
       "9         NaN  NaN  NaN  3.0  NaN  NaN  NaN  NaN  \n",
       "10        NaN  NaN  NaN  4.0  NaN  NaN  NaN  NaN  \n",
       "\n",
       "[10 rows x 3706 columns]"
      ]
     },
     "execution_count": 125,
     "metadata": {},
     "output_type": "execute_result"
    }
   ],
   "source": [
    "# unstack() 함수로 user_id, movie_id를 축으로 하는 데이터를 생성.\n",
    "# unstack() user_id:index, movie_id:column으로 지정\n",
    "rating_table = rating_data[['user_id', 'movie_id', 'rating']].set_index([\"user_id\", \"movie_id\"]).unstack()\n",
    "rating_table.head(10)"
   ]
  },
  {
   "cell_type": "code",
   "execution_count": 126,
   "metadata": {},
   "outputs": [
    {
     "data": {
      "image/png": "[encoded data removed]",
      "text/plain": [
       "<Figure size 720x720 with 1 Axes>"
      ]
     },
     "metadata": {
      "needs_background": "light"
     },
     "output_type": "display_data"
    }
   ],
   "source": [
    "# user-movie 테이블을 시각화(X 할필요 없음)\n",
    "plt.rcParams['figure.figsize'] = [10, 10]\n",
    "plt.imshow(rating_table)\n",
    "plt.grid(False)\n",
    "plt.xlabel(\"Movie\")\n",
    "plt.ylabel(\"User\")\n",
    "plt.title(\"User-movie Matrix\")\n",
    "plt.show()"
   ]
  },
  {
   "cell_type": "markdown",
   "metadata": {},
   "source": [
    "<Step3. 예측> : 수학적 기법을 활용한 평점 예측"
   ]
  },
  {
   "cell_type": "markdown",
   "metadata": {},
   "source": [
    "[SVD를 활용한 빈칸 채우기]\n",
    " * 아래 코드 실행을 위해 Terminal에서 아래와 같은 패키지를 설치\n",
    " * (env_name) pip install surprise"
   ]
  },
  {
   "cell_type": "code",
   "execution_count": 127,
   "metadata": {},
   "outputs": [],
   "source": [
    "# https://autumnrain.tistory.com/entry/scikit-surprise-install-%EC%84%A4%EC%B9%98\n",
    "#  error: Microsoft Visual C++ 14.0 설치필요\n",
    "# 설치후 pip install surprise 다시 설치\n",
    "from surprise import SVD, Dataset, Reader, accuracy\n",
    "from surprise.model_selection import train_test_split\n",
    "# 과학적 표기법 억제 # 1.500e-10 .500e+00  -> 0. 1.5 \n",
    "np.set_printoptions(suppress=True)\n"
   ]
  },
  {
   "cell_type": "markdown",
   "metadata": {},
   "source": [
    "실습"
   ]
  },
  {
   "cell_type": "code",
   "execution_count": 128,
   "metadata": {},
   "outputs": [
    {
     "data": {
      "text/html": [
       "<div>\n",
       "<style scoped>\n",
       "    .dataframe tbody tr th:only-of-type {\n",
       "        vertical-align: middle;\n",
       "    }\n",
       "\n",
       "    .dataframe tbody tr th {\n",
       "        vertical-align: top;\n",
       "    }\n",
       "\n",
       "    .dataframe thead th {\n",
       "        text-align: right;\n",
       "    }\n",
       "</style>\n",
       "<table border=\"1\" class=\"dataframe\">\n",
       "  <thead>\n",
       "    <tr style=\"text-align: right;\">\n",
       "      <th></th>\n",
       "      <th>item_id</th>\n",
       "      <th>user_id</th>\n",
       "      <th>rating</th>\n",
       "    </tr>\n",
       "  </thead>\n",
       "  <tbody>\n",
       "    <tr>\n",
       "      <th>0</th>\n",
       "      <td>1</td>\n",
       "      <td>a</td>\n",
       "      <td>2</td>\n",
       "    </tr>\n",
       "    <tr>\n",
       "      <th>1</th>\n",
       "      <td>2</td>\n",
       "      <td>a</td>\n",
       "      <td>4</td>\n",
       "    </tr>\n",
       "    <tr>\n",
       "      <th>2</th>\n",
       "      <td>3</td>\n",
       "      <td>a</td>\n",
       "      <td>4</td>\n",
       "    </tr>\n",
       "    <tr>\n",
       "      <th>3</th>\n",
       "      <td>1</td>\n",
       "      <td>b</td>\n",
       "      <td>2</td>\n",
       "    </tr>\n",
       "    <tr>\n",
       "      <th>4</th>\n",
       "      <td>2</td>\n",
       "      <td>b</td>\n",
       "      <td>5</td>\n",
       "    </tr>\n",
       "    <tr>\n",
       "      <th>5</th>\n",
       "      <td>3</td>\n",
       "      <td>b</td>\n",
       "      <td>4</td>\n",
       "    </tr>\n",
       "    <tr>\n",
       "      <th>6</th>\n",
       "      <td>2</td>\n",
       "      <td>c</td>\n",
       "      <td>5</td>\n",
       "    </tr>\n",
       "  </tbody>\n",
       "</table>\n",
       "</div>"
      ],
      "text/plain": [
       "   item_id user_id  rating\n",
       "0        1       a       2\n",
       "1        2       a       4\n",
       "2        3       a       4\n",
       "3        1       b       2\n",
       "4        2       b       5\n",
       "5        3       b       4\n",
       "6        2       c       5"
      ]
     },
     "execution_count": 128,
     "metadata": {},
     "output_type": "execute_result"
    }
   ],
   "source": [
    "# 데이터 프레임을 생성합니다.\n",
    "ratings_dict = {'item_id': [1,2,3,1,2,3,2],\n",
    "                'user_id': ['a','a','a','b','b','b','c'],\n",
    "                'rating': [2,4,4,2,5,4,5]}\n",
    "df = pd.DataFrame(ratings_dict)\n",
    "df.head(10)"
   ]
  },
  {
   "cell_type": "code",
   "execution_count": 129,
   "metadata": {},
   "outputs": [
    {
     "data": {
      "text/html": [
       "<div>\n",
       "<style scoped>\n",
       "    .dataframe tbody tr th:only-of-type {\n",
       "        vertical-align: middle;\n",
       "    }\n",
       "\n",
       "    .dataframe tbody tr th {\n",
       "        vertical-align: top;\n",
       "    }\n",
       "\n",
       "    .dataframe thead tr th {\n",
       "        text-align: left;\n",
       "    }\n",
       "\n",
       "    .dataframe thead tr:last-of-type th {\n",
       "        text-align: right;\n",
       "    }\n",
       "</style>\n",
       "<table border=\"1\" class=\"dataframe\">\n",
       "  <thead>\n",
       "    <tr>\n",
       "      <th></th>\n",
       "      <th colspan=\"3\" halign=\"left\">rating</th>\n",
       "    </tr>\n",
       "    <tr>\n",
       "      <th>item_id</th>\n",
       "      <th>1</th>\n",
       "      <th>2</th>\n",
       "      <th>3</th>\n",
       "    </tr>\n",
       "    <tr>\n",
       "      <th>user_id</th>\n",
       "      <th></th>\n",
       "      <th></th>\n",
       "      <th></th>\n",
       "    </tr>\n",
       "  </thead>\n",
       "  <tbody>\n",
       "    <tr>\n",
       "      <th>a</th>\n",
       "      <td>2.0</td>\n",
       "      <td>4.0</td>\n",
       "      <td>4.0</td>\n",
       "    </tr>\n",
       "    <tr>\n",
       "      <th>b</th>\n",
       "      <td>2.0</td>\n",
       "      <td>5.0</td>\n",
       "      <td>4.0</td>\n",
       "    </tr>\n",
       "    <tr>\n",
       "      <th>c</th>\n",
       "      <td>0.0</td>\n",
       "      <td>5.0</td>\n",
       "      <td>0.0</td>\n",
       "    </tr>\n",
       "  </tbody>\n",
       "</table>\n",
       "</div>"
      ],
      "text/plain": [
       "        rating          \n",
       "item_id      1    2    3\n",
       "user_id                 \n",
       "a          2.0  4.0  4.0\n",
       "b          2.0  5.0  4.0\n",
       "c          0.0  5.0  0.0"
      ]
     },
     "execution_count": 129,
     "metadata": {},
     "output_type": "execute_result"
    }
   ],
   "source": [
    "# 데이터 프레임을 행렬로 변환하여 확인합니다.\n",
    "df_matrix_table = df[['user_id', 'item_id', 'rating']].set_index([\"user_id\", \"item_id\"]).unstack().fillna(0)\n",
    "df_matrix_table.head(10)"
   ]
  },
  {
   "cell_type": "markdown",
   "metadata": {},
   "source": [
    "SVD를 이용한 빈칸 채우기 학습\n",
    "* 예제를 가지고 실습"
   ]
  },
  {
   "cell_type": "code",
   "execution_count": 130,
   "metadata": {},
   "outputs": [
    {
     "data": {
      "text/html": [
       "<div>\n",
       "<style scoped>\n",
       "    .dataframe tbody tr th:only-of-type {\n",
       "        vertical-align: middle;\n",
       "    }\n",
       "\n",
       "    .dataframe tbody tr th {\n",
       "        vertical-align: top;\n",
       "    }\n",
       "\n",
       "    .dataframe thead th {\n",
       "        text-align: right;\n",
       "    }\n",
       "</style>\n",
       "<table border=\"1\" class=\"dataframe\">\n",
       "  <thead>\n",
       "    <tr style=\"text-align: right;\">\n",
       "      <th></th>\n",
       "      <th>user_id</th>\n",
       "      <th>movie_id</th>\n",
       "      <th>rating</th>\n",
       "      <th>time</th>\n",
       "    </tr>\n",
       "  </thead>\n",
       "  <tbody>\n",
       "    <tr>\n",
       "      <th>0</th>\n",
       "      <td>1</td>\n",
       "      <td>1193</td>\n",
       "      <td>5</td>\n",
       "      <td>978300760</td>\n",
       "    </tr>\n",
       "    <tr>\n",
       "      <th>1</th>\n",
       "      <td>1</td>\n",
       "      <td>661</td>\n",
       "      <td>3</td>\n",
       "      <td>978302109</td>\n",
       "    </tr>\n",
       "    <tr>\n",
       "      <th>2</th>\n",
       "      <td>1</td>\n",
       "      <td>914</td>\n",
       "      <td>3</td>\n",
       "      <td>978301968</td>\n",
       "    </tr>\n",
       "  </tbody>\n",
       "</table>\n",
       "</div>"
      ],
      "text/plain": [
       "   user_id  movie_id  rating       time\n",
       "0        1      1193       5  978300760\n",
       "1        1       661       3  978302109\n",
       "2        1       914       3  978301968"
      ]
     },
     "execution_count": 130,
     "metadata": {},
     "output_type": "execute_result"
    }
   ],
   "source": [
    "rating_data.head(3)"
   ]
  },
  {
   "cell_type": "markdown",
   "metadata": {},
   "source": [
    "예제 - 실제파일과 같은 타입형태로 예제구성"
   ]
  },
  {
   "cell_type": "code",
   "execution_count": 131,
   "metadata": {},
   "outputs": [],
   "source": [
    "# SVD 사용을 위한 데이터셋을 생성.\n",
    "# 평점범위지정 1-5점\n",
    "reader = Reader(rating_scale=(1, 5))\n",
    "# 데이터를 surprise의 Dataset 형식으로 변환\n",
    "data = Dataset.load_from_df(df=df[[\"user_id\", \"item_id\", \"rating\"]], reader=reader)\n",
    "# 행렬완성 데이터셋으로 변경\n",
    "train_data = data.build_full_trainset()"
   ]
  },
  {
   "cell_type": "code",
   "execution_count": 132,
   "metadata": {},
   "outputs": [
    {
     "data": {
      "text/plain": [
       "<surprise.prediction_algorithms.matrix_factorization.SVD at 0x2950d0c3010>"
      ]
     },
     "execution_count": 132,
     "metadata": {},
     "output_type": "execute_result"
    }
   ],
   "source": [
    "# SVD 모델훈련.\n",
    "model = SVD(n_factors=8,  ## n_factors : 잠재요인의 크기\n",
    "            lr_all=0.005, ## 모든 파리미터 학습 비율\n",
    "            reg_all=0.02, ## 모든 파라미터 정규화 정도\n",
    "            n_epochs=10)\n",
    "model.fit(train_data)"
   ]
  },
  {
   "cell_type": "code",
   "execution_count": 133,
   "metadata": {},
   "outputs": [
    {
     "name": "stdout",
     "output_type": "stream",
     "text": [
      "Item id 1 | 예측값 : 3.595180853282327\n",
      "Item id 3 | 예측값 : 3.859607139063828\n"
     ]
    }
   ],
   "source": [
    "# 학습한 모델을 기반으로 빈공간의 점수를 예측.\n",
    "\n",
    "\"\"\"\n",
    "build_anti_testset() : \n",
    "학습에 사용된 matrix에서 0으로 평가되어 있는(rating이 0인 지점) 부분의 데이터.\n",
    "user 혹은 item은 학습에 반드시 등장한 적이 있어야 한다는 전제조건을 통해 추출.\n",
    "\"\"\"\n",
    "\n",
    "# train_data : 평점데이터(부여된것과 부여되지 않은 것)\n",
    "# test_data : 학습에 사용된 유저, 혹은 아이템이지만 점수는 매겨지지 않은 데이터.\n",
    "# build_anti_testset() : 행렬의 채워져 있지 않는(0.0으로 되어 있는) 값만 가져옴\n",
    "test_data = train_data.build_anti_testset()\n",
    "# 채워지지 않은 곳에 예측값 가져옴.\n",
    "predictions = model.test(test_data)\n",
    "\n",
    "# 아래의 결과는 빈공간(test_data)의 점수를 예측한 결과입니다.\n",
    "for _, iid, _, predicted_rating, _ in predictions:\n",
    "    print(\"Item id\", iid, \"|\", \"예측값 :\", predicted_rating)"
   ]
  },
  {
   "cell_type": "markdown",
   "metadata": {},
   "source": [
    "실습 : 모든값 예측\n",
    "\n",
    "실제값 , 예측값 모두 출력"
   ]
  },
  {
   "cell_type": "code",
   "execution_count": 134,
   "metadata": {},
   "outputs": [
    {
     "name": "stdout",
     "output_type": "stream",
     "text": [
      "Item id 1 | 실제값(평점) : 2.0 | 예측값 : 3.478889306364745\n",
      "Item id 2 | 실제값(평점) : 4.0 | 예측값 : 3.796365830512615\n",
      "Item id 3 | 실제값(평점) : 4.0 | 예측값 : 3.6769673511377436\n",
      "Item id 1 | 실제값(평점) : 2.0 | 예측값 : 3.5561817904690276\n",
      "Item id 2 | 실제값(평점) : 5.0 | 예측값 : 3.862599988002255\n",
      "Item id 3 | 실제값(평점) : 4.0 | 예측값 : 3.7611037826260287\n",
      "Item id 2 | 실제값(평점) : 5.0 | 예측값 : 3.9533789205096577\n"
     ]
    }
   ],
   "source": [
    "# 채워진 평점의 예측을 해서 나온 평점 출력\n",
    "# 기존 평점과 비교\n",
    "\"\"\"\n",
    "build_testset() : \n",
    "\n",
    "학습에 사용된 matrix에서 0으로 평가되어 있는(rating이 0인 지점) 부분의 데이터.\n",
    "user 혹은 item은 학습에 반드시 등장한 적이 있어야 한다는 전제조건을 통해 추출.\n",
    "\"\"\"\n",
    "# build_testset() : 행렬의 채워져 있는 값 예측\n",
    "test_data = train_data.build_testset()\n",
    "predictions = model.test(test_data)\n",
    "\n",
    "# 원래부터 비어있지 않았던 행렬의 값들을 출력한 것입니다. \n",
    "# r_ul:real rating은 원래 값, predicted_rating :행렬 완성 후 예측된 값\n",
    "# uid, mid, rating, predicted_rating, _ \n",
    "for _, iid, r_ui, predicted_rating, _ in predictions:\n",
    "    print(\"Item id\", iid, \"|\", \"실제값(평점) :\", r_ui, \"|\", \"예측값 :\", predicted_rating)"
   ]
  },
  {
   "cell_type": "markdown",
   "metadata": {},
   "source": [
    "실제 학습 적용\n",
    "\n",
    "[아직 평가하지 않은 영화의 점수 예측하기]\n",
    "* MovieLens 데이터에 SVD 적용하기"
   ]
  },
  {
   "cell_type": "code",
   "execution_count": 135,
   "metadata": {},
   "outputs": [
    {
     "name": "stdout",
     "output_type": "stream",
     "text": [
      "모델 훈련시간: 65.35 초\n"
     ]
    }
   ],
   "source": [
    "# SVD 라이브러리를 사용하기 위한 학습 데이터를 생성\n",
    "# 평점 1-5점\n",
    "reader = Reader(rating_scale=(1, 5))\n",
    "# 데이터를 surprise의 Dataset 객체 변환\n",
    "data = Dataset.load_from_df(rating_data[['user_id', 'movie_id', 'rating']], reader)\n",
    "# 행렬완성 학습데이터 변경\n",
    "train_data = data.build_full_trainset()\n",
    "\n",
    "# SVD 모델을 학습합니다.\n",
    "# https://cypision.github.io/machine-learning/Recommender_with_Surprise_Basic03/\n",
    "# GridSearchCV 교차거므증 최적화 가능\n",
    "# param_grid = {'n_epochs': [20,40,60], 'n_factors': [50,100,200]}\n",
    "# gs = GridSearchCV(SVD, param_grid, measures=['rmse', 'mse'], cv=3)\n",
    "\n",
    "train_start = time.time() # 시작시간\n",
    "model = SVD(n_factors=8,  ##  잠재 요인 K의 크기를 지정\n",
    "            lr_all=0.005, ## 모든 파라미터에 대한 학습률. Default 0.005.\n",
    "            reg_all=0.02, ## 모든 파리미터에 대한 정규화 구간. Default 0.02.\n",
    "            n_epochs=100) ## 반복횟수\n",
    "model.fit(train_data)\n",
    "train_end = time.time()  # 끝난 시간\n",
    "print(\"모델 훈련시간: %.2f 초\" % (train_end - train_start))"
   ]
  },
  {
   "cell_type": "markdown",
   "metadata": {},
   "source": [
    "테스트 user_id 선정 : user_id = 4\n",
    "\n",
    "영화의 점수를 예측할 타겟 유저 선정"
   ]
  },
  {
   "cell_type": "code",
   "execution_count": 136,
   "metadata": {},
   "outputs": [
    {
     "data": {
      "text/html": [
       "<div>\n",
       "<style scoped>\n",
       "    .dataframe tbody tr th:only-of-type {\n",
       "        vertical-align: middle;\n",
       "    }\n",
       "\n",
       "    .dataframe tbody tr th {\n",
       "        vertical-align: top;\n",
       "    }\n",
       "\n",
       "    .dataframe thead th {\n",
       "        text-align: right;\n",
       "    }\n",
       "</style>\n",
       "<table border=\"1\" class=\"dataframe\">\n",
       "  <thead>\n",
       "    <tr style=\"text-align: right;\">\n",
       "      <th></th>\n",
       "      <th>user_id</th>\n",
       "      <th>movie_id</th>\n",
       "      <th>rating</th>\n",
       "      <th>time</th>\n",
       "    </tr>\n",
       "  </thead>\n",
       "  <tbody>\n",
       "    <tr>\n",
       "      <th>233</th>\n",
       "      <td>4</td>\n",
       "      <td>3468</td>\n",
       "      <td>5</td>\n",
       "      <td>978294008</td>\n",
       "    </tr>\n",
       "    <tr>\n",
       "      <th>234</th>\n",
       "      <td>4</td>\n",
       "      <td>1210</td>\n",
       "      <td>3</td>\n",
       "      <td>978293924</td>\n",
       "    </tr>\n",
       "  </tbody>\n",
       "</table>\n",
       "</div>"
      ],
      "text/plain": [
       "     user_id  movie_id  rating       time\n",
       "233        4      3468       5  978294008\n",
       "234        4      1210       3  978293924"
      ]
     },
     "execution_count": 136,
     "metadata": {},
     "output_type": "execute_result"
    }
   ],
   "source": [
    "# user_id가 4인 유저의 영화 평가 데이터 검색.\n",
    "target_user_id = 4\n",
    "# 4번이 평가한 영화 데이터\n",
    "target_user_data = rating_data[rating_data['user_id']==target_user_id]\n",
    "target_user_data.head(2)"
   ]
  },
  {
   "cell_type": "markdown",
   "metadata": {},
   "source": [
    "user_id=4 평점이 있는 영화 저장"
   ]
  },
  {
   "cell_type": "code",
   "execution_count": 137,
   "metadata": {},
   "outputs": [
    {
     "name": "stdout",
     "output_type": "stream",
     "text": [
      "{3468: 5, 1210: 3, 2951: 4, 1214: 4, 1036: 4, 260: 5, 2028: 5, 480: 4, 1196: 2, 1198: 5, 1954: 5, 1097: 4, 3418: 4, 3702: 4, 2366: 4, 1387: 5, 3527: 1, 1201: 5, 2692: 5, 2947: 5, 1240: 5}\n"
     ]
    }
   ],
   "source": [
    "# user_id 4인 유저가 평가한 영화 히스토리 정보를 추출.\n",
    "# movie_id : 평점 으로 dic타입 저장\n",
    "target_user_movie_rating_dict = {}\n",
    "\n",
    "for index, row in target_user_data.iterrows():\n",
    "    movie_id = row['movie_id']\n",
    "    target_user_movie_rating_dict[movie_id] = row['rating']\n",
    "            \n",
    "print(target_user_movie_rating_dict)"
   ]
  },
  {
   "cell_type": "markdown",
   "metadata": {},
   "source": [
    "타겟 유저가 보지 않은 영화 중, 예상 평점이 높은 10개 선정"
   ]
  },
  {
   "cell_type": "code",
   "execution_count": 138,
   "metadata": {},
   "outputs": [],
   "source": [
    "# 타겟 유저(user_id가 4인 유저)가 보지 않은 영화 정보를 테스트 데이터로 생성.\n",
    "test_data = []\n",
    "for index, row in movie_data.iterrows():\n",
    "    movie_id = row['movie_id']\n",
    "    rating = 0\n",
    "    # target_user_movie_rating_dict : movie_id는 평점이 입력된 영화만 있음\n",
    "    if movie_id in target_user_movie_rating_dict:\n",
    "        continue\n",
    "    # 그렇지 않으면 test_data에 저장\n",
    "    test_data.append((target_user_id, movie_id, rating))"
   ]
  },
  {
   "cell_type": "code",
   "execution_count": 139,
   "metadata": {},
   "outputs": [
    {
     "data": {
      "text/plain": [
       "[(4, 1, 0), (4, 2, 0), (4, 3, 0), (4, 4, 0), (4, 5, 0)]"
      ]
     },
     "execution_count": 139,
     "metadata": {},
     "output_type": "execute_result"
    }
   ],
   "source": [
    "# 평점이 없는 데이터만 출력\n",
    "test_data[:5]"
   ]
  },
  {
   "cell_type": "code",
   "execution_count": 140,
   "metadata": {},
   "outputs": [],
   "source": [
    "# 타겟 유저의 평점 점수를 예측.\n",
    "# user_id,movie_id,rating,predicted_rating 이 존재\n",
    "target_user_predictions = model.test(test_data)\n",
    "\n",
    "# 예측된 점수 중, 타겟 유저의 영화별 점수를 target_user_movie_predict_dict로 저장합니다.\n",
    "# predictions : 예측점수가 포함, user_history:평점이 된 영화\n",
    "def get_user_predicted_ratings(predictions, user_id, user_history):\n",
    "    target_user_movie_predict_dict = {}\n",
    "    # user_id:uid, movie_id:mid, predicted_rating:예측평점\n",
    "    for uid, mid, rating, predicted_rating, _ in predictions:\n",
    "        if user_id == uid:\n",
    "            # 영화평점을 한것만 저장되어 있음.\n",
    "            if mid not in user_history:\n",
    "                target_user_movie_predict_dict[mid] = predicted_rating\n",
    "    return target_user_movie_predict_dict\n",
    "\n",
    "# target_user_predictions : 평점이 없는 영화에 예측평점이 들어가 있음.\n",
    "target_user_movie_predict_dict = get_user_predicted_ratings(predictions=target_user_predictions, \n",
    "                                                            user_id=target_user_id, \n",
    "                                                            user_history=target_user_movie_rating_dict)"
   ]
  },
  {
   "cell_type": "code",
   "execution_count": 141,
   "metadata": {},
   "outputs": [],
   "source": [
    "# target_user_movie_predict_dict에서 예측된 점수 중, 타겟 유저의 Top 10 영화를 선정\n",
    "# key : 기준으로 정렬 movie_id,rating 평점기준으로 정렬\n",
    "# reverse : 역순정렬\n",
    "target_user_top10_predicted = sorted(target_user_movie_predict_dict.items(), \n",
    "                                     key=operator.itemgetter(1), reverse=True)[:10]"
   ]
  },
  {
   "cell_type": "code",
   "execution_count": 142,
   "metadata": {},
   "outputs": [
    {
     "data": {
      "text/plain": [
       "[(106, 5),\n",
       " (326, 5),\n",
       " (527, 5),\n",
       " (602, 5),\n",
       " (608, 5),\n",
       " (750, 5),\n",
       " (858, 5),\n",
       " (912, 5),\n",
       " (922, 5),\n",
       " (923, 5)]"
      ]
     },
     "execution_count": 142,
     "metadata": {},
     "output_type": "execute_result"
    }
   ],
   "source": [
    "# 예측된 Top 10 영화\n",
    "target_user_top10_predicted"
   ]
  },
  {
   "cell_type": "code",
   "execution_count": 143,
   "metadata": {},
   "outputs": [
    {
     "data": {
      "text/html": [
       "<div>\n",
       "<style scoped>\n",
       "    .dataframe tbody tr th:only-of-type {\n",
       "        vertical-align: middle;\n",
       "    }\n",
       "\n",
       "    .dataframe tbody tr th {\n",
       "        vertical-align: top;\n",
       "    }\n",
       "\n",
       "    .dataframe thead th {\n",
       "        text-align: right;\n",
       "    }\n",
       "</style>\n",
       "<table border=\"1\" class=\"dataframe\">\n",
       "  <thead>\n",
       "    <tr style=\"text-align: right;\">\n",
       "      <th></th>\n",
       "      <th>movie_id</th>\n",
       "      <th>title</th>\n",
       "      <th>genre</th>\n",
       "      <th>year</th>\n",
       "      <th>year_term</th>\n",
       "    </tr>\n",
       "  </thead>\n",
       "  <tbody>\n",
       "    <tr>\n",
       "      <th>0</th>\n",
       "      <td>1</td>\n",
       "      <td>Toy Story (1995)</td>\n",
       "      <td>Animation|Children's|Comedy</td>\n",
       "      <td>1995</td>\n",
       "      <td>1990</td>\n",
       "    </tr>\n",
       "    <tr>\n",
       "      <th>1</th>\n",
       "      <td>2</td>\n",
       "      <td>Jumanji (1995)</td>\n",
       "      <td>Adventure|Children's|Fantasy</td>\n",
       "      <td>1995</td>\n",
       "      <td>1990</td>\n",
       "    </tr>\n",
       "    <tr>\n",
       "      <th>2</th>\n",
       "      <td>3</td>\n",
       "      <td>Grumpier Old Men (1995)</td>\n",
       "      <td>Comedy|Romance</td>\n",
       "      <td>1995</td>\n",
       "      <td>1990</td>\n",
       "    </tr>\n",
       "  </tbody>\n",
       "</table>\n",
       "</div>"
      ],
      "text/plain": [
       "   movie_id                    title                         genre  year  \\\n",
       "0         1         Toy Story (1995)   Animation|Children's|Comedy  1995   \n",
       "1         2           Jumanji (1995)  Adventure|Children's|Fantasy  1995   \n",
       "2         3  Grumpier Old Men (1995)                Comedy|Romance  1995   \n",
       "\n",
       "  year_term  \n",
       "0      1990  \n",
       "1      1990  \n",
       "2      1990  "
      ]
     },
     "execution_count": 143,
     "metadata": {},
     "output_type": "execute_result"
    }
   ],
   "source": [
    "movie_data[:3]"
   ]
  },
  {
   "cell_type": "code",
   "execution_count": 144,
   "metadata": {},
   "outputs": [],
   "source": [
    "# 타이틀 정보로 출력하기 위해 movie_id마다 movie_title을 딕셔너리 형태로 저장.\n",
    "movie_dict = {}\n",
    "for index, row in movie_data.iterrows():\n",
    "    movie_id = row['movie_id']\n",
    "    movie_title = row['title']\n",
    "    movie_dict[movie_id] = movie_title"
   ]
  },
  {
   "cell_type": "code",
   "execution_count": 145,
   "metadata": {},
   "outputs": [
    {
     "data": {
      "text/plain": [
       "[(106, 5), (326, 5), (527, 5)]"
      ]
     },
     "execution_count": 145,
     "metadata": {},
     "output_type": "execute_result"
    }
   ],
   "source": [
    "target_user_top10_predicted[:3]"
   ]
  },
  {
   "cell_type": "code",
   "execution_count": 146,
   "metadata": {},
   "outputs": [
    {
     "name": "stdout",
     "output_type": "stream",
     "text": [
      "Nobody Loves Me (Keiner liebt mich) (1994) : 5\n",
      "To Live (Huozhe) (1994) : 5\n",
      "Schindler's List (1993) : 5\n",
      "Great Day in Harlem  A (1994) : 5\n",
      "Fargo (1996) : 5\n",
      "Dr. Strangelove or: How I Learned to Stop Worrying and Love the Bomb (1963) : 5\n",
      "Godfather  The (1972) : 5\n",
      "Casablanca (1942) : 5\n",
      "Sunset Blvd. (a.k.a. Sunset Boulevard) (1950) : 5\n",
      "Citizen Kane (1941) : 5\n"
     ]
    }
   ],
   "source": [
    "# 앞서 계산한 Top 10 영화에 movie_title을 매핑하여 출력합니다.\n",
    "# target_user_top10_predicted : (movie_id,rating)\n",
    "for predicted in target_user_top10_predicted:\n",
    "    movie_id = predicted[0]\n",
    "    # 예측평점\n",
    "    predicted_rating = predicted[1]\n",
    "    print(movie_dict[movie_id], \":\", predicted_rating)"
   ]
  },
  {
   "cell_type": "code",
   "execution_count": 147,
   "metadata": {},
   "outputs": [
    {
     "data": {
      "text/plain": [
       "{3468: 5,\n",
       " 1210: 3,\n",
       " 2951: 4,\n",
       " 1214: 4,\n",
       " 1036: 4,\n",
       " 260: 5,\n",
       " 2028: 5,\n",
       " 480: 4,\n",
       " 1196: 2,\n",
       " 1198: 5,\n",
       " 1954: 5,\n",
       " 1097: 4,\n",
       " 3418: 4,\n",
       " 3702: 4,\n",
       " 2366: 4,\n",
       " 1387: 5,\n",
       " 3527: 1,\n",
       " 1201: 5,\n",
       " 2692: 5,\n",
       " 2947: 5,\n",
       " 1240: 5}"
      ]
     },
     "execution_count": 147,
     "metadata": {},
     "output_type": "execute_result"
    }
   ],
   "source": [
    "target_user_movie_rating_dict"
   ]
  },
  {
   "cell_type": "code",
   "execution_count": 148,
   "metadata": {},
   "outputs": [
    {
     "name": "stdout",
     "output_type": "stream",
     "text": [
      "Hustler  The (1961) : 5\n",
      "Star Wars: Episode IV - A New Hope (1977) : 5\n",
      "Saving Private Ryan (1998) : 5\n",
      "Raiders of the Lost Ark (1981) : 5\n",
      "Rocky (1976) : 5\n",
      "Jaws (1975) : 5\n",
      "Good  The Bad and The Ugly  The (1966) : 5\n",
      "Run Lola Run (Lola rennt) (1998) : 5\n",
      "Goldfinger (1964) : 5\n",
      "Terminator  The (1984) : 5\n"
     ]
    }
   ],
   "source": [
    "# 타겟 유저의 기존 선호 영화와 비교.\n",
    "# target_user_movie_rating_dict : (movie_id,rating)\n",
    "target_user_top10_real = sorted(target_user_movie_rating_dict.items(), \n",
    "                                key=operator.itemgetter(1),reverse=True)[:10]\n",
    "for real in target_user_top10_real:\n",
    "    movie_id = real[0]\n",
    "    real_rating = real[1]\n",
    "    print(movie_dict[movie_id], \":\", real_rating)"
   ]
  },
  {
   "cell_type": "markdown",
   "metadata": {},
   "source": [
    "### <Step4. 평가> : 예측 모델 평가하기"
   ]
  },
  {
   "cell_type": "markdown",
   "metadata": {},
   "source": [
    "[예측 모델의 평가 방법]\n",
    "* RMSE 계산 (평균제곱근오차)"
   ]
  },
  {
   "cell_type": "code",
   "execution_count": 149,
   "metadata": {},
   "outputs": [
    {
     "name": "stdout",
     "output_type": "stream",
     "text": [
      "모델훈련 시간: 63.44 초\n",
      "[ SVD모델 데이터셋 RMSE ]\n",
      "RMSE: 0.8576\n"
     ]
    },
    {
     "data": {
      "text/plain": [
       "0.8576255248502959"
      ]
     },
     "execution_count": 149,
     "metadata": {},
     "output_type": "execute_result"
    }
   ],
   "source": [
    "# SVD 라이브러리를 사용하기 위한 학습 데이터를 생성합니다. \n",
    "# 학습 데이터와 테스트 데이터를 8:2로 분할합니다.\n",
    "reader = Reader(rating_scale=(1, 5))\n",
    "data = Dataset.load_from_df(rating_data[['user_id', 'movie_id', 'rating']], reader)\n",
    "train_data, test_data = train_test_split(data, test_size=0.2)\n",
    "\n",
    "# SVD 모델을 학습합니다.\n",
    "train_start = time.time()\n",
    "model = SVD(n_factors=8,\n",
    "            lr_all=0.005,\n",
    "            reg_all=0.02,\n",
    "            n_epochs=100)\n",
    "model.fit(train_data)\n",
    "train_end = time.time()\n",
    "print(\"모델훈련 시간: %.2f 초\" % (train_end - train_start))\n",
    "\n",
    "predictions = model.test(test_data)\n",
    "\n",
    "# 테스트 데이터의 RMSE를 출력합니다.\n",
    "print(\"[ SVD모델 데이터셋 RMSE ]\")\n",
    "accuracy.rmse(predictions)"
   ]
  },
  {
   "cell_type": "markdown",
   "metadata": {},
   "source": [
    "[실제 평점과의 비교 시각화]"
   ]
  },
  {
   "cell_type": "markdown",
   "metadata": {},
   "source": [
    "* 평점 예측 단계"
   ]
  },
  {
   "cell_type": "code",
   "execution_count": 150,
   "metadata": {},
   "outputs": [
    {
     "data": {
      "text/html": [
       "<div>\n",
       "<style scoped>\n",
       "    .dataframe tbody tr th:only-of-type {\n",
       "        vertical-align: middle;\n",
       "    }\n",
       "\n",
       "    .dataframe tbody tr th {\n",
       "        vertical-align: top;\n",
       "    }\n",
       "\n",
       "    .dataframe thead th {\n",
       "        text-align: right;\n",
       "    }\n",
       "</style>\n",
       "<table border=\"1\" class=\"dataframe\">\n",
       "  <thead>\n",
       "    <tr style=\"text-align: right;\">\n",
       "      <th></th>\n",
       "      <th>movie_id</th>\n",
       "      <th>title</th>\n",
       "      <th>genre</th>\n",
       "      <th>year</th>\n",
       "      <th>year_term</th>\n",
       "    </tr>\n",
       "  </thead>\n",
       "  <tbody>\n",
       "    <tr>\n",
       "      <th>0</th>\n",
       "      <td>1</td>\n",
       "      <td>Toy Story (1995)</td>\n",
       "      <td>Animation|Children's|Comedy</td>\n",
       "      <td>1995</td>\n",
       "      <td>1990</td>\n",
       "    </tr>\n",
       "    <tr>\n",
       "      <th>1</th>\n",
       "      <td>2</td>\n",
       "      <td>Jumanji (1995)</td>\n",
       "      <td>Adventure|Children's|Fantasy</td>\n",
       "      <td>1995</td>\n",
       "      <td>1990</td>\n",
       "    </tr>\n",
       "  </tbody>\n",
       "</table>\n",
       "</div>"
      ],
      "text/plain": [
       "   movie_id             title                         genre  year year_term\n",
       "0         1  Toy Story (1995)   Animation|Children's|Comedy  1995      1990\n",
       "1         2    Jumanji (1995)  Adventure|Children's|Fantasy  1995      1990"
      ]
     },
     "execution_count": 150,
     "metadata": {},
     "output_type": "execute_result"
    }
   ],
   "source": [
    "movie_data.head(2)"
   ]
  },
  {
   "cell_type": "code",
   "execution_count": 151,
   "metadata": {},
   "outputs": [],
   "source": [
    "# target_user_movie_rating_dict\n",
    "# {3468: 5,\n",
    "#  1210: 3,\n",
    "#  2951: 4,\n",
    "#  1214: 4,"
   ]
  },
  {
   "cell_type": "code",
   "execution_count": 152,
   "metadata": {},
   "outputs": [],
   "source": [
    "# 타겟 유저 정보를 테스트 데이터로 생성\n",
    "# \n",
    "test_data = []\n",
    "for index, row in movie_data.iterrows():\n",
    "    movie_id = row['movie_id']\n",
    "    # 평점이 있는 영화 검색후 test_data 저장\n",
    "    if movie_id in target_user_movie_rating_dict:\n",
    "        rating = target_user_movie_rating_dict[movie_id]\n",
    "        test_data.append((target_user_id, movie_id, rating))"
   ]
  },
  {
   "cell_type": "code",
   "execution_count": 153,
   "metadata": {},
   "outputs": [],
   "source": [
    "# 평점이 있는 영화 평점예측. (실제평점,예측평점 비교)\n",
    "target_user_predictions = model.test(test_data)\n",
    "\n",
    "# 예측된 점수 중, 타겟 유저의 영화별 점수를 target_user_movie_predict_dict로 저장.\n",
    "def get_user_predicted_ratings(predictions, user_id, user_history):\n",
    "    target_user_movie_predict_dict = {}\n",
    "    for uid, mid, rating, predicted_rating, _ in predictions:\n",
    "        if user_id == uid:\n",
    "            if mid in user_history:\n",
    "                target_user_movie_predict_dict[mid] = predicted_rating\n",
    "    return target_user_movie_predict_dict\n",
    "\n",
    "# target_user_movie_predict_dict에서 예측된 점수 중, 타겟 유저의 Top 10 영화를 선정합니다.\n",
    "# target_user_predictions : 평점이 있는 영화 평점예측\n",
    "# target_user_movie_rating_dict : 유저가 평가한 영화\n",
    "target_user_movie_predict_dict = get_user_predicted_ratings(predictions=target_user_predictions, \n",
    "                                                            user_id=target_user_id, \n",
    "                                                            user_history=target_user_movie_rating_dict)"
   ]
  },
  {
   "cell_type": "code",
   "execution_count": 154,
   "metadata": {},
   "outputs": [
    {
     "data": {
      "text/plain": [
       "{260: 4.08849492023039,\n",
       " 480: 3.585012425421055,\n",
       " 1036: 4.326124739885392,\n",
       " 1097: 4.179693455405195,\n",
       " 1196: 3.7669647343282207,\n",
       " 1198: 4.503407548990621,\n",
       " 1201: 4.639898261923146,\n",
       " 1210: 3.4535901336871526,\n",
       " 1214: 4.242570137097889,\n",
       " 1240: 4.282645200422148,\n",
       " 1387: 4.502439266296318,\n",
       " 1954: 4.378465439382629,\n",
       " 2028: 4.555255991815626,\n",
       " 2366: 4.098666782682388,\n",
       " 2692: 4.181024935206077,\n",
       " 2947: 4.276331483880583,\n",
       " 2951: 4.473422051514191,\n",
       " 3418: 4.330499656845153,\n",
       " 3468: 4.894594016488007,\n",
       " 3527: 3.314634519107983,\n",
       " 3702: 3.8032063047016402}"
      ]
     },
     "execution_count": 154,
     "metadata": {},
     "output_type": "execute_result"
    }
   ],
   "source": [
    "# 타겟 예측평점\n",
    "target_user_movie_predict_dict"
   ]
  },
  {
   "cell_type": "code",
   "execution_count": 155,
   "metadata": {},
   "outputs": [
    {
     "name": "stdout",
     "output_type": "stream",
     "text": [
      "movie 1 : Star Wars: Episode IV - A New Hope (1977) - 5 / 4.09\n",
      "movie 2 : Jurassic Park (1993) - 4 / 3.59\n",
      "movie 3 : Die Hard (1988) - 4 / 4.33\n",
      "movie 4 : E.T. the Extra-Terrestrial (1982) - 4 / 4.18\n",
      "movie 5 : Star Wars: Episode V - The Empire Strikes Back (1980) - 2 / 3.77\n",
      "movie 6 : Raiders of the Lost Ark (1981) - 5 / 4.5\n",
      "movie 7 : Good  The Bad and The Ugly  The (1966) - 5 / 4.64\n",
      "movie 8 : Star Wars: Episode VI - Return of the Jedi (1983) - 3 / 3.45\n",
      "movie 9 : Alien (1979) - 4 / 4.24\n",
      "movie 10 : Terminator  The (1984) - 5 / 4.28\n",
      "movie 11 : Jaws (1975) - 5 / 4.5\n",
      "movie 12 : Rocky (1976) - 5 / 4.38\n",
      "movie 13 : Saving Private Ryan (1998) - 5 / 4.56\n",
      "movie 14 : King Kong (1933) - 4 / 4.1\n",
      "movie 15 : Run Lola Run (Lola rennt) (1998) - 5 / 4.18\n",
      "movie 16 : Goldfinger (1964) - 5 / 4.28\n",
      "movie 17 : Fistful of Dollars  A (1964) - 4 / 4.47\n",
      "movie 18 : Thelma & Louise (1991) - 4 / 4.33\n",
      "movie 19 : Hustler  The (1961) - 5 / 4.89\n",
      "movie 20 : Predator (1987) - 1 / 3.31\n",
      "movie 21 : Mad Max (1979) - 4 / 3.8\n"
     ]
    }
   ],
   "source": [
    "# 예측 점수와 실제 점수를 영화 타이틀에 매핑.\n",
    "origin_rating_list = []\n",
    "predicted_rating_list = []\n",
    "movie_title_list = []\n",
    "idx = 0\n",
    "# target_user_movie_predict_dict : ( movie_id,예측평점 )\n",
    "for movie_id, predicted_rating in target_user_movie_predict_dict.items():\n",
    "    idx = idx + 1\n",
    "    # 예측평점 소수점2자리\n",
    "    predicted_rating = round(predicted_rating, 2)\n",
    "    # 실제평점\n",
    "    origin_rating = target_user_movie_rating_dict[movie_id]\n",
    "    # 영화번호\n",
    "    movie_title = movie_dict[movie_id]\n",
    "    print(\"movie\", str(idx), \":\", movie_title, \"-\", origin_rating, \"/\", predicted_rating)\n",
    "    origin_rating_list.append(origin_rating)\n",
    "    predicted_rating_list.append(predicted_rating)\n",
    "    movie_title_list.append(str(idx))"
   ]
  },
  {
   "cell_type": "markdown",
   "metadata": {},
   "source": [
    "* 결과 시각화"
   ]
  },
  {
   "cell_type": "code",
   "execution_count": 156,
   "metadata": {},
   "outputs": [
    {
     "data": {
      "image/png": "[encoded data removed]",
      "text/plain": [
       "<Figure size 720x432 with 1 Axes>"
      ]
     },
     "metadata": {
      "needs_background": "light"
     },
     "output_type": "display_data"
    }
   ],
   "source": [
    "# 실제 점수와 예측 점수를 리스트로 추출합니다.\n",
    "origin = origin_rating_list\n",
    "predicted = predicted_rating_list\n",
    " \n",
    "# 영화의 개수만큼 bar 그래프의 index 개수를 생성합니다.\n",
    "plt.rcParams['figure.figsize'] = (10,6)\n",
    "index = np.arange(len(movie_title_list))\n",
    "bar_width = 0.2\n",
    " \n",
    "# 실제 점수와 예측 점수를 bar 그래프로 출력합니다.\n",
    "rects1 = plt.bar(index, origin, bar_width,\n",
    "                 color='orange',\n",
    "                 label='Origin')\n",
    "rects2 = plt.bar(index + bar_width, predicted, bar_width,\n",
    "                 color='green',\n",
    "                 label='Predicted')\n",
    "plt.xticks(index, movie_title_list)\n",
    "plt.legend()\n",
    "plt.show()"
   ]
  }
 ],
 "metadata": {
  "kernelspec": {
   "display_name": "Python 3.10.2 64-bit",
   "language": "python",
   "name": "python3"
  },
  "language_info": {
   "codemirror_mode": {
    "name": "ipython",
    "version": 3
   },
   "file_extension": ".py",
   "mimetype": "text/x-python",
   "name": "python",
   "nbconvert_exporter": "python",
   "pygments_lexer": "ipython3",
   "version": "3.10.2"
  },
  "orig_nbformat": 4,
  "vscode": {
   "interpreter": {
    "hash": "369f2c481f4da34e4445cda3fffd2e751bd1c4d706f27375911949ba6bb62e1c"
   }
  }
 },
 "nbformat": 4,
 "nbformat_minor": 2
}

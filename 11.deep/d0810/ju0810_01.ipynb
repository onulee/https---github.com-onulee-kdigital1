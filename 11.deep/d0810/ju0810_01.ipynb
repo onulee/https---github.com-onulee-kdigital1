{
 "cells": [
  {
   "cell_type": "code",
   "execution_count": 14,
   "metadata": {},
   "outputs": [],
   "source": [
    "import pandas as pd\n",
    "import numpy as np\n",
    "import matplotlib.pyplot as plt\n",
    "from apyori import apriori"
   ]
  },
  {
   "cell_type": "markdown",
   "metadata": {},
   "source": [
    "파일 불러오기"
   ]
  },
  {
   "cell_type": "code",
   "execution_count": 15,
   "metadata": {},
   "outputs": [
    {
     "name": "stdout",
     "output_type": "stream",
     "text": [
      "1000\n"
     ]
    },
    {
     "data": {
      "text/html": [
       "<div>\n",
       "<style scoped>\n",
       "    .dataframe tbody tr th:only-of-type {\n",
       "        vertical-align: middle;\n",
       "    }\n",
       "\n",
       "    .dataframe tbody tr th {\n",
       "        vertical-align: top;\n",
       "    }\n",
       "\n",
       "    .dataframe thead th {\n",
       "        text-align: right;\n",
       "    }\n",
       "</style>\n",
       "<table border=\"1\" class=\"dataframe\">\n",
       "  <thead>\n",
       "    <tr style=\"text-align: right;\">\n",
       "      <th></th>\n",
       "      <th>Unnamed: 0</th>\n",
       "      <th>created</th>\n",
       "      <th>tweet_text</th>\n",
       "    </tr>\n",
       "  </thead>\n",
       "  <tbody>\n",
       "    <tr>\n",
       "      <th>0</th>\n",
       "      <td>0</td>\n",
       "      <td>Sat Jun 12 07:28:52 +0000 2021</td>\n",
       "      <td>가슴 경주 대구 마사 마산 부산 소통 야동 인천 일탈 최신영화 손흥민 만남앱 소개팅...</td>\n",
       "    </tr>\n",
       "    <tr>\n",
       "      <th>1</th>\n",
       "      <td>1</td>\n",
       "      <td>Sat Jun 12 07:17:25 +0000 2021</td>\n",
       "      <td>코인세탁소 산업혁명셀프 사이트 인공지능 빨래방 손흥민 그래핀 지도 강남구 광고 세탁...</td>\n",
       "    </tr>\n",
       "    <tr>\n",
       "      <th>2</th>\n",
       "      <td>2</td>\n",
       "      <td>Sat Jun 12 07:12:41 +0000 2021</td>\n",
       "      <td>RT @sonny_record: 210611 팬문선답 타래 #손흥민 https://...</td>\n",
       "    </tr>\n",
       "  </tbody>\n",
       "</table>\n",
       "</div>"
      ],
      "text/plain": [
       "   Unnamed: 0                         created  \\\n",
       "0           0  Sat Jun 12 07:28:52 +0000 2021   \n",
       "1           1  Sat Jun 12 07:17:25 +0000 2021   \n",
       "2           2  Sat Jun 12 07:12:41 +0000 2021   \n",
       "\n",
       "                                          tweet_text  \n",
       "0  가슴 경주 대구 마사 마산 부산 소통 야동 인천 일탈 최신영화 손흥민 만남앱 소개팅...  \n",
       "1  코인세탁소 산업혁명셀프 사이트 인공지능 빨래방 손흥민 그래핀 지도 강남구 광고 세탁...  \n",
       "2  RT @sonny_record: 210611 팬문선답 타래 #손흥민 https://...  "
      ]
     },
     "execution_count": 15,
     "metadata": {},
     "output_type": "execute_result"
    }
   ],
   "source": [
    "df = pd.read_csv('son1.csv',encoding='utf-8')\n",
    "print(len(df))\n",
    "df.head(3)"
   ]
  },
  {
   "cell_type": "markdown",
   "metadata": {},
   "source": [
    "데이터 정규화"
   ]
  },
  {
   "cell_type": "code",
   "execution_count": 16,
   "metadata": {},
   "outputs": [],
   "source": [
    "import re\n",
    "\n",
    "# 정규표현식 - 한글만 포함\n",
    "def text_cleaning(text):\n",
    "    hangul = re.compile('[^ ㄱ-ㅣ가-힝]+') # 한글만 포함시킴\n",
    "    result = hangul.sub('',text)\n",
    "    return result"
   ]
  },
  {
   "cell_type": "code",
   "execution_count": 17,
   "metadata": {},
   "outputs": [
    {
     "data": {
      "text/html": [
       "<div>\n",
       "<style scoped>\n",
       "    .dataframe tbody tr th:only-of-type {\n",
       "        vertical-align: middle;\n",
       "    }\n",
       "\n",
       "    .dataframe tbody tr th {\n",
       "        vertical-align: top;\n",
       "    }\n",
       "\n",
       "    .dataframe thead th {\n",
       "        text-align: right;\n",
       "    }\n",
       "</style>\n",
       "<table border=\"1\" class=\"dataframe\">\n",
       "  <thead>\n",
       "    <tr style=\"text-align: right;\">\n",
       "      <th></th>\n",
       "      <th>Unnamed: 0</th>\n",
       "      <th>created</th>\n",
       "      <th>tweet_text</th>\n",
       "      <th>ko_text</th>\n",
       "    </tr>\n",
       "  </thead>\n",
       "  <tbody>\n",
       "    <tr>\n",
       "      <th>0</th>\n",
       "      <td>0</td>\n",
       "      <td>Sat Jun 12 07:28:52 +0000 2021</td>\n",
       "      <td>가슴 경주 대구 마사 마산 부산 소통 야동 인천 일탈 최신영화 손흥민 만남앱 소개팅...</td>\n",
       "      <td>가슴 경주 대구 마사 마산 부산 소통 야동 인천 일탈 최신영화 손흥민 만남앱 소개팅...</td>\n",
       "    </tr>\n",
       "    <tr>\n",
       "      <th>1</th>\n",
       "      <td>1</td>\n",
       "      <td>Sat Jun 12 07:17:25 +0000 2021</td>\n",
       "      <td>코인세탁소 산업혁명셀프 사이트 인공지능 빨래방 손흥민 그래핀 지도 강남구 광고 세탁...</td>\n",
       "      <td>코인세탁소 산업혁명셀프 사이트 인공지능 빨래방 손흥민 그래핀 지도 강남구 광고 세탁...</td>\n",
       "    </tr>\n",
       "  </tbody>\n",
       "</table>\n",
       "</div>"
      ],
      "text/plain": [
       "   Unnamed: 0                         created  \\\n",
       "0           0  Sat Jun 12 07:28:52 +0000 2021   \n",
       "1           1  Sat Jun 12 07:17:25 +0000 2021   \n",
       "\n",
       "                                          tweet_text  \\\n",
       "0  가슴 경주 대구 마사 마산 부산 소통 야동 인천 일탈 최신영화 손흥민 만남앱 소개팅...   \n",
       "1  코인세탁소 산업혁명셀프 사이트 인공지능 빨래방 손흥민 그래핀 지도 강남구 광고 세탁...   \n",
       "\n",
       "                                             ko_text  \n",
       "0  가슴 경주 대구 마사 마산 부산 소통 야동 인천 일탈 최신영화 손흥민 만남앱 소개팅...  \n",
       "1  코인세탁소 산업혁명셀프 사이트 인공지능 빨래방 손흥민 그래핀 지도 강남구 광고 세탁...  "
      ]
     },
     "execution_count": 17,
     "metadata": {},
     "output_type": "execute_result"
    }
   ],
   "source": [
    "# 한글만 포함해서 컬럼 저장\n",
    "df['ko_text'] =  df['tweet_text'].apply(lambda x: text_cleaning(x))\n",
    "df.head(2)"
   ]
  },
  {
   "cell_type": "markdown",
   "metadata": {},
   "source": [
    "Konlpy를 이용한 키워드 분할"
   ]
  },
  {
   "cell_type": "code",
   "execution_count": 18,
   "metadata": {},
   "outputs": [],
   "source": [
    "from konlpy.tag import Okt\n",
    "# 글자가 몇번 나왔는지 확인, 카운트 함수\n",
    "from collections import Counter\n",
    "\n",
    "#  불용어사전을 이용해서 필요없는 단어 제거\n",
    "with open('korean_stopwords.txt',encoding='utf-8') as f:\n",
    "    stopwords = f.readlines()\n",
    "# list타입\n",
    "stopwords = [x.strip() for x in stopwords]    "
   ]
  },
  {
   "cell_type": "code",
   "execution_count": 19,
   "metadata": {},
   "outputs": [
    {
     "data": {
      "text/plain": [
       "['가', '가까스로', '가령']"
      ]
     },
     "execution_count": 19,
     "metadata": {},
     "output_type": "execute_result"
    }
   ],
   "source": [
    "stopwords[:3]"
   ]
  },
  {
   "cell_type": "code",
   "execution_count": 24,
   "metadata": {},
   "outputs": [],
   "source": [
    "# 형태소 분석, 한글자 삭제, 불용어 제거\n",
    "def get_nouns(x):\n",
    "    # 키워드연관분석을 하려면 명사만 필요\n",
    "    # list타입\n",
    "    nouns_tagger = Okt()\n",
    "    nouns = nouns_tagger.nouns(x)\n",
    "    # 한글자 키워드는 모두제거\n",
    "    nouns = [noun for noun in nouns if len(noun)>1 ]\n",
    "    # 불용어 제거\n",
    "    nouns = [noun for noun in nouns if noun not in stopwords ]\n",
    "    return nouns"
   ]
  },
  {
   "cell_type": "code",
   "execution_count": 25,
   "metadata": {},
   "outputs": [
    {
     "data": {
      "text/html": [
       "<div>\n",
       "<style scoped>\n",
       "    .dataframe tbody tr th:only-of-type {\n",
       "        vertical-align: middle;\n",
       "    }\n",
       "\n",
       "    .dataframe tbody tr th {\n",
       "        vertical-align: top;\n",
       "    }\n",
       "\n",
       "    .dataframe thead th {\n",
       "        text-align: right;\n",
       "    }\n",
       "</style>\n",
       "<table border=\"1\" class=\"dataframe\">\n",
       "  <thead>\n",
       "    <tr style=\"text-align: right;\">\n",
       "      <th></th>\n",
       "      <th>Unnamed: 0</th>\n",
       "      <th>created</th>\n",
       "      <th>tweet_text</th>\n",
       "      <th>ko_text</th>\n",
       "      <th>nouns</th>\n",
       "    </tr>\n",
       "  </thead>\n",
       "  <tbody>\n",
       "    <tr>\n",
       "      <th>0</th>\n",
       "      <td>0</td>\n",
       "      <td>Sat Jun 12 07:28:52 +0000 2021</td>\n",
       "      <td>가슴 경주 대구 마사 마산 부산 소통 야동 인천 일탈 최신영화 손흥민 만남앱 소개팅...</td>\n",
       "      <td>가슴 경주 대구 마사 마산 부산 소통 야동 인천 일탈 최신영화 손흥민 만남앱 소개팅...</td>\n",
       "      <td>[가슴, 경주, 대구, 마사, 마산, 부산, 소통, 야동, 인천, 최신영, 손흥민,...</td>\n",
       "    </tr>\n",
       "    <tr>\n",
       "      <th>1</th>\n",
       "      <td>1</td>\n",
       "      <td>Sat Jun 12 07:17:25 +0000 2021</td>\n",
       "      <td>코인세탁소 산업혁명셀프 사이트 인공지능 빨래방 손흥민 그래핀 지도 강남구 광고 세탁...</td>\n",
       "      <td>코인세탁소 산업혁명셀프 사이트 인공지능 빨래방 손흥민 그래핀 지도 강남구 광고 세탁...</td>\n",
       "      <td>[코인, 세탁소, 산업혁명, 셀프, 사이트, 인공, 지능, 빨래, 손흥민, 그래핀,...</td>\n",
       "    </tr>\n",
       "    <tr>\n",
       "      <th>2</th>\n",
       "      <td>2</td>\n",
       "      <td>Sat Jun 12 07:12:41 +0000 2021</td>\n",
       "      <td>RT @sonny_record: 210611 팬문선답 타래 #손흥민 https://...</td>\n",
       "      <td>팬문선답 타래 손흥민</td>\n",
       "      <td>[문선, 타래, 손흥민]</td>\n",
       "    </tr>\n",
       "  </tbody>\n",
       "</table>\n",
       "</div>"
      ],
      "text/plain": [
       "   Unnamed: 0                         created  \\\n",
       "0           0  Sat Jun 12 07:28:52 +0000 2021   \n",
       "1           1  Sat Jun 12 07:17:25 +0000 2021   \n",
       "2           2  Sat Jun 12 07:12:41 +0000 2021   \n",
       "\n",
       "                                          tweet_text  \\\n",
       "0  가슴 경주 대구 마사 마산 부산 소통 야동 인천 일탈 최신영화 손흥민 만남앱 소개팅...   \n",
       "1  코인세탁소 산업혁명셀프 사이트 인공지능 빨래방 손흥민 그래핀 지도 강남구 광고 세탁...   \n",
       "2  RT @sonny_record: 210611 팬문선답 타래 #손흥민 https://...   \n",
       "\n",
       "                                             ko_text  \\\n",
       "0  가슴 경주 대구 마사 마산 부산 소통 야동 인천 일탈 최신영화 손흥민 만남앱 소개팅...   \n",
       "1  코인세탁소 산업혁명셀프 사이트 인공지능 빨래방 손흥민 그래핀 지도 강남구 광고 세탁...   \n",
       "2                                       팬문선답 타래 손흥민    \n",
       "\n",
       "                                               nouns  \n",
       "0  [가슴, 경주, 대구, 마사, 마산, 부산, 소통, 야동, 인천, 최신영, 손흥민,...  \n",
       "1  [코인, 세탁소, 산업혁명, 셀프, 사이트, 인공, 지능, 빨래, 손흥민, 그래핀,...  \n",
       "2                                      [문선, 타래, 손흥민]  "
      ]
     },
     "execution_count": 25,
     "metadata": {},
     "output_type": "execute_result"
    }
   ],
   "source": [
    "df['nouns'] = df['ko_text'].apply(lambda x : get_nouns(x))\n",
    "df.head(3)"
   ]
  },
  {
   "cell_type": "markdown",
   "metadata": {},
   "source": [
    "## 키워드 연관검색"
   ]
  },
  {
   "cell_type": "markdown",
   "metadata": {},
   "source": [
    "샘플을 가지고 실습"
   ]
  },
  {
   "cell_type": "code",
   "execution_count": 26,
   "metadata": {},
   "outputs": [
    {
     "name": "stdout",
     "output_type": "stream",
     "text": [
      "RelationRecord(items=frozenset({'손흥민'}), support=1.0, ordered_statistics=[OrderedStatistic(items_base=frozenset(), items_add=frozenset({'손흥민'}), confidence=1.0, lift=1.0)])\n",
      "RelationRecord(items=frozenset({'시소코'}), support=0.3333333333333333, ordered_statistics=[OrderedStatistic(items_base=frozenset(), items_add=frozenset({'시소코'}), confidence=0.3333333333333333, lift=1.0)])\n",
      "RelationRecord(items=frozenset({'케인'}), support=0.6666666666666666, ordered_statistics=[OrderedStatistic(items_base=frozenset(), items_add=frozenset({'케인'}), confidence=0.6666666666666666, lift=1.0)])\n",
      "RelationRecord(items=frozenset({'콘테'}), support=0.3333333333333333, ordered_statistics=[OrderedStatistic(items_base=frozenset(), items_add=frozenset({'콘테'}), confidence=0.3333333333333333, lift=1.0)])\n",
      "RelationRecord(items=frozenset({'손흥민', '시소코'}), support=0.3333333333333333, ordered_statistics=[OrderedStatistic(items_base=frozenset(), items_add=frozenset({'손흥민', '시소코'}), confidence=0.3333333333333333, lift=1.0), OrderedStatistic(items_base=frozenset({'손흥민'}), items_add=frozenset({'시소코'}), confidence=0.3333333333333333, lift=1.0), OrderedStatistic(items_base=frozenset({'시소코'}), items_add=frozenset({'손흥민'}), confidence=1.0, lift=1.0)])\n",
      "RelationRecord(items=frozenset({'케인', '손흥민'}), support=0.6666666666666666, ordered_statistics=[OrderedStatistic(items_base=frozenset(), items_add=frozenset({'케인', '손흥민'}), confidence=0.6666666666666666, lift=1.0), OrderedStatistic(items_base=frozenset({'손흥민'}), items_add=frozenset({'케인'}), confidence=0.6666666666666666, lift=1.0), OrderedStatistic(items_base=frozenset({'케인'}), items_add=frozenset({'손흥민'}), confidence=1.0, lift=1.0)])\n",
      "RelationRecord(items=frozenset({'손흥민', '콘테'}), support=0.3333333333333333, ordered_statistics=[OrderedStatistic(items_base=frozenset(), items_add=frozenset({'손흥민', '콘테'}), confidence=0.3333333333333333, lift=1.0), OrderedStatistic(items_base=frozenset({'손흥민'}), items_add=frozenset({'콘테'}), confidence=0.3333333333333333, lift=1.0), OrderedStatistic(items_base=frozenset({'콘테'}), items_add=frozenset({'손흥민'}), confidence=1.0, lift=1.0)])\n",
      "RelationRecord(items=frozenset({'케인', '콘테'}), support=0.3333333333333333, ordered_statistics=[OrderedStatistic(items_base=frozenset(), items_add=frozenset({'케인', '콘테'}), confidence=0.3333333333333333, lift=1.0), OrderedStatistic(items_base=frozenset({'케인'}), items_add=frozenset({'콘테'}), confidence=0.5, lift=1.5), OrderedStatistic(items_base=frozenset({'콘테'}), items_add=frozenset({'케인'}), confidence=1.0, lift=1.5)])\n",
      "RelationRecord(items=frozenset({'케인', '손흥민', '콘테'}), support=0.3333333333333333, ordered_statistics=[OrderedStatistic(items_base=frozenset(), items_add=frozenset({'케인', '손흥민', '콘테'}), confidence=0.3333333333333333, lift=1.0), OrderedStatistic(items_base=frozenset({'손흥민'}), items_add=frozenset({'케인', '콘테'}), confidence=0.3333333333333333, lift=1.0), OrderedStatistic(items_base=frozenset({'케인'}), items_add=frozenset({'손흥민', '콘테'}), confidence=0.5, lift=1.5), OrderedStatistic(items_base=frozenset({'콘테'}), items_add=frozenset({'케인', '손흥민'}), confidence=1.0, lift=1.5), OrderedStatistic(items_base=frozenset({'케인', '손흥민'}), items_add=frozenset({'콘테'}), confidence=0.5, lift=1.5), OrderedStatistic(items_base=frozenset({'손흥민', '콘테'}), items_add=frozenset({'케인'}), confidence=1.0, lift=1.5), OrderedStatistic(items_base=frozenset({'케인', '콘테'}), items_add=frozenset({'손흥민'}), confidence=1.0, lift=1.0)])\n"
     ]
    }
   ],
   "source": [
    "# 샘플\n",
    "transactions = [\n",
    "    ['손흥민','시소코'],\n",
    "    ['손흥민','케인'],\n",
    "    ['손흥민','케인','콘테'],\n",
    "]\n",
    "\n",
    "# 연관분석 모델 적용\n",
    "results = list(apriori(transactions))\n",
    "for result in results:\n",
    "    print(result)"
   ]
  }
 ],
 "metadata": {
  "kernelspec": {
   "display_name": "Python 3.10.2 64-bit",
   "language": "python",
   "name": "python3"
  },
  "language_info": {
   "codemirror_mode": {
    "name": "ipython",
    "version": 3
   },
   "file_extension": ".py",
   "mimetype": "text/x-python",
   "name": "python",
   "nbconvert_exporter": "python",
   "pygments_lexer": "ipython3",
   "version": "3.10.2"
  },
  "orig_nbformat": 4,
  "vscode": {
   "interpreter": {
    "hash": "369f2c481f4da34e4445cda3fffd2e751bd1c4d706f27375911949ba6bb62e1c"
   }
  }
 },
 "nbformat": 4,
 "nbformat_minor": 2
}

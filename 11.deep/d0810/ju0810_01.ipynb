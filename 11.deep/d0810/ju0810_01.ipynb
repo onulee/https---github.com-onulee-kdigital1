{
 "cells": [
  {
   "cell_type": "code",
   "execution_count": 40,
   "metadata": {},
   "outputs": [],
   "source": [
    "import pandas as pd\n",
    "import numpy as np\n",
    "import matplotlib.pyplot as plt\n",
    "from apyori import apriori\n",
    "\n",
    "import warnings\n",
    "warnings.filterwarnings(\"ignore\")"
   ]
  },
  {
   "cell_type": "markdown",
   "metadata": {},
   "source": [
    "파일 불러오기"
   ]
  },
  {
   "cell_type": "code",
   "execution_count": 41,
   "metadata": {},
   "outputs": [
    {
     "name": "stdout",
     "output_type": "stream",
     "text": [
      "1000\n"
     ]
    },
    {
     "data": {
      "text/html": [
       "<div>\n",
       "<style scoped>\n",
       "    .dataframe tbody tr th:only-of-type {\n",
       "        vertical-align: middle;\n",
       "    }\n",
       "\n",
       "    .dataframe tbody tr th {\n",
       "        vertical-align: top;\n",
       "    }\n",
       "\n",
       "    .dataframe thead th {\n",
       "        text-align: right;\n",
       "    }\n",
       "</style>\n",
       "<table border=\"1\" class=\"dataframe\">\n",
       "  <thead>\n",
       "    <tr style=\"text-align: right;\">\n",
       "      <th></th>\n",
       "      <th>Unnamed: 0</th>\n",
       "      <th>created</th>\n",
       "      <th>tweet_text</th>\n",
       "    </tr>\n",
       "  </thead>\n",
       "  <tbody>\n",
       "    <tr>\n",
       "      <th>0</th>\n",
       "      <td>0</td>\n",
       "      <td>Sat Jun 12 07:28:52 +0000 2021</td>\n",
       "      <td>가슴 경주 대구 마사 마산 부산 소통 야동 인천 일탈 최신영화 손흥민 만남앱 소개팅...</td>\n",
       "    </tr>\n",
       "    <tr>\n",
       "      <th>1</th>\n",
       "      <td>1</td>\n",
       "      <td>Sat Jun 12 07:17:25 +0000 2021</td>\n",
       "      <td>코인세탁소 산업혁명셀프 사이트 인공지능 빨래방 손흥민 그래핀 지도 강남구 광고 세탁...</td>\n",
       "    </tr>\n",
       "    <tr>\n",
       "      <th>2</th>\n",
       "      <td>2</td>\n",
       "      <td>Sat Jun 12 07:12:41 +0000 2021</td>\n",
       "      <td>RT @sonny_record: 210611 팬문선답 타래 #손흥민 https://...</td>\n",
       "    </tr>\n",
       "  </tbody>\n",
       "</table>\n",
       "</div>"
      ],
      "text/plain": [
       "   Unnamed: 0                         created  \\\n",
       "0           0  Sat Jun 12 07:28:52 +0000 2021   \n",
       "1           1  Sat Jun 12 07:17:25 +0000 2021   \n",
       "2           2  Sat Jun 12 07:12:41 +0000 2021   \n",
       "\n",
       "                                          tweet_text  \n",
       "0  가슴 경주 대구 마사 마산 부산 소통 야동 인천 일탈 최신영화 손흥민 만남앱 소개팅...  \n",
       "1  코인세탁소 산업혁명셀프 사이트 인공지능 빨래방 손흥민 그래핀 지도 강남구 광고 세탁...  \n",
       "2  RT @sonny_record: 210611 팬문선답 타래 #손흥민 https://...  "
      ]
     },
     "execution_count": 41,
     "metadata": {},
     "output_type": "execute_result"
    }
   ],
   "source": [
    "df = pd.read_csv('son1.csv',encoding='utf-8')\n",
    "print(len(df))\n",
    "df.head(3)"
   ]
  },
  {
   "cell_type": "markdown",
   "metadata": {},
   "source": [
    "데이터 정규화"
   ]
  },
  {
   "cell_type": "code",
   "execution_count": 42,
   "metadata": {},
   "outputs": [],
   "source": [
    "import re\n",
    "\n",
    "# 정규표현식 - 한글만 포함\n",
    "def text_cleaning(text):\n",
    "    hangul = re.compile('[^ ㄱ-ㅣ가-힝]+') # 한글만 포함시킴\n",
    "    result = hangul.sub('',text)\n",
    "    return result"
   ]
  },
  {
   "cell_type": "code",
   "execution_count": 43,
   "metadata": {},
   "outputs": [
    {
     "data": {
      "text/html": [
       "<div>\n",
       "<style scoped>\n",
       "    .dataframe tbody tr th:only-of-type {\n",
       "        vertical-align: middle;\n",
       "    }\n",
       "\n",
       "    .dataframe tbody tr th {\n",
       "        vertical-align: top;\n",
       "    }\n",
       "\n",
       "    .dataframe thead th {\n",
       "        text-align: right;\n",
       "    }\n",
       "</style>\n",
       "<table border=\"1\" class=\"dataframe\">\n",
       "  <thead>\n",
       "    <tr style=\"text-align: right;\">\n",
       "      <th></th>\n",
       "      <th>Unnamed: 0</th>\n",
       "      <th>created</th>\n",
       "      <th>tweet_text</th>\n",
       "      <th>ko_text</th>\n",
       "    </tr>\n",
       "  </thead>\n",
       "  <tbody>\n",
       "    <tr>\n",
       "      <th>0</th>\n",
       "      <td>0</td>\n",
       "      <td>Sat Jun 12 07:28:52 +0000 2021</td>\n",
       "      <td>가슴 경주 대구 마사 마산 부산 소통 야동 인천 일탈 최신영화 손흥민 만남앱 소개팅...</td>\n",
       "      <td>가슴 경주 대구 마사 마산 부산 소통 야동 인천 일탈 최신영화 손흥민 만남앱 소개팅...</td>\n",
       "    </tr>\n",
       "    <tr>\n",
       "      <th>1</th>\n",
       "      <td>1</td>\n",
       "      <td>Sat Jun 12 07:17:25 +0000 2021</td>\n",
       "      <td>코인세탁소 산업혁명셀프 사이트 인공지능 빨래방 손흥민 그래핀 지도 강남구 광고 세탁...</td>\n",
       "      <td>코인세탁소 산업혁명셀프 사이트 인공지능 빨래방 손흥민 그래핀 지도 강남구 광고 세탁...</td>\n",
       "    </tr>\n",
       "  </tbody>\n",
       "</table>\n",
       "</div>"
      ],
      "text/plain": [
       "   Unnamed: 0                         created  \\\n",
       "0           0  Sat Jun 12 07:28:52 +0000 2021   \n",
       "1           1  Sat Jun 12 07:17:25 +0000 2021   \n",
       "\n",
       "                                          tweet_text  \\\n",
       "0  가슴 경주 대구 마사 마산 부산 소통 야동 인천 일탈 최신영화 손흥민 만남앱 소개팅...   \n",
       "1  코인세탁소 산업혁명셀프 사이트 인공지능 빨래방 손흥민 그래핀 지도 강남구 광고 세탁...   \n",
       "\n",
       "                                             ko_text  \n",
       "0  가슴 경주 대구 마사 마산 부산 소통 야동 인천 일탈 최신영화 손흥민 만남앱 소개팅...  \n",
       "1  코인세탁소 산업혁명셀프 사이트 인공지능 빨래방 손흥민 그래핀 지도 강남구 광고 세탁...  "
      ]
     },
     "execution_count": 43,
     "metadata": {},
     "output_type": "execute_result"
    }
   ],
   "source": [
    "# 한글만 포함해서 컬럼 저장\n",
    "df['ko_text'] =  df['tweet_text'].apply(lambda x: text_cleaning(x))\n",
    "df.head(2)"
   ]
  },
  {
   "cell_type": "markdown",
   "metadata": {},
   "source": [
    "Konlpy를 이용한 키워드 분할"
   ]
  },
  {
   "cell_type": "code",
   "execution_count": 44,
   "metadata": {},
   "outputs": [],
   "source": [
    "from konlpy.tag import Okt\n",
    "# 글자가 몇번 나왔는지 확인, 카운트 함수\n",
    "from collections import Counter\n",
    "\n",
    "#  불용어사전을 이용해서 필요없는 단어 제거\n",
    "with open('korean_stopwords.txt',encoding='utf-8') as f:\n",
    "    stopwords = f.readlines()\n",
    "# list타입\n",
    "stopwords = [x.strip() for x in stopwords]    "
   ]
  },
  {
   "cell_type": "code",
   "execution_count": 45,
   "metadata": {},
   "outputs": [
    {
     "data": {
      "text/plain": [
       "['가', '가까스로', '가령']"
      ]
     },
     "execution_count": 45,
     "metadata": {},
     "output_type": "execute_result"
    }
   ],
   "source": [
    "stopwords[:3]"
   ]
  },
  {
   "cell_type": "code",
   "execution_count": 46,
   "metadata": {},
   "outputs": [],
   "source": [
    "# 형태소 분석, 한글자 삭제, 불용어 제거\n",
    "def get_nouns(x):\n",
    "    # 키워드연관분석을 하려면 명사만 필요\n",
    "    # list타입\n",
    "    nouns_tagger = Okt()\n",
    "    nouns = nouns_tagger.nouns(x)\n",
    "    # 한글자 키워드는 모두제거\n",
    "    nouns = [noun for noun in nouns if len(noun)>1 ]\n",
    "    # 불용어 제거\n",
    "    nouns = [noun for noun in nouns if noun not in stopwords ]\n",
    "    return nouns"
   ]
  },
  {
   "cell_type": "code",
   "execution_count": 53,
   "metadata": {},
   "outputs": [
    {
     "data": {
      "text/html": [
       "<div>\n",
       "<style scoped>\n",
       "    .dataframe tbody tr th:only-of-type {\n",
       "        vertical-align: middle;\n",
       "    }\n",
       "\n",
       "    .dataframe tbody tr th {\n",
       "        vertical-align: top;\n",
       "    }\n",
       "\n",
       "    .dataframe thead th {\n",
       "        text-align: right;\n",
       "    }\n",
       "</style>\n",
       "<table border=\"1\" class=\"dataframe\">\n",
       "  <thead>\n",
       "    <tr style=\"text-align: right;\">\n",
       "      <th></th>\n",
       "      <th>Unnamed: 0</th>\n",
       "      <th>created</th>\n",
       "      <th>tweet_text</th>\n",
       "      <th>ko_text</th>\n",
       "      <th>nouns</th>\n",
       "    </tr>\n",
       "  </thead>\n",
       "  <tbody>\n",
       "    <tr>\n",
       "      <th>0</th>\n",
       "      <td>0</td>\n",
       "      <td>Sat Jun 12 07:28:52 +0000 2021</td>\n",
       "      <td>가슴 경주 대구 마사 마산 부산 소통 야동 인천 일탈 최신영화 손흥민 만남앱 소개팅...</td>\n",
       "      <td>가슴 경주 대구 마사 마산 부산 소통 야동 인천 일탈 최신영화 손흥민 만남앱 소개팅...</td>\n",
       "      <td>[가슴, 경주, 대구, 마사, 마산, 부산, 소통, 야동, 인천, 최신영, 손흥민,...</td>\n",
       "    </tr>\n",
       "    <tr>\n",
       "      <th>1</th>\n",
       "      <td>1</td>\n",
       "      <td>Sat Jun 12 07:17:25 +0000 2021</td>\n",
       "      <td>코인세탁소 산업혁명셀프 사이트 인공지능 빨래방 손흥민 그래핀 지도 강남구 광고 세탁...</td>\n",
       "      <td>코인세탁소 산업혁명셀프 사이트 인공지능 빨래방 손흥민 그래핀 지도 강남구 광고 세탁...</td>\n",
       "      <td>[코인, 세탁소, 산업혁명, 셀프, 사이트, 인공, 지능, 빨래, 손흥민, 그래핀,...</td>\n",
       "    </tr>\n",
       "    <tr>\n",
       "      <th>2</th>\n",
       "      <td>2</td>\n",
       "      <td>Sat Jun 12 07:12:41 +0000 2021</td>\n",
       "      <td>RT @sonny_record: 210611 팬문선답 타래 #손흥민 https://...</td>\n",
       "      <td>팬문선답 타래 손흥민</td>\n",
       "      <td>[문선, 타래, 손흥민]</td>\n",
       "    </tr>\n",
       "  </tbody>\n",
       "</table>\n",
       "</div>"
      ],
      "text/plain": [
       "   Unnamed: 0                         created  \\\n",
       "0           0  Sat Jun 12 07:28:52 +0000 2021   \n",
       "1           1  Sat Jun 12 07:17:25 +0000 2021   \n",
       "2           2  Sat Jun 12 07:12:41 +0000 2021   \n",
       "\n",
       "                                          tweet_text  \\\n",
       "0  가슴 경주 대구 마사 마산 부산 소통 야동 인천 일탈 최신영화 손흥민 만남앱 소개팅...   \n",
       "1  코인세탁소 산업혁명셀프 사이트 인공지능 빨래방 손흥민 그래핀 지도 강남구 광고 세탁...   \n",
       "2  RT @sonny_record: 210611 팬문선답 타래 #손흥민 https://...   \n",
       "\n",
       "                                             ko_text  \\\n",
       "0  가슴 경주 대구 마사 마산 부산 소통 야동 인천 일탈 최신영화 손흥민 만남앱 소개팅...   \n",
       "1  코인세탁소 산업혁명셀프 사이트 인공지능 빨래방 손흥민 그래핀 지도 강남구 광고 세탁...   \n",
       "2                                       팬문선답 타래 손흥민    \n",
       "\n",
       "                                               nouns  \n",
       "0  [가슴, 경주, 대구, 마사, 마산, 부산, 소통, 야동, 인천, 최신영, 손흥민,...  \n",
       "1  [코인, 세탁소, 산업혁명, 셀프, 사이트, 인공, 지능, 빨래, 손흥민, 그래핀,...  \n",
       "2                                      [문선, 타래, 손흥민]  "
      ]
     },
     "execution_count": 53,
     "metadata": {},
     "output_type": "execute_result"
    }
   ],
   "source": [
    "df['nouns'] = df['ko_text'].apply(lambda x : get_nouns(x))\n",
    "df.head(3)"
   ]
  },
  {
   "cell_type": "markdown",
   "metadata": {},
   "source": [
    "## 키워드 연관검색"
   ]
  },
  {
   "cell_type": "markdown",
   "metadata": {},
   "source": [
    "샘플을 가지고 실습"
   ]
  },
  {
   "cell_type": "code",
   "execution_count": 48,
   "metadata": {},
   "outputs": [
    {
     "name": "stdout",
     "output_type": "stream",
     "text": [
      "RelationRecord(items=frozenset({'손흥민'}), support=1.0, ordered_statistics=[OrderedStatistic(items_base=frozenset(), items_add=frozenset({'손흥민'}), confidence=1.0, lift=1.0)])\n",
      "RelationRecord(items=frozenset({'시소코'}), support=0.3333333333333333, ordered_statistics=[OrderedStatistic(items_base=frozenset(), items_add=frozenset({'시소코'}), confidence=0.3333333333333333, lift=1.0)])\n",
      "RelationRecord(items=frozenset({'케인'}), support=0.6666666666666666, ordered_statistics=[OrderedStatistic(items_base=frozenset(), items_add=frozenset({'케인'}), confidence=0.6666666666666666, lift=1.0)])\n",
      "RelationRecord(items=frozenset({'콘테'}), support=0.3333333333333333, ordered_statistics=[OrderedStatistic(items_base=frozenset(), items_add=frozenset({'콘테'}), confidence=0.3333333333333333, lift=1.0)])\n",
      "RelationRecord(items=frozenset({'손흥민', '시소코'}), support=0.3333333333333333, ordered_statistics=[OrderedStatistic(items_base=frozenset(), items_add=frozenset({'손흥민', '시소코'}), confidence=0.3333333333333333, lift=1.0), OrderedStatistic(items_base=frozenset({'손흥민'}), items_add=frozenset({'시소코'}), confidence=0.3333333333333333, lift=1.0), OrderedStatistic(items_base=frozenset({'시소코'}), items_add=frozenset({'손흥민'}), confidence=1.0, lift=1.0)])\n",
      "RelationRecord(items=frozenset({'케인', '손흥민'}), support=0.6666666666666666, ordered_statistics=[OrderedStatistic(items_base=frozenset(), items_add=frozenset({'케인', '손흥민'}), confidence=0.6666666666666666, lift=1.0), OrderedStatistic(items_base=frozenset({'손흥민'}), items_add=frozenset({'케인'}), confidence=0.6666666666666666, lift=1.0), OrderedStatistic(items_base=frozenset({'케인'}), items_add=frozenset({'손흥민'}), confidence=1.0, lift=1.0)])\n",
      "RelationRecord(items=frozenset({'손흥민', '콘테'}), support=0.3333333333333333, ordered_statistics=[OrderedStatistic(items_base=frozenset(), items_add=frozenset({'손흥민', '콘테'}), confidence=0.3333333333333333, lift=1.0), OrderedStatistic(items_base=frozenset({'손흥민'}), items_add=frozenset({'콘테'}), confidence=0.3333333333333333, lift=1.0), OrderedStatistic(items_base=frozenset({'콘테'}), items_add=frozenset({'손흥민'}), confidence=1.0, lift=1.0)])\n",
      "RelationRecord(items=frozenset({'케인', '콘테'}), support=0.3333333333333333, ordered_statistics=[OrderedStatistic(items_base=frozenset(), items_add=frozenset({'케인', '콘테'}), confidence=0.3333333333333333, lift=1.0), OrderedStatistic(items_base=frozenset({'케인'}), items_add=frozenset({'콘테'}), confidence=0.5, lift=1.5), OrderedStatistic(items_base=frozenset({'콘테'}), items_add=frozenset({'케인'}), confidence=1.0, lift=1.5)])\n",
      "RelationRecord(items=frozenset({'케인', '손흥민', '콘테'}), support=0.3333333333333333, ordered_statistics=[OrderedStatistic(items_base=frozenset(), items_add=frozenset({'케인', '손흥민', '콘테'}), confidence=0.3333333333333333, lift=1.0), OrderedStatistic(items_base=frozenset({'손흥민'}), items_add=frozenset({'케인', '콘테'}), confidence=0.3333333333333333, lift=1.0), OrderedStatistic(items_base=frozenset({'케인'}), items_add=frozenset({'손흥민', '콘테'}), confidence=0.5, lift=1.5), OrderedStatistic(items_base=frozenset({'콘테'}), items_add=frozenset({'케인', '손흥민'}), confidence=1.0, lift=1.5), OrderedStatistic(items_base=frozenset({'케인', '손흥민'}), items_add=frozenset({'콘테'}), confidence=0.5, lift=1.5), OrderedStatistic(items_base=frozenset({'손흥민', '콘테'}), items_add=frozenset({'케인'}), confidence=1.0, lift=1.5), OrderedStatistic(items_base=frozenset({'케인', '콘테'}), items_add=frozenset({'손흥민'}), confidence=1.0, lift=1.0)])\n"
     ]
    }
   ],
   "source": [
    "# 샘플\n",
    "transactions = [\n",
    "    ['손흥민','시소코'],\n",
    "    ['손흥민','케인'],\n",
    "    ['손흥민','케인','콘테'],\n",
    "]\n",
    "\n",
    "# 연관분석 모델 적용\n",
    "results = list(apriori(transactions))\n",
    "for result in results:\n",
    "    print(result)"
   ]
  },
  {
   "cell_type": "code",
   "execution_count": 49,
   "metadata": {},
   "outputs": [
    {
     "data": {
      "text/plain": [
       "[RelationRecord(items=frozenset({'손흥민'}), support=1.0, ordered_statistics=[OrderedStatistic(items_base=frozenset(), items_add=frozenset({'손흥민'}), confidence=1.0, lift=1.0)]),\n",
       " RelationRecord(items=frozenset({'케인'}), support=0.6666666666666666, ordered_statistics=[OrderedStatistic(items_base=frozenset(), items_add=frozenset({'케인'}), confidence=0.6666666666666666, lift=1.0)]),\n",
       " RelationRecord(items=frozenset({'케인', '손흥민'}), support=0.6666666666666666, ordered_statistics=[OrderedStatistic(items_base=frozenset(), items_add=frozenset({'케인', '손흥민'}), confidence=0.6666666666666666, lift=1.0), OrderedStatistic(items_base=frozenset({'손흥민'}), items_add=frozenset({'케인'}), confidence=0.6666666666666666, lift=1.0), OrderedStatistic(items_base=frozenset({'케인'}), items_add=frozenset({'손흥민'}), confidence=1.0, lift=1.0)])]"
      ]
     },
     "execution_count": 49,
     "metadata": {},
     "output_type": "execute_result"
    }
   ],
   "source": [
    "result2 = list(apriori(transactions,\n",
    "                       min_support=0.5,    # 지지도\n",
    "                       min_confidence=0.6, # 신뢰도\n",
    "                       min_lift=1.0,       # 향상도\n",
    "                       max_length=2        # 크기2이하\n",
    "                       ))\n",
    "result2"
   ]
  },
  {
   "cell_type": "code",
   "execution_count": 50,
   "metadata": {},
   "outputs": [
    {
     "data": {
      "text/html": [
       "<div>\n",
       "<style scoped>\n",
       "    .dataframe tbody tr th:only-of-type {\n",
       "        vertical-align: middle;\n",
       "    }\n",
       "\n",
       "    .dataframe tbody tr th {\n",
       "        vertical-align: top;\n",
       "    }\n",
       "\n",
       "    .dataframe thead th {\n",
       "        text-align: right;\n",
       "    }\n",
       "</style>\n",
       "<table border=\"1\" class=\"dataframe\">\n",
       "  <thead>\n",
       "    <tr style=\"text-align: right;\">\n",
       "      <th></th>\n",
       "      <th>source</th>\n",
       "      <th>target</th>\n",
       "      <th>support</th>\n",
       "      <th>confidence</th>\n",
       "      <th>lift</th>\n",
       "    </tr>\n",
       "  </thead>\n",
       "  <tbody>\n",
       "    <tr>\n",
       "      <th>0</th>\n",
       "      <td>손흥민</td>\n",
       "      <td>시소코</td>\n",
       "      <td>0.333333</td>\n",
       "      <td>0.333333</td>\n",
       "      <td>1.0</td>\n",
       "    </tr>\n",
       "    <tr>\n",
       "      <th>1</th>\n",
       "      <td>케인</td>\n",
       "      <td>손흥민</td>\n",
       "      <td>0.666667</td>\n",
       "      <td>0.666667</td>\n",
       "      <td>1.0</td>\n",
       "    </tr>\n",
       "    <tr>\n",
       "      <th>2</th>\n",
       "      <td>손흥민</td>\n",
       "      <td>콘테</td>\n",
       "      <td>0.333333</td>\n",
       "      <td>0.333333</td>\n",
       "      <td>1.0</td>\n",
       "    </tr>\n",
       "    <tr>\n",
       "      <th>3</th>\n",
       "      <td>케인</td>\n",
       "      <td>콘테</td>\n",
       "      <td>0.333333</td>\n",
       "      <td>0.5</td>\n",
       "      <td>1.5</td>\n",
       "    </tr>\n",
       "  </tbody>\n",
       "</table>\n",
       "</div>"
      ],
      "text/plain": [
       "  source target   support confidence lift\n",
       "0    손흥민    시소코  0.333333   0.333333  1.0\n",
       "1     케인    손흥민  0.666667   0.666667  1.0\n",
       "2    손흥민     콘테  0.333333   0.333333  1.0\n",
       "3     케인     콘테  0.333333        0.5  1.5"
      ]
     },
     "execution_count": 50,
     "metadata": {},
     "output_type": "execute_result"
    }
   ],
   "source": [
    "columns = ['source','target','support','confidence','lift']\n",
    "network_df = pd.DataFrame(columns=columns)\n",
    "\n",
    "for result in results:\n",
    "    # 키워드가 2개 이상일때\n",
    "    if len(result.items) == 2:\n",
    "        items = [x for x in result.items]\n",
    "        row = [items[0],items[1],result.support,result.ordered_statistics[1][2],result.ordered_statistics[1][3]]\n",
    "        series = pd.Series(row,index=network_df.columns)\n",
    "        network_df = network_df.append(series,ignore_index=True)\n",
    "\n",
    "network_df.head()    "
   ]
  },
  {
   "cell_type": "markdown",
   "metadata": {},
   "source": [
    "키워드 연관검색 추출"
   ]
  },
  {
   "cell_type": "code",
   "execution_count": 51,
   "metadata": {},
   "outputs": [
    {
     "data": {
      "text/html": [
       "<div>\n",
       "<style scoped>\n",
       "    .dataframe tbody tr th:only-of-type {\n",
       "        vertical-align: middle;\n",
       "    }\n",
       "\n",
       "    .dataframe tbody tr th {\n",
       "        vertical-align: top;\n",
       "    }\n",
       "\n",
       "    .dataframe thead th {\n",
       "        text-align: right;\n",
       "    }\n",
       "</style>\n",
       "<table border=\"1\" class=\"dataframe\">\n",
       "  <thead>\n",
       "    <tr style=\"text-align: right;\">\n",
       "      <th></th>\n",
       "      <th>source</th>\n",
       "      <th>target</th>\n",
       "      <th>support</th>\n",
       "      <th>confidence</th>\n",
       "      <th>lift</th>\n",
       "    </tr>\n",
       "  </thead>\n",
       "  <tbody>\n",
       "    <tr>\n",
       "      <th>1</th>\n",
       "      <td>케인</td>\n",
       "      <td>손흥민</td>\n",
       "      <td>0.666667</td>\n",
       "      <td>0.666667</td>\n",
       "      <td>1.0</td>\n",
       "    </tr>\n",
       "    <tr>\n",
       "      <th>3</th>\n",
       "      <td>케인</td>\n",
       "      <td>콘테</td>\n",
       "      <td>0.333333</td>\n",
       "      <td>0.5</td>\n",
       "      <td>1.5</td>\n",
       "    </tr>\n",
       "  </tbody>\n",
       "</table>\n",
       "</div>"
      ],
      "text/plain": [
       "  source target   support confidence lift\n",
       "1     케인    손흥민  0.666667   0.666667  1.0\n",
       "3     케인     콘테  0.333333        0.5  1.5"
      ]
     },
     "execution_count": 51,
     "metadata": {},
     "output_type": "execute_result"
    }
   ],
   "source": [
    "searchword = network_df[network_df['source']=='케인']\n",
    "searchword.sort_values(by='support',ascending=False)"
   ]
  },
  {
   "cell_type": "markdown",
   "metadata": {},
   "source": [
    "실제 데이터를 가지고 키워드 연관검색 추출"
   ]
  },
  {
   "cell_type": "code",
   "execution_count": 59,
   "metadata": {},
   "outputs": [
    {
     "data": {
      "text/plain": [
       "994"
      ]
     },
     "execution_count": 59,
     "metadata": {},
     "output_type": "execute_result"
    }
   ],
   "source": [
    "# 데이터 추출\n",
    "transactions2 = df['nouns'].tolist()\n",
    "# df['nouns']에서 Nan데이터가 존재하는 것만 저장\n",
    "transactions2 = [tran1 for tran1 in transactions2 if tran1]\n",
    "len(transactions2) #1000개 데이터에서 6개 삭제됨."
   ]
  },
  {
   "cell_type": "code",
   "execution_count": 61,
   "metadata": {},
   "outputs": [
    {
     "data": {
      "text/plain": [
       "[RelationRecord(items=frozenset({'국가', '국가대표팀'}), support=0.06740442655935613, ordered_statistics=[OrderedStatistic(items_base=frozenset({'국가'}), items_add=frozenset({'국가대표팀'}), confidence=1.0, lift=14.617647058823529), OrderedStatistic(items_base=frozenset({'국가대표팀'}), items_add=frozenset({'국가'}), confidence=0.9852941176470588, lift=14.617647058823529)]),\n",
       " RelationRecord(items=frozenset({'국가', '김신욱'}), support=0.06740442655935613, ordered_statistics=[OrderedStatistic(items_base=frozenset({'국가'}), items_add=frozenset({'김신욱'}), confidence=1.0, lift=7.705426356589148), OrderedStatistic(items_base=frozenset({'김신욱'}), items_add=frozenset({'국가'}), confidence=0.5193798449612403, lift=7.705426356589148)]),\n",
       " RelationRecord(items=frozenset({'국가', '대한민국'}), support=0.06740442655935613, ordered_statistics=[OrderedStatistic(items_base=frozenset({'국가'}), items_add=frozenset({'대한민국'}), confidence=1.0, lift=13.432432432432432), OrderedStatistic(items_base=frozenset({'대한민국'}), items_add=frozenset({'국가'}), confidence=0.9054054054054054, lift=13.432432432432432)]),\n",
       " RelationRecord(items=frozenset({'국가', '동시'}), support=0.06740442655935613, ordered_statistics=[OrderedStatistic(items_base=frozenset({'국가'}), items_add=frozenset({'동시'}), confidence=1.0, lift=14.617647058823529), OrderedStatistic(items_base=frozenset({'동시'}), items_add=frozenset({'국가'}), confidence=0.9852941176470588, lift=14.617647058823529)]),\n",
       " RelationRecord(items=frozenset({'국가', '문선'}), support=0.06740442655935613, ordered_statistics=[OrderedStatistic(items_base=frozenset({'국가'}), items_add=frozenset({'문선'}), confidence=1.0, lift=8.954954954954955), OrderedStatistic(items_base=frozenset({'문선'}), items_add=frozenset({'국가'}), confidence=0.6036036036036037, lift=8.954954954954957)]),\n",
       " RelationRecord(items=frozenset({'국가', '생중계'}), support=0.06740442655935613, ordered_statistics=[OrderedStatistic(items_base=frozenset({'국가'}), items_add=frozenset({'생중계'}), confidence=1.0, lift=14.617647058823529), OrderedStatistic(items_base=frozenset({'생중계'}), items_add=frozenset({'국가'}), confidence=0.9852941176470588, lift=14.617647058823529)]),\n",
       " RelationRecord(items=frozenset({'국가', '유튜브'}), support=0.06740442655935613, ordered_statistics=[OrderedStatistic(items_base=frozenset({'국가'}), items_add=frozenset({'유튜브'}), confidence=1.0, lift=14.617647058823529), OrderedStatistic(items_base=frozenset({'유튜브'}), items_add=frozenset({'국가'}), confidence=0.9852941176470588, lift=14.617647058823529)]),\n",
       " RelationRecord(items=frozenset({'국가', '한국'}), support=0.06740442655935613, ordered_statistics=[OrderedStatistic(items_base=frozenset({'국가'}), items_add=frozenset({'한국'}), confidence=1.0, lift=9.841584158415841), OrderedStatistic(items_base=frozenset({'한국'}), items_add=frozenset({'국가'}), confidence=0.6633663366336633, lift=9.841584158415841)]),\n",
       " RelationRecord(items=frozenset({'국가대표팀', '김신욱'}), support=0.06841046277665996, ordered_statistics=[OrderedStatistic(items_base=frozenset({'국가대표팀'}), items_add=frozenset({'김신욱'}), confidence=1.0, lift=7.705426356589148), OrderedStatistic(items_base=frozenset({'김신욱'}), items_add=frozenset({'국가대표팀'}), confidence=0.5271317829457365, lift=7.705426356589148)]),\n",
       " RelationRecord(items=frozenset({'국가대표팀', '대한민국'}), support=0.06740442655935613, ordered_statistics=[OrderedStatistic(items_base=frozenset({'국가대표팀'}), items_add=frozenset({'대한민국'}), confidence=0.9852941176470588, lift=13.234896661367248), OrderedStatistic(items_base=frozenset({'대한민국'}), items_add=frozenset({'국가대표팀'}), confidence=0.9054054054054054, lift=13.234896661367248)]),\n",
       " RelationRecord(items=frozenset({'국가대표팀', '동시'}), support=0.06841046277665996, ordered_statistics=[OrderedStatistic(items_base=frozenset({'국가대표팀'}), items_add=frozenset({'동시'}), confidence=1.0, lift=14.617647058823529), OrderedStatistic(items_base=frozenset({'동시'}), items_add=frozenset({'국가대표팀'}), confidence=1.0, lift=14.617647058823529)]),\n",
       " RelationRecord(items=frozenset({'국가대표팀', '문선'}), support=0.06841046277665996, ordered_statistics=[OrderedStatistic(items_base=frozenset({'국가대표팀'}), items_add=frozenset({'문선'}), confidence=1.0, lift=8.954954954954955), OrderedStatistic(items_base=frozenset({'문선'}), items_add=frozenset({'국가대표팀'}), confidence=0.6126126126126127, lift=8.954954954954955)]),\n",
       " RelationRecord(items=frozenset({'국가대표팀', '생중계'}), support=0.06841046277665996, ordered_statistics=[OrderedStatistic(items_base=frozenset({'국가대표팀'}), items_add=frozenset({'생중계'}), confidence=1.0, lift=14.617647058823529), OrderedStatistic(items_base=frozenset({'생중계'}), items_add=frozenset({'국가대표팀'}), confidence=1.0, lift=14.617647058823529)]),\n",
       " RelationRecord(items=frozenset({'국가대표팀', '유튜브'}), support=0.06841046277665996, ordered_statistics=[OrderedStatistic(items_base=frozenset({'국가대표팀'}), items_add=frozenset({'유튜브'}), confidence=1.0, lift=14.617647058823529), OrderedStatistic(items_base=frozenset({'유튜브'}), items_add=frozenset({'국가대표팀'}), confidence=1.0, lift=14.617647058823529)]),\n",
       " RelationRecord(items=frozenset({'국가대표팀', '한국'}), support=0.06841046277665996, ordered_statistics=[OrderedStatistic(items_base=frozenset({'국가대표팀'}), items_add=frozenset({'한국'}), confidence=1.0, lift=9.841584158415841), OrderedStatistic(items_base=frozenset({'한국'}), items_add=frozenset({'국가대표팀'}), confidence=0.6732673267326733, lift=9.841584158415841)]),\n",
       " RelationRecord(items=frozenset({'대한민국', '김신욱'}), support=0.06740442655935613, ordered_statistics=[OrderedStatistic(items_base=frozenset({'김신욱'}), items_add=frozenset({'대한민국'}), confidence=0.5193798449612403, lift=6.976534674209093), OrderedStatistic(items_base=frozenset({'대한민국'}), items_add=frozenset({'김신욱'}), confidence=0.9054054054054054, lift=6.976534674209093)]),\n",
       " RelationRecord(items=frozenset({'동시', '김신욱'}), support=0.06841046277665996, ordered_statistics=[OrderedStatistic(items_base=frozenset({'김신욱'}), items_add=frozenset({'동시'}), confidence=0.5271317829457365, lift=7.705426356589148), OrderedStatistic(items_base=frozenset({'동시'}), items_add=frozenset({'김신욱'}), confidence=1.0, lift=7.705426356589148)]),\n",
       " RelationRecord(items=frozenset({'문선', '김신욱'}), support=0.08853118712273642, ordered_statistics=[OrderedStatistic(items_base=frozenset({'김신욱'}), items_add=frozenset({'문선'}), confidence=0.6821705426356589, lift=6.108806480899505), OrderedStatistic(items_base=frozenset({'문선'}), items_add=frozenset({'김신욱'}), confidence=0.7927927927927928, lift=6.108806480899505)]),\n",
       " RelationRecord(items=frozenset({'생중계', '김신욱'}), support=0.06841046277665996, ordered_statistics=[OrderedStatistic(items_base=frozenset({'김신욱'}), items_add=frozenset({'생중계'}), confidence=0.5271317829457365, lift=7.705426356589148), OrderedStatistic(items_base=frozenset({'생중계'}), items_add=frozenset({'김신욱'}), confidence=1.0, lift=7.705426356589148)]),\n",
       " RelationRecord(items=frozenset({'유튜브', '김신욱'}), support=0.06841046277665996, ordered_statistics=[OrderedStatistic(items_base=frozenset({'김신욱'}), items_add=frozenset({'유튜브'}), confidence=0.5271317829457365, lift=7.705426356589148), OrderedStatistic(items_base=frozenset({'유튜브'}), items_add=frozenset({'김신욱'}), confidence=1.0, lift=7.705426356589148)]),\n",
       " RelationRecord(items=frozenset({'한국', '김신욱'}), support=0.06841046277665996, ordered_statistics=[OrderedStatistic(items_base=frozenset({'김신욱'}), items_add=frozenset({'한국'}), confidence=0.5271317829457365, lift=5.187811804436258), OrderedStatistic(items_base=frozenset({'한국'}), items_add=frozenset({'김신욱'}), confidence=0.6732673267326733, lift=5.187811804436258)]),\n",
       " RelationRecord(items=frozenset({'노래', '배우'}), support=0.07847082494969819, ordered_statistics=[OrderedStatistic(items_base=frozenset({'노래'}), items_add=frozenset({'배우'}), confidence=0.9873417721518988, lift=12.58227848101266), OrderedStatistic(items_base=frozenset({'배우'}), items_add=frozenset({'노래'}), confidence=1.0, lift=12.58227848101266)]),\n",
       " RelationRecord(items=frozenset({'노래', '소리'}), support=0.07847082494969819, ordered_statistics=[OrderedStatistic(items_base=frozenset({'노래'}), items_add=frozenset({'소리'}), confidence=0.9873417721518988, lift=11.968508799012042), OrderedStatistic(items_base=frozenset({'소리'}), items_add=frozenset({'노래'}), confidence=0.951219512195122, lift=11.968508799012042)]),\n",
       " RelationRecord(items=frozenset({'연기', '노래'}), support=0.07847082494969819, ordered_statistics=[OrderedStatistic(items_base=frozenset({'노래'}), items_add=frozenset({'연기'}), confidence=0.9873417721518988, lift=12.58227848101266), OrderedStatistic(items_base=frozenset({'연기'}), items_add=frozenset({'노래'}), confidence=1.0, lift=12.58227848101266)]),\n",
       " RelationRecord(items=frozenset({'노래', '차지연'}), support=0.07847082494969819, ordered_statistics=[OrderedStatistic(items_base=frozenset({'노래'}), items_add=frozenset({'차지연'}), confidence=0.9873417721518988, lift=12.58227848101266), OrderedStatistic(items_base=frozenset({'차지연'}), items_add=frozenset({'노래'}), confidence=1.0, lift=12.58227848101266)]),\n",
       " RelationRecord(items=frozenset({'동시', '대한민국'}), support=0.06740442655935613, ordered_statistics=[OrderedStatistic(items_base=frozenset({'대한민국'}), items_add=frozenset({'동시'}), confidence=0.9054054054054054, lift=13.234896661367248), OrderedStatistic(items_base=frozenset({'동시'}), items_add=frozenset({'대한민국'}), confidence=0.9852941176470588, lift=13.234896661367248)]),\n",
       " RelationRecord(items=frozenset({'대한민국', '문선'}), support=0.06740442655935613, ordered_statistics=[OrderedStatistic(items_base=frozenset({'대한민국'}), items_add=frozenset({'문선'}), confidence=0.9054054054054054, lift=8.107864621378134), OrderedStatistic(items_base=frozenset({'문선'}), items_add=frozenset({'대한민국'}), confidence=0.6036036036036037, lift=8.107864621378136)]),\n",
       " RelationRecord(items=frozenset({'대한민국', '생중계'}), support=0.06740442655935613, ordered_statistics=[OrderedStatistic(items_base=frozenset({'대한민국'}), items_add=frozenset({'생중계'}), confidence=0.9054054054054054, lift=13.234896661367248), OrderedStatistic(items_base=frozenset({'생중계'}), items_add=frozenset({'대한민국'}), confidence=0.9852941176470588, lift=13.234896661367248)]),\n",
       " RelationRecord(items=frozenset({'유튜브', '대한민국'}), support=0.06740442655935613, ordered_statistics=[OrderedStatistic(items_base=frozenset({'대한민국'}), items_add=frozenset({'유튜브'}), confidence=0.9054054054054054, lift=13.234896661367248), OrderedStatistic(items_base=frozenset({'유튜브'}), items_add=frozenset({'대한민국'}), confidence=0.9852941176470588, lift=13.234896661367248)]),\n",
       " RelationRecord(items=frozenset({'대한민국', '한국'}), support=0.06740442655935613, ordered_statistics=[OrderedStatistic(items_base=frozenset({'대한민국'}), items_add=frozenset({'한국'}), confidence=0.9054054054054054, lift=8.91062349478191), OrderedStatistic(items_base=frozenset({'한국'}), items_add=frozenset({'대한민국'}), confidence=0.6633663366336633, lift=8.910623494781909)]),\n",
       " RelationRecord(items=frozenset({'동시', '문선'}), support=0.06841046277665996, ordered_statistics=[OrderedStatistic(items_base=frozenset({'동시'}), items_add=frozenset({'문선'}), confidence=1.0, lift=8.954954954954955), OrderedStatistic(items_base=frozenset({'문선'}), items_add=frozenset({'동시'}), confidence=0.6126126126126127, lift=8.954954954954955)]),\n",
       " RelationRecord(items=frozenset({'동시', '생중계'}), support=0.06841046277665996, ordered_statistics=[OrderedStatistic(items_base=frozenset({'동시'}), items_add=frozenset({'생중계'}), confidence=1.0, lift=14.617647058823529), OrderedStatistic(items_base=frozenset({'생중계'}), items_add=frozenset({'동시'}), confidence=1.0, lift=14.617647058823529)]),\n",
       " RelationRecord(items=frozenset({'동시', '유튜브'}), support=0.06841046277665996, ordered_statistics=[OrderedStatistic(items_base=frozenset({'동시'}), items_add=frozenset({'유튜브'}), confidence=1.0, lift=14.617647058823529), OrderedStatistic(items_base=frozenset({'유튜브'}), items_add=frozenset({'동시'}), confidence=1.0, lift=14.617647058823529)]),\n",
       " RelationRecord(items=frozenset({'동시', '한국'}), support=0.06841046277665996, ordered_statistics=[OrderedStatistic(items_base=frozenset({'동시'}), items_add=frozenset({'한국'}), confidence=1.0, lift=9.841584158415841), OrderedStatistic(items_base=frozenset({'한국'}), items_add=frozenset({'동시'}), confidence=0.6732673267326733, lift=9.841584158415841)]),\n",
       " RelationRecord(items=frozenset({'마사지', '동영상'}), support=0.07042253521126761, ordered_statistics=[OrderedStatistic(items_base=frozenset({'동영상'}), items_add=frozenset({'마사지'}), confidence=1.0, lift=14.2), OrderedStatistic(items_base=frozenset({'마사지'}), items_add=frozenset({'동영상'}), confidence=1.0, lift=14.2)]),\n",
       " RelationRecord(items=frozenset({'부산', '동영상'}), support=0.06941649899396378, ordered_statistics=[OrderedStatistic(items_base=frozenset({'동영상'}), items_add=frozenset({'부산'}), confidence=0.9857142857142857, lift=12.892105263157895), OrderedStatistic(items_base=frozenset({'부산'}), items_add=frozenset({'동영상'}), confidence=0.9078947368421052, lift=12.892105263157893)]),\n",
       " RelationRecord(items=frozenset({'소통', '동영상'}), support=0.07042253521126761, ordered_statistics=[OrderedStatistic(items_base=frozenset({'동영상'}), items_add=frozenset({'소통'}), confidence=1.0, lift=13.805555555555555), OrderedStatistic(items_base=frozenset({'소통'}), items_add=frozenset({'동영상'}), confidence=0.9722222222222222, lift=13.805555555555555)]),\n",
       " RelationRecord(items=frozenset({'스타킹', '동영상'}), support=0.07042253521126761, ordered_statistics=[OrderedStatistic(items_base=frozenset({'동영상'}), items_add=frozenset({'스타킹'}), confidence=1.0, lift=14.2), OrderedStatistic(items_base=frozenset({'스타킹'}), items_add=frozenset({'동영상'}), confidence=1.0, lift=14.2)]),\n",
       " RelationRecord(items=frozenset({'동영상', '아줌마'}), support=0.07042253521126761, ordered_statistics=[OrderedStatistic(items_base=frozenset({'동영상'}), items_add=frozenset({'아줌마'}), confidence=1.0, lift=14.2), OrderedStatistic(items_base=frozenset({'아줌마'}), items_add=frozenset({'동영상'}), confidence=1.0, lift=14.2)]),\n",
       " RelationRecord(items=frozenset({'야동', '동영상'}), support=0.07042253521126761, ordered_statistics=[OrderedStatistic(items_base=frozenset({'동영상'}), items_add=frozenset({'야동'}), confidence=1.0, lift=14.2), OrderedStatistic(items_base=frozenset({'야동'}), items_add=frozenset({'동영상'}), confidence=1.0, lift=14.2)]),\n",
       " RelationRecord(items=frozenset({'최신영', '동영상'}), support=0.07042253521126761, ordered_statistics=[OrderedStatistic(items_base=frozenset({'동영상'}), items_add=frozenset({'최신영'}), confidence=1.0, lift=14.2), OrderedStatistic(items_base=frozenset({'최신영'}), items_add=frozenset({'동영상'}), confidence=1.0, lift=14.2)]),\n",
       " RelationRecord(items=frozenset({'축구선수', '동영상'}), support=0.07042253521126761, ordered_statistics=[OrderedStatistic(items_base=frozenset({'동영상'}), items_add=frozenset({'축구선수'}), confidence=1.0, lift=11.295454545454545), OrderedStatistic(items_base=frozenset({'축구선수'}), items_add=frozenset({'동영상'}), confidence=0.7954545454545455, lift=11.295454545454547)]),\n",
       " RelationRecord(items=frozenset({'패티', '동영상'}), support=0.07042253521126761, ordered_statistics=[OrderedStatistic(items_base=frozenset({'동영상'}), items_add=frozenset({'패티'}), confidence=1.0, lift=14.2), OrderedStatistic(items_base=frozenset({'패티'}), items_add=frozenset({'동영상'}), confidence=1.0, lift=14.2)]),\n",
       " RelationRecord(items=frozenset({'마사지', '부산'}), support=0.06941649899396378, ordered_statistics=[OrderedStatistic(items_base=frozenset({'마사지'}), items_add=frozenset({'부산'}), confidence=0.9857142857142857, lift=12.892105263157895), OrderedStatistic(items_base=frozenset({'부산'}), items_add=frozenset({'마사지'}), confidence=0.9078947368421052, lift=12.892105263157893)]),\n",
       " RelationRecord(items=frozenset({'마사지', '소통'}), support=0.07042253521126761, ordered_statistics=[OrderedStatistic(items_base=frozenset({'마사지'}), items_add=frozenset({'소통'}), confidence=1.0, lift=13.805555555555555), OrderedStatistic(items_base=frozenset({'소통'}), items_add=frozenset({'마사지'}), confidence=0.9722222222222222, lift=13.805555555555555)]),\n",
       " RelationRecord(items=frozenset({'마사지', '스타킹'}), support=0.07042253521126761, ordered_statistics=[OrderedStatistic(items_base=frozenset({'마사지'}), items_add=frozenset({'스타킹'}), confidence=1.0, lift=14.2), OrderedStatistic(items_base=frozenset({'스타킹'}), items_add=frozenset({'마사지'}), confidence=1.0, lift=14.2)]),\n",
       " RelationRecord(items=frozenset({'마사지', '아줌마'}), support=0.07042253521126761, ordered_statistics=[OrderedStatistic(items_base=frozenset({'마사지'}), items_add=frozenset({'아줌마'}), confidence=1.0, lift=14.2), OrderedStatistic(items_base=frozenset({'아줌마'}), items_add=frozenset({'마사지'}), confidence=1.0, lift=14.2)]),\n",
       " RelationRecord(items=frozenset({'마사지', '야동'}), support=0.07042253521126761, ordered_statistics=[OrderedStatistic(items_base=frozenset({'마사지'}), items_add=frozenset({'야동'}), confidence=1.0, lift=14.2), OrderedStatistic(items_base=frozenset({'야동'}), items_add=frozenset({'마사지'}), confidence=1.0, lift=14.2)]),\n",
       " RelationRecord(items=frozenset({'마사지', '최신영'}), support=0.07042253521126761, ordered_statistics=[OrderedStatistic(items_base=frozenset({'마사지'}), items_add=frozenset({'최신영'}), confidence=1.0, lift=14.2), OrderedStatistic(items_base=frozenset({'최신영'}), items_add=frozenset({'마사지'}), confidence=1.0, lift=14.2)]),\n",
       " RelationRecord(items=frozenset({'마사지', '축구선수'}), support=0.07042253521126761, ordered_statistics=[OrderedStatistic(items_base=frozenset({'마사지'}), items_add=frozenset({'축구선수'}), confidence=1.0, lift=11.295454545454545), OrderedStatistic(items_base=frozenset({'축구선수'}), items_add=frozenset({'마사지'}), confidence=0.7954545454545455, lift=11.295454545454547)]),\n",
       " RelationRecord(items=frozenset({'패티', '마사지'}), support=0.07042253521126761, ordered_statistics=[OrderedStatistic(items_base=frozenset({'마사지'}), items_add=frozenset({'패티'}), confidence=1.0, lift=14.2), OrderedStatistic(items_base=frozenset({'패티'}), items_add=frozenset({'마사지'}), confidence=1.0, lift=14.2)]),\n",
       " RelationRecord(items=frozenset({'문선', '생중계'}), support=0.06841046277665996, ordered_statistics=[OrderedStatistic(items_base=frozenset({'문선'}), items_add=frozenset({'생중계'}), confidence=0.6126126126126127, lift=8.954954954954955), OrderedStatistic(items_base=frozenset({'생중계'}), items_add=frozenset({'문선'}), confidence=1.0, lift=8.954954954954955)]),\n",
       " RelationRecord(items=frozenset({'유튜브', '문선'}), support=0.06841046277665996, ordered_statistics=[OrderedStatistic(items_base=frozenset({'문선'}), items_add=frozenset({'유튜브'}), confidence=0.6126126126126127, lift=8.954954954954955), OrderedStatistic(items_base=frozenset({'유튜브'}), items_add=frozenset({'문선'}), confidence=1.0, lift=8.954954954954955)]),\n",
       " RelationRecord(items=frozenset({'한국', '문선'}), support=0.06841046277665996, ordered_statistics=[OrderedStatistic(items_base=frozenset({'문선'}), items_add=frozenset({'한국'}), confidence=0.6126126126126127, lift=6.02907858353403), OrderedStatistic(items_base=frozenset({'한국'}), items_add=frozenset({'문선'}), confidence=0.6732673267326733, lift=6.029078583534029)]),\n",
       " RelationRecord(items=frozenset({'배우', '소리'}), support=0.07847082494969819, ordered_statistics=[OrderedStatistic(items_base=frozenset({'배우'}), items_add=frozenset({'소리'}), confidence=1.0, lift=12.121951219512196), OrderedStatistic(items_base=frozenset({'소리'}), items_add=frozenset({'배우'}), confidence=0.951219512195122, lift=12.121951219512196)]),\n",
       " RelationRecord(items=frozenset({'연기', '배우'}), support=0.07847082494969819, ordered_statistics=[OrderedStatistic(items_base=frozenset({'배우'}), items_add=frozenset({'연기'}), confidence=1.0, lift=12.743589743589743), OrderedStatistic(items_base=frozenset({'연기'}), items_add=frozenset({'배우'}), confidence=1.0, lift=12.743589743589743)]),\n",
       " RelationRecord(items=frozenset({'배우', '차지연'}), support=0.07847082494969819, ordered_statistics=[OrderedStatistic(items_base=frozenset({'배우'}), items_add=frozenset({'차지연'}), confidence=1.0, lift=12.743589743589743), OrderedStatistic(items_base=frozenset({'차지연'}), items_add=frozenset({'배우'}), confidence=1.0, lift=12.743589743589743)]),\n",
       " RelationRecord(items=frozenset({'부산', '소통'}), support=0.06941649899396378, ordered_statistics=[OrderedStatistic(items_base=frozenset({'부산'}), items_add=frozenset({'소통'}), confidence=0.9078947368421052, lift=12.533991228070175), OrderedStatistic(items_base=frozenset({'소통'}), items_add=frozenset({'부산'}), confidence=0.9583333333333333, lift=12.533991228070175)]),\n",
       " RelationRecord(items=frozenset({'스타킹', '부산'}), support=0.06941649899396378, ordered_statistics=[OrderedStatistic(items_base=frozenset({'부산'}), items_add=frozenset({'스타킹'}), confidence=0.9078947368421052, lift=12.892105263157893), OrderedStatistic(items_base=frozenset({'스타킹'}), items_add=frozenset({'부산'}), confidence=0.9857142857142857, lift=12.892105263157895)]),\n",
       " RelationRecord(items=frozenset({'부산', '아줌마'}), support=0.06941649899396378, ordered_statistics=[OrderedStatistic(items_base=frozenset({'부산'}), items_add=frozenset({'아줌마'}), confidence=0.9078947368421052, lift=12.892105263157893), OrderedStatistic(items_base=frozenset({'아줌마'}), items_add=frozenset({'부산'}), confidence=0.9857142857142857, lift=12.892105263157895)]),\n",
       " RelationRecord(items=frozenset({'부산', '야동'}), support=0.06941649899396378, ordered_statistics=[OrderedStatistic(items_base=frozenset({'부산'}), items_add=frozenset({'야동'}), confidence=0.9078947368421052, lift=12.892105263157893), OrderedStatistic(items_base=frozenset({'야동'}), items_add=frozenset({'부산'}), confidence=0.9857142857142857, lift=12.892105263157895)]),\n",
       " RelationRecord(items=frozenset({'부산', '최신영'}), support=0.06941649899396378, ordered_statistics=[OrderedStatistic(items_base=frozenset({'부산'}), items_add=frozenset({'최신영'}), confidence=0.9078947368421052, lift=12.892105263157893), OrderedStatistic(items_base=frozenset({'최신영'}), items_add=frozenset({'부산'}), confidence=0.9857142857142857, lift=12.892105263157895)]),\n",
       " RelationRecord(items=frozenset({'부산', '축구선수'}), support=0.07042253521126761, ordered_statistics=[OrderedStatistic(items_base=frozenset({'부산'}), items_add=frozenset({'축구선수'}), confidence=0.9210526315789473, lift=10.403708133971293), OrderedStatistic(items_base=frozenset({'축구선수'}), items_add=frozenset({'부산'}), confidence=0.7954545454545455, lift=10.403708133971293)]),\n",
       " RelationRecord(items=frozenset({'패티', '부산'}), support=0.06941649899396378, ordered_statistics=[OrderedStatistic(items_base=frozenset({'부산'}), items_add=frozenset({'패티'}), confidence=0.9078947368421052, lift=12.892105263157893), OrderedStatistic(items_base=frozenset({'패티'}), items_add=frozenset({'부산'}), confidence=0.9857142857142857, lift=12.892105263157895)]),\n",
       " RelationRecord(items=frozenset({'유튜브', '생중계'}), support=0.06841046277665996, ordered_statistics=[OrderedStatistic(items_base=frozenset({'생중계'}), items_add=frozenset({'유튜브'}), confidence=1.0, lift=14.617647058823529), OrderedStatistic(items_base=frozenset({'유튜브'}), items_add=frozenset({'생중계'}), confidence=1.0, lift=14.617647058823529)]),\n",
       " RelationRecord(items=frozenset({'한국', '생중계'}), support=0.06841046277665996, ordered_statistics=[OrderedStatistic(items_base=frozenset({'생중계'}), items_add=frozenset({'한국'}), confidence=1.0, lift=9.841584158415841), OrderedStatistic(items_base=frozenset({'한국'}), items_add=frozenset({'생중계'}), confidence=0.6732673267326733, lift=9.841584158415841)]),\n",
       " RelationRecord(items=frozenset({'연기', '소리'}), support=0.07847082494969819, ordered_statistics=[OrderedStatistic(items_base=frozenset({'소리'}), items_add=frozenset({'연기'}), confidence=0.951219512195122, lift=12.121951219512196), OrderedStatistic(items_base=frozenset({'연기'}), items_add=frozenset({'소리'}), confidence=1.0, lift=12.121951219512196)]),\n",
       " RelationRecord(items=frozenset({'차지연', '소리'}), support=0.07847082494969819, ordered_statistics=[OrderedStatistic(items_base=frozenset({'소리'}), items_add=frozenset({'차지연'}), confidence=0.951219512195122, lift=12.121951219512196), OrderedStatistic(items_base=frozenset({'차지연'}), items_add=frozenset({'소리'}), confidence=1.0, lift=12.121951219512196)]),\n",
       " RelationRecord(items=frozenset({'스타킹', '소통'}), support=0.07042253521126761, ordered_statistics=[OrderedStatistic(items_base=frozenset({'소통'}), items_add=frozenset({'스타킹'}), confidence=0.9722222222222222, lift=13.805555555555555), OrderedStatistic(items_base=frozenset({'스타킹'}), items_add=frozenset({'소통'}), confidence=1.0, lift=13.805555555555555)]),\n",
       " RelationRecord(items=frozenset({'소통', '아줌마'}), support=0.07042253521126761, ordered_statistics=[OrderedStatistic(items_base=frozenset({'소통'}), items_add=frozenset({'아줌마'}), confidence=0.9722222222222222, lift=13.805555555555555), OrderedStatistic(items_base=frozenset({'아줌마'}), items_add=frozenset({'소통'}), confidence=1.0, lift=13.805555555555555)]),\n",
       " RelationRecord(items=frozenset({'소통', '야동'}), support=0.07042253521126761, ordered_statistics=[OrderedStatistic(items_base=frozenset({'소통'}), items_add=frozenset({'야동'}), confidence=0.9722222222222222, lift=13.805555555555555), OrderedStatistic(items_base=frozenset({'야동'}), items_add=frozenset({'소통'}), confidence=1.0, lift=13.805555555555555)]),\n",
       " RelationRecord(items=frozenset({'소통', '최신영'}), support=0.07042253521126761, ordered_statistics=[OrderedStatistic(items_base=frozenset({'소통'}), items_add=frozenset({'최신영'}), confidence=0.9722222222222222, lift=13.805555555555555), OrderedStatistic(items_base=frozenset({'최신영'}), items_add=frozenset({'소통'}), confidence=1.0, lift=13.805555555555555)]),\n",
       " RelationRecord(items=frozenset({'소통', '축구선수'}), support=0.07042253521126761, ordered_statistics=[OrderedStatistic(items_base=frozenset({'소통'}), items_add=frozenset({'축구선수'}), confidence=0.9722222222222222, lift=10.981691919191919), OrderedStatistic(items_base=frozenset({'축구선수'}), items_add=frozenset({'소통'}), confidence=0.7954545454545455, lift=10.98169191919192)]),\n",
       " RelationRecord(items=frozenset({'패티', '소통'}), support=0.07042253521126761, ordered_statistics=[OrderedStatistic(items_base=frozenset({'소통'}), items_add=frozenset({'패티'}), confidence=0.9722222222222222, lift=13.805555555555555), OrderedStatistic(items_base=frozenset({'패티'}), items_add=frozenset({'소통'}), confidence=1.0, lift=13.805555555555555)]),\n",
       " RelationRecord(items=frozenset({'스타킹', '아줌마'}), support=0.07042253521126761, ordered_statistics=[OrderedStatistic(items_base=frozenset({'스타킹'}), items_add=frozenset({'아줌마'}), confidence=1.0, lift=14.2), OrderedStatistic(items_base=frozenset({'아줌마'}), items_add=frozenset({'스타킹'}), confidence=1.0, lift=14.2)]),\n",
       " RelationRecord(items=frozenset({'스타킹', '야동'}), support=0.07042253521126761, ordered_statistics=[OrderedStatistic(items_base=frozenset({'스타킹'}), items_add=frozenset({'야동'}), confidence=1.0, lift=14.2), OrderedStatistic(items_base=frozenset({'야동'}), items_add=frozenset({'스타킹'}), confidence=1.0, lift=14.2)]),\n",
       " RelationRecord(items=frozenset({'스타킹', '최신영'}), support=0.07042253521126761, ordered_statistics=[OrderedStatistic(items_base=frozenset({'스타킹'}), items_add=frozenset({'최신영'}), confidence=1.0, lift=14.2), OrderedStatistic(items_base=frozenset({'최신영'}), items_add=frozenset({'스타킹'}), confidence=1.0, lift=14.2)]),\n",
       " RelationRecord(items=frozenset({'스타킹', '축구선수'}), support=0.07042253521126761, ordered_statistics=[OrderedStatistic(items_base=frozenset({'스타킹'}), items_add=frozenset({'축구선수'}), confidence=1.0, lift=11.295454545454545), OrderedStatistic(items_base=frozenset({'축구선수'}), items_add=frozenset({'스타킹'}), confidence=0.7954545454545455, lift=11.295454545454547)]),\n",
       " RelationRecord(items=frozenset({'패티', '스타킹'}), support=0.07042253521126761, ordered_statistics=[OrderedStatistic(items_base=frozenset({'스타킹'}), items_add=frozenset({'패티'}), confidence=1.0, lift=14.2), OrderedStatistic(items_base=frozenset({'패티'}), items_add=frozenset({'스타킹'}), confidence=1.0, lift=14.2)]),\n",
       " RelationRecord(items=frozenset({'야동', '아줌마'}), support=0.07042253521126761, ordered_statistics=[OrderedStatistic(items_base=frozenset({'아줌마'}), items_add=frozenset({'야동'}), confidence=1.0, lift=14.2), OrderedStatistic(items_base=frozenset({'야동'}), items_add=frozenset({'아줌마'}), confidence=1.0, lift=14.2)]),\n",
       " RelationRecord(items=frozenset({'최신영', '아줌마'}), support=0.07042253521126761, ordered_statistics=[OrderedStatistic(items_base=frozenset({'아줌마'}), items_add=frozenset({'최신영'}), confidence=1.0, lift=14.2), OrderedStatistic(items_base=frozenset({'최신영'}), items_add=frozenset({'아줌마'}), confidence=1.0, lift=14.2)]),\n",
       " RelationRecord(items=frozenset({'축구선수', '아줌마'}), support=0.07042253521126761, ordered_statistics=[OrderedStatistic(items_base=frozenset({'아줌마'}), items_add=frozenset({'축구선수'}), confidence=1.0, lift=11.295454545454545), OrderedStatistic(items_base=frozenset({'축구선수'}), items_add=frozenset({'아줌마'}), confidence=0.7954545454545455, lift=11.295454545454547)]),\n",
       " RelationRecord(items=frozenset({'패티', '아줌마'}), support=0.07042253521126761, ordered_statistics=[OrderedStatistic(items_base=frozenset({'아줌마'}), items_add=frozenset({'패티'}), confidence=1.0, lift=14.2), OrderedStatistic(items_base=frozenset({'패티'}), items_add=frozenset({'아줌마'}), confidence=1.0, lift=14.2)]),\n",
       " RelationRecord(items=frozenset({'최신영', '야동'}), support=0.07042253521126761, ordered_statistics=[OrderedStatistic(items_base=frozenset({'야동'}), items_add=frozenset({'최신영'}), confidence=1.0, lift=14.2), OrderedStatistic(items_base=frozenset({'최신영'}), items_add=frozenset({'야동'}), confidence=1.0, lift=14.2)]),\n",
       " RelationRecord(items=frozenset({'축구선수', '야동'}), support=0.07042253521126761, ordered_statistics=[OrderedStatistic(items_base=frozenset({'야동'}), items_add=frozenset({'축구선수'}), confidence=1.0, lift=11.295454545454545), OrderedStatistic(items_base=frozenset({'축구선수'}), items_add=frozenset({'야동'}), confidence=0.7954545454545455, lift=11.295454545454547)]),\n",
       " RelationRecord(items=frozenset({'패티', '야동'}), support=0.07042253521126761, ordered_statistics=[OrderedStatistic(items_base=frozenset({'야동'}), items_add=frozenset({'패티'}), confidence=1.0, lift=14.2), OrderedStatistic(items_base=frozenset({'패티'}), items_add=frozenset({'야동'}), confidence=1.0, lift=14.2)]),\n",
       " RelationRecord(items=frozenset({'연기', '차지연'}), support=0.07847082494969819, ordered_statistics=[OrderedStatistic(items_base=frozenset({'연기'}), items_add=frozenset({'차지연'}), confidence=1.0, lift=12.743589743589743), OrderedStatistic(items_base=frozenset({'차지연'}), items_add=frozenset({'연기'}), confidence=1.0, lift=12.743589743589743)]),\n",
       " RelationRecord(items=frozenset({'유튜브', '한국'}), support=0.06841046277665996, ordered_statistics=[OrderedStatistic(items_base=frozenset({'유튜브'}), items_add=frozenset({'한국'}), confidence=1.0, lift=9.841584158415841), OrderedStatistic(items_base=frozenset({'한국'}), items_add=frozenset({'유튜브'}), confidence=0.6732673267326733, lift=9.841584158415841)]),\n",
       " RelationRecord(items=frozenset({'축구선수', '최신영'}), support=0.07042253521126761, ordered_statistics=[OrderedStatistic(items_base=frozenset({'최신영'}), items_add=frozenset({'축구선수'}), confidence=1.0, lift=11.295454545454545), OrderedStatistic(items_base=frozenset({'축구선수'}), items_add=frozenset({'최신영'}), confidence=0.7954545454545455, lift=11.295454545454547)]),\n",
       " RelationRecord(items=frozenset({'패티', '최신영'}), support=0.07042253521126761, ordered_statistics=[OrderedStatistic(items_base=frozenset({'최신영'}), items_add=frozenset({'패티'}), confidence=1.0, lift=14.2), OrderedStatistic(items_base=frozenset({'패티'}), items_add=frozenset({'최신영'}), confidence=1.0, lift=14.2)]),\n",
       " RelationRecord(items=frozenset({'패티', '축구선수'}), support=0.07042253521126761, ordered_statistics=[OrderedStatistic(items_base=frozenset({'축구선수'}), items_add=frozenset({'패티'}), confidence=0.7954545454545455, lift=11.295454545454547), OrderedStatistic(items_base=frozenset({'패티'}), items_add=frozenset({'축구선수'}), confidence=1.0, lift=11.295454545454545)])]"
      ]
     },
     "execution_count": 61,
     "metadata": {},
     "output_type": "execute_result"
    }
   ],
   "source": [
    "# 연관분석 모델 실행\n",
    "real_result = list(apriori(transactions2,\n",
    "                       min_support=0.05,    # 지지도\n",
    "                       min_confidence=0.1, # 신뢰도\n",
    "                       min_lift=5,       # 향상도\n",
    "                       max_length=2        # 크기2이하\n",
    "                       ))\n",
    "real_result"
   ]
  },
  {
   "cell_type": "code",
   "execution_count": 64,
   "metadata": {},
   "outputs": [
    {
     "data": {
      "text/html": [
       "<div>\n",
       "<style scoped>\n",
       "    .dataframe tbody tr th:only-of-type {\n",
       "        vertical-align: middle;\n",
       "    }\n",
       "\n",
       "    .dataframe tbody tr th {\n",
       "        vertical-align: top;\n",
       "    }\n",
       "\n",
       "    .dataframe thead th {\n",
       "        text-align: right;\n",
       "    }\n",
       "</style>\n",
       "<table border=\"1\" class=\"dataframe\">\n",
       "  <thead>\n",
       "    <tr style=\"text-align: right;\">\n",
       "      <th></th>\n",
       "      <th>source</th>\n",
       "      <th>target</th>\n",
       "      <th>support</th>\n",
       "      <th>confidence</th>\n",
       "      <th>lift</th>\n",
       "    </tr>\n",
       "  </thead>\n",
       "  <tbody>\n",
       "    <tr>\n",
       "      <th>0</th>\n",
       "      <td>국가</td>\n",
       "      <td>국가대표팀</td>\n",
       "      <td>0.067404</td>\n",
       "      <td>0.985294</td>\n",
       "      <td>14.617647</td>\n",
       "    </tr>\n",
       "    <tr>\n",
       "      <th>1</th>\n",
       "      <td>국가</td>\n",
       "      <td>김신욱</td>\n",
       "      <td>0.067404</td>\n",
       "      <td>0.51938</td>\n",
       "      <td>7.705426</td>\n",
       "    </tr>\n",
       "    <tr>\n",
       "      <th>2</th>\n",
       "      <td>국가</td>\n",
       "      <td>대한민국</td>\n",
       "      <td>0.067404</td>\n",
       "      <td>0.905405</td>\n",
       "      <td>13.432432</td>\n",
       "    </tr>\n",
       "    <tr>\n",
       "      <th>3</th>\n",
       "      <td>국가</td>\n",
       "      <td>동시</td>\n",
       "      <td>0.067404</td>\n",
       "      <td>0.985294</td>\n",
       "      <td>14.617647</td>\n",
       "    </tr>\n",
       "    <tr>\n",
       "      <th>4</th>\n",
       "      <td>국가</td>\n",
       "      <td>문선</td>\n",
       "      <td>0.067404</td>\n",
       "      <td>0.603604</td>\n",
       "      <td>8.954955</td>\n",
       "    </tr>\n",
       "  </tbody>\n",
       "</table>\n",
       "</div>"
      ],
      "text/plain": [
       "  source target   support confidence       lift\n",
       "0     국가  국가대표팀  0.067404   0.985294  14.617647\n",
       "1     국가    김신욱  0.067404    0.51938   7.705426\n",
       "2     국가   대한민국  0.067404   0.905405  13.432432\n",
       "3     국가     동시  0.067404   0.985294  14.617647\n",
       "4     국가     문선  0.067404   0.603604   8.954955"
      ]
     },
     "execution_count": 64,
     "metadata": {},
     "output_type": "execute_result"
    }
   ],
   "source": [
    "# 키워드 연관분석 출력\n",
    "columns = ['source','target','support','confidence','lift']\n",
    "network_df = pd.DataFrame(columns=columns)\n",
    "\n",
    "for result in real_result:\n",
    "    # 키워드가 2개 이상일때\n",
    "    if len(result.items) == 2:\n",
    "        items = [x for x in result.items]\n",
    "        row = [items[0],items[1],result.support,result.ordered_statistics[1][2],result.ordered_statistics[1][3]]\n",
    "        series = pd.Series(row,index=network_df.columns)\n",
    "        network_df = network_df.append(series,ignore_index=True)\n",
    "\n",
    "network_df.head() "
   ]
  },
  {
   "cell_type": "code",
   "execution_count": 70,
   "metadata": {},
   "outputs": [
    {
     "data": {
      "text/html": [
       "<div>\n",
       "<style scoped>\n",
       "    .dataframe tbody tr th:only-of-type {\n",
       "        vertical-align: middle;\n",
       "    }\n",
       "\n",
       "    .dataframe tbody tr th {\n",
       "        vertical-align: top;\n",
       "    }\n",
       "\n",
       "    .dataframe thead th {\n",
       "        text-align: right;\n",
       "    }\n",
       "</style>\n",
       "<table border=\"1\" class=\"dataframe\">\n",
       "  <thead>\n",
       "    <tr style=\"text-align: right;\">\n",
       "      <th></th>\n",
       "      <th>source</th>\n",
       "      <th>target</th>\n",
       "      <th>support</th>\n",
       "      <th>confidence</th>\n",
       "      <th>lift</th>\n",
       "    </tr>\n",
       "  </thead>\n",
       "  <tbody>\n",
       "    <tr>\n",
       "      <th>54</th>\n",
       "      <td>배우</td>\n",
       "      <td>소리</td>\n",
       "      <td>0.078471</td>\n",
       "      <td>0.95122</td>\n",
       "      <td>12.121951</td>\n",
       "    </tr>\n",
       "    <tr>\n",
       "      <th>56</th>\n",
       "      <td>배우</td>\n",
       "      <td>차지연</td>\n",
       "      <td>0.078471</td>\n",
       "      <td>1.0</td>\n",
       "      <td>12.74359</td>\n",
       "    </tr>\n",
       "  </tbody>\n",
       "</table>\n",
       "</div>"
      ],
      "text/plain": [
       "   source target   support confidence       lift\n",
       "54     배우     소리  0.078471    0.95122  12.121951\n",
       "56     배우    차지연  0.078471        1.0   12.74359"
      ]
     },
     "execution_count": 70,
     "metadata": {},
     "output_type": "execute_result"
    }
   ],
   "source": [
    "# 키워드 검색 추출\n",
    "searchword = network_df[network_df['source']=='배우']\n",
    "searchword.sort_values(by='support',ascending=False)"
   ]
  },
  {
   "cell_type": "markdown",
   "metadata": {},
   "source": [
    "전체 데이터를 가지고 네트워크 시각화"
   ]
  }
 ],
 "metadata": {
  "kernelspec": {
   "display_name": "Python 3.10.2 64-bit",
   "language": "python",
   "name": "python3"
  },
  "language_info": {
   "codemirror_mode": {
    "name": "ipython",
    "version": 3
   },
   "file_extension": ".py",
   "mimetype": "text/x-python",
   "name": "python",
   "nbconvert_exporter": "python",
   "pygments_lexer": "ipython3",
   "version": "3.10.2"
  },
  "orig_nbformat": 4,
  "vscode": {
   "interpreter": {
    "hash": "369f2c481f4da34e4445cda3fffd2e751bd1c4d706f27375911949ba6bb62e1c"
   }
  }
 },
 "nbformat": 4,
 "nbformat_minor": 2
}

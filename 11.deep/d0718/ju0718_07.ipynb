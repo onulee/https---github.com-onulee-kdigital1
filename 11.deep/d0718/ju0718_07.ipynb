{
 "cells": [
  {
   "cell_type": "code",
   "execution_count": 1,
   "metadata": {},
   "outputs": [
    {
     "name": "stdout",
     "output_type": "stream",
     "text": [
      "(25000,) (25000,)\n"
     ]
    }
   ],
   "source": [
    "from tensorflow import keras\n",
    "import matplotlib.pyplot as plt\n",
    "import matplotlib\n",
    "matplotlib.rcParams['axes.unicode_minus']=False\n",
    "import numpy as np\n",
    "import pandas as pd\n",
    "from sklearn.model_selection import train_test_split\n",
    "from tensorflow.keras.datasets import imdb\n",
    "\n",
    "# 파일불러오기\n",
    "# 웹스크래핑 불러오기\n",
    "(train_data,train_label),(test_data,test_label) = imdb.load_data(num_words=500)\n",
    "# (25000,)\n",
    "print(train_data.shape,test_data.shape)"
   ]
  },
  {
   "cell_type": "code",
   "execution_count": 2,
   "metadata": {},
   "outputs": [
    {
     "name": "stdout",
     "output_type": "stream",
     "text": [
      "[1 0 0 ... 0 1 0]\n",
      "[0 1]\n"
     ]
    }
   ],
   "source": [
    "# 단어의 수 : 218개 글자가 218글자\n",
    "# 2는 500단어에서 없는 것 표현\n",
    "# print(train_data[0])\n",
    "# print(len(train_data[0]))\n",
    "\n",
    "print(train_label)\n",
    "print(np.unique(train_label))"
   ]
  },
  {
   "cell_type": "code",
   "execution_count": 3,
   "metadata": {},
   "outputs": [
    {
     "name": "stdout",
     "output_type": "stream",
     "text": [
      "(18750,) (6250,)\n"
     ]
    }
   ],
   "source": [
    "# 데이터 전처리\n",
    "sub_data,val_data,sub_label,val_label = train_test_split(train_data,train_label)\n",
    "\n",
    "\n",
    "# \n",
    "print(sub_data.shape,val_data.shape)"
   ]
  },
  {
   "cell_type": "code",
   "execution_count": 6,
   "metadata": {},
   "outputs": [
    {
     "name": "stdout",
     "output_type": "stream",
     "text": [
      "238.71364 178.0\n",
      "2494\n",
      "11\n"
     ]
    }
   ],
   "source": [
    "lengths = np.array([len(x) for x in train_data])\n",
    "\n",
    "print(np.mean(lengths),np.median(lengths))\n",
    "print(np.max(lengths))\n",
    "print(np.min(lengths))"
   ]
  },
  {
   "cell_type": "code",
   "execution_count": 7,
   "metadata": {},
   "outputs": [
    {
     "data": {
      "image/png": "[encoded data removed]",
      "text/plain": [
       "<Figure size 432x288 with 1 Axes>"
      ]
     },
     "metadata": {
      "needs_background": "light"
     },
     "output_type": "display_data"
    }
   ],
   "source": [
    "# 그래프그리기\n",
    "plt.hist(lengths)\n",
    "plt.xlabel('lengths')\n",
    "plt.ylabel('frequency')\n",
    "plt.show()"
   ]
  },
  {
   "cell_type": "code",
   "execution_count": 12,
   "metadata": {},
   "outputs": [
    {
     "name": "stdout",
     "output_type": "stream",
     "text": [
      "[223  47   4 362   2   5   2   8   2   2 228   4   2  80   2   2  40   2\n",
      "   2   2   6   2   2   2   2   4  20  40  14  80  30  43  17   2  17   4\n",
      "   2   5  13   2  25   2  80  81  12  67   4   2 439  19   2   2  54 224\n",
      "   2   2   9  15  54  25  26   2  11   6   2  58   2  25   2   2  13 244\n",
      "   2  11   4   2  42   2   2   9   2   2  33   4  58 375  58 294 127 142\n",
      "  40  14  36 144 276  53   2  83  50   2]\n",
      "183\n",
      "100\n"
     ]
    }
   ],
   "source": [
    "from tensorflow.keras.preprocessing.sequence import pad_sequences\n",
    "\n",
    "train_seq = pad_sequences(sub_data,maxlen=100)\n",
    "# 문장길이 218\n",
    "print(train_seq[0])\n",
    "print(len(sub_data[0]))\n",
    "print(len(train_seq[0]))"
   ]
  }
 ],
 "metadata": {
  "kernelspec": {
   "display_name": "Python 3.10.2 64-bit",
   "language": "python",
   "name": "python3"
  },
  "language_info": {
   "codemirror_mode": {
    "name": "ipython",
    "version": 3
   },
   "file_extension": ".py",
   "mimetype": "text/x-python",
   "name": "python",
   "nbconvert_exporter": "python",
   "pygments_lexer": "ipython3",
   "version": "3.10.2"
  },
  "orig_nbformat": 4,
  "vscode": {
   "interpreter": {
    "hash": "369f2c481f4da34e4445cda3fffd2e751bd1c4d706f27375911949ba6bb62e1c"
   }
  }
 },
 "nbformat": 4,
 "nbformat_minor": 2
}

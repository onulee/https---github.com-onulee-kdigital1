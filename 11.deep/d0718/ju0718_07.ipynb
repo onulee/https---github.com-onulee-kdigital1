{
 "cells": [
  {
   "cell_type": "code",
   "execution_count": 56,
   "metadata": {},
   "outputs": [
    {
     "name": "stdout",
     "output_type": "stream",
     "text": [
      "(25000,) (25000,)\n"
     ]
    }
   ],
   "source": [
    "from tensorflow import keras\n",
    "import matplotlib.pyplot as plt\n",
    "import matplotlib\n",
    "matplotlib.rcParams['axes.unicode_minus']=False\n",
    "import numpy as np\n",
    "import pandas as pd\n",
    "from sklearn.model_selection import train_test_split\n",
    "from tensorflow.keras.datasets import imdb\n",
    "\n",
    "# 파일불러오기\n",
    "# 웹스크래핑 불러오기\n",
    "(train_data,train_label),(test_data,test_label) = imdb.load_data(num_words=500)\n",
    "# (25000,)\n",
    "print(train_data.shape,test_data.shape)"
   ]
  },
  {
   "cell_type": "code",
   "execution_count": 57,
   "metadata": {},
   "outputs": [
    {
     "name": "stdout",
     "output_type": "stream",
     "text": [
      "[1 0 0 ... 0 1 0]\n",
      "[0 1]\n"
     ]
    }
   ],
   "source": [
    "# 단어의 수 : 218개 글자가 218글자\n",
    "# 2는 500단어에서 없는 것 표현\n",
    "# print(train_data[0])\n",
    "# print(len(train_data[0]))\n",
    "\n",
    "print(train_label)\n",
    "print(np.unique(train_label))"
   ]
  },
  {
   "cell_type": "code",
   "execution_count": 58,
   "metadata": {},
   "outputs": [
    {
     "name": "stdout",
     "output_type": "stream",
     "text": [
      "(18750,) (6250,)\n"
     ]
    }
   ],
   "source": [
    "# 데이터 전처리\n",
    "sub_data,val_data,sub_label,val_label = train_test_split(train_data,train_label,random_state=42)\n",
    "\n",
    "\n",
    "# \n",
    "print(sub_data.shape,val_data.shape)"
   ]
  },
  {
   "cell_type": "code",
   "execution_count": 59,
   "metadata": {},
   "outputs": [
    {
     "name": "stdout",
     "output_type": "stream",
     "text": [
      "238.71364 178.0\n",
      "2494\n",
      "11\n"
     ]
    }
   ],
   "source": [
    "lengths = np.array([len(x) for x in train_data])\n",
    "\n",
    "print(np.mean(lengths),np.median(lengths))\n",
    "print(np.max(lengths))\n",
    "print(np.min(lengths))"
   ]
  },
  {
   "cell_type": "code",
   "execution_count": 60,
   "metadata": {},
   "outputs": [
    {
     "data": {
      "image/png": "[encoded data removed]",
      "text/plain": [
       "<Figure size 432x288 with 1 Axes>"
      ]
     },
     "metadata": {
      "needs_background": "light"
     },
     "output_type": "display_data"
    }
   ],
   "source": [
    "# 그래프그리기\n",
    "plt.hist(lengths)\n",
    "plt.xlabel('lengths')\n",
    "plt.ylabel('frequency')\n",
    "plt.show()"
   ]
  },
  {
   "cell_type": "code",
   "execution_count": 61,
   "metadata": {},
   "outputs": [
    {
     "name": "stdout",
     "output_type": "stream",
     "text": [
      "[  2  13 124   4   2  81   2   2 188   4   2   2  18 118   2  18  14  20\n",
      " 190  13 122  24 169 101   2  11  41 116  12 186  15   8  79   2  25  43\n",
      "  28   8   2  66   2  11   2   5   2 139   5   2  32  11  32   6  87  20\n",
      "  48  25  92  40  12 475   2 106  12 174   5  67  48  25  79  12  48  12\n",
      "   2  25   2  42   2  42   2   2  95 104  48  15  16  24  51   4 167  16\n",
      " 165   2  33 143  14  20  11   4  86 273]\n",
      "568\n",
      "100\n",
      "[312 489  10  10   2  47  69   2  11   2  11   2 153  19   2 245   5   2\n",
      "  31   7  27 171 108  13 161 459  18  21   8  72   2   9 131  27   2   2\n",
      " 259   2  19  27 303 157  80 220 434 358  14   2 157   5 174  14  22   9\n",
      "   6   2  33   4 350   7  27   2   2  23 175   2 474   2 194 278   8  30\n",
      "   2   8  67  14  23   6   2 268 137  15  80 242 115   2  45  52   8 124\n",
      "  15  33 222  14 356  47  77   2  23 288]\n"
     ]
    }
   ],
   "source": [
    "from tensorflow.keras.preprocessing.sequence import pad_sequences\n",
    "\n",
    "train_seq = pad_sequences(sub_data,maxlen=100)\n",
    "# 문장길이 218\n",
    "print(train_seq[0])\n",
    "print(len(sub_data[0]))\n",
    "print(len(train_seq[0]))\n",
    "print(train_seq[5])"
   ]
  },
  {
   "cell_type": "code",
   "execution_count": 62,
   "metadata": {},
   "outputs": [
    {
     "name": "stdout",
     "output_type": "stream",
     "text": [
      "[  0   0   0   0   0   0   0   0   0   0   0   0   0   0   0   0   0   1\n",
      "  13 115 219  14  20 366  13   2   4   2 236 291  13  16   2   5   2  12\n",
      "  47  32   4   2   7  51  13 119   8  67  11   6   2   2  65  11   6 274\n",
      "  42  23   4 268 225   2   2   2   5   6  52  65  10  10 225 142   2   5\n",
      "   2 149   6   2   2   7   4   2   2   7   4   2   5   2  10  10  13 104\n",
      "  45   6 215  67   5  24  64  18   2   2]\n"
     ]
    }
   ],
   "source": [
    "print(train_seq[1])"
   ]
  },
  {
   "cell_type": "code",
   "execution_count": 63,
   "metadata": {},
   "outputs": [],
   "source": [
    "# train_oh = keras.utils.to_categorical(train_seq)\n",
    "# print(train_seq[0])\n",
    "# print(train_oh[0])"
   ]
  },
  {
   "cell_type": "code",
   "execution_count": 64,
   "metadata": {},
   "outputs": [],
   "source": [
    "test_seq = pad_sequences(val_data,maxlen=100)\n",
    "# test_oh = keras.utils.to_categorical(test_seq)\n",
    "# print(test_oh[0])"
   ]
  },
  {
   "cell_type": "code",
   "execution_count": 65,
   "metadata": {},
   "outputs": [
    {
     "name": "stdout",
     "output_type": "stream",
     "text": [
      "Model: \"sequential_3\"\n",
      "_________________________________________________________________\n",
      " Layer (type)                Output Shape              Param #   \n",
      "=================================================================\n",
      " embedding (Embedding)       (None, 100, 16)           8000      \n",
      "                                                                 \n",
      " simple_rnn_3 (SimpleRNN)    (None, 8)                 200       \n",
      "                                                                 \n",
      " dense_3 (Dense)             (None, 1)                 9         \n",
      "                                                                 \n",
      "=================================================================\n",
      "Total params: 8,209\n",
      "Trainable params: 8,209\n",
      "Non-trainable params: 0\n",
      "_________________________________________________________________\n"
     ]
    }
   ],
   "source": [
    "# 순환 신경망 선언\n",
    "model = keras.Sequential()\n",
    "# 순환 신경망\n",
    "model.add(keras.layers.Embedding(500,16,input_length=100))\n",
    "model.add(keras.layers.SimpleRNN(8))\n",
    "# model.add(keras.layers.SimpleRNN(8,input_shape=(100,500)))\n",
    "model.add(keras.layers.Dense(1,activation='sigmoid'))\n",
    "\n",
    "model.summary()"
   ]
  },
  {
   "cell_type": "code",
   "execution_count": 66,
   "metadata": {},
   "outputs": [],
   "source": [
    "# 순환 신경망 설정 adam\n",
    "rmsprop = keras.optimizers.RMSprop(learning_rate=1e-4)\n",
    "model.compile(optimizer=rmsprop,loss='binary_crossentropy',metrics=['accuracy'])\n"
   ]
  },
  {
   "cell_type": "code",
   "execution_count": 67,
   "metadata": {},
   "outputs": [
    {
     "name": "stdout",
     "output_type": "stream",
     "text": [
      "Epoch 1/100\n",
      "293/293 [==============================] - 4s 11ms/step - loss: 0.6904 - accuracy: 0.5331 - val_loss: 0.6650 - val_accuracy: 0.6021\n",
      "Epoch 2/100\n",
      "293/293 [==============================] - 3s 11ms/step - loss: 0.6323 - accuracy: 0.6634 - val_loss: 0.6175 - val_accuracy: 0.6866\n",
      "Epoch 3/100\n",
      "293/293 [==============================] - 3s 10ms/step - loss: 0.5932 - accuracy: 0.7191 - val_loss: 0.5893 - val_accuracy: 0.7181\n",
      "Epoch 4/100\n",
      "293/293 [==============================] - 3s 11ms/step - loss: 0.5669 - accuracy: 0.7444 - val_loss: 0.5765 - val_accuracy: 0.7272\n",
      "Epoch 5/100\n",
      "293/293 [==============================] - 3s 11ms/step - loss: 0.5461 - accuracy: 0.7615 - val_loss: 0.5510 - val_accuracy: 0.7486\n",
      "Epoch 6/100\n",
      "293/293 [==============================] - 3s 11ms/step - loss: 0.5289 - accuracy: 0.7722 - val_loss: 0.5421 - val_accuracy: 0.7494\n",
      "Epoch 7/100\n",
      "293/293 [==============================] - 3s 11ms/step - loss: 0.5140 - accuracy: 0.7784 - val_loss: 0.5232 - val_accuracy: 0.7698\n",
      "Epoch 8/100\n",
      "293/293 [==============================] - 3s 11ms/step - loss: 0.5008 - accuracy: 0.7875 - val_loss: 0.5131 - val_accuracy: 0.7766\n",
      "Epoch 9/100\n",
      "293/293 [==============================] - 3s 11ms/step - loss: 0.4893 - accuracy: 0.7930 - val_loss: 0.5072 - val_accuracy: 0.7730\n",
      "Epoch 10/100\n",
      "293/293 [==============================] - 3s 11ms/step - loss: 0.4783 - accuracy: 0.7972 - val_loss: 0.5002 - val_accuracy: 0.7758\n",
      "Epoch 11/100\n",
      "293/293 [==============================] - 3s 10ms/step - loss: 0.4690 - accuracy: 0.8031 - val_loss: 0.4906 - val_accuracy: 0.7813\n",
      "Epoch 12/100\n",
      "293/293 [==============================] - 3s 11ms/step - loss: 0.4600 - accuracy: 0.8047 - val_loss: 0.4875 - val_accuracy: 0.7805\n",
      "Epoch 13/100\n",
      "293/293 [==============================] - 3s 11ms/step - loss: 0.4527 - accuracy: 0.8069 - val_loss: 0.4821 - val_accuracy: 0.7798\n",
      "Epoch 14/100\n",
      "293/293 [==============================] - 3s 11ms/step - loss: 0.4457 - accuracy: 0.8105 - val_loss: 0.4782 - val_accuracy: 0.7821\n",
      "Epoch 15/100\n",
      "293/293 [==============================] - 3s 11ms/step - loss: 0.4401 - accuracy: 0.8138 - val_loss: 0.4748 - val_accuracy: 0.7850\n",
      "Epoch 16/100\n",
      "293/293 [==============================] - 3s 11ms/step - loss: 0.4350 - accuracy: 0.8132 - val_loss: 0.4717 - val_accuracy: 0.7851\n",
      "Epoch 17/100\n",
      "293/293 [==============================] - 3s 11ms/step - loss: 0.4297 - accuracy: 0.8165 - val_loss: 0.4677 - val_accuracy: 0.7842\n",
      "Epoch 18/100\n",
      "293/293 [==============================] - 3s 11ms/step - loss: 0.4258 - accuracy: 0.8175 - val_loss: 0.4669 - val_accuracy: 0.7843\n",
      "Epoch 19/100\n",
      "293/293 [==============================] - 3s 11ms/step - loss: 0.4221 - accuracy: 0.8184 - val_loss: 0.4706 - val_accuracy: 0.7832\n",
      "Epoch 20/100\n",
      "293/293 [==============================] - 3s 11ms/step - loss: 0.4190 - accuracy: 0.8211 - val_loss: 0.4644 - val_accuracy: 0.7826\n",
      "Epoch 21/100\n",
      "293/293 [==============================] - 3s 11ms/step - loss: 0.4157 - accuracy: 0.8206 - val_loss: 0.4616 - val_accuracy: 0.7883\n",
      "Epoch 22/100\n",
      "293/293 [==============================] - 3s 11ms/step - loss: 0.4127 - accuracy: 0.8230 - val_loss: 0.4636 - val_accuracy: 0.7845\n",
      "Epoch 23/100\n",
      "293/293 [==============================] - 3s 11ms/step - loss: 0.4100 - accuracy: 0.8247 - val_loss: 0.4620 - val_accuracy: 0.7862\n",
      "Epoch 24/100\n",
      "293/293 [==============================] - 3s 11ms/step - loss: 0.4078 - accuracy: 0.8242 - val_loss: 0.4628 - val_accuracy: 0.7853\n"
     ]
    }
   ],
   "source": [
    "\n",
    "# 콜백 - 20번돌고, 가장 낮은 손실률을 저장\n",
    "check_cb = keras.callbacks.ModelCheckpoint('best-rnn.h5',save_best_only=True)\n",
    "early_cb = keras.callbacks.EarlyStopping(patience=3,restore_best_weights=True)\n",
    "\n",
    "history = model.fit(train_seq,sub_label,epochs=100,batch_size=64,\\\n",
    "    validation_data=(test_seq,val_label),callbacks=[check_cb,early_cb])\n",
    "# history = model.fit(train_oh,sub_label,epochs=100,batch_size=64,\\\n",
    "#     validation_data=(test_oh,val_label),callbacks=[check_cb,early_cb])"
   ]
  },
  {
   "cell_type": "code",
   "execution_count": 68,
   "metadata": {},
   "outputs": [
    {
     "data": {
      "image/png": "[encoded data removed]",
      "text/plain": [
       "<Figure size 432x288 with 1 Axes>"
      ]
     },
     "metadata": {
      "needs_background": "light"
     },
     "output_type": "display_data"
    }
   ],
   "source": [
    "# 그래프 그리기\n",
    "plt.plot(history.history['loss'])\n",
    "plt.plot(history.history['val_loss'])\n",
    "plt.xlabel('epoch')\n",
    "plt.ylabel('loss')\n",
    "plt.legend(['train','test'])\n",
    "plt.show()"
   ]
  },
  {
   "cell_type": "code",
   "execution_count": 69,
   "metadata": {},
   "outputs": [
    {
     "name": "stdout",
     "output_type": "stream",
     "text": [
      "196/196 [==============================] - 1s 3ms/step - loss: 0.4616 - accuracy: 0.7883\n",
      "loss, accuracy :  [0.46159952878952026, 0.788320004940033]\n"
     ]
    }
   ],
   "source": [
    "# 정확도\n",
    "score = model.evaluate(test_seq,val_label)\n",
    "print(\"loss, accuracy : \",score)"
   ]
  }
 ],
 "metadata": {
  "kernelspec": {
   "display_name": "Python 3.10.2 64-bit",
   "language": "python",
   "name": "python3"
  },
  "language_info": {
   "codemirror_mode": {
    "name": "ipython",
    "version": 3
   },
   "file_extension": ".py",
   "mimetype": "text/x-python",
   "name": "python",
   "nbconvert_exporter": "python",
   "pygments_lexer": "ipython3",
   "version": "3.10.2"
  },
  "orig_nbformat": 4,
  "vscode": {
   "interpreter": {
    "hash": "369f2c481f4da34e4445cda3fffd2e751bd1c4d706f27375911949ba6bb62e1c"
   }
  }
 },
 "nbformat": 4,
 "nbformat_minor": 2
}

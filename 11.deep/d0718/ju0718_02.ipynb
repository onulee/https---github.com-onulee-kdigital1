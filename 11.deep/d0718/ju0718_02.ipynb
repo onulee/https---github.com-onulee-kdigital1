{
 "cells": [
  {
   "cell_type": "code",
   "execution_count": 2,
   "metadata": {},
   "outputs": [],
   "source": [
    "from tensorflow import keras\n",
    "import matplotlib.pyplot as plt\n",
    "import numpy as np\n",
    "import pandas as pd\n",
    "from sklearn.model_selection import train_test_split\n",
    "\n",
    "# 1.데이터 불러오기 : keras mnist파일을 불러오기\n",
    "# info, describe\n",
    "# shape : (60000,28,28)\n",
    "# class : 0-9까지 10개\n",
    "(train_data,train_label),(test_data,test_label) = keras.datasets.fashion_mnist.load_data()\n",
    "\n",
    "# print(train_data.shape)\n",
    "# print(train_label[:5])\n",
    "# print(np.unique(train_label))\n",
    "\n",
    "# 2. 정규화, 표준화작업\n",
    "train_data = train_data/255\n",
    "test_data = test_data/255\n",
    "\n",
    "# 3. train,test데이터 분리\n",
    "# (45000, 28, 28)\n",
    "# (15000, 28, 28)\n",
    "train_scaled,val_scaled,train_label,val_label = train_test_split(train_data,train_label)\n",
    "\n",
    "# ------------------------------------------------------\n",
    "# 4. 딥러닝선언 - 인공신경망 ANN,DNN  / 합성곱신경망-CNN  / 순환신경망 - RNN\n",
    "model = keras.Sequential()\n",
    "model.add(keras.layers.Flatten(input_shape=(28,28)))\n",
    "model.add(keras.layers.Dense(100,activation='relu'))\n",
    "model.add(keras.layers.Dropout(0.3)) # 규제 30% 제외\n",
    "model.add(keras.layers.Dense(10,activation='softmax'))\n",
    "# 옵티마이저 추가 0.85 -> 0.88\n",
    "model.compile(optimizer='adam',loss='sparse_categorical_crossentropy',metrics='accuracy')\n",
    "\n",
    "# 콜백 : epochs 20번 반복하면서 가장 손실률이 낮은 시점을 찾아서 model저장\n",
    "# 콜백 선언\n",
    "checkpoint_cb = keras.callbacks.ModelCheckpoint('best-model.h5')\n",
    "\n",
    "# 조기종료 : 손실곡선이 해당횟수이상되면 종료하고 가장 낮은 손실률로 이동저장\n",
    "# 조기종료 선언 patience:상승횟수 restore_best_weights : 가장낮은 손실률 위치로 이동\n",
    "early_stopping_cb = keras.callbacks.EarlyStopping(patience=2,restore_best_weights=True)\n",
    "\n"
   ]
  },
  {
   "cell_type": "code",
   "execution_count": 3,
   "metadata": {},
   "outputs": [
    {
     "name": "stdout",
     "output_type": "stream",
     "text": [
      "Epoch 1/20\n",
      "1407/1407 [==============================] - 2s 1ms/step - loss: 0.5986 - accuracy: 0.7882 - val_loss: 0.4217 - val_accuracy: 0.8461\n",
      "Epoch 2/20\n",
      "1407/1407 [==============================] - 2s 1ms/step - loss: 0.4410 - accuracy: 0.8404 - val_loss: 0.4006 - val_accuracy: 0.8548\n",
      "Epoch 3/20\n",
      "1407/1407 [==============================] - 2s 1ms/step - loss: 0.4051 - accuracy: 0.8526 - val_loss: 0.3724 - val_accuracy: 0.8665\n",
      "Epoch 4/20\n",
      "1407/1407 [==============================] - 2s 1ms/step - loss: 0.3834 - accuracy: 0.8598 - val_loss: 0.3592 - val_accuracy: 0.8702\n",
      "Epoch 5/20\n",
      "1407/1407 [==============================] - 2s 1ms/step - loss: 0.3683 - accuracy: 0.8652 - val_loss: 0.3432 - val_accuracy: 0.8747\n",
      "Epoch 6/20\n",
      "1407/1407 [==============================] - 2s 1ms/step - loss: 0.3575 - accuracy: 0.8684 - val_loss: 0.3422 - val_accuracy: 0.8778\n",
      "Epoch 7/20\n",
      "1407/1407 [==============================] - 2s 1ms/step - loss: 0.3468 - accuracy: 0.8722 - val_loss: 0.3326 - val_accuracy: 0.8789\n",
      "Epoch 8/20\n",
      "1407/1407 [==============================] - 2s 1ms/step - loss: 0.3376 - accuracy: 0.8748 - val_loss: 0.3472 - val_accuracy: 0.8745\n",
      "Epoch 9/20\n",
      "1407/1407 [==============================] - 2s 1ms/step - loss: 0.3288 - accuracy: 0.8779 - val_loss: 0.3229 - val_accuracy: 0.8843\n",
      "Epoch 10/20\n",
      "1407/1407 [==============================] - 2s 1ms/step - loss: 0.3241 - accuracy: 0.8792 - val_loss: 0.3395 - val_accuracy: 0.8782\n",
      "Epoch 11/20\n",
      "1407/1407 [==============================] - 2s 1ms/step - loss: 0.3168 - accuracy: 0.8823 - val_loss: 0.3252 - val_accuracy: 0.8828\n",
      "dict_keys(['loss', 'accuracy', 'val_loss', 'val_accuracy'])\n",
      "[0.5985659956932068, 0.4409906268119812, 0.4051419198513031, 0.38342106342315674, 0.36826565861701965, 0.35747480392456055, 0.34675025939941406, 0.3376401662826538, 0.3288109302520752, 0.32406389713287354, 0.3168198764324188]\n",
      "epoch 회수 :  10\n"
     ]
    },
    {
     "data": {
      "image/png": "[encoded data removed]",
      "text/plain": [
       "<Figure size 432x288 with 1 Axes>"
      ]
     },
     "metadata": {
      "needs_background": "light"
     },
     "output_type": "display_data"
    },
    {
     "name": "stdout",
     "output_type": "stream",
     "text": [
      "469/469 [==============================] - 0s 855us/step - loss: 0.3229 - accuracy: 0.8843\n",
      "[0.32294589281082153, 0.8842666745185852]\n"
     ]
    }
   ],
   "source": [
    "\n",
    "# 5. 딥러닝 훈련\n",
    "history = model.fit(train_scaled,train_label,epochs=20,\\\n",
    "    validation_data=(val_scaled,val_label),callbacks=[checkpoint_cb,early_stopping_cb])\n",
    "# history로 넘어온 변수 loss,accuracy,val_loss,val_accuracy\n",
    "print(history.history.keys()) \n",
    "print(history.history['loss'])\n",
    "\n",
    "print(\"epoch 회수 : \",early_stopping_cb.stopped_epoch)\n",
    "\n",
    "# 그래프 출력\n",
    "plt.plot(history.history['loss'])\n",
    "plt.plot(history.history['val_loss'])\n",
    "plt.xlabel('epoch')\n",
    "plt.ylabel('loss')\n",
    "plt.legend(['train','val'])\n",
    "plt.show()\n",
    "\n",
    "# 6. 정확도\n",
    "score = model.evaluate(val_scaled,val_label)\n",
    "print(score)"
   ]
  }
 ],
 "metadata": {
  "kernelspec": {
   "display_name": "Python 3.10.2 64-bit",
   "language": "python",
   "name": "python3"
  },
  "language_info": {
   "codemirror_mode": {
    "name": "ipython",
    "version": 3
   },
   "file_extension": ".py",
   "mimetype": "text/x-python",
   "name": "python",
   "nbconvert_exporter": "python",
   "pygments_lexer": "ipython3",
   "version": "3.10.2"
  },
  "orig_nbformat": 4,
  "vscode": {
   "interpreter": {
    "hash": "369f2c481f4da34e4445cda3fffd2e751bd1c4d706f27375911949ba6bb62e1c"
   }
  }
 },
 "nbformat": 4,
 "nbformat_minor": 2
}

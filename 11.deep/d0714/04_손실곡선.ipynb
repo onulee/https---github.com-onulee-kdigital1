{
  "nbformat": 4,
  "nbformat_minor": 0,
  "metadata": {
    "colab": {
      "name": "04.손실곡선.ipynb",
      "provenance": [],
      "collapsed_sections": [],
      "authorship_tag": "ABX9TyOHjVxhIPqppJUXvxJ9gjiA",
      "include_colab_link": true
    },
    "kernelspec": {
      "name": "python3",
      "display_name": "Python 3"
    },
    "language_info": {
      "name": "python"
    }
  },
  "cells": [
    {
      "cell_type": "markdown",
      "metadata": {
        "id": "view-in-github",
        "colab_type": "text"
      },
      "source": [
        "<a href=\"https://colab.research.google.com/github/onulee/https---github.com-onulee-kdigital1/blob/master/11.deep/d0714/04_%EC%86%90%EC%8B%A4%EA%B3%A1%EC%84%A0.ipynb\" target=\"_parent\"><img src=\"https://colab.research.google.com/assets/colab-badge.svg\" alt=\"Open In Colab\"/></a>"
      ]
    },
    {
      "cell_type": "code",
      "execution_count": 2,
      "metadata": {
        "id": "g40tlxopsAke"
      },
      "outputs": [],
      "source": [
        "import sklearn\n",
        "from sklearn import metrics\n",
        "from tensorflow import keras\n",
        "from sklearn.linear_model import SGDClassifier\n",
        "import numpy as np\n",
        "import pandas as pd\n",
        "import matplotlib.pyplot as plt\n",
        "from sklearn.model_selection import train_test_split"
      ]
    },
    {
      "cell_type": "code",
      "source": [
        "# mnist파일 불러오기\n",
        "# keras mnist파일이 설치될때 자동설치가 됨.\n",
        "(train_data,train_label),(test_data,test_label) = keras.datasets.fashion_mnist.load_data()"
      ],
      "metadata": {
        "colab": {
          "base_uri": "https://localhost:8080/"
        },
        "id": "ZwG6wF86sGj-",
        "outputId": "db82e88e-ef73-4d85-b8fc-588ce272fbaf"
      },
      "execution_count": 3,
      "outputs": [
        {
          "output_type": "stream",
          "name": "stdout",
          "text": [
            "Downloading data from https://storage.googleapis.com/tensorflow/tf-keras-datasets/train-labels-idx1-ubyte.gz\n",
            "32768/29515 [=================================] - 0s 0us/step\n",
            "40960/29515 [=========================================] - 0s 0us/step\n",
            "Downloading data from https://storage.googleapis.com/tensorflow/tf-keras-datasets/train-images-idx3-ubyte.gz\n",
            "26427392/26421880 [==============================] - 0s 0us/step\n",
            "26435584/26421880 [==============================] - 0s 0us/step\n",
            "Downloading data from https://storage.googleapis.com/tensorflow/tf-keras-datasets/t10k-labels-idx1-ubyte.gz\n",
            "16384/5148 [===============================================================================================] - 0s 0us/step\n",
            "Downloading data from https://storage.googleapis.com/tensorflow/tf-keras-datasets/t10k-images-idx3-ubyte.gz\n",
            "4423680/4422102 [==============================] - 0s 0us/step\n",
            "4431872/4422102 [==============================] - 0s 0us/step\n"
          ]
        }
      ]
    },
    {
      "cell_type": "code",
      "source": [
        "train_scaled = train_data/255.0\n",
        "test_scaled = test_data/255.0"
      ],
      "metadata": {
        "id": "iKDnDosbsGms"
      },
      "execution_count": 4,
      "outputs": []
    },
    {
      "cell_type": "code",
      "source": [
        "sub_scaled,val_scaled,sub_label,val_label = train_test_split(train_scaled,train_label)"
      ],
      "metadata": {
        "id": "U67CjG0Ey0BB"
      },
      "execution_count": 22,
      "outputs": []
    },
    {
      "cell_type": "code",
      "source": [
        "# 딥러닝 선언\n",
        "model = keras.Sequential()\n",
        "model.add(keras.layers.Flatten(input_shape=(28,28)))\n",
        "model.add(keras.layers.Dense(100,activation='relu'))\n",
        "model.add(keras.layers.Dense(10,activation='softmax'))"
      ],
      "metadata": {
        "id": "muG0XKcqsGpU"
      },
      "execution_count": 5,
      "outputs": []
    },
    {
      "cell_type": "code",
      "source": [
        "# 딥러닝 설정\n",
        "model.compile(optimizer='adam',loss='sparse_categorical_crossentropy',metrics='accuracy')"
      ],
      "metadata": {
        "id": "qnMhOwELsGr0"
      },
      "execution_count": 6,
      "outputs": []
    },
    {
      "cell_type": "code",
      "source": [
        "# 훈련\n",
        "history = model.fit(sub_scaled,sub_label,epochs=20,validation_data=(val_scaled,val_label))\n",
        "# [loss,accuracy] 출력 - epoch 5\n",
        "print(history.history['loss'])\n",
        "print(history.history['accuracy'])"
      ],
      "metadata": {
        "colab": {
          "base_uri": "https://localhost:8080/"
        },
        "id": "_AY7bT1qsQ3V",
        "outputId": "7ea4b3ff-0879-4bf7-ae73-f7dffb48fb11"
      },
      "execution_count": 23,
      "outputs": [
        {
          "output_type": "stream",
          "name": "stdout",
          "text": [
            "Epoch 1/20\n",
            "1407/1407 [==============================] - 6s 4ms/step - loss: 0.1426 - accuracy: 0.9464 - val_loss: 0.1432 - val_accuracy: 0.9468\n",
            "Epoch 2/20\n",
            "1407/1407 [==============================] - 5s 4ms/step - loss: 0.1401 - accuracy: 0.9473 - val_loss: 0.1846 - val_accuracy: 0.9300\n",
            "Epoch 3/20\n",
            "1407/1407 [==============================] - 5s 3ms/step - loss: 0.1364 - accuracy: 0.9485 - val_loss: 0.1608 - val_accuracy: 0.9402\n",
            "Epoch 4/20\n",
            "1407/1407 [==============================] - 5s 4ms/step - loss: 0.1327 - accuracy: 0.9498 - val_loss: 0.1680 - val_accuracy: 0.9377\n",
            "Epoch 5/20\n",
            "1407/1407 [==============================] - 5s 4ms/step - loss: 0.1282 - accuracy: 0.9517 - val_loss: 0.1779 - val_accuracy: 0.9307\n",
            "Epoch 6/20\n",
            "1407/1407 [==============================] - 5s 3ms/step - loss: 0.1281 - accuracy: 0.9516 - val_loss: 0.1603 - val_accuracy: 0.9395\n",
            "Epoch 7/20\n",
            "1407/1407 [==============================] - 5s 4ms/step - loss: 0.1229 - accuracy: 0.9537 - val_loss: 0.1628 - val_accuracy: 0.9397\n",
            "Epoch 8/20\n",
            "1407/1407 [==============================] - 5s 3ms/step - loss: 0.1212 - accuracy: 0.9552 - val_loss: 0.1694 - val_accuracy: 0.9371\n",
            "Epoch 9/20\n",
            "1407/1407 [==============================] - 5s 3ms/step - loss: 0.1216 - accuracy: 0.9537 - val_loss: 0.1661 - val_accuracy: 0.9397\n",
            "Epoch 10/20\n",
            "1407/1407 [==============================] - 5s 4ms/step - loss: 0.1144 - accuracy: 0.9567 - val_loss: 0.1727 - val_accuracy: 0.9353\n",
            "Epoch 11/20\n",
            "1407/1407 [==============================] - 5s 4ms/step - loss: 0.1138 - accuracy: 0.9574 - val_loss: 0.1877 - val_accuracy: 0.9299\n",
            "Epoch 12/20\n",
            "1407/1407 [==============================] - 5s 4ms/step - loss: 0.1114 - accuracy: 0.9574 - val_loss: 0.2099 - val_accuracy: 0.9283\n",
            "Epoch 13/20\n",
            "1407/1407 [==============================] - 5s 4ms/step - loss: 0.1089 - accuracy: 0.9590 - val_loss: 0.1995 - val_accuracy: 0.9288\n",
            "Epoch 14/20\n",
            "1407/1407 [==============================] - 5s 4ms/step - loss: 0.1095 - accuracy: 0.9593 - val_loss: 0.1868 - val_accuracy: 0.9313\n",
            "Epoch 15/20\n",
            "1407/1407 [==============================] - 5s 4ms/step - loss: 0.1073 - accuracy: 0.9602 - val_loss: 0.1884 - val_accuracy: 0.9327\n",
            "Epoch 16/20\n",
            "1407/1407 [==============================] - 6s 4ms/step - loss: 0.1032 - accuracy: 0.9614 - val_loss: 0.1980 - val_accuracy: 0.9277\n",
            "Epoch 17/20\n",
            "1407/1407 [==============================] - 5s 4ms/step - loss: 0.1032 - accuracy: 0.9621 - val_loss: 0.1946 - val_accuracy: 0.9299\n",
            "Epoch 18/20\n",
            "1407/1407 [==============================] - 5s 3ms/step - loss: 0.1020 - accuracy: 0.9616 - val_loss: 0.2114 - val_accuracy: 0.9269\n",
            "Epoch 19/20\n",
            "1407/1407 [==============================] - 5s 3ms/step - loss: 0.0990 - accuracy: 0.9637 - val_loss: 0.2334 - val_accuracy: 0.9234\n",
            "Epoch 20/20\n",
            "1407/1407 [==============================] - 6s 4ms/step - loss: 0.0979 - accuracy: 0.9632 - val_loss: 0.2537 - val_accuracy: 0.9199\n",
            "[0.14255604147911072, 0.14007344841957092, 0.13643085956573486, 0.13272109627723694, 0.12815581262111664, 0.12810169160366058, 0.12286331504583359, 0.12117019295692444, 0.12155132740736008, 0.11435560882091522, 0.11381321400403976, 0.11142509430646896, 0.10893771797418594, 0.10953560471534729, 0.10725496709346771, 0.1032460406422615, 0.10321339219808578, 0.10202044993638992, 0.09903523325920105, 0.09792711585760117]\n",
            "[0.9463555812835693, 0.9473333358764648, 0.9484666585922241, 0.9497777819633484, 0.951711118221283, 0.9516222476959229, 0.9537110924720764, 0.9552222490310669, 0.9536666870117188, 0.9566666483879089, 0.9574000239372253, 0.957444429397583, 0.9589999914169312, 0.9593111276626587, 0.9602222442626953, 0.9613777995109558, 0.9621111154556274, 0.9616222381591797, 0.9637110829353333, 0.9631555676460266]\n"
          ]
        }
      ]
    },
    {
      "cell_type": "code",
      "source": [
        "history.history.keys()"
      ],
      "metadata": {
        "colab": {
          "base_uri": "https://localhost:8080/"
        },
        "id": "bPWHUME6txLk",
        "outputId": "df810090-5efc-4ee6-81aa-f7f2ae03fd85"
      },
      "execution_count": 24,
      "outputs": [
        {
          "output_type": "execute_result",
          "data": {
            "text/plain": [
              "dict_keys(['loss', 'accuracy', 'val_loss', 'val_accuracy'])"
            ]
          },
          "metadata": {},
          "execution_count": 24
        }
      ]
    },
    {
      "cell_type": "code",
      "source": [
        "plt.plot(history.history['val_accuracy'])\n",
        "plt.plot(history.history['accuracy'])\n",
        "plt.xlabel('epoch')\n",
        "plt.ylabel('val_accuracy')\n",
        "plt.show()"
      ],
      "metadata": {
        "colab": {
          "base_uri": "https://localhost:8080/",
          "height": 279
        },
        "id": "BkjtOrx-ucNj",
        "outputId": "5be5742a-c7c7-4ecd-e045-2b797eeffaed"
      },
      "execution_count": 25,
      "outputs": [
        {
          "output_type": "display_data",
          "data": {
            "text/plain": [
              "<Figure size 432x288 with 1 Axes>"
            ],
            "image/png": "[encoded data removed]"
          },
          "metadata": {
            "needs_background": "light"
          }
        }
      ]
    },
    {
      "cell_type": "code",
      "source": [
        "plt.plot(history.history['val_loss'])\n",
        "plt.plot(history.history['loss'])\n",
        "plt.xlabel('epoch')\n",
        "plt.ylabel('val_loss')\n",
        "plt.show()"
      ],
      "metadata": {
        "colab": {
          "base_uri": "https://localhost:8080/",
          "height": 281
        },
        "id": "qFiidVEquCcd",
        "outputId": "0f60c69a-7eec-4b3e-94ec-5bf1cb352d23"
      },
      "execution_count": 26,
      "outputs": [
        {
          "output_type": "display_data",
          "data": {
            "text/plain": [
              "<Figure size 432x288 with 1 Axes>"
            ],
            "image/png": "[encoded data removed]"
          },
          "metadata": {
            "needs_background": "light"
          }
        }
      ]
    }
  ]
}
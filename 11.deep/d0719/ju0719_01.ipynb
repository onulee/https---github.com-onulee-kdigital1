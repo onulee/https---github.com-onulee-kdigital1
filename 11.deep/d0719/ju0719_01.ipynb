{
 "cells": [
  {
   "cell_type": "code",
   "execution_count": 2,
   "metadata": {},
   "outputs": [
    {
     "name": "stdout",
     "output_type": "stream",
     "text": [
      "(25000,) (25000,)\n"
     ]
    }
   ],
   "source": [
    "from tensorflow import keras\n",
    "import matplotlib.pyplot as plt\n",
    "import matplotlib\n",
    "matplotlib.rcParams['axes.unicode_minus']=False\n",
    "import numpy as np\n",
    "import pandas as pd\n",
    "from sklearn.model_selection import train_test_split\n",
    "from tensorflow.keras.datasets import imdb\n",
    "\n",
    "# 파일불러오기\n",
    "# 웹스크래핑 불러오기\n",
    "(train_data,train_label),(test_data,test_label) = imdb.load_data(num_words=500)\n",
    "# (25000,)\n",
    "print(train_data.shape,test_data.shape)"
   ]
  },
  {
   "cell_type": "code",
   "execution_count": 3,
   "metadata": {},
   "outputs": [
    {
     "name": "stdout",
     "output_type": "stream",
     "text": [
      "[1 0 0 ... 0 1 0]\n",
      "[0 1]\n"
     ]
    }
   ],
   "source": [
    "# 단어의 수 : 218개 글자가 218글자\n",
    "# 2는 500단어에서 없는 것 표현\n",
    "# print(train_data[0])\n",
    "# print(len(train_data[0]))\n",
    "\n",
    "print(train_label)\n",
    "print(np.unique(train_label))"
   ]
  },
  {
   "cell_type": "code",
   "execution_count": 4,
   "metadata": {},
   "outputs": [
    {
     "name": "stdout",
     "output_type": "stream",
     "text": [
      "(18750,) (6250,)\n"
     ]
    }
   ],
   "source": [
    "# 데이터 전처리\n",
    "sub_data,val_data,sub_label,val_label = train_test_split(train_data,train_label,random_state=42)\n",
    "\n",
    "\n",
    "# \n",
    "print(sub_data.shape,val_data.shape)"
   ]
  },
  {
   "cell_type": "code",
   "execution_count": 5,
   "metadata": {},
   "outputs": [
    {
     "name": "stdout",
     "output_type": "stream",
     "text": [
      "238.71364 178.0\n",
      "2494\n",
      "11\n"
     ]
    }
   ],
   "source": [
    "lengths = np.array([len(x) for x in train_data])\n",
    "\n",
    "print(np.mean(lengths),np.median(lengths))\n",
    "print(np.max(lengths))\n",
    "print(np.min(lengths))"
   ]
  },
  {
   "cell_type": "code",
   "execution_count": 6,
   "metadata": {},
   "outputs": [
    {
     "data": {
      "image/png": "[encoded data removed]",
      "text/plain": [
       "<Figure size 432x288 with 1 Axes>"
      ]
     },
     "metadata": {
      "needs_background": "light"
     },
     "output_type": "display_data"
    }
   ],
   "source": [
    "# 그래프그리기\n",
    "plt.hist(lengths)\n",
    "plt.xlabel('lengths')\n",
    "plt.ylabel('frequency')\n",
    "plt.show()"
   ]
  },
  {
   "cell_type": "code",
   "execution_count": 14,
   "metadata": {},
   "outputs": [
    {
     "name": "stdout",
     "output_type": "stream",
     "text": [
      "[  2  13 124   4   2  81   2   2 188   4   2   2  18 118   2  18  14  20\n",
      " 190  13 122  24 169 101   2  11  41 116  12 186  15   8  79   2  25  43\n",
      "  28   8   2  66   2  11   2   5   2 139   5   2  32  11  32   6  87  20\n",
      "  48  25  92  40  12 475   2 106  12 174   5  67  48  25  79  12  48  12\n",
      "   2  25   2  42   2  42   2   2  95 104  48  15  16  24  51   4 167  16\n",
      " 165   2  33 143  14  20  11   4  86 273]\n",
      "568\n",
      "100\n",
      "[312 489  10  10   2  47  69   2  11   2  11   2 153  19   2 245   5   2\n",
      "  31   7  27 171 108  13 161 459  18  21   8  72   2   9 131  27   2   2\n",
      " 259   2  19  27 303 157  80 220 434 358  14   2 157   5 174  14  22   9\n",
      "   6   2  33   4 350   7  27   2   2  23 175   2 474   2 194 278   8  30\n",
      "   2   8  67  14  23   6   2 268 137  15  80 242 115   2  45  52   8 124\n",
      "  15  33 222  14 356  47  77   2  23 288]\n"
     ]
    }
   ],
   "source": [
    "from tensorflow.keras.preprocessing.sequence import pad_sequences\n",
    "\n",
    "# 패딩\n",
    "sub_seq = pad_sequences(sub_data,maxlen=100)\n",
    "# 문장길이 218\n",
    "print(sub_seq[0])\n",
    "print(len(sub_data[0]))\n",
    "print(len(sub_seq[0]))\n",
    "print(sub_seq[5])"
   ]
  },
  {
   "cell_type": "code",
   "execution_count": 15,
   "metadata": {},
   "outputs": [
    {
     "name": "stdout",
     "output_type": "stream",
     "text": [
      "[  0   0   0   0   0   0   0   0   0   0   0   0   0   0   0   0   0   1\n",
      "  13 115 219  14  20 366  13   2   4   2 236 291  13  16   2   5   2  12\n",
      "  47  32   4   2   7  51  13 119   8  67  11   6   2   2  65  11   6 274\n",
      "  42  23   4 268 225   2   2   2   5   6  52  65  10  10 225 142   2   5\n",
      "   2 149   6   2   2   7   4   2   2   7   4   2   5   2  10  10  13 104\n",
      "  45   6 215  67   5  24  64  18   2   2]\n"
     ]
    }
   ],
   "source": [
    "print(sub_seq[1])"
   ]
  },
  {
   "cell_type": "code",
   "execution_count": 10,
   "metadata": {},
   "outputs": [],
   "source": [
    "# 원핫 인코딩\n",
    "# train_oh = keras.utils.to_categorical(train_seq)\n",
    "# print(train_seq[0])\n",
    "# print(train_oh[0])"
   ]
  },
  {
   "cell_type": "code",
   "execution_count": 16,
   "metadata": {},
   "outputs": [],
   "source": [
    "val_seq = pad_sequences(val_data,maxlen=100)\n",
    "# test_oh = keras.utils.to_categorical(test_seq)\n",
    "# print(test_oh[0])"
   ]
  },
  {
   "cell_type": "code",
   "execution_count": 12,
   "metadata": {},
   "outputs": [
    {
     "name": "stdout",
     "output_type": "stream",
     "text": [
      "Model: \"sequential\"\n",
      "_________________________________________________________________\n",
      " Layer (type)                Output Shape              Param #   \n",
      "=================================================================\n",
      " embedding (Embedding)       (None, 100, 16)           8000      \n",
      "                                                                 \n",
      " lstm (LSTM)                 (None, 8)                 800       \n",
      "                                                                 \n",
      " dense (Dense)               (None, 1)                 9         \n",
      "                                                                 \n",
      "=================================================================\n",
      "Total params: 8,809\n",
      "Trainable params: 8,809\n",
      "Non-trainable params: 0\n",
      "_________________________________________________________________\n"
     ]
    }
   ],
   "source": [
    "# 순환 신경망 선언\n",
    "model = keras.Sequential()\n",
    "# 순환 신경망\n",
    "model.add(keras.layers.Embedding(500,16,input_length=100))\n",
    "\n",
    "# GRU\n",
    "# model.add(keras.layers.GRU(8))\n",
    "\n",
    "# LSTM\n",
    "model.add(keras.layers.LSTM(8,dropout=0.3, return_sequences=True))\n",
    "model.add(keras.layers.LSTM(8,dropout=0.3))\n",
    "\n",
    "# SimpleRNN - 원핫인코딩을 해야만 가능\n",
    "# model.add(keras.layers.SimpleRNN(8))\n",
    "# model.add(keras.layers.SimpleRNN(8,input_shape=(100,500)))\n",
    "model.add(keras.layers.Dense(1,activation='sigmoid'))\n",
    "\n",
    "model.summary()"
   ]
  },
  {
   "cell_type": "code",
   "execution_count": 13,
   "metadata": {},
   "outputs": [],
   "source": [
    "# 순환 신경망 설정 adam\n",
    "rmsprop = keras.optimizers.RMSprop(learning_rate=1e-4)\n",
    "model.compile(optimizer=rmsprop,loss='binary_crossentropy',metrics=['accuracy'])\n"
   ]
  },
  {
   "cell_type": "code",
   "execution_count": 17,
   "metadata": {},
   "outputs": [
    {
     "name": "stdout",
     "output_type": "stream",
     "text": [
      "Epoch 1/100\n",
      "293/293 [==============================] - 8s 20ms/step - loss: 0.6927 - accuracy: 0.5277 - val_loss: 0.6923 - val_accuracy: 0.5506\n",
      "Epoch 2/100\n",
      "293/293 [==============================] - 6s 19ms/step - loss: 0.6914 - accuracy: 0.5782 - val_loss: 0.6908 - val_accuracy: 0.5888\n",
      "Epoch 3/100\n",
      "293/293 [==============================] - 6s 19ms/step - loss: 0.6892 - accuracy: 0.6085 - val_loss: 0.6882 - val_accuracy: 0.6027\n",
      "Epoch 4/100\n",
      "293/293 [==============================] - 6s 19ms/step - loss: 0.6853 - accuracy: 0.6254 - val_loss: 0.6833 - val_accuracy: 0.6238\n",
      "Epoch 5/100\n",
      "293/293 [==============================] - 6s 19ms/step - loss: 0.6767 - accuracy: 0.6438 - val_loss: 0.6705 - val_accuracy: 0.6293\n",
      "Epoch 6/100\n",
      "293/293 [==============================] - 6s 19ms/step - loss: 0.6449 - accuracy: 0.6587 - val_loss: 0.6163 - val_accuracy: 0.7128\n",
      "Epoch 7/100\n",
      "293/293 [==============================] - 6s 19ms/step - loss: 0.5909 - accuracy: 0.7314 - val_loss: 0.5858 - val_accuracy: 0.7374\n",
      "Epoch 8/100\n",
      "293/293 [==============================] - 6s 19ms/step - loss: 0.5682 - accuracy: 0.7486 - val_loss: 0.5664 - val_accuracy: 0.7443\n",
      "Epoch 9/100\n",
      "293/293 [==============================] - 6s 19ms/step - loss: 0.5489 - accuracy: 0.7620 - val_loss: 0.5491 - val_accuracy: 0.7515\n",
      "Epoch 10/100\n",
      "293/293 [==============================] - 6s 19ms/step - loss: 0.5307 - accuracy: 0.7704 - val_loss: 0.5326 - val_accuracy: 0.7627\n",
      "Epoch 11/100\n",
      "293/293 [==============================] - 6s 19ms/step - loss: 0.5137 - accuracy: 0.7743 - val_loss: 0.5171 - val_accuracy: 0.7680\n",
      "Epoch 12/100\n",
      "293/293 [==============================] - 6s 19ms/step - loss: 0.4976 - accuracy: 0.7811 - val_loss: 0.5024 - val_accuracy: 0.7733\n",
      "Epoch 13/100\n",
      "293/293 [==============================] - 6s 19ms/step - loss: 0.4834 - accuracy: 0.7855 - val_loss: 0.4912 - val_accuracy: 0.7782\n",
      "Epoch 14/100\n",
      "293/293 [==============================] - 6s 19ms/step - loss: 0.4713 - accuracy: 0.7900 - val_loss: 0.4787 - val_accuracy: 0.7867\n",
      "Epoch 15/100\n",
      "293/293 [==============================] - 6s 19ms/step - loss: 0.4609 - accuracy: 0.7960 - val_loss: 0.4713 - val_accuracy: 0.7842\n",
      "Epoch 16/100\n",
      "293/293 [==============================] - 6s 19ms/step - loss: 0.4527 - accuracy: 0.7996 - val_loss: 0.4636 - val_accuracy: 0.7894\n",
      "Epoch 17/100\n",
      "293/293 [==============================] - 6s 19ms/step - loss: 0.4457 - accuracy: 0.8023 - val_loss: 0.4568 - val_accuracy: 0.7934\n",
      "Epoch 18/100\n",
      "293/293 [==============================] - 6s 19ms/step - loss: 0.4398 - accuracy: 0.8063 - val_loss: 0.4528 - val_accuracy: 0.7930\n",
      "Epoch 19/100\n",
      "293/293 [==============================] - 6s 19ms/step - loss: 0.4347 - accuracy: 0.8080 - val_loss: 0.4500 - val_accuracy: 0.7909\n",
      "Epoch 20/100\n",
      "293/293 [==============================] - 6s 19ms/step - loss: 0.4305 - accuracy: 0.8093 - val_loss: 0.4466 - val_accuracy: 0.7947\n",
      "Epoch 21/100\n",
      "293/293 [==============================] - 6s 19ms/step - loss: 0.4270 - accuracy: 0.8114 - val_loss: 0.4425 - val_accuracy: 0.7994\n",
      "Epoch 22/100\n",
      "293/293 [==============================] - 6s 19ms/step - loss: 0.4240 - accuracy: 0.8127 - val_loss: 0.4429 - val_accuracy: 0.7952\n",
      "Epoch 23/100\n",
      "293/293 [==============================] - 6s 19ms/step - loss: 0.4215 - accuracy: 0.8121 - val_loss: 0.4388 - val_accuracy: 0.7987\n",
      "Epoch 24/100\n",
      "293/293 [==============================] - 6s 19ms/step - loss: 0.4189 - accuracy: 0.8127 - val_loss: 0.4420 - val_accuracy: 0.7974\n",
      "Epoch 25/100\n",
      "293/293 [==============================] - 6s 19ms/step - loss: 0.4173 - accuracy: 0.8154 - val_loss: 0.4377 - val_accuracy: 0.8008\n",
      "Epoch 26/100\n",
      "293/293 [==============================] - 6s 19ms/step - loss: 0.4156 - accuracy: 0.8154 - val_loss: 0.4358 - val_accuracy: 0.8002\n",
      "Epoch 27/100\n",
      "293/293 [==============================] - 6s 19ms/step - loss: 0.4139 - accuracy: 0.8154 - val_loss: 0.4362 - val_accuracy: 0.7987\n",
      "Epoch 28/100\n",
      "293/293 [==============================] - 6s 19ms/step - loss: 0.4124 - accuracy: 0.8161 - val_loss: 0.4336 - val_accuracy: 0.7997\n",
      "Epoch 29/100\n",
      "293/293 [==============================] - 6s 19ms/step - loss: 0.4112 - accuracy: 0.8159 - val_loss: 0.4329 - val_accuracy: 0.7984\n",
      "Epoch 30/100\n",
      "293/293 [==============================] - 6s 19ms/step - loss: 0.4103 - accuracy: 0.8160 - val_loss: 0.4331 - val_accuracy: 0.7992\n",
      "Epoch 31/100\n",
      "293/293 [==============================] - 6s 19ms/step - loss: 0.4089 - accuracy: 0.8162 - val_loss: 0.4336 - val_accuracy: 0.8000\n",
      "Epoch 32/100\n",
      "293/293 [==============================] - 6s 19ms/step - loss: 0.4083 - accuracy: 0.8178 - val_loss: 0.4312 - val_accuracy: 0.7981\n",
      "Epoch 33/100\n",
      "293/293 [==============================] - 6s 19ms/step - loss: 0.4074 - accuracy: 0.8179 - val_loss: 0.4314 - val_accuracy: 0.7974\n",
      "Epoch 34/100\n",
      "293/293 [==============================] - 6s 19ms/step - loss: 0.4067 - accuracy: 0.8173 - val_loss: 0.4324 - val_accuracy: 0.8005\n",
      "Epoch 35/100\n",
      "293/293 [==============================] - 6s 19ms/step - loss: 0.4057 - accuracy: 0.8175 - val_loss: 0.4335 - val_accuracy: 0.8005\n"
     ]
    }
   ],
   "source": [
    "\n",
    "# 콜백 - 20번돌고, 가장 낮은 손실률을 저장\n",
    "check_cb = keras.callbacks.ModelCheckpoint('best-rnn.h5',save_best_only=True)\n",
    "early_cb = keras.callbacks.EarlyStopping(patience=3,restore_best_weights=True)\n",
    "\n",
    "history = model.fit(sub_seq,sub_label,epochs=100,batch_size=64,\\\n",
    "    validation_data=(val_seq,val_label),callbacks=[check_cb,early_cb])\n",
    "# history = model.fit(train_oh,sub_label,epochs=100,batch_size=64,\\\n",
    "#     validation_data=(test_oh,val_label),callbacks=[check_cb,early_cb])"
   ]
  },
  {
   "cell_type": "code",
   "execution_count": 18,
   "metadata": {},
   "outputs": [
    {
     "data": {
      "image/png": "[encoded data removed]",
      "text/plain": [
       "<Figure size 432x288 with 1 Axes>"
      ]
     },
     "metadata": {
      "needs_background": "light"
     },
     "output_type": "display_data"
    }
   ],
   "source": [
    "# 그래프 그리기\n",
    "plt.plot(history.history['loss'])\n",
    "plt.plot(history.history['val_loss'])\n",
    "plt.xlabel('epoch')\n",
    "plt.ylabel('loss')\n",
    "plt.legend(['train','test'])\n",
    "plt.show()"
   ]
  },
  {
   "cell_type": "code",
   "execution_count": 19,
   "metadata": {},
   "outputs": [
    {
     "name": "stdout",
     "output_type": "stream",
     "text": [
      "196/196 [==============================] - 1s 4ms/step - loss: 0.4312 - accuracy: 0.7981\n",
      "loss, accuracy :  [0.43123820424079895, 0.7980800271034241]\n"
     ]
    }
   ],
   "source": [
    "# 정확도\n",
    "score = model.evaluate(val_seq,val_label)\n",
    "print(\"loss, accuracy : \",score)"
   ]
  }
 ],
 "metadata": {
  "kernelspec": {
   "display_name": "Python 3.10.2 64-bit",
   "language": "python",
   "name": "python3"
  },
  "language_info": {
   "codemirror_mode": {
    "name": "ipython",
    "version": 3
   },
   "file_extension": ".py",
   "mimetype": "text/x-python",
   "name": "python",
   "nbconvert_exporter": "python",
   "pygments_lexer": "ipython3",
   "version": "3.10.2"
  },
  "orig_nbformat": 4,
  "vscode": {
   "interpreter": {
    "hash": "369f2c481f4da34e4445cda3fffd2e751bd1c4d706f27375911949ba6bb62e1c"
   }
  }
 },
 "nbformat": 4,
 "nbformat_minor": 2
}

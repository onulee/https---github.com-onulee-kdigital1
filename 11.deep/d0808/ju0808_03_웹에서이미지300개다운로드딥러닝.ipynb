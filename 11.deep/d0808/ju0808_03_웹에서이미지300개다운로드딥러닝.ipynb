{
 "cells": [
  {
   "cell_type": "code",
   "execution_count": 50,
   "metadata": {},
   "outputs": [],
   "source": [
    "# 300개의 이미지를 다운받아서 model훈련시켜서 예측\n",
    "from tensorflow import keras\n",
    "from sklearn.model_selection import train_test_split\n",
    "import matplotlib.pyplot as plt\n",
    "import matplotlib\n",
    "matplotlib.rcParams['axes.unicode_minus']=False\n",
    "import numpy as np\n",
    "import pandas as pd\n",
    "from PIL import Image\n",
    "import os,glob\n"
   ]
  },
  {
   "cell_type": "markdown",
   "metadata": {},
   "source": [
    "이미지 다운로드 링크\n",
    "http://www.vision.caltech.edu/datasets/"
   ]
  },
  {
   "cell_type": "code",
   "execution_count": 51,
   "metadata": {},
   "outputs": [
    {
     "data": {
      "text/plain": [
       "5"
      ]
     },
     "execution_count": 51,
     "metadata": {},
     "output_type": "execute_result"
    }
   ],
   "source": [
    "caltech_dir = 'image/101_ObjectCategories'\n",
    "categories = ['chair','camera','butterfly','elephant','flamingo']\n",
    "nb_classes = len(categories)\n",
    "nb_classes"
   ]
  },
  {
   "cell_type": "code",
   "execution_count": 52,
   "metadata": {},
   "outputs": [],
   "source": [
    "# 이미지 지정\n",
    "image_w = 64\n",
    "image_h = 64"
   ]
  },
  {
   "cell_type": "markdown",
   "metadata": {},
   "source": [
    "이미지 불러와서 숫자변환"
   ]
  },
  {
   "cell_type": "code",
   "execution_count": 53,
   "metadata": {},
   "outputs": [
    {
     "name": "stdout",
     "output_type": "stream",
     "text": [
      "[[[253 255 255 ... 255 255 255]\n",
      "  [253 237 227 ... 255 255 255]\n",
      "  [247 150 127 ... 255 255 255]\n",
      "  ...\n",
      "  [255 255 255 ... 255 255 255]\n",
      "  [255 255 255 ... 255 255 255]\n",
      "  [255 255 255 ... 255 255 255]]\n",
      "\n",
      " [[255 255 255 ... 255 255 255]\n",
      "  [255 255 255 ... 255 255 255]\n",
      "  [255 255 255 ... 255 255 255]\n",
      "  ...\n",
      "  [253 217  62 ...  30  32 154]\n",
      "  [251 252 233 ...  36 140 253]\n",
      "  [254 254 255 ... 205 253 255]]]\n",
      "[0 0 0 0 0 0 0 0 0 0 0 0 0 0 0 0 0 0 0 0 0 0 0 0 0 0 0 0 0 0 0 0 0 0 0 0 0\n",
      " 0 0 0 0 0 0 0 0 0 0 0 0 0 0 0 0 0 0 0 0 0 0 0 0 0 1 1 1 1 1 1 1 1 1 1 1 1\n",
      " 1 1 1 1 1 1 1 1 1 1 1 1 1 1 1 1 1 1 1 1 1 1 1 1 1 1 1 1 1 1 1 1 1 1 1 1 1\n",
      " 1 2 2 2 2 2 2 2 2 2 2 2 2 2 2 2 2 2 2 2 2 2 2 2 2 2 2 2 2 2 2 2 2 2 2 2 2\n",
      " 2 2 2 2 2 2 2 2 2 2 2 2 2 2 2 2 2 2 2 2 2 2 2 2 2 2 2 2 2 2 2 2 2 2 2 2 2\n",
      " 2 2 2 2 2 2 2 2 2 2 2 2 2 2 2 2 2 2 3 3 3 3 3 3 3 3 3 3 3 3 3 3 3 3 3 3 3\n",
      " 3 3 3 3 3 3 3 3 3 3 3 3 3 3 3 3 3 3 3 3 3 3 3 3 3 3 3 3 3 3 3 3 3 3 3 3 3\n",
      " 3 3 3 3 3 3 3 3 4 4 4 4 4 4 4 4 4 4 4 4 4 4 4 4 4 4 4 4 4 4 4 4 4 4 4 4 4\n",
      " 4 4 4 4 4 4 4 4 4 4 4 4 4 4 4 4 4 4 4 4 4 4 4 4 4 4 4 4 4 4 4 4 4 4 4 4 4\n",
      " 4]\n"
     ]
    }
   ],
   "source": [
    "# 이미지 불러오기\n",
    "X = []\n",
    "Y = []\n",
    "label=0\n",
    "# 5개 - idx : 0,1,2,3,4  cat : 'chair','camera','butterfly','elephant','flamingo'\n",
    "for idx,cat in enumerate(categories):\n",
    "    # image/101_ObjectCategories/chair/\n",
    "    image_dir = caltech_dir+'/'+cat\n",
    "    files = glob.glob(image_dir+'/*.jpg') # chair: 62개, camera:50개...\n",
    "    for i, f in enumerate(files):\n",
    "        img = Image.open(f)\n",
    "        img = img.convert(\"L\")\n",
    "        img = img.resize((64,64))\n",
    "        # img = img.resize((image_w,image_h))\n",
    "        data = np.asarray(img)\n",
    "        # X list에 담기\n",
    "        X.append(data)\n",
    "        # Y list에 담기 - label\n",
    "        # 0-chair,1-camera,2-butterfly,3-elephant,4-flamingo\n",
    "        Y.append(label) \n",
    "    # label의 값 : 0-4\n",
    "    label += 1 \n",
    "\n",
    "X = np.array(X)\n",
    "Y = np.array(Y)  \n",
    "\n",
    "print(X[:2])\n",
    "print(Y)      "
   ]
  },
  {
   "cell_type": "code",
   "execution_count": 54,
   "metadata": {},
   "outputs": [
    {
     "data": {
      "text/plain": [
       "(334, 64, 64)"
      ]
     },
     "execution_count": 54,
     "metadata": {},
     "output_type": "execute_result"
    }
   ],
   "source": [
    "# (64,64,1) reshape이 되어야 함.\n",
    "X.shape"
   ]
  },
  {
   "cell_type": "code",
   "execution_count": 55,
   "metadata": {},
   "outputs": [
    {
     "data": {
      "text/plain": [
       "(334,)"
      ]
     },
     "execution_count": 55,
     "metadata": {},
     "output_type": "execute_result"
    }
   ],
   "source": [
    "# 1차원 행렬의 되어야 함.\n",
    "Y.shape"
   ]
  },
  {
   "cell_type": "code",
   "execution_count": 56,
   "metadata": {},
   "outputs": [
    {
     "data": {
      "image/png": "[encoded data removed]",
      "text/plain": [
       "<Figure size 432x288 with 1 Axes>"
      ]
     },
     "metadata": {
      "needs_background": "light"
     },
     "output_type": "display_data"
    }
   ],
   "source": [
    "plt.imshow(X[0],cmap='gray_r')\n",
    "plt.show()"
   ]
  },
  {
   "cell_type": "markdown",
   "metadata": {},
   "source": [
    "334개 이미지 npy로 저장"
   ]
  },
  {
   "cell_type": "code",
   "execution_count": 57,
   "metadata": {},
   "outputs": [
    {
     "name": "stdout",
     "output_type": "stream",
     "text": [
      "save Ok 334\n"
     ]
    }
   ],
   "source": [
    "# X_train,X_test,y_train,y_test로 numpy저장\n",
    "X_train,X_test,y_train,y_test = train_test_split(X,Y)\n",
    "xy = (X_train,X_test,y_train,y_test)\n",
    "np.save('./image/5obj.npy',xy) # 변환된 이미지 모두 numpy파일로 저장\n",
    "print(\"save Ok\",len(Y))"
   ]
  },
  {
   "cell_type": "markdown",
   "metadata": {},
   "source": [
    "npy 불러오기"
   ]
  },
  {
   "cell_type": "code",
   "execution_count": 58,
   "metadata": {},
   "outputs": [
    {
     "name": "stdout",
     "output_type": "stream",
     "text": [
      "(250, 64, 64) (84, 64, 64)\n"
     ]
    }
   ],
   "source": [
    "# allow_pickle=True 넣을것 334-250,84\n",
    "# mnist형태와 동일\n",
    "X_train,X_test,y_train,y_test = np.load('image/5obj.npy',allow_pickle=True)\n",
    "print(X_train.shape,X_test.shape)"
   ]
  },
  {
   "cell_type": "markdown",
   "metadata": {},
   "source": [
    "3차원 행렬 변환"
   ]
  },
  {
   "cell_type": "code",
   "execution_count": 59,
   "metadata": {},
   "outputs": [
    {
     "data": {
      "text/plain": [
       "((250, 64, 64, 1), (84, 64, 64, 1))"
      ]
     },
     "execution_count": 59,
     "metadata": {},
     "output_type": "execute_result"
    }
   ],
   "source": [
    "X_train = X_train.reshape(-1,64,64,1)\n",
    "X_test = X_test.reshape(-1,64,64,1)\n",
    "X_train.shape,X_test.shape"
   ]
  },
  {
   "cell_type": "code",
   "execution_count": 60,
   "metadata": {},
   "outputs": [],
   "source": [
    "X_train = X_train/255.0  #.0실수형타입\n",
    "X_test = X_test/255.0"
   ]
  },
  {
   "cell_type": "markdown",
   "metadata": {},
   "source": [
    "딥러닝 시작부분\n",
    "* input_shape : 크기 설정\n",
    "* label : 1차원 행렬"
   ]
  },
  {
   "cell_type": "code",
   "execution_count": 61,
   "metadata": {},
   "outputs": [],
   "source": [
    "# 합성곱 신경망 선언\n",
    "model = keras.Sequential()\n",
    "\n",
    "# CNN\n",
    "model.add(keras.layers.Conv2D(32,kernel_size=3,activation='relu',padding='same',input_shape=(64,64,1)))\n",
    "# 최대풀링\n",
    "model.add(keras.layers.MaxPooling2D(2))\n",
    "\n",
    "# CNN - 1회 반복\n",
    "model.add(keras.layers.Conv2D(64,kernel_size=3,activation='relu',padding='same'))\n",
    "# 최대풀링\n",
    "model.add(keras.layers.MaxPooling2D(2))"
   ]
  },
  {
   "cell_type": "code",
   "execution_count": 62,
   "metadata": {},
   "outputs": [
    {
     "name": "stdout",
     "output_type": "stream",
     "text": [
      "Model: \"sequential_3\"\n",
      "_________________________________________________________________\n",
      " Layer (type)                Output Shape              Param #   \n",
      "=================================================================\n",
      " conv2d_6 (Conv2D)           (None, 64, 64, 32)        320       \n",
      "                                                                 \n",
      " max_pooling2d_6 (MaxPooling  (None, 32, 32, 32)       0         \n",
      " 2D)                                                             \n",
      "                                                                 \n",
      " conv2d_7 (Conv2D)           (None, 32, 32, 64)        18496     \n",
      "                                                                 \n",
      " max_pooling2d_7 (MaxPooling  (None, 16, 16, 64)       0         \n",
      " 2D)                                                             \n",
      "                                                                 \n",
      " flatten_2 (Flatten)         (None, 16384)             0         \n",
      "                                                                 \n",
      " dense_4 (Dense)             (None, 100)               1638500   \n",
      "                                                                 \n",
      " dropout_2 (Dropout)         (None, 100)               0         \n",
      "                                                                 \n",
      " dense_5 (Dense)             (None, 10)                1010      \n",
      "                                                                 \n",
      "=================================================================\n",
      "Total params: 1,658,326\n",
      "Trainable params: 1,658,326\n",
      "Non-trainable params: 0\n",
      "_________________________________________________________________\n"
     ]
    }
   ],
   "source": [
    "# 인공신경망의 선언\n",
    "model.add(keras.layers.Flatten())\n",
    "model.add(keras.layers.Dense(100,activation='relu'))\n",
    "model.add(keras.layers.Dropout(0.4))\n",
    "model.add(keras.layers.Dense(10,activation='softmax'))\n",
    "\n",
    "model.summary()"
   ]
  },
  {
   "cell_type": "markdown",
   "metadata": {},
   "source": [
    "딥러닝 설정"
   ]
  },
  {
   "cell_type": "code",
   "execution_count": 63,
   "metadata": {},
   "outputs": [],
   "source": [
    "# 순환 신경망 설정 adam\n",
    "rmsprop = keras.optimizers.RMSprop(learning_rate=1e-4)\n",
    "model.compile(optimizer=rmsprop,loss='sparse_categorical_crossentropy',metrics=['accuracy'])"
   ]
  },
  {
   "cell_type": "code",
   "execution_count": 67,
   "metadata": {},
   "outputs": [],
   "source": [
    "# 콜백 - 20번돌고, 가장 낮은 손실률을 저장\n",
    "check_cb = keras.callbacks.ModelCheckpoint('cnn-test.h5',save_best_only=True)\n",
    "early_cb = keras.callbacks.EarlyStopping(patience=20,restore_best_weights=True)"
   ]
  },
  {
   "cell_type": "markdown",
   "metadata": {},
   "source": [
    "딥러닝 훈련"
   ]
  },
  {
   "cell_type": "code",
   "execution_count": 68,
   "metadata": {},
   "outputs": [
    {
     "name": "stdout",
     "output_type": "stream",
     "text": [
      "Epoch 1/100\n",
      "4/4 [==============================] - 1s 137ms/step - loss: 1.4681 - accuracy: 0.3960 - val_loss: 1.4996 - val_accuracy: 0.4643\n",
      "Epoch 2/100\n",
      "4/4 [==============================] - 0s 131ms/step - loss: 1.4285 - accuracy: 0.4240 - val_loss: 1.4961 - val_accuracy: 0.4167\n",
      "Epoch 3/100\n",
      "4/4 [==============================] - 0s 132ms/step - loss: 1.4174 - accuracy: 0.4280 - val_loss: 1.4826 - val_accuracy: 0.3929\n",
      "Epoch 4/100\n",
      "4/4 [==============================] - 1s 138ms/step - loss: 1.3425 - accuracy: 0.4960 - val_loss: 1.4388 - val_accuracy: 0.4881\n",
      "Epoch 5/100\n",
      "4/4 [==============================] - 0s 119ms/step - loss: 1.3781 - accuracy: 0.4360 - val_loss: 1.5281 - val_accuracy: 0.4286\n",
      "Epoch 6/100\n",
      "4/4 [==============================] - 0s 124ms/step - loss: 1.3966 - accuracy: 0.4280 - val_loss: 1.4722 - val_accuracy: 0.4524\n",
      "Epoch 7/100\n",
      "4/4 [==============================] - 0s 119ms/step - loss: 1.3437 - accuracy: 0.4720 - val_loss: 1.4721 - val_accuracy: 0.4643\n",
      "Epoch 8/100\n",
      "4/4 [==============================] - 0s 122ms/step - loss: 1.3569 - accuracy: 0.4480 - val_loss: 1.5312 - val_accuracy: 0.3929\n",
      "Epoch 9/100\n",
      "4/4 [==============================] - 1s 134ms/step - loss: 1.3296 - accuracy: 0.4960 - val_loss: 1.3993 - val_accuracy: 0.5119\n",
      "Epoch 10/100\n",
      "4/4 [==============================] - 1s 146ms/step - loss: 1.2655 - accuracy: 0.5320 - val_loss: 1.3922 - val_accuracy: 0.4643\n",
      "Epoch 11/100\n",
      "4/4 [==============================] - 1s 130ms/step - loss: 1.3184 - accuracy: 0.4760 - val_loss: 1.4319 - val_accuracy: 0.3929\n",
      "Epoch 12/100\n",
      "4/4 [==============================] - 1s 130ms/step - loss: 1.2944 - accuracy: 0.4840 - val_loss: 1.3834 - val_accuracy: 0.4881\n",
      "Epoch 13/100\n",
      "4/4 [==============================] - 0s 117ms/step - loss: 1.2144 - accuracy: 0.5360 - val_loss: 1.4202 - val_accuracy: 0.5119\n",
      "Epoch 14/100\n",
      "4/4 [==============================] - 1s 138ms/step - loss: 1.1928 - accuracy: 0.5640 - val_loss: 1.3409 - val_accuracy: 0.5476\n",
      "Epoch 15/100\n",
      "4/4 [==============================] - 0s 121ms/step - loss: 1.1754 - accuracy: 0.5880 - val_loss: 1.3950 - val_accuracy: 0.4643\n",
      "Epoch 16/100\n",
      "4/4 [==============================] - 0s 123ms/step - loss: 1.1921 - accuracy: 0.5160 - val_loss: 1.3855 - val_accuracy: 0.5119\n",
      "Epoch 17/100\n",
      "4/4 [==============================] - 0s 126ms/step - loss: 1.1376 - accuracy: 0.6120 - val_loss: 1.3288 - val_accuracy: 0.5595\n",
      "Epoch 18/100\n",
      "4/4 [==============================] - 0s 126ms/step - loss: 1.1326 - accuracy: 0.6000 - val_loss: 1.3306 - val_accuracy: 0.5238\n",
      "Epoch 19/100\n",
      "4/4 [==============================] - 0s 122ms/step - loss: 1.1397 - accuracy: 0.5720 - val_loss: 1.3317 - val_accuracy: 0.5595\n",
      "Epoch 20/100\n",
      "4/4 [==============================] - 0s 121ms/step - loss: 1.1432 - accuracy: 0.5840 - val_loss: 1.3312 - val_accuracy: 0.5000\n",
      "Epoch 21/100\n",
      "4/4 [==============================] - 0s 128ms/step - loss: 1.1068 - accuracy: 0.5800 - val_loss: 1.3036 - val_accuracy: 0.5476\n",
      "Epoch 22/100\n",
      "4/4 [==============================] - 0s 120ms/step - loss: 1.0362 - accuracy: 0.6440 - val_loss: 1.3145 - val_accuracy: 0.5238\n",
      "Epoch 23/100\n",
      "4/4 [==============================] - 1s 137ms/step - loss: 1.0360 - accuracy: 0.6360 - val_loss: 1.2898 - val_accuracy: 0.5476\n",
      "Epoch 24/100\n",
      "4/4 [==============================] - 1s 129ms/step - loss: 1.0875 - accuracy: 0.6040 - val_loss: 1.3104 - val_accuracy: 0.4881\n",
      "Epoch 25/100\n",
      "4/4 [==============================] - 0s 125ms/step - loss: 1.0587 - accuracy: 0.6360 - val_loss: 1.3679 - val_accuracy: 0.4524\n",
      "Epoch 26/100\n",
      "4/4 [==============================] - 0s 127ms/step - loss: 1.0080 - accuracy: 0.6040 - val_loss: 1.3433 - val_accuracy: 0.5000\n",
      "Epoch 27/100\n",
      "4/4 [==============================] - 1s 141ms/step - loss: 0.9578 - accuracy: 0.6880 - val_loss: 1.2507 - val_accuracy: 0.5714\n",
      "Epoch 28/100\n",
      "4/4 [==============================] - 1s 151ms/step - loss: 0.9445 - accuracy: 0.6480 - val_loss: 1.3803 - val_accuracy: 0.4643\n",
      "Epoch 29/100\n",
      "4/4 [==============================] - 1s 133ms/step - loss: 0.9608 - accuracy: 0.6960 - val_loss: 1.2984 - val_accuracy: 0.5476\n",
      "Epoch 30/100\n",
      "4/4 [==============================] - 1s 132ms/step - loss: 0.9721 - accuracy: 0.6960 - val_loss: 1.2849 - val_accuracy: 0.5476\n",
      "Epoch 31/100\n",
      "4/4 [==============================] - 1s 136ms/step - loss: 0.9949 - accuracy: 0.6680 - val_loss: 1.2851 - val_accuracy: 0.5119\n",
      "Epoch 32/100\n",
      "4/4 [==============================] - 1s 138ms/step - loss: 0.9051 - accuracy: 0.6840 - val_loss: 1.2710 - val_accuracy: 0.5476\n",
      "Epoch 33/100\n",
      "4/4 [==============================] - 1s 134ms/step - loss: 0.8895 - accuracy: 0.7080 - val_loss: 1.2778 - val_accuracy: 0.5119\n",
      "Epoch 34/100\n",
      "4/4 [==============================] - 1s 148ms/step - loss: 0.8652 - accuracy: 0.7120 - val_loss: 1.2049 - val_accuracy: 0.5714\n",
      "Epoch 35/100\n",
      "4/4 [==============================] - 1s 147ms/step - loss: 0.8808 - accuracy: 0.7000 - val_loss: 1.1757 - val_accuracy: 0.6190\n",
      "Epoch 36/100\n",
      "4/4 [==============================] - 1s 148ms/step - loss: 0.8518 - accuracy: 0.7080 - val_loss: 1.1703 - val_accuracy: 0.5952\n",
      "Epoch 37/100\n",
      "4/4 [==============================] - 1s 132ms/step - loss: 0.8284 - accuracy: 0.7520 - val_loss: 1.1854 - val_accuracy: 0.6071\n",
      "Epoch 38/100\n",
      "4/4 [==============================] - 1s 135ms/step - loss: 0.7702 - accuracy: 0.7600 - val_loss: 1.2256 - val_accuracy: 0.5238\n",
      "Epoch 39/100\n",
      "4/4 [==============================] - 1s 141ms/step - loss: 0.8557 - accuracy: 0.7000 - val_loss: 1.2217 - val_accuracy: 0.5595\n",
      "Epoch 40/100\n",
      "4/4 [==============================] - 1s 131ms/step - loss: 0.8583 - accuracy: 0.6840 - val_loss: 1.1730 - val_accuracy: 0.5833\n",
      "Epoch 41/100\n",
      "4/4 [==============================] - 0s 126ms/step - loss: 0.7737 - accuracy: 0.7680 - val_loss: 1.1799 - val_accuracy: 0.6429\n",
      "Epoch 42/100\n",
      "4/4 [==============================] - 1s 135ms/step - loss: 0.7971 - accuracy: 0.7680 - val_loss: 1.1789 - val_accuracy: 0.6190\n",
      "Epoch 43/100\n",
      "4/4 [==============================] - 1s 129ms/step - loss: 0.7948 - accuracy: 0.7520 - val_loss: 1.2003 - val_accuracy: 0.5714\n",
      "Epoch 44/100\n",
      "4/4 [==============================] - 1s 143ms/step - loss: 0.7296 - accuracy: 0.7840 - val_loss: 1.1554 - val_accuracy: 0.5833\n",
      "Epoch 45/100\n",
      "4/4 [==============================] - 1s 151ms/step - loss: 0.7715 - accuracy: 0.7640 - val_loss: 1.1319 - val_accuracy: 0.6429\n",
      "Epoch 46/100\n",
      "4/4 [==============================] - 1s 146ms/step - loss: 0.7446 - accuracy: 0.7400 - val_loss: 1.1119 - val_accuracy: 0.6667\n",
      "Epoch 47/100\n",
      "4/4 [==============================] - 0s 130ms/step - loss: 0.7234 - accuracy: 0.7520 - val_loss: 1.0919 - val_accuracy: 0.6310\n",
      "Epoch 48/100\n",
      "4/4 [==============================] - 0s 126ms/step - loss: 0.7026 - accuracy: 0.7960 - val_loss: 1.1446 - val_accuracy: 0.6310\n",
      "Epoch 49/100\n",
      "4/4 [==============================] - 0s 125ms/step - loss: 0.6937 - accuracy: 0.7960 - val_loss: 1.1035 - val_accuracy: 0.6071\n",
      "Epoch 50/100\n",
      "4/4 [==============================] - 1s 131ms/step - loss: 0.6566 - accuracy: 0.7880 - val_loss: 1.1263 - val_accuracy: 0.6190\n",
      "Epoch 51/100\n",
      "4/4 [==============================] - 1s 151ms/step - loss: 0.6591 - accuracy: 0.7840 - val_loss: 1.0517 - val_accuracy: 0.6429\n",
      "Epoch 52/100\n",
      "4/4 [==============================] - 0s 123ms/step - loss: 0.7447 - accuracy: 0.7320 - val_loss: 1.1065 - val_accuracy: 0.5952\n",
      "Epoch 53/100\n",
      "4/4 [==============================] - 0s 126ms/step - loss: 0.6682 - accuracy: 0.7960 - val_loss: 1.0524 - val_accuracy: 0.6429\n",
      "Epoch 54/100\n",
      "4/4 [==============================] - 1s 131ms/step - loss: 0.6702 - accuracy: 0.8120 - val_loss: 1.0874 - val_accuracy: 0.6667\n",
      "Epoch 55/100\n",
      "4/4 [==============================] - 1s 130ms/step - loss: 0.6515 - accuracy: 0.8200 - val_loss: 1.1201 - val_accuracy: 0.6429\n",
      "Epoch 56/100\n",
      "4/4 [==============================] - 1s 131ms/step - loss: 0.6097 - accuracy: 0.8200 - val_loss: 1.1759 - val_accuracy: 0.5952\n",
      "Epoch 57/100\n",
      "4/4 [==============================] - 1s 130ms/step - loss: 0.5992 - accuracy: 0.8320 - val_loss: 1.1257 - val_accuracy: 0.6548\n",
      "Epoch 58/100\n",
      "4/4 [==============================] - 1s 138ms/step - loss: 0.6496 - accuracy: 0.7720 - val_loss: 1.0847 - val_accuracy: 0.7024\n",
      "Epoch 59/100\n",
      "4/4 [==============================] - 1s 137ms/step - loss: 0.5489 - accuracy: 0.8800 - val_loss: 1.1554 - val_accuracy: 0.5952\n",
      "Epoch 60/100\n",
      "4/4 [==============================] - 1s 138ms/step - loss: 0.5904 - accuracy: 0.8280 - val_loss: 1.0808 - val_accuracy: 0.6548\n",
      "Epoch 61/100\n",
      "4/4 [==============================] - 1s 140ms/step - loss: 0.5697 - accuracy: 0.8280 - val_loss: 1.1236 - val_accuracy: 0.6429\n",
      "Epoch 62/100\n",
      "4/4 [==============================] - 1s 129ms/step - loss: 0.5668 - accuracy: 0.8600 - val_loss: 1.0757 - val_accuracy: 0.6667\n",
      "Epoch 63/100\n",
      "4/4 [==============================] - 1s 129ms/step - loss: 0.5815 - accuracy: 0.8160 - val_loss: 1.1256 - val_accuracy: 0.6429\n",
      "Epoch 64/100\n",
      "4/4 [==============================] - 1s 144ms/step - loss: 0.5840 - accuracy: 0.8080 - val_loss: 1.0468 - val_accuracy: 0.6786\n",
      "Epoch 65/100\n",
      "4/4 [==============================] - 1s 134ms/step - loss: 0.5426 - accuracy: 0.8400 - val_loss: 1.0967 - val_accuracy: 0.6667\n",
      "Epoch 66/100\n",
      "4/4 [==============================] - 1s 134ms/step - loss: 0.5727 - accuracy: 0.8280 - val_loss: 1.1008 - val_accuracy: 0.6905\n",
      "Epoch 67/100\n",
      "4/4 [==============================] - 0s 126ms/step - loss: 0.5227 - accuracy: 0.8400 - val_loss: 1.1539 - val_accuracy: 0.6548\n",
      "Epoch 68/100\n",
      "4/4 [==============================] - 0s 128ms/step - loss: 0.5229 - accuracy: 0.8560 - val_loss: 1.0843 - val_accuracy: 0.6667\n",
      "Epoch 69/100\n",
      "4/4 [==============================] - 1s 131ms/step - loss: 0.4937 - accuracy: 0.8680 - val_loss: 1.0786 - val_accuracy: 0.6786\n",
      "Epoch 70/100\n",
      "4/4 [==============================] - 0s 126ms/step - loss: 0.4819 - accuracy: 0.8760 - val_loss: 1.2067 - val_accuracy: 0.6071\n",
      "Epoch 71/100\n",
      "4/4 [==============================] - 0s 120ms/step - loss: 0.5202 - accuracy: 0.8400 - val_loss: 1.0918 - val_accuracy: 0.6667\n",
      "Epoch 72/100\n",
      "4/4 [==============================] - 0s 122ms/step - loss: 0.5432 - accuracy: 0.8360 - val_loss: 1.1133 - val_accuracy: 0.6310\n",
      "Epoch 73/100\n",
      "4/4 [==============================] - 0s 130ms/step - loss: 0.4545 - accuracy: 0.8880 - val_loss: 1.0301 - val_accuracy: 0.7143\n",
      "Epoch 74/100\n",
      "4/4 [==============================] - 0s 124ms/step - loss: 0.4557 - accuracy: 0.9120 - val_loss: 1.0839 - val_accuracy: 0.6786\n",
      "Epoch 75/100\n",
      "4/4 [==============================] - 0s 121ms/step - loss: 0.4438 - accuracy: 0.8680 - val_loss: 1.0598 - val_accuracy: 0.7024\n",
      "Epoch 76/100\n",
      "4/4 [==============================] - 0s 119ms/step - loss: 0.4877 - accuracy: 0.8280 - val_loss: 1.0568 - val_accuracy: 0.6548\n",
      "Epoch 77/100\n",
      "4/4 [==============================] - 0s 115ms/step - loss: 0.4768 - accuracy: 0.8720 - val_loss: 1.0872 - val_accuracy: 0.6548\n",
      "Epoch 78/100\n",
      "4/4 [==============================] - 0s 121ms/step - loss: 0.4464 - accuracy: 0.8920 - val_loss: 1.1768 - val_accuracy: 0.5952\n",
      "Epoch 79/100\n",
      "4/4 [==============================] - 0s 119ms/step - loss: 0.4421 - accuracy: 0.8760 - val_loss: 1.1111 - val_accuracy: 0.6429\n",
      "Epoch 80/100\n",
      "4/4 [==============================] - 0s 121ms/step - loss: 0.4249 - accuracy: 0.8840 - val_loss: 1.1789 - val_accuracy: 0.6429\n",
      "Epoch 81/100\n",
      "4/4 [==============================] - 0s 128ms/step - loss: 0.4893 - accuracy: 0.8560 - val_loss: 1.1215 - val_accuracy: 0.6429\n",
      "Epoch 82/100\n",
      "4/4 [==============================] - 0s 126ms/step - loss: 0.4870 - accuracy: 0.8360 - val_loss: 1.0378 - val_accuracy: 0.6786\n",
      "Epoch 83/100\n",
      "4/4 [==============================] - 0s 125ms/step - loss: 0.3838 - accuracy: 0.9160 - val_loss: 1.2033 - val_accuracy: 0.6310\n",
      "Epoch 84/100\n",
      "4/4 [==============================] - 0s 125ms/step - loss: 0.4203 - accuracy: 0.8800 - val_loss: 1.0956 - val_accuracy: 0.6786\n",
      "Epoch 85/100\n",
      "4/4 [==============================] - 0s 128ms/step - loss: 0.4013 - accuracy: 0.8960 - val_loss: 1.1483 - val_accuracy: 0.6548\n",
      "Epoch 86/100\n",
      "4/4 [==============================] - 1s 128ms/step - loss: 0.4004 - accuracy: 0.8840 - val_loss: 1.1682 - val_accuracy: 0.5714\n",
      "Epoch 87/100\n",
      "4/4 [==============================] - 0s 124ms/step - loss: 0.3805 - accuracy: 0.9040 - val_loss: 1.0327 - val_accuracy: 0.7024\n",
      "Epoch 88/100\n",
      "4/4 [==============================] - 0s 125ms/step - loss: 0.4078 - accuracy: 0.8960 - val_loss: 1.0646 - val_accuracy: 0.6667\n",
      "Epoch 89/100\n",
      "4/4 [==============================] - 1s 150ms/step - loss: 0.3884 - accuracy: 0.8880 - val_loss: 1.1114 - val_accuracy: 0.6786\n",
      "Epoch 90/100\n",
      "4/4 [==============================] - 0s 131ms/step - loss: 0.4100 - accuracy: 0.8680 - val_loss: 1.1648 - val_accuracy: 0.6429\n",
      "Epoch 91/100\n",
      "4/4 [==============================] - 1s 131ms/step - loss: 0.4064 - accuracy: 0.8720 - val_loss: 1.0655 - val_accuracy: 0.6905\n",
      "Epoch 92/100\n",
      "4/4 [==============================] - 1s 133ms/step - loss: 0.3758 - accuracy: 0.8800 - val_loss: 1.1043 - val_accuracy: 0.6905\n",
      "Epoch 93/100\n",
      "4/4 [==============================] - 0s 128ms/step - loss: 0.3626 - accuracy: 0.9160 - val_loss: 1.0782 - val_accuracy: 0.6071\n"
     ]
    }
   ],
   "source": [
    "history = model.fit(X_train,y_train,epochs=100,batch_size=64,\\\n",
    "    validation_data=(X_test,y_test),callbacks=[check_cb,early_cb])"
   ]
  },
  {
   "cell_type": "code",
   "execution_count": 69,
   "metadata": {},
   "outputs": [
    {
     "data": {
      "image/png": "[encoded data removed]",
      "text/plain": [
       "<Figure size 432x288 with 1 Axes>"
      ]
     },
     "metadata": {
      "needs_background": "light"
     },
     "output_type": "display_data"
    }
   ],
   "source": [
    "# train_data,test_data loss 그래프 출력\n",
    "plt.plot(history.history['loss'])\n",
    "plt.plot(history.history['val_loss'])\n",
    "plt.xlabel('epoch')\n",
    "plt.ylabel('loss')\n",
    "plt.legend(['train','test'])\n",
    "plt.show()"
   ]
  },
  {
   "cell_type": "code",
   "execution_count": 71,
   "metadata": {},
   "outputs": [
    {
     "name": "stdout",
     "output_type": "stream",
     "text": [
      "3/3 [==============================] - 0s 12ms/step - loss: 1.0301 - accuracy: 0.7143\n",
      "loss, accuracy :  [1.0300527811050415, 0.7142857313156128]\n"
     ]
    }
   ],
   "source": [
    "# 정확도\n",
    "score = model.evaluate(X_test,y_test)\n",
    "print(\"loss, accuracy : \",score)"
   ]
  }
 ],
 "metadata": {
  "kernelspec": {
   "display_name": "Python 3.10.2 64-bit",
   "language": "python",
   "name": "python3"
  },
  "language_info": {
   "codemirror_mode": {
    "name": "ipython",
    "version": 3
   },
   "file_extension": ".py",
   "mimetype": "text/x-python",
   "name": "python",
   "nbconvert_exporter": "python",
   "pygments_lexer": "ipython3",
   "version": "3.10.2"
  },
  "orig_nbformat": 4,
  "vscode": {
   "interpreter": {
    "hash": "369f2c481f4da34e4445cda3fffd2e751bd1c4d706f27375911949ba6bb62e1c"
   }
  }
 },
 "nbformat": 4,
 "nbformat_minor": 2
}

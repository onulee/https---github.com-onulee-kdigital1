{
 "cells": [
  {
   "cell_type": "code",
   "execution_count": 16,
   "metadata": {},
   "outputs": [],
   "source": [
    "from tensorflow import keras\n",
    "import matplotlib.pyplot as plt\n",
    "import matplotlib\n",
    "matplotlib.rcParams['axes.unicode_minus']=False\n",
    "import numpy as np\n",
    "import pandas as pd\n",
    "from sklearn.model_selection import train_test_split\n",
    "from PIL import Image"
   ]
  },
  {
   "cell_type": "markdown",
   "metadata": {},
   "source": [
    "데이터 전처리"
   ]
  },
  {
   "cell_type": "code",
   "execution_count": 17,
   "metadata": {},
   "outputs": [
    {
     "name": "stdout",
     "output_type": "stream",
     "text": [
      "[[[0 0 0 ... 0 0 0]\n",
      "  [0 0 0 ... 0 0 0]\n",
      "  [0 0 0 ... 0 0 0]\n",
      "  ...\n",
      "  [0 0 0 ... 0 0 0]\n",
      "  [0 0 0 ... 0 0 0]\n",
      "  [0 0 0 ... 0 0 0]]\n",
      "\n",
      " [[0 0 0 ... 0 0 0]\n",
      "  [0 0 0 ... 0 0 0]\n",
      "  [0 0 0 ... 0 0 0]\n",
      "  ...\n",
      "  [0 0 0 ... 0 0 0]\n",
      "  [0 0 0 ... 0 0 0]\n",
      "  [0 0 0 ... 0 0 0]]]\n"
     ]
    }
   ],
   "source": [
    "# mnist - 이미지가 숫자로 변형된 데이터불러오기\n",
    "(train_data,train_label),(test_data,test_label) = keras.datasets.fashion_mnist.load_data()\n",
    "\n",
    "print(train_data[:2])"
   ]
  },
  {
   "cell_type": "code",
   "execution_count": 18,
   "metadata": {},
   "outputs": [
    {
     "data": {
      "text/plain": [
       "(60000, 28, 28)"
      ]
     },
     "execution_count": 18,
     "metadata": {},
     "output_type": "execute_result"
    }
   ],
   "source": [
    "train_data.shape"
   ]
  },
  {
   "cell_type": "markdown",
   "metadata": {},
   "source": [
    "웹에서 파일다운받아 숫자변환"
   ]
  },
  {
   "cell_type": "code",
   "execution_count": 19,
   "metadata": {},
   "outputs": [],
   "source": [
    "# 1. 웹에서 다운 2.파일 불러오기 3.파일숫자변환\n",
    "with open('b1.jpg','rb') as file:\n",
    "    img = Image.open(file)\n",
    "    # 흑백파일 변경\n",
    "    img = img.convert('L')\n",
    "    img = img.resize((28,28))\n",
    "    ex_data = np.array(img)\n",
    " "
   ]
  },
  {
   "cell_type": "code",
   "execution_count": 20,
   "metadata": {},
   "outputs": [
    {
     "data": {
      "text/plain": [
       "(28, 28)"
      ]
     },
     "execution_count": 20,
     "metadata": {},
     "output_type": "execute_result"
    }
   ],
   "source": [
    "ex_data.shape"
   ]
  },
  {
   "cell_type": "code",
   "execution_count": 21,
   "metadata": {},
   "outputs": [
    {
     "data": {
      "text/plain": [
       "(1, 28, 28, 1)"
      ]
     },
     "execution_count": 21,
     "metadata": {},
     "output_type": "execute_result"
    }
   ],
   "source": [
    "# 3차원 행렬로 변환\n",
    "ex_data = ex_data.reshape(-1,28,28,1)\n",
    "ex_data.shape"
   ]
  },
  {
   "cell_type": "code",
   "execution_count": 33,
   "metadata": {},
   "outputs": [
    {
     "data": {
      "image/png": "[encoded data removed]",
      "text/plain": [
       "<Figure size 432x288 with 1 Axes>"
      ]
     },
     "metadata": {
      "needs_background": "light"
     },
     "output_type": "display_data"
    }
   ],
   "source": [
    "# 가방 이미지 출력\n",
    "plt.imshow(ex_data[0],cmap='gray_r')\n",
    "plt.show()"
   ]
  },
  {
   "cell_type": "code",
   "execution_count": 22,
   "metadata": {},
   "outputs": [
    {
     "data": {
      "text/plain": [
       "(60000, 28, 28, 1)"
      ]
     },
     "execution_count": 22,
     "metadata": {},
     "output_type": "execute_result"
    }
   ],
   "source": [
    "# 3차원 데이터 변환\n",
    "train_scaled = train_data.reshape(-1,28,28,1)\n",
    "train_scaled.shape"
   ]
  },
  {
   "cell_type": "code",
   "execution_count": 23,
   "metadata": {},
   "outputs": [
    {
     "data": {
      "text/plain": [
       "(10000, 28, 28, 1)"
      ]
     },
     "execution_count": 23,
     "metadata": {},
     "output_type": "execute_result"
    }
   ],
   "source": [
    "test_scaled = test_data.reshape(-1,28,28,1)\n",
    "test_scaled.shape"
   ]
  },
  {
   "cell_type": "code",
   "execution_count": 24,
   "metadata": {},
   "outputs": [],
   "source": [
    "# 0-255까지의 숫자 -> 0-1의 값으로 변경\n",
    "train_scaled = train_scaled/255\n",
    "train_scaled[0]\n",
    "test_scaled = test_scaled/255  "
   ]
  },
  {
   "cell_type": "code",
   "execution_count": 25,
   "metadata": {},
   "outputs": [
    {
     "data": {
      "text/plain": [
       "((45000, 28, 28, 1), (15000, 28, 28, 1))"
      ]
     },
     "execution_count": 25,
     "metadata": {},
     "output_type": "execute_result"
    }
   ],
   "source": [
    "sub_data,val_data,sub_label,val_label = train_test_split(train_scaled,train_label)\n",
    "sub_data.shape,val_data.shape"
   ]
  },
  {
   "cell_type": "markdown",
   "metadata": {},
   "source": [
    "딥러닝 시작부분\n",
    "* input_shape : 크기 설정\n",
    "* label : 1차원 행렬"
   ]
  },
  {
   "cell_type": "code",
   "execution_count": 26,
   "metadata": {},
   "outputs": [],
   "source": [
    "# 합성곱 신경망 선언\n",
    "model = keras.Sequential()\n",
    "\n",
    "# CNN\n",
    "model.add(keras.layers.Conv2D(32,kernel_size=3,activation='relu',padding='same',input_shape=(28,28,1)))\n",
    "# 최대풀링\n",
    "model.add(keras.layers.MaxPooling2D(2))\n",
    "\n",
    "# CNN - 1회 반복\n",
    "model.add(keras.layers.Conv2D(64,kernel_size=3,activation='relu',padding='same'))\n",
    "# 최대풀링\n",
    "model.add(keras.layers.MaxPooling2D(2))\n"
   ]
  },
  {
   "cell_type": "code",
   "execution_count": 28,
   "metadata": {},
   "outputs": [
    {
     "name": "stdout",
     "output_type": "stream",
     "text": [
      "Model: \"sequential\"\n",
      "_________________________________________________________________\n",
      " Layer (type)                Output Shape              Param #   \n",
      "=================================================================\n",
      " conv2d (Conv2D)             (None, 28, 28, 32)        320       \n",
      "                                                                 \n",
      " max_pooling2d (MaxPooling2D  (None, 14, 14, 32)       0         \n",
      " )                                                               \n",
      "                                                                 \n",
      " conv2d_1 (Conv2D)           (None, 14, 14, 64)        18496     \n",
      "                                                                 \n",
      " max_pooling2d_1 (MaxPooling  (None, 7, 7, 64)         0         \n",
      " 2D)                                                             \n",
      "                                                                 \n",
      " flatten (Flatten)           (None, 3136)              0         \n",
      "                                                                 \n",
      " dense (Dense)               (None, 100)               313700    \n",
      "                                                                 \n",
      " dropout (Dropout)           (None, 100)               0         \n",
      "                                                                 \n",
      " dense_1 (Dense)             (None, 10)                1010      \n",
      "                                                                 \n",
      "=================================================================\n",
      "Total params: 333,526\n",
      "Trainable params: 333,526\n",
      "Non-trainable params: 0\n",
      "_________________________________________________________________\n"
     ]
    }
   ],
   "source": [
    "# 인공신경망의 선언\n",
    "model.add(keras.layers.Flatten())\n",
    "model.add(keras.layers.Dense(100,activation='relu'))\n",
    "model.add(keras.layers.Dropout(0.4))\n",
    "model.add(keras.layers.Dense(10,activation='softmax'))\n",
    "\n",
    "model.summary()"
   ]
  },
  {
   "cell_type": "markdown",
   "metadata": {},
   "source": [
    "딥러닝 설정"
   ]
  },
  {
   "cell_type": "code",
   "execution_count": 29,
   "metadata": {},
   "outputs": [],
   "source": [
    "# 순환 신경망 설정 adam\n",
    "rmsprop = keras.optimizers.RMSprop(learning_rate=1e-4)\n",
    "model.compile(optimizer=rmsprop,loss='sparse_categorical_crossentropy',metrics=['accuracy'])"
   ]
  },
  {
   "cell_type": "code",
   "execution_count": 30,
   "metadata": {},
   "outputs": [],
   "source": [
    "# 콜백 - 20번돌고, 가장 낮은 손실률을 저장\n",
    "check_cb = keras.callbacks.ModelCheckpoint('cnn-test.h5',save_best_only=True)\n",
    "early_cb = keras.callbacks.EarlyStopping(patience=3,restore_best_weights=True)"
   ]
  },
  {
   "cell_type": "markdown",
   "metadata": {},
   "source": [
    "딥러닝 훈련"
   ]
  },
  {
   "cell_type": "code",
   "execution_count": 31,
   "metadata": {},
   "outputs": [
    {
     "name": "stdout",
     "output_type": "stream",
     "text": [
      "Epoch 1/15\n",
      "704/704 [==============================] - 18s 25ms/step - loss: 0.9371 - accuracy: 0.6736 - val_loss: 0.6157 - val_accuracy: 0.7795\n",
      "Epoch 2/15\n",
      "704/704 [==============================] - 17s 25ms/step - loss: 0.5855 - accuracy: 0.7904 - val_loss: 0.4573 - val_accuracy: 0.8395\n",
      "Epoch 3/15\n",
      "704/704 [==============================] - 17s 24ms/step - loss: 0.5030 - accuracy: 0.8202 - val_loss: 0.4193 - val_accuracy: 0.8498\n",
      "Epoch 4/15\n",
      "704/704 [==============================] - 16s 23ms/step - loss: 0.4576 - accuracy: 0.8394 - val_loss: 0.4041 - val_accuracy: 0.8515\n",
      "Epoch 5/15\n",
      "704/704 [==============================] - 16s 23ms/step - loss: 0.4306 - accuracy: 0.8489 - val_loss: 0.3685 - val_accuracy: 0.8659\n",
      "Epoch 6/15\n",
      "704/704 [==============================] - 17s 24ms/step - loss: 0.4081 - accuracy: 0.8562 - val_loss: 0.3489 - val_accuracy: 0.8763\n",
      "Epoch 7/15\n",
      "704/704 [==============================] - 16s 23ms/step - loss: 0.3892 - accuracy: 0.8643 - val_loss: 0.3385 - val_accuracy: 0.8781\n",
      "Epoch 8/15\n",
      "704/704 [==============================] - 16s 23ms/step - loss: 0.3733 - accuracy: 0.8704 - val_loss: 0.3274 - val_accuracy: 0.8821\n",
      "Epoch 9/15\n",
      "704/704 [==============================] - 16s 23ms/step - loss: 0.3580 - accuracy: 0.8750 - val_loss: 0.3279 - val_accuracy: 0.8825\n",
      "Epoch 10/15\n",
      "704/704 [==============================] - 16s 23ms/step - loss: 0.3492 - accuracy: 0.8791 - val_loss: 0.3091 - val_accuracy: 0.8880\n",
      "Epoch 11/15\n",
      "704/704 [==============================] - 16s 23ms/step - loss: 0.3386 - accuracy: 0.8812 - val_loss: 0.3136 - val_accuracy: 0.8875\n",
      "Epoch 12/15\n",
      "704/704 [==============================] - 16s 23ms/step - loss: 0.3285 - accuracy: 0.8838 - val_loss: 0.3093 - val_accuracy: 0.8879\n",
      "Epoch 13/15\n",
      "704/704 [==============================] - 16s 23ms/step - loss: 0.3210 - accuracy: 0.8875 - val_loss: 0.3014 - val_accuracy: 0.8914\n",
      "Epoch 14/15\n",
      "704/704 [==============================] - 16s 23ms/step - loss: 0.3131 - accuracy: 0.8901 - val_loss: 0.2996 - val_accuracy: 0.8918\n",
      "Epoch 15/15\n",
      "704/704 [==============================] - 16s 23ms/step - loss: 0.3067 - accuracy: 0.8933 - val_loss: 0.2897 - val_accuracy: 0.8941\n"
     ]
    }
   ],
   "source": [
    "history = model.fit(sub_data,sub_label,epochs=15,batch_size=64,\\\n",
    "    validation_data=(val_data,val_label),callbacks=[check_cb,early_cb])"
   ]
  },
  {
   "cell_type": "code",
   "execution_count": 34,
   "metadata": {},
   "outputs": [
    {
     "data": {
      "image/png": "[encoded data removed]",
      "text/plain": [
       "<Figure size 432x288 with 1 Axes>"
      ]
     },
     "metadata": {
      "needs_background": "light"
     },
     "output_type": "display_data"
    }
   ],
   "source": [
    "# train_data,test_data loss 그래프 출력\n",
    "plt.plot(history.history['loss'])\n",
    "plt.plot(history.history['val_loss'])\n",
    "plt.xlabel('epoch')\n",
    "plt.ylabel('loss')\n",
    "plt.legend(['train','test'])\n",
    "plt.show()"
   ]
  },
  {
   "cell_type": "code",
   "execution_count": 35,
   "metadata": {},
   "outputs": [
    {
     "name": "stdout",
     "output_type": "stream",
     "text": [
      "469/469 [==============================] - 2s 4ms/step - loss: 0.2897 - accuracy: 0.8941\n",
      "loss, accuracy :  [0.28968358039855957, 0.8940666913986206]\n"
     ]
    }
   ],
   "source": [
    "# 정확도\n",
    "score = model.evaluate(val_data,val_label)\n",
    "print(\"loss, accuracy : \",score)"
   ]
  },
  {
   "cell_type": "markdown",
   "metadata": {},
   "source": [
    "test_data 1개를 예측"
   ]
  },
  {
   "cell_type": "code",
   "execution_count": 36,
   "metadata": {},
   "outputs": [
    {
     "name": "stdout",
     "output_type": "stream",
     "text": [
      "1/1 [==============================] - 0s 76ms/step\n",
      "[[6.9783731e-05 1.3321009e-07 1.1642824e-02 3.5655710e-05 2.2653226e-02\n",
      "  5.9606924e-07 9.6556747e-01 3.0548897e-08 2.9365745e-05 8.6581787e-07]]\n"
     ]
    }
   ],
   "source": [
    "# 예측 - 10개의 데이터 확률\n",
    "results = model.predict(val_data[0:1])\n",
    "print(results) # "
   ]
  },
  {
   "cell_type": "code",
   "execution_count": 41,
   "metadata": {},
   "outputs": [
    {
     "data": {
      "image/png": "[encoded data removed]",
      "text/plain": [
       "<Figure size 432x288 with 1 Axes>"
      ]
     },
     "metadata": {
      "needs_background": "light"
     },
     "output_type": "display_data"
    }
   ],
   "source": [
    "plt.bar(range(0,10),results[0])\n",
    "plt.show()"
   ]
  },
  {
   "cell_type": "code",
   "execution_count": 39,
   "metadata": {},
   "outputs": [],
   "source": [
    "# 0-티셔츠,1-바지,2-스웨터,3-드레스,4-코트,5-샌달,6-셔츠,7-스니커즈,8-가방,9-앵클 부츠\n",
    "classes = ['티셔츠','바지','스웨터','드레스','코트',\n",
    "           '샌달','셔츠','스니커즈','가방','앵클 부츠']"
   ]
  },
  {
   "cell_type": "code",
   "execution_count": 40,
   "metadata": {},
   "outputs": [
    {
     "data": {
      "text/plain": [
       "'셔츠'"
      ]
     },
     "execution_count": 40,
     "metadata": {},
     "output_type": "execute_result"
    }
   ],
   "source": [
    "# np.argmax(results) -> 가장작은 값의 index\n",
    "classes[np.argmax(results)]"
   ]
  },
  {
   "cell_type": "markdown",
   "metadata": {},
   "source": [
    "### [퀴즈] b1.jpg 예측"
   ]
  },
  {
   "cell_type": "code",
   "execution_count": 43,
   "metadata": {},
   "outputs": [
    {
     "name": "stdout",
     "output_type": "stream",
     "text": [
      "1/1 [==============================] - 0s 54ms/step\n",
      "[[6.9783731e-05 1.3321009e-07 1.1642824e-02 3.5655710e-05 2.2653226e-02\n",
      "  5.9606924e-07 9.6556747e-01 3.0548897e-08 2.9365745e-05 8.6581787e-07]]\n"
     ]
    }
   ],
   "source": [
    "# b1.jpg 예측 - 10개의 데이터 확률\n",
    "results2 = model.predict(ex_data)\n",
    "print(results) # "
   ]
  },
  {
   "cell_type": "code",
   "execution_count": 45,
   "metadata": {},
   "outputs": [
    {
     "data": {
      "image/png": "[encoded data removed]",
      "text/plain": [
       "<Figure size 432x288 with 1 Axes>"
      ]
     },
     "metadata": {
      "needs_background": "light"
     },
     "output_type": "display_data"
    }
   ],
   "source": [
    "plt.bar(range(0,10),results2[0])\n",
    "plt.show()"
   ]
  },
  {
   "cell_type": "code",
   "execution_count": 46,
   "metadata": {},
   "outputs": [
    {
     "data": {
      "text/plain": [
       "'가방'"
      ]
     },
     "execution_count": 46,
     "metadata": {},
     "output_type": "execute_result"
    }
   ],
   "source": [
    "# np.argmax(results) -> 가장작은 값의 index\n",
    "classes[np.argmax(results2)]"
   ]
  }
 ],
 "metadata": {
  "kernelspec": {
   "display_name": "Python 3.10.2 64-bit",
   "language": "python",
   "name": "python3"
  },
  "language_info": {
   "codemirror_mode": {
    "name": "ipython",
    "version": 3
   },
   "file_extension": ".py",
   "mimetype": "text/x-python",
   "name": "python",
   "nbconvert_exporter": "python",
   "pygments_lexer": "ipython3",
   "version": "3.10.2"
  },
  "orig_nbformat": 4,
  "vscode": {
   "interpreter": {
    "hash": "369f2c481f4da34e4445cda3fffd2e751bd1c4d706f27375911949ba6bb62e1c"
   }
  }
 },
 "nbformat": 4,
 "nbformat_minor": 2
}
